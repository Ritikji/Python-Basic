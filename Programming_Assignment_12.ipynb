{
  "nbformat": 4,
  "nbformat_minor": 0,
  "metadata": {
    "colab": {
      "provenance": []
    },
    "kernelspec": {
      "name": "python3",
      "display_name": "Python 3"
    },
    "language_info": {
      "name": "python"
    }
  },
  "cells": [
    {
      "cell_type": "markdown",
      "source": [
        "#1. Write a Python program to Extract Unique values dictionary values?"
      ],
      "metadata": {
        "id": "T-br7XQ9YKNr"
      }
    },
    {
      "cell_type": "code",
      "execution_count": 1,
      "metadata": {
        "colab": {
          "base_uri": "https://localhost:8080/"
        },
        "id": "zt5Q7rowYHJ1",
        "outputId": "c2daa5d5-859e-4a19-b9ad-befa2668d5ad"
      },
      "outputs": [
        {
          "output_type": "stream",
          "name": "stdout",
          "text": [
            "[1, 2, 3]\n"
          ]
        }
      ],
      "source": [
        "def extract_unique_values(dictionary):\n",
        "    unique_values = []\n",
        "    for value in dictionary.values():\n",
        "        if value not in unique_values:\n",
        "            unique_values.append(value)\n",
        "    return unique_values\n",
        "\n",
        "# Example usage:\n",
        "my_dict = {'a': 1, 'b': 2, 'c': 1, 'd': 3, 'e': 2}\n",
        "unique_values = extract_unique_values(my_dict)\n",
        "print(unique_values)\n"
      ]
    },
    {
      "cell_type": "code",
      "source": [],
      "metadata": {
        "id": "G4RP0-YdYQHq"
      },
      "execution_count": null,
      "outputs": []
    },
    {
      "cell_type": "markdown",
      "source": [
        "#2. Write a Python program to find the sum of all items in a dictionary?"
      ],
      "metadata": {
        "id": "R8OarkdCYTP0"
      }
    },
    {
      "cell_type": "code",
      "source": [
        "def calculate_sum(dictionary):\n",
        "    total_sum = sum(dictionary.values())\n",
        "    return total_sum\n",
        "\n",
        "# Example usage:\n",
        "my_dict = {'a': 1, 'b': 2, 'c': 3, 'd': 4, 'e': 5}\n",
        "sum_of_items = calculate_sum(my_dict)\n",
        "print(sum_of_items)\n"
      ],
      "metadata": {
        "colab": {
          "base_uri": "https://localhost:8080/"
        },
        "id": "S4Ivi2MBYUJ-",
        "outputId": "b57df76a-8f69-4eac-c583-fc420e40ee65"
      },
      "execution_count": 2,
      "outputs": [
        {
          "output_type": "stream",
          "name": "stdout",
          "text": [
            "15\n"
          ]
        }
      ]
    },
    {
      "cell_type": "code",
      "source": [],
      "metadata": {
        "id": "s0WqBcnMYWUS"
      },
      "execution_count": null,
      "outputs": []
    },
    {
      "cell_type": "markdown",
      "source": [
        "#3. Write a Python program to Merging two Dictionaries?"
      ],
      "metadata": {
        "id": "6v53H4HUYaNQ"
      }
    },
    {
      "cell_type": "code",
      "source": [
        "def merge_dictionaries(dict1, dict2):\n",
        "    merged_dict = {**dict1, **dict2}\n",
        "    return merged_dict\n",
        "\n",
        "# Example usage:\n",
        "dict1 = {'a': 1, 'b': 2}\n",
        "dict2 = {'c': 3, 'd': 4}\n",
        "merged_dict = merge_dictionaries(dict1, dict2)\n",
        "print(merged_dict)\n"
      ],
      "metadata": {
        "colab": {
          "base_uri": "https://localhost:8080/"
        },
        "id": "k5pSYv-4YbHh",
        "outputId": "cf621534-6fb3-4a6f-89d7-172ddaff7559"
      },
      "execution_count": 3,
      "outputs": [
        {
          "output_type": "stream",
          "name": "stdout",
          "text": [
            "{'a': 1, 'b': 2, 'c': 3, 'd': 4}\n"
          ]
        }
      ]
    },
    {
      "cell_type": "code",
      "source": [],
      "metadata": {
        "id": "hkhm6dtjYdlB"
      },
      "execution_count": null,
      "outputs": []
    },
    {
      "cell_type": "markdown",
      "source": [
        "#4. Write a Python program to convert key-values list to flat dictionary?"
      ],
      "metadata": {
        "id": "zUpVA7x1YhKh"
      }
    },
    {
      "cell_type": "code",
      "source": [
        "def convert_to_flat_dictionary(kv_list):\n",
        "    flat_dict = {}\n",
        "    for item in kv_list:\n",
        "        key = item[0]\n",
        "        value = item[1]\n",
        "        flat_dict[key] = value\n",
        "    return flat_dict\n",
        "\n",
        "# Example usage:\n",
        "kv_list = [('key1', 'value1'), ('key2', 'value2'), ('key3', 'value3')]\n",
        "flat_dictionary = convert_to_flat_dictionary(kv_list)\n",
        "print(flat_dictionary)\n"
      ],
      "metadata": {
        "colab": {
          "base_uri": "https://localhost:8080/"
        },
        "id": "ZwDW1pthYiGQ",
        "outputId": "078d2995-a294-44ae-d866-4690cd279d1a"
      },
      "execution_count": 4,
      "outputs": [
        {
          "output_type": "stream",
          "name": "stdout",
          "text": [
            "{'key1': 'value1', 'key2': 'value2', 'key3': 'value3'}\n"
          ]
        }
      ]
    },
    {
      "cell_type": "code",
      "source": [],
      "metadata": {
        "id": "PlfpLz-JYkYw"
      },
      "execution_count": null,
      "outputs": []
    },
    {
      "cell_type": "markdown",
      "source": [
        "#5. Write a Python program to insertion at the beginning in OrderedDict?"
      ],
      "metadata": {
        "id": "LqnrCOMQYri5"
      }
    },
    {
      "cell_type": "code",
      "source": [
        "from collections import OrderedDict\n",
        "\n",
        "def insert_at_beginning(ordered_dict, key, value):\n",
        "    ordered_dict[key] = value\n",
        "    ordered_dict.move_to_end(key, last=False)\n",
        "\n",
        "# Example usage:\n",
        "ordered_dict = OrderedDict([('a', 1), ('b', 2), ('c', 3)])\n",
        "print(\"Before insertion:\", ordered_dict)\n",
        "\n",
        "insert_at_beginning(ordered_dict, 'x', 10)\n",
        "print(\"After insertion:\", ordered_dict)\n"
      ],
      "metadata": {
        "colab": {
          "base_uri": "https://localhost:8080/"
        },
        "id": "8zkQhaQcYsQT",
        "outputId": "34a589d0-e11e-4cef-a9a9-635a5d6ce7b9"
      },
      "execution_count": 5,
      "outputs": [
        {
          "output_type": "stream",
          "name": "stdout",
          "text": [
            "Before insertion: OrderedDict([('a', 1), ('b', 2), ('c', 3)])\n",
            "After insertion: OrderedDict([('x', 10), ('a', 1), ('b', 2), ('c', 3)])\n"
          ]
        }
      ]
    },
    {
      "cell_type": "code",
      "source": [],
      "metadata": {
        "id": "505jpERfYt4o"
      },
      "execution_count": null,
      "outputs": []
    },
    {
      "cell_type": "markdown",
      "source": [
        "#6. Write a Python program to check order of character in string using OrderedDict()?"
      ],
      "metadata": {
        "id": "QOneZxb8YxJf"
      }
    },
    {
      "cell_type": "code",
      "source": [
        "from collections import OrderedDict\n",
        "\n",
        "def check_order_of_characters(string):\n",
        "    ordered_dict = OrderedDict.fromkeys(string)\n",
        "    ordered_string = ''.join(ordered_dict.keys())\n",
        "\n",
        "    return ordered_string == string\n",
        "\n",
        "# Example usage:\n",
        "input_string = 'hello'\n",
        "result = check_order_of_characters(input_string)\n",
        "print(result)\n"
      ],
      "metadata": {
        "colab": {
          "base_uri": "https://localhost:8080/"
        },
        "id": "UJ6CmUqvYx3n",
        "outputId": "38710106-f44a-45e9-93bb-1c27e399d274"
      },
      "execution_count": 6,
      "outputs": [
        {
          "output_type": "stream",
          "name": "stdout",
          "text": [
            "False\n"
          ]
        }
      ]
    },
    {
      "cell_type": "code",
      "source": [],
      "metadata": {
        "id": "p_39QCAeY0bI"
      },
      "execution_count": null,
      "outputs": []
    },
    {
      "cell_type": "markdown",
      "source": [
        "#7. Write a Python program to sort Python Dictionaries by Key or Value?"
      ],
      "metadata": {
        "id": "I3lCbUhBY4UY"
      }
    },
    {
      "cell_type": "code",
      "source": [
        "def sort_dict_by_key(dictionary):\n",
        "    sorted_dict = dict(sorted(dictionary.items()))\n",
        "    return sorted_dict\n",
        "\n",
        "def sort_dict_by_value(dictionary):\n",
        "    sorted_dict = dict(sorted(dictionary.items(), key=lambda item: item[1]))\n",
        "    return sorted_dict\n",
        "\n",
        "# Example usage:\n",
        "my_dict = {'c': 3, 'a': 1, 'b': 2}\n",
        "sorted_by_key = sort_dict_by_key(my_dict)\n",
        "sorted_by_value = sort_dict_by_value(my_dict)\n",
        "\n",
        "print(\"Sorted by Key:\", sorted_by_key)\n",
        "print(\"Sorted by Value:\", sorted_by_value)\n"
      ],
      "metadata": {
        "colab": {
          "base_uri": "https://localhost:8080/"
        },
        "id": "6XTkOsStY5YI",
        "outputId": "22e8459b-dd8b-4aca-c539-221174e4eccc"
      },
      "execution_count": 7,
      "outputs": [
        {
          "output_type": "stream",
          "name": "stdout",
          "text": [
            "Sorted by Key: {'a': 1, 'b': 2, 'c': 3}\n",
            "Sorted by Value: {'a': 1, 'b': 2, 'c': 3}\n"
          ]
        }
      ]
    },
    {
      "cell_type": "code",
      "source": [],
      "metadata": {
        "id": "NBKhg1zCY7ZP"
      },
      "execution_count": null,
      "outputs": []
    }
  ]
}