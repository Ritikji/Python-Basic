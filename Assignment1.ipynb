{
  "nbformat": 4,
  "nbformat_minor": 0,
  "metadata": {
    "colab": {
      "provenance": []
    },
    "kernelspec": {
      "name": "python3",
      "display_name": "Python 3"
    },
    "language_info": {
      "name": "python"
    }
  },
  "cells": [
    {
      "cell_type": "markdown",
      "source": [
        "1. In the below elements which of them are values or an expression? eg:- values can be\n",
        "integer or string and expressions will be mathematical operators.\n",
        "*\n",
        "&#39;hello&#39;\n",
        "-87.8\n",
        "-\n",
        "/\n",
        "+\n",
        "6"
      ],
      "metadata": {
        "id": "C59XSLXJO2kQ"
      }
    },
    {
      "cell_type": "markdown",
      "source": [
        "In the given elements, the values are:\n",
        "\n",
        "'hello' (string),\n",
        "-87.8 (float),\n",
        "6 (integer)\n",
        "\n",
        "The expressions are:\n",
        "\n",
        "(*) = (multiplication operator)\n",
        "\n",
        "(-) = (subtraction operator)\n",
        "\n",
        "/ = (division operator)\n",
        "\n",
        "(+) = (addition operator)"
      ],
      "metadata": {
        "id": "BOTqqrSXO74p"
      }
    },
    {
      "cell_type": "markdown",
      "source": [
        "2. What is the difference between string and variable?"
      ],
      "metadata": {
        "id": "5oV41YMTQMOI"
      }
    },
    {
      "cell_type": "markdown",
      "source": [
        "String:\n",
        "A string is a data type used to represent a sequence of characters. It can include letters, numbers, symbols, and whitespace. In programming, strings are typically enclosed in quotation marks, either single ('') or double (\"\"). For example, 'hello' and \"world\" are both strings. Strings are used to store and manipulate textual data.\n",
        "\n",
        "Variable:\n",
        "A variable is a named container that can hold a value or data of any type. It is used to store and reference values in a program. Variables have a name and a data type associated with them. The data type determines the kind of data that can be stored in the variable, such as strings, numbers, or boolean values. Variables are used to store and manipulate data during program execution."
      ],
      "metadata": {
        "id": "QMUNixwkQWcH"
      }
    },
    {
      "cell_type": "markdown",
      "source": [
        "3.Describe three different data types."
      ],
      "metadata": {
        "id": "1nhJ4IogSbTv"
      }
    },
    {
      "cell_type": "markdown",
      "source": [
        "Integer:\n",
        "An integer data type represents whole numbers without any fractional or decimal parts. It can be positive or negative, including zero. Integers are typically used for counting, indexing, or representing discrete quantities. In most programming languages, integers have a fixed range of values they can hold, such as -2,147,483,648 to 2,147,483,647 for a 32-bit signed integer. Examples of integers are -5, 0, and 42.\n",
        "\n",
        "Floating-Point:\n",
        "The floating-point data type represents numbers with fractional parts. It is used to store real numbers, including numbers with decimal points. Floating-point numbers are useful for representing measurements, scientific calculations, and any values that require precision beyond whole numbers. They can be positive or negative. In programming, floating-point numbers are often represented using the IEEE 754 standard, which includes single-precision (32 bits) and double-precision (64 bits) formats. Examples of floating-point numbers are -3.14, 0.5, and 2.71828.\n",
        "\n",
        "String:\n",
        "The string data type represents a sequence of characters, such as letters, digits, symbols, and whitespace. Strings are used to store textual data, such as names, sentences, or any sequence of characters. They are typically enclosed in quotation marks (single or double) in programming languages. Strings can have variable lengths and are often manipulated using string operations like concatenation, substring extraction, and comparison. "
      ],
      "metadata": {
        "id": "z_fsJYoQSln_"
      }
    },
    {
      "cell_type": "markdown",
      "source": [
        "4.What is an expression made up of? What do all expressions do?"
      ],
      "metadata": {
        "id": "U9XpLp24SrHS"
      }
    },
    {
      "cell_type": "markdown",
      "source": [
        "An expression is made up of one or more operands and operators. It represents a computation or calculation that produces a value. The operands can be literals (specific values like numbers or strings) or variables (which hold values). Operators act on the operands to perform operations such as mathematical calculations, logical comparisons, or string manipulations.\n",
        "\n",
        "Expressions can take different forms and serve various purposes, but they all have one common characteristic: they evaluate to a value. When an expression is evaluated, it is processed or resolved by the programming language's interpreter or compiler, and it produces a resulting value.\n",
        "\n"
      ],
      "metadata": {
        "id": "IIcLxhZdS1f1"
      }
    },
    {
      "cell_type": "markdown",
      "source": [
        "5.This assignment statements, like spam = 10. What is the difference between an\n",
        "expression and a statement?"
      ],
      "metadata": {
        "id": "bv_I0rhfS8GU"
      }
    },
    {
      "cell_type": "markdown",
      "source": [
        "Expression:\n",
        "An expression is a combination of operands (values, variables, literals) and operators that produces a value when evaluated. Expressions can be simple, like a single variable or a literal value, or they can be more complex, involving multiple operands and operators. Expressions are typically used to perform calculations, make comparisons, or concatenate strings, among other operations. The key characteristic of an expression is that it evaluates to a value. For example:the expression 5 + 3 * 2 calculates the value 11, which is then assigned to the variable x.\n",
        "\n",
        "\n",
        "\n",
        "Statement:\n",
        "A statement is a complete instruction or command that performs an action or controls the flow of a program. Statements are higher-level constructs that can include expressions, but they also encompass other programming constructs like loops, conditionals, function definitions, and assignments. Statements do not produce a value when executed; instead, they perform actions or affect the program's state. An assignment statement, like spam = 10, is an example of a statement that assigns the value 10 to the variable spam. Other examples of statements include if statements, for loops, function calls, and print statements."
      ],
      "metadata": {
        "id": "GlmM-CMlS-v6"
      }
    },
    {
      "cell_type": "markdown",
      "source": [
        "6.After running the following code, what does the variable bacon contain?\n",
        "bacon = 22\n",
        "bacon + 1"
      ],
      "metadata": {
        "id": "pMJvV5TGTZg4"
      }
    },
    {
      "cell_type": "code",
      "source": [
        "bacon = 22\n",
        "bacon + 1"
      ],
      "metadata": {
        "colab": {
          "base_uri": "https://localhost:8080/"
        },
        "id": "i6wnzBhOTvGc",
        "outputId": "4fca8713-6357-43bf-811f-f3dfe6c8ce90"
      },
      "execution_count": 2,
      "outputs": [
        {
          "output_type": "execute_result",
          "data": {
            "text/plain": [
              "23"
            ]
          },
          "metadata": {},
          "execution_count": 2
        }
      ]
    },
    {
      "cell_type": "markdown",
      "source": [
        "7. What should the values of the following two terms be?\n",
        "&#39;spam&#39; + &#39;spamspam&#39;\n",
        "&#39;spam&#39; * 3"
      ],
      "metadata": {
        "id": "q6H9m06TUHqQ"
      }
    },
    {
      "cell_type": "markdown",
      "source": [
        "spamspamspam"
      ],
      "metadata": {
        "id": "aNyd7e5hUWLy"
      }
    },
    {
      "cell_type": "markdown",
      "source": [
        "8. Why is eggs a valid variable name while 100 is invalid?"
      ],
      "metadata": {
        "id": "436E2SNNUeQT"
      }
    },
    {
      "cell_type": "markdown",
      "source": [
        "Because variable names cannot begin with a number."
      ],
      "metadata": {
        "id": "Y6XEy4kUUvlP"
      }
    },
    {
      "cell_type": "markdown",
      "source": [
        "9. What three functions can be used to get the integer, floating-point number, or string\n",
        "version of a value?"
      ],
      "metadata": {
        "id": "FxvacPSUU4UU"
      }
    },
    {
      "cell_type": "markdown",
      "source": [
        "int():\n",
        "The int() function can be used to convert a value to an integer. It takes a parameter and returns the integer representation of that value if it is possible to convert. If the value is a floating-point number, it will be truncated towards zero. If the value is a string representing a valid integer, it will be converted to an integer. For example:int(10.5)  # returns 10\n",
        "int(\"42\")  # returns 42.\n",
        "\n",
        "float():\n",
        "The float() function is used to convert a value to a floating-point number. It takes a parameter and returns the floating-point representation of that value if possible. If the value is an integer, it will be converted to a floating-point number. If the value is a string representing a valid floating-point number, it will be converted to a float. For example:float(42)      # returns 42.0\n",
        "float(\"3.14\")  # returns 3.14.\n",
        "\n",
        "\n",
        "str():\n",
        "The str() function is used to convert a value to a string. It takes a parameter and returns the string representation of that value. It can convert different types of values, such as integers, floating-point numbers, or even other strings, into their string representation. For example:str(42)        # returns \"42\"\n",
        "str(3.14)      # returns \"3.14\"\n",
        "str(True)      # returns \"True\""
      ],
      "metadata": {
        "id": "XvC759ZxVA6U"
      }
    },
    {
      "cell_type": "markdown",
      "source": [
        "10. Why does this expression cause an error? How can you fix it?\n",
        "&#39;I have eaten &#39; + 99 + &#39; burritos.&#39;"
      ],
      "metadata": {
        "id": "iCuD_FbRVY12"
      }
    },
    {
      "cell_type": "markdown",
      "source": [
        "The expression 'I have eaten ' + 99 + ' burritos.' causes an error because you are trying to concatenate a string ('I have eaten ') with an integer (99) using the + operator. In Python, the + operator is used for concatenating two strings together or performing arithmetic addition between two numbers, but it does not automatically convert different types for concatenation.\n",
        "\n",
        "To fix this error, you need to ensure that all the operands in the expression are of the same type. In this case, you can convert the integer 99 into a string using the str() function to match the string operands. Here's the corrected expression:\n",
        "\n",
        "'I have eaten ' + str(99) + ' burritos.'\n",
        "\n",
        "By using str(99), the integer 99 is converted into a string, allowing it to be concatenated with the other string operands. The result of the corrected expression will be 'I have eaten 99 burritos.', where the integer 99 is now properly combined with the surrounding text.\n",
        "\n"
      ],
      "metadata": {
        "id": "sTSftUY_VYva"
      }
    },
    {
      "cell_type": "code",
      "execution_count": null,
      "metadata": {
        "id": "JC93WyUBO1dt"
      },
      "outputs": [],
      "source": []
    }
  ]
}