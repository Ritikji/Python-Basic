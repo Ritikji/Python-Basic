{
  "nbformat": 4,
  "nbformat_minor": 0,
  "metadata": {
    "colab": {
      "provenance": []
    },
    "kernelspec": {
      "name": "python3",
      "display_name": "Python 3"
    },
    "language_info": {
      "name": "python"
    }
  },
  "cells": [
    {
      "cell_type": "markdown",
      "source": [
        "#1. Write a Python program to check if the given number is a Disarium Number?"
      ],
      "metadata": {
        "id": "geBSXvuo0H3U"
      }
    },
    {
      "cell_type": "code",
      "execution_count": 1,
      "metadata": {
        "colab": {
          "base_uri": "https://localhost:8080/"
        },
        "id": "ABCHmylj0HUP",
        "outputId": "7f8dac9a-f779-4c36-d81d-94f8ebb8e38a"
      },
      "outputs": [
        {
          "output_type": "stream",
          "name": "stdout",
          "text": [
            "175 is a Disarium number.\n"
          ]
        }
      ],
      "source": [
        "def is_disarium(number):\n",
        "    # Convert the number to a string to access individual digits\n",
        "    num_str = str(number)\n",
        "\n",
        "    # Calculate the sum of digit^position for each digit\n",
        "    digit_sum = sum(int(digit) ** (index + 1) for index, digit in enumerate(num_str))\n",
        "\n",
        "    # Check if the sum is equal to the original number\n",
        "    if digit_sum == number:\n",
        "        return True\n",
        "    else:\n",
        "        return False\n",
        "\n",
        "# Example usage:\n",
        "num = 175\n",
        "\n",
        "if is_disarium(num):\n",
        "    print(num, \"is a Disarium number.\")\n",
        "else:\n",
        "    print(num, \"is not a Disarium number.\")\n"
      ]
    },
    {
      "cell_type": "code",
      "source": [],
      "metadata": {
        "id": "U-K6shJl0LWe"
      },
      "execution_count": null,
      "outputs": []
    },
    {
      "cell_type": "markdown",
      "source": [
        "#2. Write a Python program to print all disarium numbers between 1 to 100?"
      ],
      "metadata": {
        "id": "Q2F7LTFJ0PHl"
      }
    },
    {
      "cell_type": "code",
      "source": [
        "def is_disarium(number):\n",
        "    num_str = str(number)\n",
        "    digit_sum = sum(int(digit) ** (index + 1) for index, digit in enumerate(num_str))\n",
        "\n",
        "    if digit_sum == number:\n",
        "        return True\n",
        "    else:\n",
        "        return False\n",
        "\n",
        "# Iterate from 1 to 100 and check if each number is a Disarium number\n",
        "for num in range(1, 101):\n",
        "    if is_disarium(num):\n",
        "        print(num)\n"
      ],
      "metadata": {
        "colab": {
          "base_uri": "https://localhost:8080/"
        },
        "id": "Gojwp-h90P38",
        "outputId": "9bc28795-719a-4dd1-ae71-4b5e238f3396"
      },
      "execution_count": 2,
      "outputs": [
        {
          "output_type": "stream",
          "name": "stdout",
          "text": [
            "1\n",
            "2\n",
            "3\n",
            "4\n",
            "5\n",
            "6\n",
            "7\n",
            "8\n",
            "9\n",
            "89\n"
          ]
        }
      ]
    },
    {
      "cell_type": "code",
      "source": [],
      "metadata": {
        "id": "1Pm8zvUl0RsE"
      },
      "execution_count": null,
      "outputs": []
    },
    {
      "cell_type": "markdown",
      "source": [
        "#3. Write a Python program to check if the given number is Happy Number?"
      ],
      "metadata": {
        "id": "eMrLf5Bu0WN7"
      }
    },
    {
      "cell_type": "code",
      "source": [
        "def is_happy_number(number):\n",
        "    seen_numbers = set()\n",
        "\n",
        "    while True:\n",
        "        if number == 1:\n",
        "            return True\n",
        "        elif number in seen_numbers:\n",
        "            return False\n",
        "        else:\n",
        "            seen_numbers.add(number)\n",
        "            number = sum(int(digit) ** 2 for digit in str(number))\n",
        "\n",
        "# Example usage:\n",
        "num = 19\n",
        "\n",
        "if is_happy_number(num):\n",
        "    print(num, \"is a Happy number.\")\n",
        "else:\n",
        "    print(num, \"is not a Happy number.\")\n"
      ],
      "metadata": {
        "colab": {
          "base_uri": "https://localhost:8080/"
        },
        "id": "6EeG_2Cu0XRL",
        "outputId": "0158fd2f-e7ff-4e13-da16-a7623c999011"
      },
      "execution_count": 3,
      "outputs": [
        {
          "output_type": "stream",
          "name": "stdout",
          "text": [
            "19 is a Happy number.\n"
          ]
        }
      ]
    },
    {
      "cell_type": "code",
      "source": [],
      "metadata": {
        "id": "NJmYX2dp0Y6U"
      },
      "execution_count": null,
      "outputs": []
    },
    {
      "cell_type": "markdown",
      "source": [
        "#4. Write a Python program to print all happy numbers between 1 and 100?"
      ],
      "metadata": {
        "id": "T6oZv-jX0cNT"
      }
    },
    {
      "cell_type": "code",
      "source": [
        "def is_happy_number(number):\n",
        "    seen_numbers = set()\n",
        "\n",
        "    while True:\n",
        "        if number == 1:\n",
        "            return True\n",
        "        elif number in seen_numbers:\n",
        "            return False\n",
        "        else:\n",
        "            seen_numbers.add(number)\n",
        "            number = sum(int(digit) ** 2 for digit in str(number))\n",
        "\n",
        "# Iterate from 1 to 100 and check if each number is a Happy number\n",
        "for num in range(1, 101):\n",
        "    if is_happy_number(num):\n",
        "        print(num)\n"
      ],
      "metadata": {
        "colab": {
          "base_uri": "https://localhost:8080/"
        },
        "id": "DiNNyDfI0dFc",
        "outputId": "89eb6e32-f63a-47d7-c091-3a2537c7d827"
      },
      "execution_count": 4,
      "outputs": [
        {
          "output_type": "stream",
          "name": "stdout",
          "text": [
            "1\n",
            "7\n",
            "10\n",
            "13\n",
            "19\n",
            "23\n",
            "28\n",
            "31\n",
            "32\n",
            "44\n",
            "49\n",
            "68\n",
            "70\n",
            "79\n",
            "82\n",
            "86\n",
            "91\n",
            "94\n",
            "97\n",
            "100\n"
          ]
        }
      ]
    },
    {
      "cell_type": "code",
      "source": [],
      "metadata": {
        "id": "LP7pAlai0fqE"
      },
      "execution_count": null,
      "outputs": []
    },
    {
      "cell_type": "markdown",
      "source": [
        "#5. Write a Python program to determine whether the given number is a Harshad Number?"
      ],
      "metadata": {
        "id": "9lQUvT9z0kMj"
      }
    },
    {
      "cell_type": "code",
      "source": [
        "def is_harshad_number(number):\n",
        "    # Convert the number to a string to access individual digits\n",
        "    num_str = str(number)\n",
        "\n",
        "    # Calculate the sum of digits\n",
        "    digit_sum = sum(int(digit) for digit in num_str)\n",
        "\n",
        "    # Check if the number is divisible by the sum of its digits\n",
        "    if number % digit_sum == 0:\n",
        "        return True\n",
        "    else:\n",
        "        return False\n",
        "\n",
        "# Example usage:\n",
        "num = 18\n",
        "\n",
        "if is_harshad_number(num):\n",
        "    print(num, \"is a Harshad number.\")\n",
        "else:\n",
        "    print(num, \"is not a Harshad number.\")\n"
      ],
      "metadata": {
        "colab": {
          "base_uri": "https://localhost:8080/"
        },
        "id": "7b4aNUEv0lg8",
        "outputId": "fff05a24-fef2-4611-8603-64ddc1636229"
      },
      "execution_count": 5,
      "outputs": [
        {
          "output_type": "stream",
          "name": "stdout",
          "text": [
            "18 is a Harshad number.\n"
          ]
        }
      ]
    },
    {
      "cell_type": "code",
      "source": [],
      "metadata": {
        "id": "2aZbWuXm0nUM"
      },
      "execution_count": null,
      "outputs": []
    },
    {
      "cell_type": "markdown",
      "source": [
        "#6. Write a Python program to print all pronic numbers between 1 and 100?"
      ],
      "metadata": {
        "id": "eqZDUgtk0qcj"
      }
    },
    {
      "cell_type": "code",
      "source": [
        "def is_pronic_number(number):\n",
        "    # Check if number is a product of consecutive integers\n",
        "    for i in range(1, int(number**0.5) + 1):\n",
        "        if i * (i + 1) == number:\n",
        "            return True\n",
        "    return False\n",
        "\n",
        "# Iterate from 1 to 100 and check if each number is a pronic number\n",
        "for num in range(1, 101):\n",
        "    if is_pronic_number(num):\n",
        "        print(num)\n"
      ],
      "metadata": {
        "colab": {
          "base_uri": "https://localhost:8080/"
        },
        "id": "zUZNpqa40ro0",
        "outputId": "aa75c3f5-c59f-4c3c-cc54-09efad722bfe"
      },
      "execution_count": 6,
      "outputs": [
        {
          "output_type": "stream",
          "name": "stdout",
          "text": [
            "2\n",
            "6\n",
            "12\n",
            "20\n",
            "30\n",
            "42\n",
            "56\n",
            "72\n",
            "90\n"
          ]
        }
      ]
    },
    {
      "cell_type": "code",
      "source": [],
      "metadata": {
        "id": "RIhv2DOv0trD"
      },
      "execution_count": null,
      "outputs": []
    }
  ]
}