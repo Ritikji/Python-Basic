{
  "nbformat": 4,
  "nbformat_minor": 0,
  "metadata": {
    "colab": {
      "provenance": []
    },
    "kernelspec": {
      "name": "python3",
      "display_name": "Python 3"
    },
    "language_info": {
      "name": "python"
    }
  },
  "cells": [
    {
      "cell_type": "markdown",
      "source": [
        "#1. Write a Python Program to Display Fibonacci Sequence Using Recursion?"
      ],
      "metadata": {
        "id": "OYRj9I1-aCSa"
      }
    },
    {
      "cell_type": "code",
      "execution_count": 1,
      "metadata": {
        "colab": {
          "base_uri": "https://localhost:8080/"
        },
        "id": "kVgz9IOHZ6eZ",
        "outputId": "6c21f404-91b8-489d-8308-9e80575250ac"
      },
      "outputs": [
        {
          "output_type": "stream",
          "name": "stdout",
          "text": [
            "Enter the number of terms: 25\n",
            "Fibonacci sequence:\n",
            "0 1 1 2 3 5 8 13 21 34 55 89 144 233 377 610 987 1597 2584 4181 6765 10946 17711 28657 46368 "
          ]
        }
      ],
      "source": [
        "def fibonacci(n):\n",
        "    if n <= 1:\n",
        "        return n\n",
        "    else:\n",
        "        return fibonacci(n-1) + fibonacci(n-2)\n",
        "\n",
        "# Test the program\n",
        "terms = int(input(\"Enter the number of terms: \"))\n",
        "\n",
        "if terms <= 0:\n",
        "    print(\"Please enter a positive integer.\")\n",
        "else:\n",
        "    print(\"Fibonacci sequence:\")\n",
        "    for i in range(terms):\n",
        "        print(fibonacci(i), end=\" \")\n"
      ]
    },
    {
      "cell_type": "code",
      "source": [],
      "metadata": {
        "id": "x8izzNrbaIpT"
      },
      "execution_count": null,
      "outputs": []
    },
    {
      "cell_type": "markdown",
      "source": [
        "#2. Write a Python Program to Find Factorial of Number Using Recursion?"
      ],
      "metadata": {
        "id": "y_s-PhMgaRWK"
      }
    },
    {
      "cell_type": "code",
      "source": [
        "def factorial(n):\n",
        "    if n == 0 or n == 1:\n",
        "        return 1\n",
        "    else:\n",
        "        return n * factorial(n-1)\n",
        "\n",
        "# Test the program\n",
        "num = int(input(\"Enter a non-negative integer: \"))\n",
        "\n",
        "if num < 0:\n",
        "    print(\"Factorial is not defined for negative numbers.\")\n",
        "else:\n",
        "    print(\"Factorial of\", num, \"is\", factorial(num))\n"
      ],
      "metadata": {
        "colab": {
          "base_uri": "https://localhost:8080/"
        },
        "id": "IgqxBX_qaSaJ",
        "outputId": "383b4dec-602c-45fc-8607-c92ed9762fa2"
      },
      "execution_count": 2,
      "outputs": [
        {
          "output_type": "stream",
          "name": "stdout",
          "text": [
            "Enter a non-negative integer: 24\n",
            "Factorial of 24 is 620448401733239439360000\n"
          ]
        }
      ]
    },
    {
      "cell_type": "code",
      "source": [],
      "metadata": {
        "id": "DoZI9tQjaVNK"
      },
      "execution_count": null,
      "outputs": []
    },
    {
      "cell_type": "markdown",
      "source": [
        "#3. Write a Python Program to calculate your Body Mass Index?"
      ],
      "metadata": {
        "id": "Pu4gOR9uabC6"
      }
    },
    {
      "cell_type": "code",
      "source": [
        "def calculate_bmi(weight, height):\n",
        "    bmi = weight / (height ** 2)\n",
        "    return bmi\n",
        "\n",
        "# Test the program\n",
        "weight = float(input(\"Enter your weight in kilograms: \"))\n",
        "height = float(input(\"Enter your height in meters: \"))\n",
        "\n",
        "bmi = calculate_bmi(weight, height)\n",
        "print(\"Your BMI is:\", round(bmi, 2))\n"
      ],
      "metadata": {
        "colab": {
          "base_uri": "https://localhost:8080/"
        },
        "id": "aExu7crmab_5",
        "outputId": "436fb1c8-d925-4866-c6a9-6c7c79e9d915"
      },
      "execution_count": 3,
      "outputs": [
        {
          "output_type": "stream",
          "name": "stdout",
          "text": [
            "Enter your weight in kilograms: 85\n",
            "Enter your height in meters: 181\n",
            "Your BMI is: 0.0\n"
          ]
        }
      ]
    },
    {
      "cell_type": "code",
      "source": [],
      "metadata": {
        "id": "tyff0ZESad90"
      },
      "execution_count": null,
      "outputs": []
    },
    {
      "cell_type": "markdown",
      "source": [
        "#4. Write a Python Program to calculate the natural logarithm of any number?"
      ],
      "metadata": {
        "id": "xPbw5t0aanmi"
      }
    },
    {
      "cell_type": "code",
      "source": [
        "import math\n",
        "\n",
        "number = float(input(\"Enter a positive number: \"))\n",
        "if number <= 0:\n",
        "    print(\"Invalid input. Please enter a positive number.\")\n",
        "else:\n",
        "    logarithm = math.log(number)\n",
        "    print(\"The natural logarithm of\", number, \"is\", logarithm)\n"
      ],
      "metadata": {
        "colab": {
          "base_uri": "https://localhost:8080/"
        },
        "id": "GWj0NMynaof6",
        "outputId": "13a5bd03-30ba-4144-c35d-12b45fec6589"
      },
      "execution_count": 4,
      "outputs": [
        {
          "output_type": "stream",
          "name": "stdout",
          "text": [
            "Enter a positive number: 503\n",
            "The natural logarithm of 503.0 is 6.220590170099739\n"
          ]
        }
      ]
    },
    {
      "cell_type": "code",
      "source": [],
      "metadata": {
        "id": "dOkPWQuIaq56"
      },
      "execution_count": null,
      "outputs": []
    },
    {
      "cell_type": "markdown",
      "source": [
        "#5. Write a Python Program for cube sum of first n natural numbers?\n"
      ],
      "metadata": {
        "id": "isAoeYm3a0Hp"
      }
    },
    {
      "cell_type": "code",
      "source": [
        "def cube_sum(n):\n",
        "    result = 0\n",
        "    for i in range(1, n+1):\n",
        "        result += i**3\n",
        "    return result\n",
        "\n",
        "# Test the program\n",
        "n = int(input(\"Enter a positive integer: \"))\n",
        "if n < 1:\n",
        "    print(\"Invalid input. Please enter a positive integer.\")\n",
        "else:\n",
        "    sum_of_cubes = cube_sum(n)\n",
        "    print(\"The cube sum of the first\", n, \"natural numbers is\", sum_of_cubes)\n"
      ],
      "metadata": {
        "colab": {
          "base_uri": "https://localhost:8080/"
        },
        "id": "h8UPucVCa1qJ",
        "outputId": "05518074-ec0e-4a1d-938c-0062a51b5887"
      },
      "execution_count": 5,
      "outputs": [
        {
          "output_type": "stream",
          "name": "stdout",
          "text": [
            "Enter a positive integer: 225\n",
            "The cube sum of the first 225 natural numbers is 646430625\n"
          ]
        }
      ]
    },
    {
      "cell_type": "code",
      "source": [],
      "metadata": {
        "id": "llCMj40jb9Ep"
      },
      "execution_count": null,
      "outputs": []
    }
  ]
}