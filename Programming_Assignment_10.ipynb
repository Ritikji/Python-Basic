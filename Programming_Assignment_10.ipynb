{
  "nbformat": 4,
  "nbformat_minor": 0,
  "metadata": {
    "colab": {
      "provenance": []
    },
    "kernelspec": {
      "name": "python3",
      "display_name": "Python 3"
    },
    "language_info": {
      "name": "python"
    }
  },
  "cells": [
    {
      "cell_type": "markdown",
      "source": [
        "#1. Write a Python program to find sum of elements in list?"
      ],
      "metadata": {
        "id": "yk2y_LSEUaA_"
      }
    },
    {
      "cell_type": "code",
      "execution_count": 1,
      "metadata": {
        "colab": {
          "base_uri": "https://localhost:8080/"
        },
        "id": "n7quvrfsTuzW",
        "outputId": "ff7c2802-6cb2-4a1d-f547-c604076131c0"
      },
      "outputs": [
        {
          "output_type": "stream",
          "name": "stdout",
          "text": [
            "Sum of elements: 15\n"
          ]
        }
      ],
      "source": [
        "def sum_of_elements(lst):\n",
        "    total = 0\n",
        "    for num in lst:\n",
        "        total += num\n",
        "    return total\n",
        "\n",
        "# Example usage:\n",
        "numbers = [1, 2, 3, 4, 5]\n",
        "result = sum_of_elements(numbers)\n",
        "print(\"Sum of elements:\", result)\n"
      ]
    },
    {
      "cell_type": "code",
      "source": [],
      "metadata": {
        "id": "7qfIprl2UhhF"
      },
      "execution_count": null,
      "outputs": []
    },
    {
      "cell_type": "markdown",
      "source": [
        "#2. Write a Python program to Multiply all numbers in the list?"
      ],
      "metadata": {
        "id": "cktUZg09UkpW"
      }
    },
    {
      "cell_type": "code",
      "source": [
        "def multiply_list_elements(lst):\n",
        "    result = 1\n",
        "    for num in lst:\n",
        "        result *= num\n",
        "    return result\n",
        "\n",
        "# Example usage:\n",
        "numbers = [1, 2, 3, 4, 5]\n",
        "result = multiply_list_elements(numbers)\n",
        "print(\"Product of elements:\", result)\n"
      ],
      "metadata": {
        "colab": {
          "base_uri": "https://localhost:8080/"
        },
        "id": "gNW6wyWQUloM",
        "outputId": "84d8cbdd-cdb4-4028-dd31-ff5e65079882"
      },
      "execution_count": 2,
      "outputs": [
        {
          "output_type": "stream",
          "name": "stdout",
          "text": [
            "Product of elements: 120\n"
          ]
        }
      ]
    },
    {
      "cell_type": "code",
      "source": [],
      "metadata": {
        "id": "k8X3OpwBUnoD"
      },
      "execution_count": null,
      "outputs": []
    },
    {
      "cell_type": "markdown",
      "source": [
        "#3. Write a Python program to find smallest number in a list?"
      ],
      "metadata": {
        "id": "q68NFDoZUrfM"
      }
    },
    {
      "cell_type": "code",
      "source": [
        "def find_smallest_number(lst):\n",
        "    if not lst:\n",
        "        print(\"The list is empty.\")\n",
        "        return None\n",
        "    else:\n",
        "        smallest = lst[0]\n",
        "        for num in lst:\n",
        "            if num < smallest:\n",
        "                smallest = num\n",
        "        return smallest\n",
        "\n",
        "# Example usage:\n",
        "numbers = [5, 2, 8, 1, 10]\n",
        "result = find_smallest_number(numbers)\n",
        "print(\"Smallest number:\", result)\n"
      ],
      "metadata": {
        "colab": {
          "base_uri": "https://localhost:8080/"
        },
        "id": "mis63OPhUs_5",
        "outputId": "c195685b-0264-45d1-decf-f1974cf37450"
      },
      "execution_count": 3,
      "outputs": [
        {
          "output_type": "stream",
          "name": "stdout",
          "text": [
            "Smallest number: 1\n"
          ]
        }
      ]
    },
    {
      "cell_type": "code",
      "source": [],
      "metadata": {
        "id": "8oB3HGiuUuyk"
      },
      "execution_count": null,
      "outputs": []
    },
    {
      "cell_type": "markdown",
      "source": [
        "#4. Write a Python program to find largest number in a list?"
      ],
      "metadata": {
        "id": "Ic7l9xxVUylE"
      }
    },
    {
      "cell_type": "code",
      "source": [
        "def find_largest_number(lst):\n",
        "    if not lst:\n",
        "        print(\"The list is empty.\")\n",
        "        return None\n",
        "    else:\n",
        "        largest = lst[0]\n",
        "        for num in lst:\n",
        "            if num > largest:\n",
        "                largest = num\n",
        "        return largest\n",
        "\n",
        "# Example usage:\n",
        "numbers = [5, 2, 8, 1, 10]\n",
        "result = find_largest_number(numbers)\n",
        "print(\"Largest number:\", result)\n"
      ],
      "metadata": {
        "colab": {
          "base_uri": "https://localhost:8080/"
        },
        "id": "xKVVgD0kUzd7",
        "outputId": "9e58191a-f700-4882-a209-39ea2482f827"
      },
      "execution_count": 4,
      "outputs": [
        {
          "output_type": "stream",
          "name": "stdout",
          "text": [
            "Largest number: 10\n"
          ]
        }
      ]
    },
    {
      "cell_type": "code",
      "source": [],
      "metadata": {
        "id": "JsbKHfKwU17D"
      },
      "execution_count": null,
      "outputs": []
    },
    {
      "cell_type": "markdown",
      "source": [
        "#5. Write a Python program to find second largest number in a list?"
      ],
      "metadata": {
        "id": "lVQ4zMcXU4ws"
      }
    },
    {
      "cell_type": "code",
      "source": [
        "def find_second_largest_number(lst):\n",
        "    if len(lst) < 2:\n",
        "        print(\"The list does not have enough elements.\")\n",
        "        return None\n",
        "\n",
        "    largest = max(lst[0], lst[1])\n",
        "    second_largest = min(lst[0], lst[1])\n",
        "\n",
        "    for num in lst[2:]:\n",
        "        if num > largest:\n",
        "            second_largest = largest\n",
        "            largest = num\n",
        "        elif num > second_largest:\n",
        "            second_largest = num\n",
        "\n",
        "    return second_largest\n",
        "\n",
        "# Example usage:\n",
        "numbers = [5, 2, 8, 1, 10]\n",
        "result = find_second_largest_number(numbers)\n",
        "print(\"Second largest number:\", result)\n"
      ],
      "metadata": {
        "colab": {
          "base_uri": "https://localhost:8080/"
        },
        "id": "V5XKvuHxU5iz",
        "outputId": "3fc1025b-d2a8-4db6-8e37-c922ebc7a902"
      },
      "execution_count": 5,
      "outputs": [
        {
          "output_type": "stream",
          "name": "stdout",
          "text": [
            "Second largest number: 8\n"
          ]
        }
      ]
    },
    {
      "cell_type": "code",
      "source": [],
      "metadata": {
        "id": "XrYfWK4oU7gT"
      },
      "execution_count": null,
      "outputs": []
    },
    {
      "cell_type": "markdown",
      "source": [
        "#6. Write a Python program to find N largest elements from a list?"
      ],
      "metadata": {
        "id": "IyJmbqE-U_Kc"
      }
    },
    {
      "cell_type": "code",
      "source": [
        "def find_n_largest_elements(lst, n):\n",
        "    if len(lst) < n:\n",
        "        print(\"The list does not have enough elements.\")\n",
        "        return None\n",
        "\n",
        "    sorted_list = sorted(lst, reverse=True)\n",
        "    n_largest_elements = sorted_list[:n]\n",
        "\n",
        "    return n_largest_elements\n",
        "\n",
        "# Example usage:\n",
        "numbers = [5, 2, 8, 1, 10, 7, 3, 6]\n",
        "n = 3\n",
        "result = find_n_largest_elements(numbers, n)\n",
        "print(f\"{n} largest elements:\", result)\n"
      ],
      "metadata": {
        "colab": {
          "base_uri": "https://localhost:8080/"
        },
        "id": "3hcAYS87U_9z",
        "outputId": "b6364227-1349-4a91-9168-de9250d1d367"
      },
      "execution_count": 6,
      "outputs": [
        {
          "output_type": "stream",
          "name": "stdout",
          "text": [
            "3 largest elements: [10, 8, 7]\n"
          ]
        }
      ]
    },
    {
      "cell_type": "code",
      "source": [],
      "metadata": {
        "id": "xHQ3Gh8rVB5z"
      },
      "execution_count": null,
      "outputs": []
    },
    {
      "cell_type": "markdown",
      "source": [
        "#7. Write a Python program to print even numbers in a list?"
      ],
      "metadata": {
        "id": "tIzNcb9OVGec"
      }
    },
    {
      "cell_type": "code",
      "source": [
        "def print_even_numbers(lst):\n",
        "    even_numbers = []\n",
        "    for num in lst:\n",
        "        if num % 2 == 0:\n",
        "            even_numbers.append(num)\n",
        "    print(\"Even numbers:\", even_numbers)\n",
        "\n",
        "# Example usage:\n",
        "numbers = [1, 2, 3, 4, 5, 6, 7, 8, 9, 10]\n",
        "print_even_numbers(numbers)\n"
      ],
      "metadata": {
        "colab": {
          "base_uri": "https://localhost:8080/"
        },
        "id": "r_Bp3TpbVHeM",
        "outputId": "96b43e28-7c97-4b93-e00b-fefd3fd8ea50"
      },
      "execution_count": 7,
      "outputs": [
        {
          "output_type": "stream",
          "name": "stdout",
          "text": [
            "Even numbers: [2, 4, 6, 8, 10]\n"
          ]
        }
      ]
    },
    {
      "cell_type": "code",
      "source": [],
      "metadata": {
        "id": "zQpwrd1BVJj7"
      },
      "execution_count": null,
      "outputs": []
    },
    {
      "cell_type": "markdown",
      "source": [
        "#8. Write a Python program to print odd numbers in a List?"
      ],
      "metadata": {
        "id": "FTVzsaMWVfcU"
      }
    },
    {
      "cell_type": "code",
      "source": [
        "def print_odd_numbers(lst):\n",
        "    odd_numbers = []\n",
        "    for num in lst:\n",
        "        if num % 2 != 0:\n",
        "            odd_numbers.append(num)\n",
        "    print(\"Odd numbers:\", odd_numbers)\n",
        "\n",
        "# Example usage:\n",
        "numbers = [1, 2, 3, 4, 5, 6, 7, 8, 9, 10]\n",
        "print_odd_numbers(numbers)\n"
      ],
      "metadata": {
        "colab": {
          "base_uri": "https://localhost:8080/"
        },
        "id": "l4VLccKsVgb0",
        "outputId": "e1930aad-93cc-464b-edd5-3185f1341a29"
      },
      "execution_count": 8,
      "outputs": [
        {
          "output_type": "stream",
          "name": "stdout",
          "text": [
            "Odd numbers: [1, 3, 5, 7, 9]\n"
          ]
        }
      ]
    },
    {
      "cell_type": "code",
      "source": [],
      "metadata": {
        "id": "-uytEwWqVi0j"
      },
      "execution_count": null,
      "outputs": []
    },
    {
      "cell_type": "markdown",
      "source": [
        "#9. Write a Python program to Remove empty List from List?"
      ],
      "metadata": {
        "id": "rn4V5wrGVmLz"
      }
    },
    {
      "cell_type": "code",
      "source": [
        "def remove_empty_lists(lst):\n",
        "    return [sublist for sublist in lst if sublist]\n",
        "\n",
        "# Example usage:\n",
        "my_list = [1, 2, [], 3, [], 4, 5, [], [6, 7], []]\n",
        "result = remove_empty_lists(my_list)\n",
        "print(\"List after removing empty lists:\", result)\n"
      ],
      "metadata": {
        "colab": {
          "base_uri": "https://localhost:8080/"
        },
        "id": "vN2bL3LAVnD7",
        "outputId": "c58b476b-cfcc-4fe3-a1e4-12946c2fae80"
      },
      "execution_count": 9,
      "outputs": [
        {
          "output_type": "stream",
          "name": "stdout",
          "text": [
            "List after removing empty lists: [1, 2, 3, 4, 5, [6, 7]]\n"
          ]
        }
      ]
    },
    {
      "cell_type": "code",
      "source": [],
      "metadata": {
        "id": "5KlgeIbgVph8"
      },
      "execution_count": null,
      "outputs": []
    },
    {
      "cell_type": "markdown",
      "source": [
        "#10. Write a Python program to Cloning or Copying a list?"
      ],
      "metadata": {
        "id": "WY2_EeOFVtKr"
      }
    },
    {
      "cell_type": "code",
      "source": [
        "def clone_list(lst):\n",
        "    cloned_list = lst.copy()  # or list(lst) or lst[:]\n",
        "    return cloned_list\n",
        "\n",
        "# Example usage:\n",
        "original_list = [1, 2, 3, 4, 5]\n",
        "cloned_list = clone_list(original_list)\n",
        "print(\"Original list:\", original_list)\n",
        "print(\"Cloned list:\", cloned_list)\n"
      ],
      "metadata": {
        "colab": {
          "base_uri": "https://localhost:8080/"
        },
        "id": "xvm3kosPVuDK",
        "outputId": "1d8f2dd1-0f89-4641-ec66-11f04a8935a0"
      },
      "execution_count": 10,
      "outputs": [
        {
          "output_type": "stream",
          "name": "stdout",
          "text": [
            "Original list: [1, 2, 3, 4, 5]\n",
            "Cloned list: [1, 2, 3, 4, 5]\n"
          ]
        }
      ]
    },
    {
      "cell_type": "code",
      "source": [],
      "metadata": {
        "id": "HEpeMQjmVwMC"
      },
      "execution_count": null,
      "outputs": []
    },
    {
      "cell_type": "markdown",
      "source": [
        "#11. Write a Python program to Count occurrences of an element in a list?"
      ],
      "metadata": {
        "id": "faYHoTovV09L"
      }
    },
    {
      "cell_type": "code",
      "source": [
        "def count_occurrences(lst, element):\n",
        "    count = 0\n",
        "    for item in lst:\n",
        "        if item == element:\n",
        "            count += 1\n",
        "    return count\n",
        "\n",
        "# Example usage:\n",
        "my_list = [1, 2, 3, 4, 2, 2, 5, 2, 6]\n",
        "element = 2\n",
        "occurrences = count_occurrences(my_list, element)\n",
        "print(f\"Number of occurrences of {element}: {occurrences}\")\n"
      ],
      "metadata": {
        "colab": {
          "base_uri": "https://localhost:8080/"
        },
        "id": "ni0nvK2SV2Aq",
        "outputId": "f59a6dbf-f10a-4de4-db16-2d21f5652570"
      },
      "execution_count": 11,
      "outputs": [
        {
          "output_type": "stream",
          "name": "stdout",
          "text": [
            "Number of occurrences of 2: 4\n"
          ]
        }
      ]
    },
    {
      "cell_type": "code",
      "source": [],
      "metadata": {
        "id": "G3XR4y_LV34D"
      },
      "execution_count": null,
      "outputs": []
    }
  ]
}