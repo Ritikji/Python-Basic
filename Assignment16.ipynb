{
  "nbformat": 4,
  "nbformat_minor": 0,
  "metadata": {
    "colab": {
      "provenance": []
    },
    "kernelspec": {
      "name": "python3",
      "display_name": "Python 3"
    },
    "language_info": {
      "name": "python"
    }
  },
  "cells": [
    {
      "cell_type": "markdown",
      "source": [
        "**1. Create a list called years_list, starting with the year of your birth, and each year thereafter until\n",
        "the year of your fifth birthday. For example, if you were born in 1980. the list would be years_list =\n",
        "[1980, 1981, 1982, 1983, 1984, 1985].**"
      ],
      "metadata": {
        "id": "vkbkRq0gpqMJ"
      }
    },
    {
      "cell_type": "code",
      "execution_count": 2,
      "metadata": {
        "colab": {
          "base_uri": "https://localhost:8080/"
        },
        "id": "Qx-LbXjRpdwY",
        "outputId": "4b24f7c6-1778-4d14-ef40-5382a96355a4"
      },
      "outputs": [
        {
          "output_type": "stream",
          "name": "stdout",
          "text": [
            "[2000, 2001, 2002, 2003, 2004, 2005]\n"
          ]
        }
      ],
      "source": [
        "birth_year = 2000\n",
        "years_list = [year for year in range(birth_year, birth_year + 6)]\n",
        "print(years_list)\n"
      ]
    },
    {
      "cell_type": "markdown",
      "source": [
        "**2. In which year in years_list was your third birthday? Remember, you were 0 years of age for your\n",
        "first year.**"
      ],
      "metadata": {
        "id": "pUILQcILp633"
      }
    },
    {
      "cell_type": "code",
      "source": [
        "years_list =[2000, 2001, 2002, 2003, 2004, 2005]\n",
        "third_birthday_year = years_list[3]\n",
        "\n",
        "print(third_birthday_year)\n"
      ],
      "metadata": {
        "colab": {
          "base_uri": "https://localhost:8080/"
        },
        "id": "zOqiagJWptgZ",
        "outputId": "f20c2d68-9763-4737-e747-fa6a8df34cd8"
      },
      "execution_count": 4,
      "outputs": [
        {
          "output_type": "stream",
          "name": "stdout",
          "text": [
            "2003\n"
          ]
        }
      ]
    },
    {
      "cell_type": "markdown",
      "source": [
        "**3.In the years list, which year were you the oldest?**"
      ],
      "metadata": {
        "id": "3FAG4m1tqU04"
      }
    },
    {
      "cell_type": "code",
      "source": [
        "years_list = [2000, 2001, 2002, 2003, 2004, 2005]\n",
        "oldest_year = years_list[-1]\n",
        "\n",
        "print(oldest_year)\n"
      ],
      "metadata": {
        "colab": {
          "base_uri": "https://localhost:8080/"
        },
        "id": "GS4TCLg0qHG4",
        "outputId": "1614844d-a1f9-4114-ce78-98a69443c014"
      },
      "execution_count": 5,
      "outputs": [
        {
          "output_type": "stream",
          "name": "stdout",
          "text": [
            "2005\n"
          ]
        }
      ]
    },
    {
      "cell_type": "markdown",
      "source": [
        "**4. Make a list called things with these three strings as elements: &quot;mozzarella&quot;, &quot;cinderella&quot;,\n",
        "&quot;salmonella&quot;.**"
      ],
      "metadata": {
        "id": "W_lyCkgVqdgf"
      }
    },
    {
      "cell_type": "code",
      "source": [
        "things = [\"mozzarella\", \"cinderella\", \"salmonella\"]\n",
        "print(things)\n"
      ],
      "metadata": {
        "colab": {
          "base_uri": "https://localhost:8080/"
        },
        "id": "0Rqwmf_nqZtY",
        "outputId": "bbfa62c8-35e2-434f-83e5-15347d50f3a2"
      },
      "execution_count": 6,
      "outputs": [
        {
          "output_type": "stream",
          "name": "stdout",
          "text": [
            "['mozzarella', 'cinderella', 'salmonella']\n"
          ]
        }
      ]
    },
    {
      "cell_type": "markdown",
      "source": [
        "**5. Capitalize the element in things that refers to a person and then print the list. Did it change the\n",
        "element in the list?**"
      ],
      "metadata": {
        "id": "qUpIJsjjqlUQ"
      }
    },
    {
      "cell_type": "code",
      "source": [
        "things = [\"mozzarella\", \"cinderella\", \"salmonella\"]\n",
        "things[1] = things[1].capitalize()\n",
        "print(things)\n"
      ],
      "metadata": {
        "colab": {
          "base_uri": "https://localhost:8080/"
        },
        "id": "gNyRHW-xqhVH",
        "outputId": "19d99a54-c7b7-4a9f-b848-b6620e503108"
      },
      "execution_count": 7,
      "outputs": [
        {
          "output_type": "stream",
          "name": "stdout",
          "text": [
            "['mozzarella', 'Cinderella', 'salmonella']\n"
          ]
        }
      ]
    },
    {
      "cell_type": "markdown",
      "source": [
        "**6. Make a surprise list with the elements &quot;Groucho,&quot; &quot;Chico,&quot; and &quot;Harpo.&quot;**"
      ],
      "metadata": {
        "id": "3mR8EMtvqrvo"
      }
    },
    {
      "cell_type": "code",
      "source": [
        "surprise = [\"Groucho\", \"Chico\", \"Harpo\"]\n",
        "print(surprise)\n"
      ],
      "metadata": {
        "colab": {
          "base_uri": "https://localhost:8080/"
        },
        "id": "RMny2AWaqo14",
        "outputId": "fcbf9c07-b367-44a7-8524-878b3930b76d"
      },
      "execution_count": 8,
      "outputs": [
        {
          "output_type": "stream",
          "name": "stdout",
          "text": [
            "['Groucho', 'Chico', 'Harpo']\n"
          ]
        }
      ]
    },
    {
      "cell_type": "markdown",
      "source": [
        "**7. Lowercase the last element of the surprise list, reverse it, and then capitalize it.**"
      ],
      "metadata": {
        "id": "SxWvtb0Hqyv3"
      }
    },
    {
      "cell_type": "code",
      "source": [
        "surprise = [\"Groucho\", \"Chico\", \"Harpo\"]\n",
        "last_element = surprise[-1].lower()\n",
        "reversed_element = last_element[::-1]\n",
        "capitalized_element = reversed_element.capitalize()\n",
        "surprise[-1] = capitalized_element\n",
        "\n",
        "print(surprise)\n"
      ],
      "metadata": {
        "colab": {
          "base_uri": "https://localhost:8080/"
        },
        "id": "qBOGArFbqu9w",
        "outputId": "0560d339-ff93-4f00-b3eb-694353956b95"
      },
      "execution_count": 9,
      "outputs": [
        {
          "output_type": "stream",
          "name": "stdout",
          "text": [
            "['Groucho', 'Chico', 'Oprah']\n"
          ]
        }
      ]
    },
    {
      "cell_type": "markdown",
      "source": [
        "**8. Make an English-to-French dictionary called e2f and print it. Here are your starter words: dog is\n",
        "chien, cat is chat, and walrus is morse.**"
      ],
      "metadata": {
        "id": "H6L5jaI8q6PQ"
      }
    },
    {
      "cell_type": "code",
      "source": [
        "e2f = {\n",
        "    'dog': 'chien',\n",
        "    'cat': 'chat',\n",
        "    'walrus': 'morse'\n",
        "}\n",
        "\n",
        "print(e2f)\n"
      ],
      "metadata": {
        "colab": {
          "base_uri": "https://localhost:8080/"
        },
        "id": "OLCRHuZoq1kY",
        "outputId": "08188e77-126b-400b-ea2e-3a9ec786d443"
      },
      "execution_count": 10,
      "outputs": [
        {
          "output_type": "stream",
          "name": "stdout",
          "text": [
            "{'dog': 'chien', 'cat': 'chat', 'walrus': 'morse'}\n"
          ]
        }
      ]
    },
    {
      "cell_type": "markdown",
      "source": [
        "**9. Write the French word for walrus in your three-word dictionary e2f.**"
      ],
      "metadata": {
        "id": "Ih5CeGNsrAgn"
      }
    },
    {
      "cell_type": "code",
      "source": [
        "e2f = {\n",
        "    'dog': 'chien',\n",
        "    'cat': 'chat',\n",
        "    'walrus': 'morse'\n",
        "}\n",
        "\n",
        "french_word_for_walrus = e2f['walrus']\n",
        "print(french_word_for_walrus)\n"
      ],
      "metadata": {
        "colab": {
          "base_uri": "https://localhost:8080/"
        },
        "id": "cg8m-KuUq9S4",
        "outputId": "e81d539b-fb0b-48ed-d152-66c87e365d3e"
      },
      "execution_count": 11,
      "outputs": [
        {
          "output_type": "stream",
          "name": "stdout",
          "text": [
            "morse\n"
          ]
        }
      ]
    },
    {
      "cell_type": "markdown",
      "source": [
        "**10. Make a French-to-English dictionary called f2e from e2f. Use the items method.**"
      ],
      "metadata": {
        "id": "U6BVM6s6rHB4"
      }
    },
    {
      "cell_type": "code",
      "source": [
        "e2f = {\n",
        "    'dog': 'chien',\n",
        "    'cat': 'chat',\n",
        "    'walrus': 'morse'\n",
        "}\n",
        "\n",
        "f2e = {value: key for key, value in e2f.items()}\n",
        "print(f2e)\n"
      ],
      "metadata": {
        "colab": {
          "base_uri": "https://localhost:8080/"
        },
        "id": "fUw6ZlHvrD3v",
        "outputId": "0660bee2-5acc-4c22-ca3f-ca1a262d79ef"
      },
      "execution_count": 12,
      "outputs": [
        {
          "output_type": "stream",
          "name": "stdout",
          "text": [
            "{'chien': 'dog', 'chat': 'cat', 'morse': 'walrus'}\n"
          ]
        }
      ]
    },
    {
      "cell_type": "markdown",
      "source": [
        "**11. Print the English version of the French word chien using f2e.**"
      ],
      "metadata": {
        "id": "by4qwvqvrPPh"
      }
    },
    {
      "cell_type": "code",
      "source": [
        "f2e = {\n",
        "    'chien': 'dog',\n",
        "    'chat': 'cat',\n",
        "    'morse': 'walrus'\n",
        "}\n",
        "\n",
        "english_word_for_chien = f2e['chien']\n",
        "print(english_word_for_chien)\n"
      ],
      "metadata": {
        "colab": {
          "base_uri": "https://localhost:8080/"
        },
        "id": "CvP6oJYmrMXY",
        "outputId": "92b08500-0e54-40e8-e6d1-bb2fb7a2038b"
      },
      "execution_count": 13,
      "outputs": [
        {
          "output_type": "stream",
          "name": "stdout",
          "text": [
            "dog\n"
          ]
        }
      ]
    },
    {
      "cell_type": "markdown",
      "source": [
        "**12. Make and print a set of English words from the keys in e2f.**"
      ],
      "metadata": {
        "id": "3MfRlpP2rU76"
      }
    },
    {
      "cell_type": "code",
      "source": [
        "e2f = {\n",
        "    'dog': 'chien',\n",
        "    'cat': 'chat',\n",
        "    'walrus': 'morse'\n",
        "}\n",
        "\n",
        "english_words = set(e2f.keys())\n",
        "print(english_words)\n"
      ],
      "metadata": {
        "colab": {
          "base_uri": "https://localhost:8080/"
        },
        "id": "63MptX2-rSNx",
        "outputId": "0aaf5431-b678-4c6d-b493-a17746e96946"
      },
      "execution_count": 14,
      "outputs": [
        {
          "output_type": "stream",
          "name": "stdout",
          "text": [
            "{'walrus', 'dog', 'cat'}\n"
          ]
        }
      ]
    },
    {
      "cell_type": "markdown",
      "source": [
        "**13. Make a multilevel dictionary called life. Use these strings for the topmost keys: &#39;animals&#39;, &#39;plants&#39;,\n",
        "and &#39;other&#39;. Make the &#39;animals&#39; key refer to another dictionary with the keys &#39;cats&#39;, &#39;octopi&#39;, and\n",
        "&#39;emus&#39;. Make the &#39;cats&#39; key refer to a list of strings with the values &#39;Henri&#39;, &#39;Grumpy&#39;, and &#39;Lucy&#39;.\n",
        "Make all the other keys refer to empty dictionaries.**"
      ],
      "metadata": {
        "id": "tvCQQc8orb4X"
      }
    },
    {
      "cell_type": "code",
      "source": [
        "life = {\n",
        "    'animals': {\n",
        "        'cats': ['Henri', 'Grumpy', 'Lucy'],\n",
        "        'octopi': {},\n",
        "        'emus': {}\n",
        "    },\n",
        "    'plants': {},\n",
        "    'other': {}\n",
        "}\n",
        "\n",
        "print(life)\n"
      ],
      "metadata": {
        "colab": {
          "base_uri": "https://localhost:8080/"
        },
        "id": "tD1uQY-WrYLQ",
        "outputId": "2dfa7ec1-5b87-46ad-bf75-1f3c2cde3a0d"
      },
      "execution_count": 15,
      "outputs": [
        {
          "output_type": "stream",
          "name": "stdout",
          "text": [
            "{'animals': {'cats': ['Henri', 'Grumpy', 'Lucy'], 'octopi': {}, 'emus': {}}, 'plants': {}, 'other': {}}\n"
          ]
        }
      ]
    },
    {
      "cell_type": "markdown",
      "source": [
        "**14. Print the top-level keys of life.**"
      ],
      "metadata": {
        "id": "l_rKi-TPrjyP"
      }
    },
    {
      "cell_type": "code",
      "source": [
        "life = {\n",
        "    'animals': {\n",
        "        'cats': ['Henri', 'Grumpy', 'Lucy'],\n",
        "        'octopi': {},\n",
        "        'emus': {}\n",
        "    },\n",
        "    'plants': {},\n",
        "    'other': {}\n",
        "}\n",
        "\n",
        "top_level_keys = life.keys()\n",
        "print(top_level_keys)\n"
      ],
      "metadata": {
        "colab": {
          "base_uri": "https://localhost:8080/"
        },
        "id": "h_xdYUV2rf44",
        "outputId": "c47207fa-face-42d1-e559-e91debe5aced"
      },
      "execution_count": 16,
      "outputs": [
        {
          "output_type": "stream",
          "name": "stdout",
          "text": [
            "dict_keys(['animals', 'plants', 'other'])\n"
          ]
        }
      ]
    },
    {
      "cell_type": "markdown",
      "source": [
        "**15. Print the keys for life[&#39;animals&#39;].**"
      ],
      "metadata": {
        "id": "RGpVWgEbrrgY"
      }
    },
    {
      "cell_type": "code",
      "source": [
        "life = {\n",
        "    'animals': {\n",
        "        'cats': ['Henri', 'Grumpy', 'Lucy'],\n",
        "        'octopi': {},\n",
        "        'emus': {}\n",
        "    },\n",
        "    'plants': {},\n",
        "    'other': {}\n",
        "}\n",
        "\n",
        "animal_keys = life['animals'].keys()\n",
        "print(animal_keys)\n"
      ],
      "metadata": {
        "colab": {
          "base_uri": "https://localhost:8080/"
        },
        "id": "h4-diBehrnWp",
        "outputId": "905d71cf-4f5e-499c-b7db-4fa9bd0d5430"
      },
      "execution_count": 17,
      "outputs": [
        {
          "output_type": "stream",
          "name": "stdout",
          "text": [
            "dict_keys(['cats', 'octopi', 'emus'])\n"
          ]
        }
      ]
    },
    {
      "cell_type": "markdown",
      "source": [
        "**16. Print the values for life[&#39;animals&#39;][&#39;cats&#39;]**"
      ],
      "metadata": {
        "id": "2pWtvMPwr3FZ"
      }
    },
    {
      "cell_type": "code",
      "source": [
        "life = {\n",
        "    'animals': {\n",
        "        'cats': ['Henri', 'Grumpy', 'Lucy'],\n",
        "        'octopi': {},\n",
        "        'emus': {}\n",
        "    },\n",
        "    'plants': {},\n",
        "    'other': {}\n",
        "}\n",
        "\n",
        "cat_values = life['animals']['cats']\n",
        "print(cat_values)\n",
        "\n"
      ],
      "metadata": {
        "colab": {
          "base_uri": "https://localhost:8080/"
        },
        "id": "SP7rkDc9ruVI",
        "outputId": "5ff02732-89fe-4d23-ee71-206e874c22aa"
      },
      "execution_count": 18,
      "outputs": [
        {
          "output_type": "stream",
          "name": "stdout",
          "text": [
            "['Henri', 'Grumpy', 'Lucy']\n"
          ]
        }
      ]
    },
    {
      "cell_type": "code",
      "source": [],
      "metadata": {
        "id": "JZrLPhi_r6FA"
      },
      "execution_count": null,
      "outputs": []
    }
  ]
}