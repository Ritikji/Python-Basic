{
  "nbformat": 4,
  "nbformat_minor": 0,
  "metadata": {
    "colab": {
      "provenance": []
    },
    "kernelspec": {
      "name": "python3",
      "display_name": "Python 3"
    },
    "language_info": {
      "name": "python"
    }
  },
  "cells": [
    {
      "cell_type": "markdown",
      "source": [
        "1. What is the result of the code, and why?\n",
        "\n",
        "&gt;&gt;&gt; def func(a, b=6, c=8):\n",
        "print(a, b, c)\n",
        "&gt;&gt;&gt; func(1, 2)"
      ],
      "metadata": {
        "id": "sJf38r7Kkaos"
      }
    },
    {
      "cell_type": "code",
      "execution_count": 2,
      "metadata": {
        "colab": {
          "base_uri": "https://localhost:8080/"
        },
        "id": "MfYknMAikQi-",
        "outputId": "a43b25f9-c534-4318-d9b0-2c2e6c2420f6"
      },
      "outputs": [
        {
          "output_type": "stream",
          "name": "stdout",
          "text": [
            "1 2 8\n"
          ]
        }
      ],
      "source": [
        "def func(a, b=6, c=8):\n",
        "  print(a, b, c)\n",
        "func(1, 2)"
      ]
    },
    {
      "cell_type": "markdown",
      "source": [
        "Explanation:\n",
        "\n",
        "In the code, we define a function called func() that takes three parameters: a, b, and c. The parameter b has a default value of 6, and the parameter c has a default value of 8.\n",
        "\n",
        "When we call the func() function using func(1, 2), we provide two arguments: 1 for parameter a and 2 for parameter b. Since we only provide values for the first two parameters and not for the third parameter, the default value of 8 is used for c.\n",
        "\n",
        "Therefore, when the function is called, it prints the values of a, b, and c, which are 1, 2, and 8, respectively."
      ],
      "metadata": {
        "id": "wrf908a3wbk5"
      }
    },
    {
      "cell_type": "markdown",
      "source": [
        "2. What is the result of this code, and why?\n",
        "&gt;&gt;&gt; def func(a, b, c=5):\n",
        "print(a, b, c)\n",
        "&gt;&gt;&gt; func(1, c=3, b=2)"
      ],
      "metadata": {
        "id": "rXQrhTf9wj0r"
      }
    },
    {
      "cell_type": "code",
      "source": [
        "def func(a, b, c=5):\n",
        "  print(a, b, c)\n",
        "func(1, c=3, b=2)"
      ],
      "metadata": {
        "colab": {
          "base_uri": "https://localhost:8080/"
        },
        "id": "bZyHTIwswUob",
        "outputId": "ea589899-2a59-4f8f-a651-b53174221f9c"
      },
      "execution_count": 3,
      "outputs": [
        {
          "output_type": "stream",
          "name": "stdout",
          "text": [
            "1 2 3\n"
          ]
        }
      ]
    },
    {
      "cell_type": "markdown",
      "source": [
        "Explanation:\n",
        "\n",
        "In the code, we define a function called func() that takes three parameters: a, b, and c. The parameter c has a default value of 5.\n",
        "\n",
        "When we call the func() function using func(1, c=3, b=2), we provide three arguments: 1 for parameter a, 3 for parameter c, and 2 for parameter b.\n",
        "\n",
        "By using keyword arguments, we explicitly specify the values for the parameters c and b while providing the value for a as a positional argument.\n",
        "\n",
        "Therefore, when the function is called, it prints the values of a, b, and c, which are 1, 2, and 3, respectively. The provided values for b and c override their default values specified in the function definition."
      ],
      "metadata": {
        "id": "wj_966EswtdY"
      }
    },
    {
      "cell_type": "markdown",
      "source": [
        "3. How about this code: what is its result, and why?\n",
        "&gt;&gt;&gt; def func(a, *pargs):\n",
        "print(a, pargs)\n",
        "&gt;&gt;&gt; func(1, 2, 3)"
      ],
      "metadata": {
        "id": "p3MJzYbtwxao"
      }
    },
    {
      "cell_type": "code",
      "source": [
        "def func(a, *pargs):\n",
        "  print(a, pargs)\n",
        "func(1, 2, 3)"
      ],
      "metadata": {
        "colab": {
          "base_uri": "https://localhost:8080/"
        },
        "id": "7B1EdRRxwqd5",
        "outputId": "a6b043cb-153a-41d4-90fa-92e0f0a39b34"
      },
      "execution_count": 4,
      "outputs": [
        {
          "output_type": "stream",
          "name": "stdout",
          "text": [
            "1 (2, 3)\n"
          ]
        }
      ]
    },
    {
      "cell_type": "markdown",
      "source": [
        "Explanation:\n",
        "\n",
        "In the code, we define a function called func() that takes a parameter a followed by *pargs. The *pargs parameter is defined as a variable-length argument list, often referred to as \"args\" or \"varargs\". It allows the function to accept any number of additional positional arguments.\n",
        "\n",
        "When we call the func() function using func(1, 2, 3), we provide three arguments: 1 for parameter a, 2 as an additional positional argument, and 3 as another additional positional argument.\n",
        "\n",
        "The *pargs parameter in the function definition collects any additional positional arguments passed to the function beyond the explicitly named parameters. In this case, it collects the values 2 and 3 into a tuple.\n",
        "\n",
        "Therefore, when the function is called, it prints the value of a, which is 1, and the tuple pargs, which contains the additional positional arguments (2 and 3). The output will be 1 (2, 3)."
      ],
      "metadata": {
        "id": "tfUhegIbw7ry"
      }
    },
    {
      "cell_type": "markdown",
      "source": [
        "4. What does this code print, and why?\n",
        "&gt;&gt;&gt; def func(a, **kargs):\n",
        "print(a, kargs)\n",
        "&gt;&gt;&gt; func(a=1, c=3, b=2)"
      ],
      "metadata": {
        "id": "bXdnNcjzw_Tx"
      }
    },
    {
      "cell_type": "code",
      "source": [
        "def func(a, **kargs):\n",
        "  print(a, kargs)\n",
        "func(a=1, c=3, b=2)"
      ],
      "metadata": {
        "colab": {
          "base_uri": "https://localhost:8080/"
        },
        "id": "s7vVWysDw5I5",
        "outputId": "40443e62-776c-43ef-dd0c-f2726749e8ec"
      },
      "execution_count": 5,
      "outputs": [
        {
          "output_type": "stream",
          "name": "stdout",
          "text": [
            "1 {'c': 3, 'b': 2}\n"
          ]
        }
      ]
    },
    {
      "cell_type": "markdown",
      "source": [
        "Explanation:\n",
        "\n",
        "In the code, we define a function called func() that takes a parameter a followed by **kargs. The **kargs parameter is defined as a variable-length keyword argument list. It allows the function to accept any number of additional keyword arguments.\n",
        "\n",
        "When we call the func() function using func(a=1, c=3, b=2), we provide three keyword arguments: a with a value of 1, c with a value of 3, and b with a value of 2.\n",
        "\n",
        "The **kargs parameter in the function definition collects any additional keyword arguments passed to the function beyond the explicitly named parameters. In this case, it collects the keyword arguments c=3 and b=2 into a dictionary.\n",
        "\n",
        "Therefore, when the function is called, it prints the value of a, which is 1, and the dictionary kargs, which contains the additional keyword arguments. The output will be 1 {'c': 3, 'b': 2}."
      ],
      "metadata": {
        "id": "Sl0WTYI8xGag"
      }
    },
    {
      "cell_type": "markdown",
      "source": [
        "5. What gets printed by this, and explain?\n",
        "&gt;&gt;&gt; def func(a, b, c=8, d=5): print(a, b, c, d)\n",
        "&gt;&gt;&gt; func(1, *(5, 6))"
      ],
      "metadata": {
        "id": "sM4U2hzYxJ95"
      }
    },
    {
      "cell_type": "code",
      "source": [
        "def func(a, b, c=8, d=5):\n",
        "  print(a, b, c, d)\n",
        "func(1, *(5, 6))"
      ],
      "metadata": {
        "colab": {
          "base_uri": "https://localhost:8080/"
        },
        "id": "Engt9qEWxD5B",
        "outputId": "3707edd5-0bd6-4735-a9a5-363414f1361e"
      },
      "execution_count": 6,
      "outputs": [
        {
          "output_type": "stream",
          "name": "stdout",
          "text": [
            "1 5 6 5\n"
          ]
        }
      ]
    },
    {
      "cell_type": "markdown",
      "source": [
        "Explanation:\n",
        "\n",
        "In the code, we define a function called func() that takes four parameters: a, b, c, and d. The parameters c and d have default values of 8 and 5, respectively.\n",
        "\n",
        "When we call the func() function using func(1, *(5, 6)), we provide three arguments: 1 for parameter a, and (5, 6) as additional positional arguments.\n",
        "\n",
        "The *(5, 6) syntax is known as unpacking. It unpacks the tuple (5, 6) into individual values, so the second positional argument, 5, is assigned to parameter b, and the third positional argument, 6, is assigned to parameter c. The default value of 5 for parameter d is used since we did not provide a value for it.\n",
        "\n",
        "Therefore, when the function is called, it prints the values of a, b, c, and d, which are 1, 5, 6, and 5, respectively."
      ],
      "metadata": {
        "id": "kwk5XOIKxQAg"
      }
    },
    {
      "cell_type": "markdown",
      "source": [
        "6. what is the result of this, and explain?\n",
        "&gt;&gt;&gt; def func(a, b, c): a = 2; b[0] = &#39;x&#39;; c[&#39;a&#39;] = &#39;y&#39;\n",
        "&gt;&gt;&gt; l=1; m=[1]; n={&#39;a&#39;:0}\n",
        "&gt;&gt;&gt; func(l, m, n)\n",
        "\n",
        "&gt;&gt;&gt; l, m, n"
      ],
      "metadata": {
        "id": "yXBIbpo6xT0x"
      }
    },
    {
      "cell_type": "code",
      "source": [
        "def func(a, b, c):\n",
        "    a = 2\n",
        "    b[0] = 'x'\n",
        "    c['a'] = 'y'\n",
        "\n",
        "l = 1\n",
        "m = [1]\n",
        "n = {'a': 0}\n",
        "\n",
        "func(l, m, n)\n",
        "print(l, m, n)\n"
      ],
      "metadata": {
        "colab": {
          "base_uri": "https://localhost:8080/"
        },
        "id": "tFprVxH_xNwo",
        "outputId": "e91c7a26-c3e9-4a8a-e142-6fe709df01e9"
      },
      "execution_count": 9,
      "outputs": [
        {
          "output_type": "stream",
          "name": "stdout",
          "text": [
            "1 ['x'] {'a': 'y'}\n"
          ]
        }
      ]
    },
    {
      "cell_type": "markdown",
      "source": [
        "Explanation:\n",
        "\n",
        "In the code, we define a function called func() that takes three parameters: a, b, and c. Inside the function, the following operations are performed:\n",
        "\n",
        "a = 2: This statement assigns the value 2 to the local variable a, which does not affect the variable l outside the function.\n",
        "b[0] = 'x': This statement modifies the first element of the list m passed as an argument. Since lists are mutable objects, changes made to the list within the function affect the original list.\n",
        "c['a'] = 'y': This statement modifies the value associated with the key 'a' in the dictionary n passed as an argument. Similar to lists, dictionaries are mutable objects, so modifications made within the function affect the original dictionary.\n",
        "Before calling the func() function, we have the following variables and their initial values:\n",
        "\n",
        "l has a value of 1\n",
        "m is a list with the value [1]\n",
        "n is a dictionary with the key-value pair 'a': 0\n",
        "When we call the func() function using func(l, m, n), the function is executed. Inside the function, the values of a, b, and c are modified as described above. However, these modifications are local to the function and do not affect the original variables outside the function.\n",
        "\n",
        "After the function call, if we print the values of l, m, and n, we get the following results:\n",
        "\n",
        "l is still 1 because the assignment of 2 to a within the function does not affect the original l.\n",
        "m is ['x'] because the modification of the first element of the list m within the function changes the original list.\n",
        "n is {'a': 'y'} because the modification of the value associated with the key 'a' within the function changes the original dictionary.\n",
        "Therefore, the final values are:\n",
        "\n",
        "l: 1\n",
        "m: ['x']\n",
        "n: {'a': 'y'}"
      ],
      "metadata": {
        "id": "y9A7qHewx58Z"
      }
    },
    {
      "cell_type": "code",
      "source": [],
      "metadata": {
        "id": "ykY3MW0txhwh"
      },
      "execution_count": null,
      "outputs": []
    }
  ]
}