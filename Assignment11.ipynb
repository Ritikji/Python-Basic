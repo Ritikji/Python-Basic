{
  "nbformat": 4,
  "nbformat_minor": 0,
  "metadata": {
    "colab": {
      "provenance": []
    },
    "kernelspec": {
      "name": "python3",
      "display_name": "Python 3"
    },
    "language_info": {
      "name": "python"
    }
  },
  "cells": [
    {
      "cell_type": "markdown",
      "source": [
        "**1. Create an assert statement that throws an AssertionError if the variable spam is a negative\n",
        "integer.**"
      ],
      "metadata": {
        "id": "j4xVIGCEUR9L"
      }
    },
    {
      "cell_type": "markdown",
      "source": [
        "Ans-Certainly! Here's an example of an assert statement that throws an AssertionError if the variable spam is a negative integer:"
      ],
      "metadata": {
        "id": "9SYBYUkqUV54"
      }
    },
    {
      "cell_type": "code",
      "execution_count": 2,
      "metadata": {
        "id": "_lWsuv1iUKSP"
      },
      "outputs": [],
      "source": [
        "#example\n",
        "#spam = -5\n",
        "#assert spam >= 0, \"spam must be a non-negative integer\"\n"
      ]
    },
    {
      "cell_type": "markdown",
      "source": [
        "**2. Write an assert statement that triggers an AssertionError if the variables eggs and bacon contain\n",
        "strings that are the same as each other, even if their cases are different (that is, &#39;hello&#39; and &#39;hello&#39; are\n",
        "considered the same, and &#39;goodbye&#39; and &#39;GOODbye&#39; are also considered the same).**"
      ],
      "metadata": {
        "id": "7aMqKHkOVs8L"
      }
    },
    {
      "cell_type": "markdown",
      "source": [
        "Ans-f the variables eggs and bacon contain strings that are the same, regardless of their case"
      ],
      "metadata": {
        "id": "YtnFckTZVyXS"
      }
    },
    {
      "cell_type": "code",
      "source": [
        "eggs = \"Hello\"\n",
        "bacon = \"hello\"\n",
        "\n",
        "assert eggs.lower() != bacon.lower(), \"eggs and bacon strings must be different (case-insensitive)\"\n",
        "\n"
      ],
      "metadata": {
        "colab": {
          "base_uri": "https://localhost:8080/",
          "height": 217
        },
        "id": "S6WBVg3kUacQ",
        "outputId": "0f98ff83-d924-4e5a-fe52-107310f7051e"
      },
      "execution_count": 4,
      "outputs": [
        {
          "output_type": "error",
          "ename": "AssertionError",
          "evalue": "ignored",
          "traceback": [
            "\u001b[0;31m---------------------------------------------------------------------------\u001b[0m",
            "\u001b[0;31mAssertionError\u001b[0m                            Traceback (most recent call last)",
            "\u001b[0;32m<ipython-input-4-b3fc6212f670>\u001b[0m in \u001b[0;36m<cell line: 4>\u001b[0;34m()\u001b[0m\n\u001b[1;32m      2\u001b[0m \u001b[0mbacon\u001b[0m \u001b[0;34m=\u001b[0m \u001b[0;34m\"hello\"\u001b[0m\u001b[0;34m\u001b[0m\u001b[0;34m\u001b[0m\u001b[0m\n\u001b[1;32m      3\u001b[0m \u001b[0;34m\u001b[0m\u001b[0m\n\u001b[0;32m----> 4\u001b[0;31m \u001b[0;32massert\u001b[0m \u001b[0meggs\u001b[0m\u001b[0;34m.\u001b[0m\u001b[0mlower\u001b[0m\u001b[0;34m(\u001b[0m\u001b[0;34m)\u001b[0m \u001b[0;34m!=\u001b[0m \u001b[0mbacon\u001b[0m\u001b[0;34m.\u001b[0m\u001b[0mlower\u001b[0m\u001b[0;34m(\u001b[0m\u001b[0;34m)\u001b[0m\u001b[0;34m,\u001b[0m \u001b[0;34m\"eggs and bacon strings must be different (case-insensitive)\"\u001b[0m\u001b[0;34m\u001b[0m\u001b[0;34m\u001b[0m\u001b[0m\n\u001b[0m\u001b[1;32m      5\u001b[0m \u001b[0;34m\u001b[0m\u001b[0m\n",
            "\u001b[0;31mAssertionError\u001b[0m: eggs and bacon strings must be different (case-insensitive)"
          ]
        }
      ]
    },
    {
      "cell_type": "markdown",
      "source": [
        "**3. Create an assert statement that throws an AssertionError every time.**"
      ],
      "metadata": {
        "id": "pvqb0KduWUGS"
      }
    },
    {
      "cell_type": "markdown",
      "source": [
        "Ans-Certainly! If you want to create an assert statement that throws an AssertionError every time, you can use the assert statement with a condition that always evaluates to False. "
      ],
      "metadata": {
        "id": "P3zpf26tWYgN"
      }
    },
    {
      "cell_type": "code",
      "source": [
        "#assert False, \"This assert statement always throws an AssertionError\"\n"
      ],
      "metadata": {
        "id": "eee8gaJ6V01N"
      },
      "execution_count": 6,
      "outputs": []
    },
    {
      "cell_type": "markdown",
      "source": [
        "In this case, the condition False will always be false, so the assert statement will raise an AssertionError with the provided message.\n",
        "\n",
        "Please note that it is generally not recommended to use such assert statements in your code, as they can make it harder to maintain and understand. The assert statement is commonly used for debugging and testing purposes, and it should be used to check conditions that you expect to be true during normal execution."
      ],
      "metadata": {
        "id": "WSM2IjsAWh12"
      }
    },
    {
      "cell_type": "markdown",
      "source": [
        "**4. What are the two lines that must be present in your software in order to call logging.debug()?**"
      ],
      "metadata": {
        "id": "lYjWXMubWr8y"
      }
    },
    {
      "cell_type": "code",
      "source": [
        "#To call logging.debug() in your software, you need to include the following two lines:\n",
        "import logging\n",
        "logging.basicConfig(level=logging.DEBUG)\n"
      ],
      "metadata": {
        "id": "XBP5p25DWiZY"
      },
      "execution_count": 7,
      "outputs": []
    },
    {
      "cell_type": "markdown",
      "source": [
        "The first line import logging imports the logging module, which provides the necessary functionality for logging in Python.\n",
        "\n",
        "The second line logging.basicConfig(level=logging.DEBUG) configures the logging module to display debug-level log messages. This line sets up the basic configuration for logging, including the log level. In this case, we set the log level to logging.DEBUG, which enables debug-level logging messages to be displayed.\n",
        "\n",
        "With these two lines present in your software, you can call logging.debug() to log debug-level messages as needed."
      ],
      "metadata": {
        "id": "MMi26Z5IW3uk"
      }
    },
    {
      "cell_type": "markdown",
      "source": [
        "**5. What are the two lines that your program must have in order to have logging.debug() send a\n",
        "logging message to a file named programLog.txt?**"
      ],
      "metadata": {
        "id": "Qco0C0kOW7Od"
      }
    },
    {
      "cell_type": "code",
      "source": [
        "#To have logging.debug() send a logging message to a file named programLog.txt, you need to include the following two lines in your program:\n",
        "import logging\n",
        "\n",
        "logging.basicConfig(filename='programLog.txt', level=logging.DEBUG)\n"
      ],
      "metadata": {
        "id": "6-itTG97WzAq"
      },
      "execution_count": 8,
      "outputs": []
    },
    {
      "cell_type": "markdown",
      "source": [
        "The first line import logging imports the logging module, which provides the necessary functionality for logging in Python.\n",
        "\n",
        "The second line logging.basicConfig(filename='programLog.txt', level=logging.DEBUG) configures the logging module to write log messages to the specified file. The filename parameter specifies the name of the file where the log messages should be written, in this case, 'programLog.txt'. The level parameter is set to logging.DEBUG to enable debug-level logging messages to be written to the file.\n",
        "\n",
        "With these two lines present in your program, you can call logging.debug() to log debug-level messages, and they will be written to the file programLog.txt."
      ],
      "metadata": {
        "id": "Pzob7KXQXDSS"
      }
    },
    {
      "cell_type": "markdown",
      "source": [
        "**6. What are the five levels of logging?**"
      ],
      "metadata": {
        "id": "3PVIWzTCXI-1"
      }
    },
    {
      "cell_type": "markdown",
      "source": [
        "Ans-\n",
        "The five levels of logging, in increasing order of severity, are:\n",
        "\n",
        "DEBUG: This level is used for detailed information, typically useful for debugging purposes. Debug-level messages provide the most detailed information about the program's execution.\n",
        "\n",
        "INFO: This level is used to provide general information about the program's progress. It can be used to indicate that certain events have occurred or to provide status updates during the program's execution.\n",
        "\n",
        "WARNING: This level is used to indicate potential issues or warnings that do not necessarily cause the program to fail but should be taken into consideration. Warnings are typically used to highlight conditions that might lead to errors or unexpected behavior.\n",
        "\n",
        "ERROR: This level is used to indicate errors that caused the program to fail to perform a certain operation or to encounter an unexpected condition. Errors typically represent issues that prevent the program from executing as intended.\n",
        "\n",
        "CRITICAL: This level is used to indicate critical errors or failures that may result in the termination of the program or lead to severe consequences. Critical-level messages represent the most severe level of logging and require immediate attention."
      ],
      "metadata": {
        "id": "RHhylXswXPyD"
      }
    },
    {
      "cell_type": "markdown",
      "source": [
        "**7. What line of code would you add to your software to disable all logging messages?**"
      ],
      "metadata": {
        "id": "b7M-ko2NXUnS"
      }
    },
    {
      "cell_type": "code",
      "source": [
        "#To disable all logging messages in your software, you can add the following line of code\n",
        "logging.disable(logging.CRITICAL)\n"
      ],
      "metadata": {
        "id": "ZpGckMn0XBYF"
      },
      "execution_count": 9,
      "outputs": []
    },
    {
      "cell_type": "markdown",
      "source": [
        "This line of code uses the disable() function from the logging module and sets the logging level to logging.CRITICAL, which is the highest level of severity. By setting the logging level to logging.CRITICAL, all log messages below this level, including DEBUG, INFO, WARNING, and ERROR, will be effectively disabled.\n",
        "\n",
        "Once this line of code is added to your software, no logging messages will be displayed or written to any output, such as the console or log files.\n",
        "\n",
        "Please note that if you want to re-enable logging messages later in your program, you can remove or comment out the logging.disable() line, or set the logging level to an appropriate level based on your requirements."
      ],
      "metadata": {
        "id": "udnJri7CXdKW"
      }
    },
    {
      "cell_type": "markdown",
      "source": [
        "**8.Why is using logging messages better than using print() to display the same message?**"
      ],
      "metadata": {
        "id": "3FXINxouXgbj"
      }
    },
    {
      "cell_type": "markdown",
      "source": [
        "Ans-Log Level Control: Logging allows you to set different log levels for different parts of your code. You can configure logging to display or store messages at various levels, such as DEBUG, INFO, WARNING, ERROR, or CRITICAL. This level of control allows you to filter and prioritize messages based on their severity, making it easier to identify and troubleshoot issues during development and production.\n",
        "\n",
        "Granular Output Control: With logging, you can redirect log messages to different outputs, such as the console, files, or external logging services. This flexibility enables you to control where the messages are displayed or stored, making it easier to analyze and monitor the application's behavior.\n",
        "\n",
        "Formatting and Structured Output: Logging provides more powerful formatting options compared to print() statements. You can include timestamps, log levels, and other contextual information in log messages, making them more informative. Additionally, logging supports structured logging, allowing you to log data in a structured format like JSON or key-value pairs, which can be more easily parsed and analyzed by log analysis tools.\n",
        "\n",
        "Enable/Disable Messages: Logging allows you to easily enable or disable log messages globally or for specific parts of your codebase. This can be useful when you want to silence or enable certain log statements during different phases of development or deployment.\n",
        "\n",
        "Production-Ready: Logging is designed for production environments and supports features like log rotation, log file size management, and log retention policies. These features help ensure that logs are efficiently managed and don't consume excessive disk space.\n",
        "\n",
        "Integration with Libraries and Frameworks: Many libraries and frameworks utilize logging, allowing you to integrate your application's logs seamlessly with these tools. This helps in achieving consistency and unified log management across your entire software stack.\n",
        "\n",
        "Overall, using logging messages provides greater flexibility, control, and customization options compared to simple print() statements, making it the preferred choice for displaying and managing messages in professional software development.\n",
        "\n",
        "\n",
        "\n",
        "\n"
      ],
      "metadata": {
        "id": "RjZQpb4qXmrp"
      }
    },
    {
      "cell_type": "markdown",
      "source": [
        "**9. What are the differences between the Step Over, Step In, and Step Out buttons in the debugger?**"
      ],
      "metadata": {
        "id": "Kj75pn8KXrdx"
      }
    },
    {
      "cell_type": "markdown",
      "source": [
        "Ans-Step Over: The Step Over button allows you to execute the current line of code and then move to the next line. If the current line contains a function call, the debugger will execute the entire function without diving into its implementation. This is useful when you want to quickly move through a function call without inspecting its internal details.\n",
        "\n",
        "Step In: The Step In button enables you to step into the next line of code, including any function calls encountered. If the current line contains a function call, the debugger will enter the called function and allow you to step through its implementation line by line. This is useful when you want to examine the inner workings of a function and understand how it behaves.\n",
        "\n",
        "Step Out: The Step Out button is used to execute the remaining lines of the current function and return to the line of code that called the function. If you are currently debugging inside a function, clicking Step Out will execute the remaining lines of that function and return to the caller's code. This is useful when you have stepped into a function and want to quickly return to the context of the calling code without stepping through each line of the function."
      ],
      "metadata": {
        "id": "gj9vyMd9XvbQ"
      }
    },
    {
      "cell_type": "markdown",
      "source": [
        "**10.After you click Continue, when will the debugger stop ?**"
      ],
      "metadata": {
        "id": "co5aCRlhYEgB"
      }
    },
    {
      "cell_type": "markdown",
      "source": [
        "Ans-Breakpoint: If there is a breakpoint set in the code, the debugger will pause execution when it reaches that specific line of code. Breakpoints allow you to pause the program's execution at specific points to inspect variables, evaluate expressions, or step through the code.\n",
        "\n",
        "Exception/Error: If an unhandled exception or error occurs during program execution, the debugger will automatically pause and stop at the point where the exception was raised. This allows you to investigate the exception, inspect the program's state, and analyze the cause of the error.\n",
        "\n",
        "Program Completion: The debugger will also stop when the program execution completes normally. This occurs when the program has reached its end and all statements have been executed."
      ],
      "metadata": {
        "id": "54G_9poJYCzX"
      }
    },
    {
      "cell_type": "markdown",
      "source": [
        "**11. What is the concept of a breakpoint?**"
      ],
      "metadata": {
        "id": "pk8AWjm3YJwG"
      }
    },
    {
      "cell_type": "markdown",
      "source": [
        "Ans-\n",
        "The concept of a breakpoint is a fundamental feature in debugging that allows you to pause the execution of a program at a specific line of code. By setting a breakpoint, you instruct the debugger to stop the program's execution at that particular point, giving you an opportunity to examine the program's state, inspect variables, evaluate expressions, and step through the code interactively.\n",
        "\n",
        "Breakpoints are valuable for understanding and troubleshooting complex code, as they allow you to analyze the program's behavior at specific points during execution. They help you identify issues, locate bugs, and understand how the program flows and interacts with data.\n",
        "\n",
        "Here are some key aspects of breakpoints:\n",
        "\n",
        "Setting Breakpoints: Breakpoints are typically set within the integrated development environment (IDE) or debugger interface. You can place them on specific lines of code by clicking on the line or using keyboard shortcuts.\n",
        "\n",
        "Pausing Execution: When the program reaches a breakpoint during execution, the debugger pauses the program's execution, allowing you to inspect variables and step through the code.\n",
        "\n",
        "Inspecting Variables: While the program is paused at a breakpoint, you can examine the values of variables at that particular moment, helping you understand their state and identify any issues.\n",
        "\n",
        "Interactive Debugging: With breakpoints, you can step through the code line by line, execute the next line, step into functions, step out of functions, or continue execution from the current breakpoint.\n",
        "\n",
        "Conditional Breakpoints: In addition to setting breakpoints at specific lines, some debuggers allow you to set conditional breakpoints. These breakpoints will only be triggered when a specific condition is met, such as when a variable reaches a certain value or a specific event occurs."
      ],
      "metadata": {
        "id": "fuY0kNdkYN5a"
      }
    },
    {
      "cell_type": "code",
      "source": [],
      "metadata": {
        "id": "ubEweK05XbWF"
      },
      "execution_count": null,
      "outputs": []
    }
  ]
}