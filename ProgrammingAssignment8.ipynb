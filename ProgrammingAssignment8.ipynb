{
  "nbformat": 4,
  "nbformat_minor": 0,
  "metadata": {
    "colab": {
      "provenance": []
    },
    "kernelspec": {
      "name": "python3",
      "display_name": "Python 3"
    },
    "language_info": {
      "name": "python"
    }
  },
  "cells": [
    {
      "cell_type": "markdown",
      "source": [
        "#1. Write a Python Program to Add Two Matrices?"
      ],
      "metadata": {
        "id": "xRqrSM3rzL2l"
      }
    },
    {
      "cell_type": "code",
      "execution_count": 1,
      "metadata": {
        "colab": {
          "base_uri": "https://localhost:8080/"
        },
        "id": "1pEHel-IzKYe",
        "outputId": "ecc62d3c-8597-46ba-9580-befc305a5a88"
      },
      "outputs": [
        {
          "output_type": "stream",
          "name": "stdout",
          "text": [
            "[10, 10, 10]\n",
            "[10, 10, 10]\n",
            "[10, 10, 10]\n"
          ]
        }
      ],
      "source": [
        "def add_matrices(matrix1, matrix2):\n",
        "    if len(matrix1) != len(matrix2) or len(matrix1[0]) != len(matrix2[0]):\n",
        "        raise ValueError(\"Matrices must have the same dimensions.\")\n",
        "\n",
        "    result = []\n",
        "    for i in range(len(matrix1)):\n",
        "        row = []\n",
        "        for j in range(len(matrix1[0])):\n",
        "            row.append(matrix1[i][j] + matrix2[i][j])\n",
        "        result.append(row)\n",
        "\n",
        "    return result\n",
        "\n",
        "# Example usage:\n",
        "matrix1 = [[1, 2, 3],\n",
        "           [4, 5, 6],\n",
        "           [7, 8, 9]]\n",
        "\n",
        "matrix2 = [[9, 8, 7],\n",
        "           [6, 5, 4],\n",
        "           [3, 2, 1]]\n",
        "\n",
        "result = add_matrices(matrix1, matrix2)\n",
        "for row in result:\n",
        "    print(row)\n"
      ]
    },
    {
      "cell_type": "code",
      "source": [],
      "metadata": {
        "id": "6N-JqGbTzOhl"
      },
      "execution_count": null,
      "outputs": []
    },
    {
      "cell_type": "markdown",
      "source": [
        "#2. Write a Python Program to Multiply Two Matrices?"
      ],
      "metadata": {
        "id": "YMFwhSKMzRzD"
      }
    },
    {
      "cell_type": "code",
      "source": [
        "def multiply_matrices(matrix1, matrix2):\n",
        "    if len(matrix1[0]) != len(matrix2):\n",
        "        raise ValueError(\"Number of columns in matrix1 should be equal to the number of rows in matrix2.\")\n",
        "\n",
        "    result = []\n",
        "    for i in range(len(matrix1)):\n",
        "        row = []\n",
        "        for j in range(len(matrix2[0])):\n",
        "            element = 0\n",
        "            for k in range(len(matrix2)):\n",
        "                element += matrix1[i][k] * matrix2[k][j]\n",
        "            row.append(element)\n",
        "        result.append(row)\n",
        "\n",
        "    return result\n",
        "\n",
        "# Example usage:\n",
        "matrix1 = [[1, 2, 3],\n",
        "           [4, 5, 6]]\n",
        "\n",
        "matrix2 = [[7, 8],\n",
        "           [9, 10],\n",
        "           [11, 12]]\n",
        "\n",
        "result = multiply_matrices(matrix1, matrix2)\n",
        "for row in result:\n",
        "    print(row)\n"
      ],
      "metadata": {
        "colab": {
          "base_uri": "https://localhost:8080/"
        },
        "id": "Cbmr-acOzTAb",
        "outputId": "629714c2-f2b0-44c6-e601-96791f3584de"
      },
      "execution_count": 2,
      "outputs": [
        {
          "output_type": "stream",
          "name": "stdout",
          "text": [
            "[58, 64]\n",
            "[139, 154]\n"
          ]
        }
      ]
    },
    {
      "cell_type": "code",
      "source": [],
      "metadata": {
        "id": "0A-Fhup3zVB8"
      },
      "execution_count": null,
      "outputs": []
    },
    {
      "cell_type": "markdown",
      "source": [
        "#3. Write a Python Program to Transpose a Matrix?"
      ],
      "metadata": {
        "id": "7phqqJtSzZCU"
      }
    },
    {
      "cell_type": "code",
      "source": [
        "def transpose_matrix(matrix):\n",
        "    num_rows = len(matrix)\n",
        "    num_cols = len(matrix[0])\n",
        "\n",
        "    transposed = []\n",
        "    for j in range(num_cols):\n",
        "        row = []\n",
        "        for i in range(num_rows):\n",
        "            row.append(matrix[i][j])\n",
        "        transposed.append(row)\n",
        "\n",
        "    return transposed\n",
        "\n",
        "# Example usage:\n",
        "matrix = [[1, 2, 3],\n",
        "          [4, 5, 6],\n",
        "          [7, 8, 9]]\n",
        "\n",
        "transposed_matrix = transpose_matrix(matrix)\n",
        "for row in transposed_matrix:\n",
        "    print(row)\n"
      ],
      "metadata": {
        "colab": {
          "base_uri": "https://localhost:8080/"
        },
        "id": "lixxGms9zZ4m",
        "outputId": "200d5db1-511c-4fd8-a6ff-ce454289cfa2"
      },
      "execution_count": 3,
      "outputs": [
        {
          "output_type": "stream",
          "name": "stdout",
          "text": [
            "[1, 4, 7]\n",
            "[2, 5, 8]\n",
            "[3, 6, 9]\n"
          ]
        }
      ]
    },
    {
      "cell_type": "code",
      "source": [],
      "metadata": {
        "id": "PPB9aL8SzcD0"
      },
      "execution_count": null,
      "outputs": []
    },
    {
      "cell_type": "markdown",
      "source": [
        "#4. Write a Python Program to Sort Words in Alphabetic Order?"
      ],
      "metadata": {
        "id": "qpDle-_3zegM"
      }
    },
    {
      "cell_type": "code",
      "source": [
        "def sort_words(words):\n",
        "    sorted_words = sorted(words)\n",
        "    return sorted_words\n",
        "\n",
        "# Example usage:\n",
        "word_list = ['apple', 'banana', 'cherry', 'date', 'elderberry']\n",
        "\n",
        "sorted_words = sort_words(word_list)\n",
        "for word in sorted_words:\n",
        "    print(word)\n"
      ],
      "metadata": {
        "colab": {
          "base_uri": "https://localhost:8080/"
        },
        "id": "Uqmr3CJdzfSU",
        "outputId": "fa915be1-edb8-463a-c83c-85e5fa4091b0"
      },
      "execution_count": 4,
      "outputs": [
        {
          "output_type": "stream",
          "name": "stdout",
          "text": [
            "apple\n",
            "banana\n",
            "cherry\n",
            "date\n",
            "elderberry\n"
          ]
        }
      ]
    },
    {
      "cell_type": "code",
      "source": [],
      "metadata": {
        "id": "fqpV5tZrzhYN"
      },
      "execution_count": null,
      "outputs": []
    },
    {
      "cell_type": "markdown",
      "source": [
        "#5. Write a Python Program to Remove Punctuation From a String?"
      ],
      "metadata": {
        "id": "vlnbZtGqzk0M"
      }
    },
    {
      "cell_type": "code",
      "source": [
        "import string\n",
        "\n",
        "def remove_punctuation(input_string):\n",
        "    # Create a translation table mapping punctuation characters to None\n",
        "    translator = str.maketrans('', '', string.punctuation)\n",
        "\n",
        "    # Remove punctuation using the translation table\n",
        "    no_punct_string = input_string.translate(translator)\n",
        "\n",
        "    return no_punct_string\n",
        "\n",
        "# Example usage:\n",
        "string_with_punct = \"Hello, world! How are you today?\"\n",
        "\n",
        "no_punct_string = remove_punctuation(string_with_punct)\n",
        "print(no_punct_string)\n"
      ],
      "metadata": {
        "colab": {
          "base_uri": "https://localhost:8080/"
        },
        "id": "qsHTYcFjzlv0",
        "outputId": "dc5d53f9-6c69-477f-f382-641f4654fe7e"
      },
      "execution_count": 5,
      "outputs": [
        {
          "output_type": "stream",
          "name": "stdout",
          "text": [
            "Hello world How are you today\n"
          ]
        }
      ]
    },
    {
      "cell_type": "code",
      "source": [],
      "metadata": {
        "id": "R6nitg1yzn2E"
      },
      "execution_count": null,
      "outputs": []
    }
  ]
}