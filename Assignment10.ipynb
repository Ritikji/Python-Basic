{
  "nbformat": 4,
  "nbformat_minor": 0,
  "metadata": {
    "colab": {
      "provenance": []
    },
    "kernelspec": {
      "name": "python3",
      "display_name": "Python 3"
    },
    "language_info": {
      "name": "python"
    }
  },
  "cells": [
    {
      "cell_type": "markdown",
      "source": [
        "**1. How do you distinguish between shutil.copy() and shutil.copytree()?**"
      ],
      "metadata": {
        "id": "stxaBrBRy2re"
      }
    },
    {
      "cell_type": "markdown",
      "source": [
        "Ans-In Python's shutil module, the functions shutil.copy() and shutil.copytree() are used for different purposes related to file and directory copying. Here's how you can distinguish between them:\n",
        "\n",
        "shutil.copy(src, dst):\n",
        "The shutil.copy() function is used to copy a single file from a source path (src) to a destination path (dst). It copies the file content along with its permissions and metadata to the destination. If the destination file already exists, it will be overwritten."
      ],
      "metadata": {
        "id": "RsBnVrMIy76C"
      }
    },
    {
      "cell_type": "code",
      "execution_count": 2,
      "metadata": {
        "id": "OOd0QA73ySZv"
      },
      "outputs": [],
      "source": [
        "#example\n",
        "import shutil\n",
        "\n",
        "#src_file = 'path/to/source/file.txt'\n",
        "#dst_file = 'path/to/destination/file.txt'\n",
        "#shutil.copy(src_file, dst_file)\n"
      ]
    },
    {
      "cell_type": "markdown",
      "source": [
        "shutil.copytree(src, dst):\n",
        "The shutil.copytree() function is used to recursively copy an entire directory tree from a source directory (src) to a destination directory (dst). It replicates the directory structure, along with all files and subdirectories, to the destination location. If the destination directory already exists, it raises an error."
      ],
      "metadata": {
        "id": "wYrmLl6kzKxw"
      }
    },
    {
      "cell_type": "code",
      "source": [
        "#example\n",
        "#import shutil\n",
        "\n",
        "#src_dir = 'path/to/source/directory'\n",
        "#dst_dir = 'path/to/destination/directory'\n",
        "#shutil.copytree(src_dir, dst_dir)\n",
        "\n",
        "#"
      ],
      "metadata": {
        "id": "xxtaUQZAzGHT"
      },
      "execution_count": 3,
      "outputs": []
    },
    {
      "cell_type": "markdown",
      "source": [
        "To summarize:\n",
        "\n",
        "shutil.copy() is used to copy a single file from source to destination.\n",
        "shutil.copytree() is used to recursively copy an entire directory tree from source to destination.\n",
        "It's important to handle these functions with caution and ensure that the source and destination paths are correct to avoid unintended consequences like overwriting existing files or copying large directory structures unnecessarily."
      ],
      "metadata": {
        "id": "0IpGM1JmzamD"
      }
    },
    {
      "cell_type": "markdown",
      "source": [
        "**2. What function is used to rename files??**"
      ],
      "metadata": {
        "id": "CijC2ULJzetu"
      }
    },
    {
      "cell_type": "markdown",
      "source": [
        "Ans-In Python, the os.rename() function is used to rename files. It is part of the os module and allows you to rename files or directories by providing the current name and the desired new name.\n"
      ],
      "metadata": {
        "id": "91Fr6qAvzhyl"
      }
    },
    {
      "cell_type": "code",
      "source": [
        "#Here's an example of how to use os.rename() to rename a file:\n",
        "import os\n",
        "\n",
        "#current_name = 'old_file.txt'\n",
        "#new_name = 'new_file.txt'\n",
        "\n",
        "#os.rename(current_name, new_name)\n"
      ],
      "metadata": {
        "id": "3lK5f_W1zTYG"
      },
      "execution_count": 5,
      "outputs": []
    },
    {
      "cell_type": "markdown",
      "source": [
        "In this example, the file 'old_file.txt' is renamed to 'new_file.txt' using os.rename(). The function takes the current name of the file as the first argument (current_name) and the desired new name as the second argument (new_name).\n",
        "\n",
        "It's important to note that os.rename() only works for renaming files within the same directory. If you need to move a file to a different directory while renaming it, you can use shutil.move() from the shutil module.\n",
        "\n",
        "Also, be cautious when using os.rename(), as it can overwrite existing files if the new name conflicts with an existing file in the same location."
      ],
      "metadata": {
        "id": "x4ketnZAzxDW"
      }
    },
    {
      "cell_type": "markdown",
      "source": [
        "**3. What is the difference between the delete functions in the send2trash and shutil modules?**"
      ],
      "metadata": {
        "id": "hc1b30x3z-cU"
      }
    },
    {
      "cell_type": "markdown",
      "source": [
        "Ans-The send2trash and shutil modules in Python provide different functions for deleting files or directories. Here's the difference between their delete functions:\n",
        "\n",
        "send2trash module:\n",
        "The send2trash module provides a send2trash() function that moves files or directories to the operating system's trash or recycle bin instead of permanently deleting them. This allows for a safer way of deleting files, as they can be easily restored from the trash if needed. The function moves the specified file or directory to the trash, but it does not provide a way to recover the items programmatically."
      ],
      "metadata": {
        "id": "75sqFOis0DlD"
      }
    },
    {
      "cell_type": "code",
      "source": [
        "#example\n",
        "#from send2trash import send2trash\n",
        "\n",
        "#file_path = 'path/to/file.txt'\n",
        "#send2trash(file_path)\n"
      ],
      "metadata": {
        "id": "ADbNhUl5zng3"
      },
      "execution_count": 6,
      "outputs": []
    },
    {
      "cell_type": "markdown",
      "source": [
        "shutil module:\n",
        "The shutil module provides a shutil.rmtree() function to delete directories and a os.remove() function to delete files. These functions delete files or directories permanently without moving them to the trash. Once deleted, the files or directories cannot be easily restored, and their deletion is irreversible./\n"
      ],
      "metadata": {
        "id": "gmY86cOK0Mim"
      }
    },
    {
      "cell_type": "code",
      "source": [
        "#example\n",
        "import os\n",
        "import shutil\n",
        "\n",
        "#file_path = 'path/to/file.txt'\n",
        "#directory_path = 'path/to/directory'\n",
        "\n",
        "#os.remove(file_path)  # Delete a file\n",
        "#shutil.rmtree(directory_path)  # Delete a directory\n"
      ],
      "metadata": {
        "id": "fRvW2DeW0JB4"
      },
      "execution_count": 7,
      "outputs": []
    },
    {
      "cell_type": "markdown",
      "source": [
        "**4.ZipFile objects have a close() method just like File objects’ close() method. What ZipFile method is\n",
        "equivalent to File objects’ open() method?**"
      ],
      "metadata": {
        "id": "j8S1h0Ws0ihz"
      }
    },
    {
      "cell_type": "markdown",
      "source": [
        "Ans-The equivalent method in ZipFile objects to the open() method in File objects is the ZipFile() constructor itself.\n",
        "\n",
        "In File objects, the open() method is used to open files for various operations, such as reading or writing. Similarly, in ZipFile objects, the ZipFile() constructor is used to open and work with ZIP archive files.\n",
        "\n",
        "To open a ZIP archive file, you can use the ZipFile() constructor and provide the path to the ZIP file as the argument. It returns a ZipFile object that you can use to perform operations on the ZIP archive."
      ],
      "metadata": {
        "id": "3mHe24bf0lsD"
      }
    },
    {
      "cell_type": "code",
      "source": [
        "#example\n",
        "import zipfile\n",
        "\n",
        "#zip_path = 'path/to/archive.zip'\n",
        "\n",
        "# Open the ZIP file using ZipFile constructor\n",
        "#zip_file = zipfile.ZipFile(zip_path)\n",
        "\n",
        "# Perform operations on the ZipFile object\n",
        "#file_list = zip_file.namelist()\n",
        "#extracted_file = zip_file.extract('file.txt')\n",
        "\n",
        "# Close the ZipFile object\n",
        "#zip_file.close()\n"
      ],
      "metadata": {
        "id": "o-ZEs3b-0eAD"
      },
      "execution_count": 8,
      "outputs": []
    },
    {
      "cell_type": "markdown",
      "source": [
        "**5. Create a programme that searches a folder tree for files with a certain file extension (such as .pdf\n",
        "or .jpg). Copy these files from whatever location they are in to a new folder.**"
      ],
      "metadata": {
        "id": "ttf1azjO02yF"
      }
    },
    {
      "cell_type": "code",
      "source": [
        "#example\n",
        "import os\n",
        "import shutil\n",
        "\n",
        "def search_and_copy_files(source_folder, target_folder, file_extension):\n",
        "    # Create the target folder if it doesn't exist\n",
        "    if not os.path.exists(target_folder):\n",
        "        os.makedirs(target_folder)\n",
        "\n",
        "    # Traverse the folder tree and copy files with the specified extension\n",
        "    for foldername, subfolders, filenames in os.walk(source_folder):\n",
        "        for filename in filenames:\n",
        "            if filename.endswith(file_extension):\n",
        "                source_path = os.path.join(foldername, filename)\n",
        "                target_path = os.path.join(target_folder, filename)\n",
        "                shutil.copy2(source_path, target_path)\n",
        "                print(f\"Copied: {source_path} --> {target_path}\")\n",
        "\n",
        "# Specify the source folder, target folder, and file extension\n",
        "source_folder = 'path/to/source/folder'\n",
        "target_folder = 'path/to/target/folder'\n",
        "file_extension = '.pdf'  # Change this to the desired file extension\n",
        "\n",
        "# Call the function to search and copy files\n",
        "search_and_copy_files(source_folder, target_folder, file_extension)\n"
      ],
      "metadata": {
        "id": "tJgEZYYx0uKO"
      },
      "execution_count": 9,
      "outputs": []
    },
    {
      "cell_type": "code",
      "source": [],
      "metadata": {
        "id": "d_mNNTla1C76"
      },
      "execution_count": null,
      "outputs": []
    }
  ]
}