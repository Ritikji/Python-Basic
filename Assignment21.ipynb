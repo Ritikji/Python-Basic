{
  "nbformat": 4,
  "nbformat_minor": 0,
  "metadata": {
    "colab": {
      "provenance": []
    },
    "kernelspec": {
      "name": "python3",
      "display_name": "Python 3"
    },
    "language_info": {
      "name": "python"
    }
  },
  "cells": [
    {
      "cell_type": "markdown",
      "source": [
        "**1. Add the current date to the text file today.txt as a string.**"
      ],
      "metadata": {
        "id": "yUBZIn5ma4NN"
      }
    },
    {
      "cell_type": "code",
      "execution_count": 1,
      "metadata": {
        "id": "OBufCLEPafjG"
      },
      "outputs": [],
      "source": [
        "import datetime\n",
        "\n",
        "# Get the current date\n",
        "current_date = datetime.datetime.now().strftime(\"%Y-%m-%d\")\n",
        "\n",
        "# Open the file in append mode and write the current date\n",
        "with open(\"today.txt\", \"a\") as file:\n",
        "    file.write(current_date + \"\\n\")\n"
      ]
    },
    {
      "cell_type": "markdown",
      "source": [
        "**2. Read the text file today.txt into the string today_string**"
      ],
      "metadata": {
        "id": "hklP7PgIbN6x"
      }
    },
    {
      "cell_type": "code",
      "source": [
        "# Read the contents of the file into a string\n",
        "with open(\"today.txt\", \"r\") as file:\n",
        "    today_string = file.read()\n",
        "\n",
        "# Print the contents of the string\n",
        "print(today_string)\n"
      ],
      "metadata": {
        "colab": {
          "base_uri": "https://localhost:8080/"
        },
        "id": "U03BqwUebELa",
        "outputId": "d3e8977e-ab0f-41fa-d324-d076f3d6633a"
      },
      "execution_count": 2,
      "outputs": [
        {
          "output_type": "stream",
          "name": "stdout",
          "text": [
            "2023-06-07\n",
            "\n"
          ]
        }
      ]
    },
    {
      "cell_type": "markdown",
      "source": [
        "**3. Parse the date from today_string.**"
      ],
      "metadata": {
        "id": "LQ9VLJ9DbW3R"
      }
    },
    {
      "cell_type": "code",
      "source": [
        "import datetime\n",
        "\n",
        "# Parse the date from today_string\n",
        "parsed_date = datetime.datetime.strptime(today_string.strip(), \"%Y-%m-%d\")\n",
        "\n",
        "# Print the parsed date\n",
        "print(parsed_date)\n"
      ],
      "metadata": {
        "colab": {
          "base_uri": "https://localhost:8080/"
        },
        "id": "-L4RxZyAbUD5",
        "outputId": "121122f0-27ce-483f-af4c-db0a5e7d6894"
      },
      "execution_count": 3,
      "outputs": [
        {
          "output_type": "stream",
          "name": "stdout",
          "text": [
            "2023-06-07 00:00:00\n"
          ]
        }
      ]
    },
    {
      "cell_type": "markdown",
      "source": [
        "**4. List the files in your current directory**"
      ],
      "metadata": {
        "id": "yuaAl0k2bc0J"
      }
    },
    {
      "cell_type": "code",
      "source": [
        "import os\n",
        "\n",
        "# Get the current directory\n",
        "current_directory = os.getcwd()\n",
        "\n",
        "# List files in the current directory\n",
        "file_list = os.listdir(current_directory)\n",
        "\n",
        "# Print the file names\n",
        "for file_name in file_list:\n",
        "    print(file_name)\n"
      ],
      "metadata": {
        "colab": {
          "base_uri": "https://localhost:8080/"
        },
        "id": "sUYWTrumbZxZ",
        "outputId": "88538ce8-7734-47b9-b287-a708885ec75a"
      },
      "execution_count": 4,
      "outputs": [
        {
          "output_type": "stream",
          "name": "stdout",
          "text": [
            ".config\n",
            "today.txt\n",
            "sample_data\n"
          ]
        }
      ]
    },
    {
      "cell_type": "markdown",
      "source": [
        "**5. Create a list of all of the files in your parent directory (minimum five files should be available).**"
      ],
      "metadata": {
        "id": "XKrjQlf9bi0g"
      }
    },
    {
      "cell_type": "code",
      "source": [
        "import os\n",
        "\n",
        "# Get the parent directory\n",
        "parent_directory = os.path.dirname(os.getcwd())\n",
        "\n",
        "# List files in the parent directory\n",
        "file_list = os.listdir(parent_directory)\n",
        "\n",
        "# Filter out directories from the file list\n",
        "file_list = [file_name for file_name in file_list if os.path.isfile(os.path.join(parent_directory, file_name))]\n",
        "\n",
        "# Print the file names\n",
        "for file_name in file_list:\n",
        "    print(file_name)\n"
      ],
      "metadata": {
        "colab": {
          "base_uri": "https://localhost:8080/"
        },
        "id": "jOMIfKBBbfrw",
        "outputId": "79afb519-e17e-4e22-9d60-c1f54dc78d7f"
      },
      "execution_count": 5,
      "outputs": [
        {
          "output_type": "stream",
          "name": "stdout",
          "text": [
            ".dockerenv\n",
            "NGC-DL-CONTAINER-LICENSE\n"
          ]
        }
      ]
    },
    {
      "cell_type": "markdown",
      "source": [
        "**6. Use multiprocessing to create three separate processes. Make each one wait a random number of\n",
        "seconds between one and five, print the current time, and then exit.**"
      ],
      "metadata": {
        "id": "60W3QUWxbq1w"
      }
    },
    {
      "cell_type": "code",
      "source": [
        "import multiprocessing\n",
        "import time\n",
        "import random\n",
        "from datetime import datetime\n",
        "\n",
        "def process_func():\n",
        "    wait_time = random.randint(1, 5)  # Generate random wait time between 1 and 5 seconds\n",
        "    time.sleep(wait_time)  # Wait for the specified time\n",
        "    current_time = datetime.now().strftime(\"%Y-%m-%d %H:%M:%S\")  # Get current time\n",
        "    print(f\"Process ID: {multiprocessing.current_process().pid}, Current Time: {current_time}\")\n",
        "\n",
        "if __name__ == \"__main__\":\n",
        "    processes = []\n",
        "    for _ in range(3):\n",
        "        process = multiprocessing.Process(target=process_func)\n",
        "        process.start()\n",
        "        processes.append(process)\n",
        "\n",
        "    for process in processes:\n",
        "        process.join()\n"
      ],
      "metadata": {
        "colab": {
          "base_uri": "https://localhost:8080/"
        },
        "id": "UwBRwa3Bbn8B",
        "outputId": "e775e8cf-0d61-488e-b3a3-306825de7453"
      },
      "execution_count": 6,
      "outputs": [
        {
          "output_type": "stream",
          "name": "stdout",
          "text": [
            "Process ID: 888, Current Time: 2023-06-07 19:56:47\n",
            "Process ID: 890, Current Time: 2023-06-07 19:56:49\n",
            "Process ID: 889, Current Time: 2023-06-07 19:56:50\n"
          ]
        }
      ]
    },
    {
      "cell_type": "markdown",
      "source": [
        "**7. Create a date object of your day of birth.**"
      ],
      "metadata": {
        "id": "XbXDnXqrbwqe"
      }
    },
    {
      "cell_type": "code",
      "source": [
        "import datetime\n",
        "\n",
        "# Create a date object for the day of birth\n",
        "birthday = datetime.date(2000, 7, 6)\n",
        "\n",
        "# Print the date object\n",
        "print(birthday)\n"
      ],
      "metadata": {
        "colab": {
          "base_uri": "https://localhost:8080/"
        },
        "id": "ap51iiStbtrh",
        "outputId": "762520a3-3f6e-4b5b-b97a-aa451a97bfe0"
      },
      "execution_count": 9,
      "outputs": [
        {
          "output_type": "stream",
          "name": "stdout",
          "text": [
            "2000-07-06\n"
          ]
        }
      ]
    },
    {
      "cell_type": "markdown",
      "source": [
        "**8. What day of the week was your day of birth?**"
      ],
      "metadata": {
        "id": "CUy0RKy3b10B"
      }
    },
    {
      "cell_type": "code",
      "source": [
        "import datetime\n",
        "\n",
        "# Create a date object for the day of birth\n",
        "birthday = datetime.date(2000, 7, 6)\n",
        "\n",
        "# Determine the day of the week\n",
        "day_of_week = birthday.strftime(\"%A\")\n",
        "\n",
        "# Print the day of the week\n",
        "print(day_of_week)\n"
      ],
      "metadata": {
        "colab": {
          "base_uri": "https://localhost:8080/"
        },
        "id": "eEFp4rsBbzCx",
        "outputId": "b69e52c4-f1ae-4fae-a501-40c0fdea4496"
      },
      "execution_count": 10,
      "outputs": [
        {
          "output_type": "stream",
          "name": "stdout",
          "text": [
            "Thursday\n"
          ]
        }
      ]
    },
    {
      "cell_type": "markdown",
      "source": [
        "**9. When will you be (or when were you) 10,000 days old?**"
      ],
      "metadata": {
        "id": "VwudpKNmcI8B"
      }
    },
    {
      "cell_type": "code",
      "source": [
        "import datetime\n",
        "\n",
        "# Calculate the date when someone will be/was 10,000 days old\n",
        "birth_date = datetime.date(2000, 7, 6)  # Replace with the actual birth date\n",
        "delta = datetime.timedelta(days=10000)\n",
        "target_date = birth_date + delta\n",
        "\n",
        "# Print the target date\n",
        "print(target_date)\n"
      ],
      "metadata": {
        "colab": {
          "base_uri": "https://localhost:8080/"
        },
        "id": "sE2Bf34vcEZp",
        "outputId": "ad52e2a3-2192-44c0-b777-202bd74ada56"
      },
      "execution_count": 11,
      "outputs": [
        {
          "output_type": "stream",
          "name": "stdout",
          "text": [
            "2027-11-22\n"
          ]
        }
      ]
    },
    {
      "cell_type": "code",
      "source": [],
      "metadata": {
        "id": "BCXNci9PcUTJ"
      },
      "execution_count": null,
      "outputs": []
    }
  ]
}