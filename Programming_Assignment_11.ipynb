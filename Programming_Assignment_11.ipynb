{
  "nbformat": 4,
  "nbformat_minor": 0,
  "metadata": {
    "colab": {
      "provenance": []
    },
    "kernelspec": {
      "name": "python3",
      "display_name": "Python 3"
    },
    "language_info": {
      "name": "python"
    }
  },
  "cells": [
    {
      "cell_type": "markdown",
      "source": [
        "#1. Write a Python program to find words which are greater than given length k?"
      ],
      "metadata": {
        "id": "yiDj9nQxWiYF"
      }
    },
    {
      "cell_type": "code",
      "execution_count": 1,
      "metadata": {
        "colab": {
          "base_uri": "https://localhost:8080/"
        },
        "id": "6ADNDnAMWeoJ",
        "outputId": "3c1f7d8f-b513-4890-c605-d6a5e84cd042"
      },
      "outputs": [
        {
          "output_type": "stream",
          "name": "stdout",
          "text": [
            "Words greater than 4 characters: ['quick', 'brown', 'jumps']\n"
          ]
        }
      ],
      "source": [
        "def find_words_greater_than(sentence, k):\n",
        "    words = sentence.split()\n",
        "    result = []\n",
        "    for word in words:\n",
        "        if len(word) > k:\n",
        "            result.append(word)\n",
        "    return result\n",
        "\n",
        "# Example usage:\n",
        "input_sentence = \"The quick brown fox jumps over the lazy dog\"\n",
        "length_k = 4\n",
        "words_greater_than_k = find_words_greater_than(input_sentence, length_k)\n",
        "print(f\"Words greater than {length_k} characters: {words_greater_than_k}\")\n"
      ]
    },
    {
      "cell_type": "code",
      "source": [],
      "metadata": {
        "id": "yAqqoSoZWm99"
      },
      "execution_count": null,
      "outputs": []
    },
    {
      "cell_type": "markdown",
      "source": [
        "#2. Write a Python program for removing i-th character from a string?"
      ],
      "metadata": {
        "id": "Yn7bq0KfWsAa"
      }
    },
    {
      "cell_type": "code",
      "source": [
        "def remove_ith_character(string, i):\n",
        "    if i < 0 or i >= len(string):\n",
        "        print(\"Invalid index.\")\n",
        "        return string\n",
        "    else:\n",
        "        new_string = string[:i] + string[i+1:]\n",
        "        return new_string\n",
        "\n",
        "# Example usage:\n",
        "input_string = \"Hello, World!\"\n",
        "index_to_remove = 7\n",
        "new_string = remove_ith_character(input_string, index_to_remove)\n",
        "print(\"String after removing the character:\", new_string)\n"
      ],
      "metadata": {
        "colab": {
          "base_uri": "https://localhost:8080/"
        },
        "id": "E46bxp1-WtHy",
        "outputId": "5da9abf6-78d1-48e5-8a9a-fd7289d98ce2"
      },
      "execution_count": 2,
      "outputs": [
        {
          "output_type": "stream",
          "name": "stdout",
          "text": [
            "String after removing the character: Hello, orld!\n"
          ]
        }
      ]
    },
    {
      "cell_type": "code",
      "source": [],
      "metadata": {
        "id": "HX0I0tIPWvWh"
      },
      "execution_count": null,
      "outputs": []
    },
    {
      "cell_type": "markdown",
      "source": [
        "#3. Write a Python program to split and join a string?"
      ],
      "metadata": {
        "id": "aTFPqU41Wyw7"
      }
    },
    {
      "cell_type": "code",
      "source": [
        "def split_and_join(string, delimiter):\n",
        "    split_list = string.split(delimiter)\n",
        "    joined_string = \" \".join(split_list)\n",
        "    return joined_string\n",
        "\n",
        "# Example usage:\n",
        "input_string = \"Hello, World!\"\n",
        "delimiter = \",\"\n",
        "split_and_joined_string = split_and_join(input_string, delimiter)\n",
        "print(\"String after splitting and joining:\", split_and_joined_string)\n"
      ],
      "metadata": {
        "colab": {
          "base_uri": "https://localhost:8080/"
        },
        "id": "NY8Xac5UWzma",
        "outputId": "ecfe711e-e8a5-4a63-8c36-80e510d9e4e7"
      },
      "execution_count": 3,
      "outputs": [
        {
          "output_type": "stream",
          "name": "stdout",
          "text": [
            "String after splitting and joining: Hello  World!\n"
          ]
        }
      ]
    },
    {
      "cell_type": "code",
      "source": [],
      "metadata": {
        "id": "t63pj40RW1hy"
      },
      "execution_count": null,
      "outputs": []
    },
    {
      "cell_type": "markdown",
      "source": [
        "#4. Write a Python to check if a given string is binary string or not?"
      ],
      "metadata": {
        "id": "mg7AznY-W5Vy"
      }
    },
    {
      "cell_type": "code",
      "source": [
        "def is_binary_string(string):\n",
        "    for char in string:\n",
        "        if char != '0' and char != '1':\n",
        "            return False\n",
        "    return True\n",
        "\n",
        "# Example usage:\n",
        "input_string = \"101010\"\n",
        "is_binary = is_binary_string(input_string)\n",
        "if is_binary:\n",
        "    print(\"The string is a binary string.\")\n",
        "else:\n",
        "    print(\"The string is not a binary string.\")\n"
      ],
      "metadata": {
        "colab": {
          "base_uri": "https://localhost:8080/"
        },
        "id": "pcoqtXV9W6gJ",
        "outputId": "442ad15f-7d62-4f58-e5e5-482e347cc65b"
      },
      "execution_count": 4,
      "outputs": [
        {
          "output_type": "stream",
          "name": "stdout",
          "text": [
            "The string is a binary string.\n"
          ]
        }
      ]
    },
    {
      "cell_type": "code",
      "source": [],
      "metadata": {
        "id": "x4yamKpsW8fy"
      },
      "execution_count": null,
      "outputs": []
    },
    {
      "cell_type": "markdown",
      "source": [
        "#5. Write a Python program to find uncommon words from two Strings?"
      ],
      "metadata": {
        "id": "1TYc_4YNXVsZ"
      }
    },
    {
      "cell_type": "code",
      "source": [
        "def find_uncommon_words(string1, string2):\n",
        "    words1 = string1.split()\n",
        "    words2 = string2.split()\n",
        "\n",
        "    uncommon_words = []\n",
        "\n",
        "    for word in words1:\n",
        "        if word not in words2:\n",
        "            uncommon_words.append(word)\n",
        "\n",
        "    for word in words2:\n",
        "        if word not in words1 and word not in uncommon_words:\n",
        "            uncommon_words.append(word)\n",
        "\n",
        "    return uncommon_words\n",
        "\n",
        "# Example usage:\n",
        "string1 = \"Hello world, how are you?\"\n",
        "string2 = \"I am doing well, thank you!\"\n",
        "uncommon_words = find_uncommon_words(string1, string2)\n",
        "print(\"Uncommon words:\", uncommon_words)\n"
      ],
      "metadata": {
        "colab": {
          "base_uri": "https://localhost:8080/"
        },
        "id": "QUoE0zgAXWnq",
        "outputId": "ae87176a-b2c2-442a-a938-d6dc0982416f"
      },
      "execution_count": 5,
      "outputs": [
        {
          "output_type": "stream",
          "name": "stdout",
          "text": [
            "Uncommon words: ['Hello', 'world,', 'how', 'are', 'you?', 'I', 'am', 'doing', 'well,', 'thank', 'you!']\n"
          ]
        }
      ]
    },
    {
      "cell_type": "code",
      "source": [],
      "metadata": {
        "id": "zeGrqlwOXYYc"
      },
      "execution_count": null,
      "outputs": []
    },
    {
      "cell_type": "markdown",
      "source": [
        "#6. Write a Python to find all duplicate characters in string?"
      ],
      "metadata": {
        "id": "Xstj1P9qXiPJ"
      }
    },
    {
      "cell_type": "code",
      "source": [
        "def find_duplicate_characters(string):\n",
        "    duplicate_chars = []\n",
        "    for char in string:\n",
        "        if string.count(char) > 1 and char not in duplicate_chars:\n",
        "            duplicate_chars.append(char)\n",
        "    return duplicate_chars\n",
        "\n",
        "# Example usage:\n",
        "input_string = \"Hello, World!\"\n",
        "duplicate_chars = find_duplicate_characters(input_string)\n",
        "print(\"Duplicate characters:\", duplicate_chars)\n"
      ],
      "metadata": {
        "colab": {
          "base_uri": "https://localhost:8080/"
        },
        "id": "Rlov0ES3XjSR",
        "outputId": "eca7b917-6b73-4767-d263-1622875f641e"
      },
      "execution_count": 6,
      "outputs": [
        {
          "output_type": "stream",
          "name": "stdout",
          "text": [
            "Duplicate characters: ['l', 'o']\n"
          ]
        }
      ]
    },
    {
      "cell_type": "code",
      "source": [],
      "metadata": {
        "id": "6HYY9VADXlQZ"
      },
      "execution_count": null,
      "outputs": []
    },
    {
      "cell_type": "markdown",
      "source": [
        "#7. Write a Python Program to check if a string contains any special character?"
      ],
      "metadata": {
        "id": "8ECWFaWSXo4y"
      }
    },
    {
      "cell_type": "code",
      "source": [
        "import re\n",
        "\n",
        "def contains_special_character(string):\n",
        "    pattern = r'[^a-zA-Z0-9\\s]'  # Regex pattern to match any non-alphanumeric character except whitespace\n",
        "    match = re.search(pattern, string)\n",
        "    if match:\n",
        "        return True\n",
        "    else:\n",
        "        return False\n",
        "\n",
        "# Example usage:\n",
        "input_string = \"Hello, World!\"\n",
        "contains_special_char = contains_special_character(input_string)\n",
        "if contains_special_char:\n",
        "    print(\"The string contains special character(s).\")\n",
        "else:\n",
        "    print(\"The string does not contain any special character.\")\n"
      ],
      "metadata": {
        "colab": {
          "base_uri": "https://localhost:8080/"
        },
        "id": "XseJIbEGXpxZ",
        "outputId": "cfc34d20-9835-403f-faf4-cbd31eae5afd"
      },
      "execution_count": 7,
      "outputs": [
        {
          "output_type": "stream",
          "name": "stdout",
          "text": [
            "The string contains special character(s).\n"
          ]
        }
      ]
    },
    {
      "cell_type": "code",
      "source": [],
      "metadata": {
        "id": "fRuvkZLtXrrR"
      },
      "execution_count": null,
      "outputs": []
    }
  ]
}