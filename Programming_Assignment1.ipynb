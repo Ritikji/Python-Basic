{
  "nbformat": 4,
  "nbformat_minor": 0,
  "metadata": {
    "colab": {
      "provenance": []
    },
    "kernelspec": {
      "name": "python3",
      "display_name": "Python 3"
    },
    "language_info": {
      "name": "python"
    }
  },
  "cells": [
    {
      "cell_type": "markdown",
      "source": [
        "**1. Write a Python program to print &quot;Hello Python&quot;?**"
      ],
      "metadata": {
        "id": "jbNOM1H56OQx"
      }
    },
    {
      "cell_type": "code",
      "execution_count": 1,
      "metadata": {
        "colab": {
          "base_uri": "https://localhost:8080/"
        },
        "id": "M1lan29o6JrF",
        "outputId": "dcad792a-7d9d-4991-e948-78ca1906e284"
      },
      "outputs": [
        {
          "output_type": "stream",
          "name": "stdout",
          "text": [
            "hello Python\n"
          ]
        }
      ],
      "source": [
        "print(\"hello Python\")"
      ]
    },
    {
      "cell_type": "markdown",
      "source": [
        "**2. Write a Python program to do arithmetical operations addition and division.?**"
      ],
      "metadata": {
        "id": "Mw35bVbB6gnA"
      }
    },
    {
      "cell_type": "code",
      "source": [
        "def add(a,b):\n",
        "  return a+b\n",
        "\n",
        "def divide(a,b):\n",
        "    return a/b\n",
        "\n",
        "\n"
      ],
      "metadata": {
        "id": "gZ5qXIa16Vxr"
      },
      "execution_count": 5,
      "outputs": []
    },
    {
      "cell_type": "code",
      "source": [
        "#test the function\n",
        "a=10\n",
        "b=5\n",
        "Addition=add(a,b)\n",
        "print(f\"Addition is : {Addition}\")\n",
        "Division=divide(a,b)\n",
        "print(f\"Division is : {Division}\")"
      ],
      "metadata": {
        "colab": {
          "base_uri": "https://localhost:8080/"
        },
        "id": "iXzp2Sb79fWJ",
        "outputId": "0bdedcea-e7db-4d2e-ec75-49521239ef3c"
      },
      "execution_count": 11,
      "outputs": [
        {
          "output_type": "stream",
          "name": "stdout",
          "text": [
            "Addition is : 15\n",
            "Division is : 2.0\n"
          ]
        }
      ]
    },
    {
      "cell_type": "markdown",
      "source": [
        "**3. Write a Python program to find the area of a triangle?**"
      ],
      "metadata": {
        "id": "yOGPQCNsAypu"
      }
    },
    {
      "cell_type": "code",
      "source": [
        "def calculate_area_of_triangle(base,height):\n",
        "  area = (base*height)/2\n",
        "  return area"
      ],
      "metadata": {
        "id": "yjikB6gp_Xsf"
      },
      "execution_count": 12,
      "outputs": []
    },
    {
      "cell_type": "code",
      "source": [
        "base=12\n",
        "height=6\n",
        "triangle_area=calculate_area_of_triangle(base,height)\n",
        "print(f\"triangle_area is : {triangle_area}\")"
      ],
      "metadata": {
        "colab": {
          "base_uri": "https://localhost:8080/"
        },
        "id": "L3LkwCgiBRmn",
        "outputId": "e0e7fecc-d31c-4d53-a2e8-0233c2b4d4e7"
      },
      "execution_count": 14,
      "outputs": [
        {
          "output_type": "stream",
          "name": "stdout",
          "text": [
            "triangle_area is : 36.0\n"
          ]
        }
      ]
    },
    {
      "cell_type": "markdown",
      "source": [
        "**4. Write a Python program to swap two variables?**"
      ],
      "metadata": {
        "id": "skPl4ZcDB3LV"
      }
    },
    {
      "cell_type": "code",
      "source": [
        "def swap_variables(a, b):\n",
        "    temp = a\n",
        "    a = b\n",
        "    b = temp\n",
        "    return a, b\n",
        "\n",
        "\n"
      ],
      "metadata": {
        "id": "eTbSa7rNBwA1"
      },
      "execution_count": 15,
      "outputs": []
    },
    {
      "cell_type": "code",
      "source": [
        "# Example usage\n",
        "var1 = 10\n",
        "var2 = 5\n",
        "\n",
        "print(\"Before swapping: var1 =\", var1, \"and var2 =\", var2)\n",
        "\n",
        "var1, var2 = swap_variables(var1, var2)\n",
        "\n",
        "print(\"After swapping: var1 =\", var1, \"and var2 =\", var2)\n"
      ],
      "metadata": {
        "colab": {
          "base_uri": "https://localhost:8080/"
        },
        "id": "V9QAv0FOB9ef",
        "outputId": "f3a3707e-e442-4906-ca89-355ec96c3ae5"
      },
      "execution_count": 16,
      "outputs": [
        {
          "output_type": "stream",
          "name": "stdout",
          "text": [
            "Before swapping: var1 = 10 and var2 = 5\n",
            "After swapping: var1 = 5 and var2 = 10\n"
          ]
        }
      ]
    },
    {
      "cell_type": "markdown",
      "source": [
        "**5. Write a Python program to generate a random number?**"
      ],
      "metadata": {
        "id": "p7WVLIyhCaUW"
      }
    },
    {
      "cell_type": "code",
      "source": [
        "import random\n",
        "\n",
        "# Generate a random integer between a given range\n",
        "random_number = random.randint(1, 100)\n",
        "\n",
        "print(\"Random Number:\", random_number)\n"
      ],
      "metadata": {
        "colab": {
          "base_uri": "https://localhost:8080/"
        },
        "id": "G5iOiaRMCEg-",
        "outputId": "0c6a1b8d-d313-4047-ed02-b54a5f1c43d9"
      },
      "execution_count": 17,
      "outputs": [
        {
          "output_type": "stream",
          "name": "stdout",
          "text": [
            "Random Number: 97\n"
          ]
        }
      ]
    },
    {
      "cell_type": "code",
      "source": [],
      "metadata": {
        "id": "FWgGY9iaCfff"
      },
      "execution_count": null,
      "outputs": []
    }
  ]
}