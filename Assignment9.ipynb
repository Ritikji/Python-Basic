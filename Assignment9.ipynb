{
  "nbformat": 4,
  "nbformat_minor": 0,
  "metadata": {
    "colab": {
      "provenance": []
    },
    "kernelspec": {
      "name": "python3",
      "display_name": "Python 3"
    },
    "language_info": {
      "name": "python"
    }
  },
  "cells": [
    {
      "cell_type": "markdown",
      "source": [
        "**1. To what does a relative path refer?**"
      ],
      "metadata": {
        "id": "ua6nAoX2uakG"
      }
    },
    {
      "cell_type": "markdown",
      "source": [
        "Ans-A relative path refers to the location of a file or directory relative to the current working directory or the location of the file or directory you are referring to. It is a way to specify the path to a file or directory based on the current context.\n",
        "\n",
        "In simpler terms, a relative path describes the location of a file or directory in relation to the current location. For example, if you are currently in the \"Documents\" directory and want to refer to a file called \"example.txt\" located in a subdirectory called \"Files,\" the relative path would be \"Files/example.txt.\"\n",
        "\n",
        "Relative paths are often used when navigating through a file system or referencing files within a project. They are convenient because they do not require specifying the full path from the root directory; instead, they rely on the current context to determine the location."
      ],
      "metadata": {
        "id": "ufnxo5yGufZu"
      }
    },
    {
      "cell_type": "markdown",
      "source": [
        "**2. What does an absolute path start with your operating system?**"
      ],
      "metadata": {
        "id": "7UJw55Zquk_l"
      }
    },
    {
      "cell_type": "markdown",
      "source": [
        "Ans-The specific start of an absolute path depends on the operating system you are using. Here are the conventions for some common operating systems:\n",
        "\n",
        "Windows: An absolute path in Windows starts with a drive letter followed by a colon (\":\") and a backslash (\"\"). For example: \"C:\\path\\to\\file\".\n",
        "\n",
        "Unix-like systems (including Linux and macOS): An absolute path in Unix-like systems starts with a forward slash (\"/\"). \n",
        "\n",
        "It's important to note that these conventions may vary slightly depending on the specific operating system or file system being used. Additionally, there may be differences in path syntax and conventions for networked file systems or other specialized environments."
      ],
      "metadata": {
        "id": "7kBBQYsCuqKb"
      }
    },
    {
      "cell_type": "markdown",
      "source": [
        "**3. What do the functions os.getcwd() and os.chdir() do?**"
      ],
      "metadata": {
        "id": "salgNzEEuwGE"
      }
    },
    {
      "cell_type": "markdown",
      "source": [
        "Ans-The functions os.getcwd() and os.chdir() are part of the os module in Python, which provides various functions for interacting with the operating system.\n",
        "\n",
        "os.getcwd(): This function returns the current working directory (CWD) as a string. The current working directory is the directory in which the Python script is currently executing. When you run os.getcwd(), it will provide you with the absolute path to the current directory."
      ],
      "metadata": {
        "id": "odp_6KjVuzvc"
      }
    },
    {
      "cell_type": "code",
      "execution_count": 1,
      "metadata": {
        "colab": {
          "base_uri": "https://localhost:8080/"
        },
        "id": "ZolNImpWuX8w",
        "outputId": "f382df90-8be3-4d9a-cbec-fc728ea27d57"
      },
      "outputs": [
        {
          "output_type": "stream",
          "name": "stdout",
          "text": [
            "/content\n"
          ]
        }
      ],
      "source": [
        "#example\n",
        "import os\n",
        "current_directory = os.getcwd()\n",
        "print(current_directory)\n"
      ]
    },
    {
      "cell_type": "markdown",
      "source": [
        "os.chdir(path): This function changes the current working directory to the specified path. The path argument represents the new directory you want to switch to. It can be either an absolute path or a relative path."
      ],
      "metadata": {
        "id": "1XC1AgVau4oN"
      }
    },
    {
      "cell_type": "code",
      "source": [
        "#example\n",
        "import os\n",
        "#os.chdir(\"/path/to/new/directory\")\n"
      ],
      "metadata": {
        "id": "7DLIk-kMu29P"
      },
      "execution_count": 3,
      "outputs": []
    },
    {
      "cell_type": "markdown",
      "source": [
        "**4. What are the . and .. folders?**"
      ],
      "metadata": {
        "id": "OiZdI7pkvGOV"
      }
    },
    {
      "cell_type": "markdown",
      "source": [
        "Ans-\n",
        "In file systems, the . (dot) and .. (dot-dot) folders are special directory references used to represent relative paths.\n",
        "\n",
        ". (dot): The dot folder represents the current directory. It is often used to specify the current directory in file paths. For example, if you are in the directory /home/user/ and you want to refer to a file in that same directory, you can use ./file.txt or simply file.txt. The dot is essentially a shorthand notation for the current directory.\n",
        "\n",
        ".. (dot-dot): The dot-dot folder represents the parent directory. It is used to refer to the directory immediately above the current directory in the file system hierarchy. For example, if you are in the directory /home/user/ and you want to refer to a file in the parent directory /home/, you can use ../file.txt. The dot-dot allows you to navigate up one level in the directory structure.\n",
        "\n",
        "These special folder references are particularly useful when working with relative paths. They allow you to refer to files or directories relative to the current location or move up and down the directory hierarchy easily.\n",
        "\n",
        "\n",
        "\n",
        "\n"
      ],
      "metadata": {
        "id": "fjS4q0T0vJb0"
      }
    },
    {
      "cell_type": "markdown",
      "source": [
        "**5. In C:\\bacon\\eggs\\spam.txt, which part is the dir name, and which part is the base name?**"
      ],
      "metadata": {
        "id": "2Xp-eBjpvObV"
      }
    },
    {
      "cell_type": "markdown",
      "source": [
        "Ans-In the path C:\\bacon\\eggs\\spam.txt, the directory name and the base name can be identified as follows:\n",
        "\n",
        "Directory Name: C:\\bacon\\eggs\n",
        "The directory name refers to the path of the folder containing the file. In this case, the directory name is C:\\bacon\\eggs.\n",
        "\n",
        "Base Name: spam.txt\n",
        "The base name refers to the actual name of the file itself, without including the directory path. In this case, the base name is spam.txt.\n",
        "\n",
        "To summarize:\n",
        "\n",
        "Directory Name: C:\\bacon\\eggs\n",
        "Base Name: spam.txt\n",
        "Understanding the distinction between the directory name and the base name is helpful when working with file paths, as it allows you to extract and manipulate the different components of a path separately."
      ],
      "metadata": {
        "id": "MnK0FZbsvS9V"
      }
    },
    {
      "cell_type": "markdown",
      "source": [
        "**6. What are the three “mode” arguments that can be passed to the open() function?**"
      ],
      "metadata": {
        "id": "VrtObiIBvaEL"
      }
    },
    {
      "cell_type": "markdown",
      "source": [
        "Ans-The open() function in Python allows you to open files for various operations. It takes two arguments: the file name/path and the mode in which the file should be opened. The mode argument specifies the purpose or intention for opening the file. Here are three common mode arguments:\n",
        "\n",
        "'r' (Read Mode):\n",
        "This mode is used for reading files. It opens the file in read-only mode, allowing you to read the contents of the file. If the file does not exist, it raises a FileNotFoundError. This is the default mode when no mode argument is provided."
      ],
      "metadata": {
        "id": "cd-SPUVLvfEm"
      }
    },
    {
      "cell_type": "code",
      "source": [
        "#example\n",
        "#file = open('example.txt', 'r')\n"
      ],
      "metadata": {
        "id": "C29jGE4Mu8Ce"
      },
      "execution_count": 5,
      "outputs": []
    },
    {
      "cell_type": "markdown",
      "source": [
        "'w' (Write Mode):\n",
        "This mode is used for writing files. It opens the file for writing and truncates its contents if the file already exists. If the file doesn't exist, it creates a new file. If you want to append content to an existing file instead of overwriting it, you can use 'a' (Append Mode)."
      ],
      "metadata": {
        "id": "ELJBb_8IvnDM"
      }
    },
    {
      "cell_type": "code",
      "source": [
        "#file = open('example.txt', 'w')\n"
      ],
      "metadata": {
        "id": "rwCa3Ix8vi3R"
      },
      "execution_count": 6,
      "outputs": []
    },
    {
      "cell_type": "markdown",
      "source": [
        "'a' (Append Mode):\n",
        "This mode is used for appending content to an existing file. It opens the file for writing but does not truncate the existing content. If the file doesn't exist, it creates a new file."
      ],
      "metadata": {
        "id": "Y-KiWvrQvu01"
      }
    },
    {
      "cell_type": "code",
      "source": [
        "#file = open('example.txt', 'a')\n"
      ],
      "metadata": {
        "id": "S07jPjiVvr8G"
      },
      "execution_count": 7,
      "outputs": []
    },
    {
      "cell_type": "markdown",
      "source": [
        "It's important to note that after performing file operations, you should close the file using the close() method to free system resources. Alternatively, you can use the with statement, which automatically handles closing the file.\n",
        "\n",
        "These are just a few examples of the mode arguments that can be used with the open() function. Python's open() function supports additional modes and options, which you can explore in the official Python documentation."
      ],
      "metadata": {
        "id": "wEsXKyPJvzSO"
      }
    },
    {
      "cell_type": "markdown",
      "source": [
        "**7. What happens if an existing file is opened in write mode?**"
      ],
      "metadata": {
        "id": "olBhHz6ov78V"
      }
    },
    {
      "cell_type": "markdown",
      "source": [
        "Ans-\n",
        "If an existing file is opened in write mode ('w'), the following behavior occurs:\n",
        "\n",
        "If the file already exists:\n",
        "\n",
        "Opening the file in write mode will truncate the file, i.e., erase its current contents.\n",
        "The file pointer is positioned at the beginning of the file.\n",
        "If you write data to the file using the write() method or any other write operation, it will overwrite the previous content.\n",
        "If the write operation is successful, the file will contain only the newly written data.\n",
        "If the file does not exist:\n",
        "\n",
        "Opening the file in write mode will create a new file with the given name.\n",
        "The file pointer is positioned at the beginning of the newly created file.\n",
        "If you write data to the file using the write() method or any other write operation, the data will be written to the file.\n",
        "If the write operation is successful, the file will contain the written data.\n",
        "It's important to exercise caution when opening a file in write mode ('w'). Make sure to double-check the file you are opening and be aware that any existing content will be permanently erased.\n",
        "\n",
        "If you want to append content to an existing file without overwriting its current contents, you can use append mode ('a')."
      ],
      "metadata": {
        "id": "FpH-oI3UwBLl"
      }
    },
    {
      "cell_type": "markdown",
      "source": [
        "**8. How do you tell the difference between read() and readlines()?**"
      ],
      "metadata": {
        "id": "h2EDUrnuwG_F"
      }
    },
    {
      "cell_type": "markdown",
      "source": [
        "Ans-In Python, the read() and readlines() methods are used to read data from a file. Here's how you can differentiate between them:\n",
        "\n",
        "read(): The read() method reads the entire contents of a file as a single string. It reads from the current file position up to the end of the file or a specified number of characters if an argument is provided. The returned string includes newline characters ('\\n') that are present in the file."
      ],
      "metadata": {
        "id": "cKRYvIjEwLwO"
      }
    },
    {
      "cell_type": "code",
      "source": [
        "#example\n",
        "#file = open('example.txt', 'r')\n",
        "#content = file.read()  # Read the entire file content\n",
        "#print(content)\n",
        "#file.close()\n"
      ],
      "metadata": {
        "id": "ghwvb_mhvxas"
      },
      "execution_count": 8,
      "outputs": []
    },
    {
      "cell_type": "markdown",
      "source": [
        "readlines(): The readlines() method reads all the lines of a file and returns them as a list of strings. Each line is treated as a separate element in the list, including the newline character at the end of each line."
      ],
      "metadata": {
        "id": "-GbQDwhGwYAN"
      }
    },
    {
      "cell_type": "code",
      "source": [
        "#example\n",
        "#file = open('example.txt', 'r')\n",
        "#lines = file.readlines()  # Read all lines as a list\n",
        "#for line in lines:\n",
        "#    print(line)\n",
        "#file.close()\n"
      ],
      "metadata": {
        "id": "kZk9d0eiwVlr"
      },
      "execution_count": 9,
      "outputs": []
    },
    {
      "cell_type": "markdown",
      "source": [
        "**9. What data structure does a shelf value resemble?**"
      ],
      "metadata": {
        "id": "e232zi0wwiXo"
      }
    },
    {
      "cell_type": "markdown",
      "source": [
        "Ans-In Python, a shelf value, which is obtained by using the shelve module to create or access a shelf object, resembles a dictionary-like data structure.\n",
        "\n",
        "The shelve module provides a simple interface for creating and accessing persistent object storage using a dictionary-like interface. It allows you to store and retrieve Python objects in a file-like format. A shelf object acts as a persistent dictionary, where keys are strings and values can be any picklable object (objects that can be serialized using the pickle module).\n",
        "\n",
        "A shelf value, when accessed, provides a dictionary-like interface. You can use keys to access and modify the associated values. The data is stored and retrieved in a key-value format, similar to how a dictionary operates.\n",
        "\n"
      ],
      "metadata": {
        "id": "Ov3_pE5LwnzW"
      }
    },
    {
      "cell_type": "code",
      "source": [
        "#Here's an example of using the shelve module:\n",
        "import shelve\n",
        "\n",
        "# Creating a shelf and storing values\n",
        "shelf = shelve.open('data.db')\n",
        "shelf['key1'] = 'value1'\n",
        "shelf['key2'] = [1, 2, 3]\n",
        "\n",
        "# Accessing and modifying values\n",
        "value1 = shelf['key1']\n",
        "shelf['key2'].append(4)\n",
        "\n",
        "# Closing the shelf\n",
        "shelf.close()\n"
      ],
      "metadata": {
        "id": "_7f9u6AmwfKB"
      },
      "execution_count": 10,
      "outputs": []
    },
    {
      "cell_type": "markdown",
      "source": [
        "In this example, the shelf value shelf acts like a dictionary. You can access and modify values using keys, similar to how you would interact with a dictionary data structure.\n",
        "\n",
        "It's worth noting that while a shelf value resembles a dictionary, it is not an actual dictionary object. The shelve module uses underlying database implementations to provide persistence and other features beyond the capabilities of a regular Python dictionary."
      ],
      "metadata": {
        "id": "yitMtzEKwzpG"
      }
    },
    {
      "cell_type": "code",
      "source": [],
      "metadata": {
        "id": "LgtoTUtxwwsI"
      },
      "execution_count": null,
      "outputs": []
    }
  ]
}