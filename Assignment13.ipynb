{
  "nbformat": 4,
  "nbformat_minor": 0,
  "metadata": {
    "colab": {
      "provenance": []
    },
    "kernelspec": {
      "name": "python3",
      "display_name": "Python 3"
    },
    "language_info": {
      "name": "python"
    }
  },
  "cells": [
    {
      "cell_type": "markdown",
      "source": [
        "**1. What advantages do Excel spreadsheets have over CSV spreadsheets?**"
      ],
      "metadata": {
        "id": "FRsqlUC4bxPy"
      }
    },
    {
      "cell_type": "markdown",
      "source": [
        "Ans-Excel spreadsheets have several advantages over CSV (Comma-Separated Values) spreadsheets:\n",
        "\n",
        "Data Organization and Structure: Excel spreadsheets allow for multiple worksheets within a single file, enabling the organization and categorization of data across different tabs. This feature is not available in CSV files, where each file represents a single table of data.\n",
        "\n",
        "Data Formatting: Excel provides extensive formatting capabilities, allowing users to apply various styles, fonts, colors, and conditional formatting to cells. This can be beneficial for data visualization and making the spreadsheet more presentable. CSV files, on the other hand, do not support any formatting options.\n",
        "\n",
        "Formulas and Functions: Excel offers a wide range of built-in formulas and functions that enable complex calculations and data manipulation. These include mathematical functions, statistical calculations, logical operations, and more. CSV files only contain raw data without any built-in computational capabilities.\n",
        "\n",
        "Charts and Graphs: Excel supports the creation of visual representations of data through charts and graphs. Users can easily generate bar graphs, pie charts, line charts, and other visualizations to analyze and present data visually. CSV files do not have native charting capabilities.\n",
        "\n",
        "Data Validation: Excel allows users to define data validation rules to ensure the accuracy and integrity of data. This feature enables the setting of constraints on cell entries, such as specifying a range of values, required formats, or custom validation criteria. CSV files do not have inherent data validation capabilities.\n",
        "\n",
        "Cell Referencing: Excel enables users to refer to cells within formulas or functions using cell references (e.g., A1, B2, etc.), which provides flexibility and allows for dynamic calculations. In CSV files, data is typically referenced by column and row positions, lacking the ability to use cell references.\n",
        "\n",
        "Macro Support: Excel supports the creation and execution of macros, which are sets of recorded or programmed actions that automate tasks. Macros can be used to perform repetitive operations, complex calculations, and data manipulations. CSV files do not have built-in macro support.\n",
        "\n",
        "File Size: Excel files (.xlsx) can potentially be smaller in size compared to CSV files. This is because Excel uses a more efficient compression algorithm and can exclude redundant data, resulting in smaller file sizes."
      ],
      "metadata": {
        "id": "Jp_ZvnBhcN0o"
      }
    },
    {
      "cell_type": "markdown",
      "source": [
        "**2.What do you pass to csv.reader() and csv.writer() to create reader and writer objects?**"
      ],
      "metadata": {
        "id": "uvYPjHhUcSnL"
      }
    },
    {
      "cell_type": "markdown",
      "source": [
        "Ans-o create reader and writer objects in the csv module in Python, you need to pass a file object as an argument to the csv.reader() and csv.writer() functions. Here's how you can create reader and writer objects:\n",
        "\n",
        "Reader Object:\n",
        "To create a reader object that can read data from a CSV file, you need to pass a file object opened in the read mode ('r') to the csv.reader() function. "
      ],
      "metadata": {
        "id": "lUUdFyXdcYOb"
      }
    },
    {
      "cell_type": "code",
      "execution_count": 2,
      "metadata": {
        "id": "l_w9PCfLbwCE"
      },
      "outputs": [],
      "source": [
        "#example\n",
        "#import csv\n",
        "\n",
        "# Open the CSV file in read mode\n",
        "#with open('data.csv', 'r') as file:\n",
        "    # Create a reader object\n",
        " #   reader = csv.reader(file)\n",
        "\n",
        "    # Now, you can use the reader object to read data from the CSV file\n",
        "   # for row in reader:\n",
        "        # Process the row data\n",
        "    #    print(row)\n"
      ]
    },
    {
      "cell_type": "markdown",
      "source": [
        "Writer Object:\n",
        "To create a writer object that can write data to a CSV file, you need to pass a file object opened in the write mode ('w') to the csv.writer() function"
      ],
      "metadata": {
        "id": "rjzSnQAxcpJi"
      }
    },
    {
      "cell_type": "code",
      "source": [
        "#example\n",
        "#import csv\n",
        "\n",
        "# Open the CSV file in write mode\n",
        "#with open('output.csv', 'w') as file:\n",
        "    # Create a writer object\n",
        " #   writer = csv.writer(file)\n",
        "\n",
        "    # Now, you can use the writer object to write data to the CSV file\n",
        "  #  writer.writerow(['Name', 'Age', 'Country'])\n",
        "  #  writer.writerow(['John', 25, 'USA'])\n",
        "  #  writer.writerow(['Emily', 32, 'Canada'])\n"
      ],
      "metadata": {
        "id": "wFbGdzyzcc5t"
      },
      "execution_count": 3,
      "outputs": []
    },
    {
      "cell_type": "markdown",
      "source": [
        "**3. What modes do File objects for reader and writer objects need to be opened in?**"
      ],
      "metadata": {
        "id": "p0FGlscmc1ky"
      }
    },
    {
      "cell_type": "markdown",
      "source": [
        "Ans-File objects for reader and writer objects in the csv module need to be opened in specific modes:\n",
        "\n",
        "Reader Object:\n",
        "For the reader object, the file object needs to be opened in the read mode ('r') to allow reading data from the CSV file. It can be done using the open() function with the appropriate mode"
      ],
      "metadata": {
        "id": "g_YtKIqOc6r6"
      }
    },
    {
      "cell_type": "code",
      "source": [
        "#import csv\n",
        "\n",
        "# Open the CSV file in read mode\n",
        "#with open('data.csv', 'r') as file:\n",
        "    # Create a reader object\n",
        "  #  reader = csv.reader(file)\n",
        "\n",
        "    # Read data using the reader object\n",
        "  #  for row in reader:\n",
        "        # Process the row data\n",
        "   #     print(row)\n"
      ],
      "metadata": {
        "id": "XR83fWggcvmD"
      },
      "execution_count": 4,
      "outputs": []
    },
    {
      "cell_type": "markdown",
      "source": [
        "Writer Object:\n",
        "For the writer object, the file object needs to be opened in the write mode ('w') to allow writing data to the CSV file. Similar to the reader object, you can use the open() function with the appropriate mode."
      ],
      "metadata": {
        "id": "XnzS-thddCGj"
      }
    },
    {
      "cell_type": "code",
      "source": [
        "#import csv\n",
        "\n",
        "# Open the CSV file in write mode\n",
        "#with open('output.csv', 'w') as file:\n",
        "    # Create a writer object\n",
        " #   writer = csv.writer(file)\n",
        "\n",
        "    # Write data using the writer object\n",
        "  #  writer.writerow(['Name', 'Age', 'Country'])\n",
        "   # writer.writerow(['John', 25, 'USA'])\n",
        "    #writer.writerow(['Emily', 32, 'Canada'])\n"
      ],
      "metadata": {
        "id": "Zl38ohADc_5r"
      },
      "execution_count": 6,
      "outputs": []
    },
    {
      "cell_type": "markdown",
      "source": [
        "**4. What method takes a list argument and writes it to a CSV file?**"
      ],
      "metadata": {
        "id": "S2_jxv2bdMfs"
      }
    },
    {
      "cell_type": "markdown",
      "source": [
        "**The csv.writer object in the csv module provides a method called writerow() that takes a list as an argument and writes it as a row to a CSV file**"
      ],
      "metadata": {
        "id": "5pPUgLl8dQVC"
      }
    },
    {
      "cell_type": "code",
      "source": [
        "#example\n",
        "#import csv\n",
        "\n",
        "# Open the CSV file in write mode\n",
        "#with open('output.csv', 'w') as file:\n",
        "    # Create a writer object\n",
        "   # writer = csv.writer(file)\n",
        "\n",
        "    # Write a list as a row to the CSV file\n",
        "   # writer.writerow(['Name', 'Age', 'Country'])\n",
        "   # writer.writerow(['John', 25, 'USA'])\n",
        "   # writer.writerow(['Emily', 32, 'Canada'])\n"
      ],
      "metadata": {
        "id": "JqeQIb0rdHTT"
      },
      "execution_count": 8,
      "outputs": []
    },
    {
      "cell_type": "markdown",
      "source": [
        "**5. What do the keyword arguments delimiter and line terminator do?**"
      ],
      "metadata": {
        "id": "ewtL9_fgdg9z"
      }
    },
    {
      "cell_type": "markdown",
      "source": [
        "Ans-The keyword arguments delimiter and line terminator in the csv module allow you to specify custom characters or strings to control the formatting of the CSV file.\n",
        "\n",
        "Delimiter:\n",
        "The delimiter keyword argument specifies the character or string used to separate individual fields or columns within a row in the CSV file. By default, the delimiter is set to a comma (,). However, you can customize it to use a different character or string based on your requirements."
      ],
      "metadata": {
        "id": "HTeXWtOudoxr"
      }
    },
    {
      "cell_type": "code",
      "source": [
        "#example\n",
        "#import csv\n",
        "\n",
        "# Open the CSV file in write mode\n",
        "#with open('output.csv', 'w') as file:\n",
        "    # Create a writer object with a custom delimiter\n",
        " #   writer = csv.writer(file, delimiter=';')\n",
        "\n",
        "    # Write rows using the writer object\n",
        "  #  writer.writerow(['Name', 'Age', 'Country'])\n",
        "  #  writer.writerow(['John', 25, 'USA'])\n",
        "  #  writer.writerow(['Emily', 32, 'Canada'])\n"
      ],
      "metadata": {
        "id": "VRbzjmr_dYVs"
      },
      "execution_count": 9,
      "outputs": []
    },
    {
      "cell_type": "markdown",
      "source": [
        "Line Terminator:\n",
        "The line terminator keyword argument allows you to specify the string used to terminate each line in the CSV file. By default, the line terminator is set to the operating system's default line terminator ('\\r\\n' on Windows, '\\n' on Unix-like systems). However, you can provide a custom string to control the line termination"
      ],
      "metadata": {
        "id": "DHWGyxpnd1Kk"
      }
    },
    {
      "cell_type": "code",
      "source": [
        "#example\n",
        "#import csv\n",
        "\n",
        "# Open the CSV file in write mode\n",
        "#with open('output.csv', 'w') as file:\n",
        "    # Create a writer object with a custom line terminator\n",
        "  #  writer = csv.writer(file, lineterminator='\\r\\n')\n",
        "\n",
        "    # Write rows using the writer object\n",
        "  #  writer.writerow(['Name', 'Age', 'Country'])\n",
        "  #  writer.writerow(['John', 25, 'USA'])\n",
        " #   writer.writerow(['Emily', 32, 'Canada'])\n"
      ],
      "metadata": {
        "id": "T5cWXbQadwnb"
      },
      "execution_count": 10,
      "outputs": []
    },
    {
      "cell_type": "markdown",
      "source": [
        "**6. What function takes a string of JSON data and returns a Python data structure?**"
      ],
      "metadata": {
        "id": "1YjS0xwHeLPd"
      }
    },
    {
      "cell_type": "markdown",
      "source": [
        "Ans-The function that takes a string of JSON data and returns a Python data structure is json.loads().\n",
        "\n",
        "The json.loads() function is part of the built-in json module in Python and is used to parse a JSON-formatted string and convert it into a corresponding Python data structure."
      ],
      "metadata": {
        "id": "9257j87FeQKj"
      }
    },
    {
      "cell_type": "code",
      "source": [
        "#example\n",
        "#import json\n",
        "\n",
        "# JSON string\n",
        "#json_data = '{\"name\": \"John\", \"age\": 25, \"country\": \"USA\"}'\n",
        "\n",
        "# Parse the JSON string using json.loads()\n",
        "#python_data = json.loads(json_data)\n",
        "\n",
        "# Access the Python data structure\n",
        "#print(python_data['name'])     # Output: John\n",
        "#print(python_data['age'])      # Output: 25\n",
        "#print(python_data['country'])  # Output: USA\n"
      ],
      "metadata": {
        "id": "4y61FlgreGiz"
      },
      "execution_count": 11,
      "outputs": []
    },
    {
      "cell_type": "markdown",
      "source": [
        "In the above example, the json.loads() function is called with the json_data string as an argument. It returns a Python data structure that corresponds to the JSON object in the string. In this case, the resulting python_data variable becomes a dictionary in Python, allowing you to access its values using keys.\n",
        "\n",
        "The json.loads() function can handle more complex JSON structures as well, such as nested objects and arrays. It converts them into appropriate Python data structures, such as dictionaries, lists, numbers, booleans, and strings, depending on the JSON data.\n",
        "\n",
        "It's important to note that the JSON string passed to json.loads() must be valid JSON for successful parsing. If the JSON data is not properly formatted, it will raise a json.JSONDecodeError exception."
      ],
      "metadata": {
        "id": "ljF-S_CaeYjU"
      }
    },
    {
      "cell_type": "markdown",
      "source": [
        "**7. What function takes a Python data structure and returns a string of JSON data?**"
      ],
      "metadata": {
        "id": "nVg19qO-ebmL"
      }
    },
    {
      "cell_type": "markdown",
      "source": [
        "Ans-The function that takes a Python data structure and returns a string of JSON data is json.dumps().\n",
        "\n",
        "The json.dumps() function is part of the built-in json module in Python and is used to serialize a Python data structure into a JSON-formatted string"
      ],
      "metadata": {
        "id": "iJpMbZeSeftr"
      }
    },
    {
      "cell_type": "code",
      "source": [
        "import json\n",
        "\n",
        "# Python data structure\n",
        "#python_data = {\n",
        " #   \"name\": \"John\",\n",
        " #   \"age\": 25,\n",
        " #   \"country\": \"USA\"\n",
        "#}\n",
        "\n",
        "# Convert the Python data structure to JSON string using json.dumps()\n",
        "#json_data = json.dumps(python_data)\n",
        "\n",
        "# Print the JSON string\n",
        "#print(json_data)\n"
      ],
      "metadata": {
        "id": "by4Aeuc7eV4b"
      },
      "execution_count": 13,
      "outputs": []
    },
    {
      "cell_type": "code",
      "source": [],
      "metadata": {
        "id": "VroXdVlXel48"
      },
      "execution_count": null,
      "outputs": []
    }
  ]
}