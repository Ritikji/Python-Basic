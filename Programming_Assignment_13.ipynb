{
  "nbformat": 4,
  "nbformat_minor": 0,
  "metadata": {
    "colab": {
      "provenance": []
    },
    "kernelspec": {
      "name": "python3",
      "display_name": "Python 3"
    },
    "language_info": {
      "name": "python"
    }
  },
  "cells": [
    {
      "cell_type": "markdown",
      "source": [
        "#Question 1:\n",
        "Write a program that calculates and prints the value according to the given formula:\n",
        "Q = Square root of [(2 * C * D)/H]\n",
        "Following are the fixed values of C and H:\n",
        "C is 50. H is 30.\n",
        "D is the variable whose values should be input to your program in a comma-separated\n",
        "sequence.\n",
        "Example\n",
        "Let us assume the following comma separated input sequence is given to the program:\n",
        "100,150,180\n",
        "The output of the program should be:\n",
        "18,22,24"
      ],
      "metadata": {
        "id": "1SAp8jk4ZsO6"
      }
    },
    {
      "cell_type": "code",
      "execution_count": 4,
      "metadata": {
        "colab": {
          "base_uri": "https://localhost:8080/"
        },
        "id": "WWxo3CqSZoNp",
        "outputId": "95c05c52-fd56-471d-9a75-c2e954f6d796"
      },
      "outputs": [
        {
          "output_type": "stream",
          "name": "stdout",
          "text": [
            "Enter comma-separated values for D: 100,150,180\n",
            "The output of the program is: 18,22,24\n"
          ]
        }
      ],
      "source": [
        "import math\n",
        "\n",
        "C = 50\n",
        "H = 30\n",
        "\n",
        "input_sequence = input(\"Enter comma-separated values for D: \")\n",
        "values = input_sequence.split(',')\n",
        "\n",
        "results = []\n",
        "for value in values:\n",
        "    D = int(value)\n",
        "    Q = math.sqrt((2 * C * D) / H)\n",
        "    results.append(str(int(Q)))\n",
        "\n",
        "output = ','.join(results)\n",
        "print(\"The output of the program is:\", output)\n"
      ]
    },
    {
      "cell_type": "code",
      "source": [],
      "metadata": {
        "id": "2D8ao4dvZxZo"
      },
      "execution_count": 4,
      "outputs": []
    },
    {
      "cell_type": "markdown",
      "source": [
        "#Question 2:\n",
        "Write a program which takes 2 digits, X,Y as input and generates a 2-dimensional array. The\n",
        "element value in the i-th row and j-th column of the array should be i*j.\n",
        "Note: i=0,1.., X-1; j=0,1,¡Y-1.\n",
        "Example\n",
        "Suppose the following inputs are given to the program:\n",
        "3,5\n",
        "Then, the output of the program should be:\n",
        "[[0, 0, 0, 0, 0], [0, 1, 2, 3, 4], [0, 2, 4, 6, 8]]"
      ],
      "metadata": {
        "id": "AuMKZz47Z2IQ"
      }
    },
    {
      "cell_type": "code",
      "source": [
        "X, Y = map(int, input(\"Enter two digits (X, Y): \").split(','))\n",
        "\n",
        "array = []\n",
        "for i in range(X):\n",
        "    row = []\n",
        "    for j in range(Y):\n",
        "        row.append(i * j)\n",
        "    array.append(row)\n",
        "\n",
        "print(\"The output of the program is:\")\n",
        "print(array)\n"
      ],
      "metadata": {
        "colab": {
          "base_uri": "https://localhost:8080/"
        },
        "id": "RJfjYb4aZ3yf",
        "outputId": "3e081f90-fbe8-4763-ee8f-fa6a24a201f5"
      },
      "execution_count": 3,
      "outputs": [
        {
          "output_type": "stream",
          "name": "stdout",
          "text": [
            "Enter two digits (X, Y): 3,5\n",
            "The output of the program is:\n",
            "[[0, 0, 0, 0, 0], [0, 1, 2, 3, 4], [0, 2, 4, 6, 8]]\n"
          ]
        }
      ]
    },
    {
      "cell_type": "code",
      "source": [],
      "metadata": {
        "id": "pCmYMu2QZ6Sf"
      },
      "execution_count": 3,
      "outputs": []
    },
    {
      "cell_type": "markdown",
      "source": [
        "#Question 3:\n",
        "Write a program that accepts a comma separated sequence of words as input and prints the\n",
        "words in a comma-separated sequence after sorting them alphabetically.\n",
        "Suppose the following input is supplied to the program:\n",
        "without,hello,bag,world\n",
        "Then, the output should be:\n",
        "bag,hello,without,world"
      ],
      "metadata": {
        "id": "HHBUgr6dadnZ"
      }
    },
    {
      "cell_type": "code",
      "source": [
        "input_sequence = input(\"Enter a comma-separated sequence of words: \")\n",
        "words = input_sequence.split(',')\n",
        "\n",
        "sorted_words = sorted(words)\n",
        "\n",
        "output = ','.join(sorted_words)\n",
        "print(\"The output of the program is:\", output)\n"
      ],
      "metadata": {
        "colab": {
          "base_uri": "https://localhost:8080/"
        },
        "id": "GVitsib-aein",
        "outputId": "15a74d2e-5f76-4217-9790-c5786da83497"
      },
      "execution_count": 7,
      "outputs": [
        {
          "output_type": "stream",
          "name": "stdout",
          "text": [
            "Enter a comma-separated sequence of words: without,hello,bag,world\n",
            "The output of the program is: bag,hello,without,world\n"
          ]
        }
      ]
    },
    {
      "cell_type": "code",
      "source": [],
      "metadata": {
        "id": "JO4pbYkZah7W"
      },
      "execution_count": null,
      "outputs": []
    },
    {
      "cell_type": "markdown",
      "source": [
        "#Question 4:\n",
        "Write a program that accepts a sequence of whitespace separated words as input and prints\n",
        "the words after removing all duplicate words and sorting them alphanumerically.\n",
        "Suppose the following input is supplied to the program:\n",
        "hello world and practice makes perfect and hello world again\n",
        "Then, the output should be:\n",
        "again and hello makes perfect practice world"
      ],
      "metadata": {
        "id": "aqlQHysSa3_v"
      }
    },
    {
      "cell_type": "code",
      "source": [
        "input_sequence = input(\"Enter a sequence of whitespace-separated words: \")\n",
        "words = input_sequence.split()\n",
        "\n",
        "unique_words = list(set(words))\n",
        "sorted_words = sorted(unique_words)\n",
        "\n",
        "output = ' '.join(sorted_words)\n",
        "print(\"The output of the program is:\", output)\n"
      ],
      "metadata": {
        "colab": {
          "base_uri": "https://localhost:8080/"
        },
        "id": "5rfs3Kb-a49g",
        "outputId": "466c2b1c-bab3-471a-a1c6-282d90bb1eb9"
      },
      "execution_count": 8,
      "outputs": [
        {
          "output_type": "stream",
          "name": "stdout",
          "text": [
            "Enter a sequence of whitespace-separated words: hello world and practice makes perfect and hello world again\n",
            "The output of the program is: again and hello makes perfect practice world\n"
          ]
        }
      ]
    },
    {
      "cell_type": "code",
      "source": [],
      "metadata": {
        "id": "Tj6itQ6ka-a_"
      },
      "execution_count": null,
      "outputs": []
    },
    {
      "cell_type": "markdown",
      "source": [
        "#Question 5:\n",
        "Write a program that accepts a sentence and calculate the number of letters and digits.\n",
        "Suppose the following input is supplied to the program:\n",
        "hello world! 123\n",
        "Then, the output should be:\n",
        "LETTERS 10\n",
        "\n",
        "DIGITS 3"
      ],
      "metadata": {
        "id": "lGOjxRpibLqv"
      }
    },
    {
      "cell_type": "code",
      "source": [
        "input_sentence = input(\"Enter a sentence: \")\n",
        "\n",
        "letter_count = 0\n",
        "digit_count = 0\n",
        "\n",
        "for char in input_sentence:\n",
        "    if char.isalpha():\n",
        "        letter_count += 1\n",
        "    elif char.isdigit():\n",
        "        digit_count += 1\n",
        "\n",
        "print(\"LETTERS\", letter_count)\n",
        "print(\"DIGITS\", digit_count)\n"
      ],
      "metadata": {
        "colab": {
          "base_uri": "https://localhost:8080/"
        },
        "id": "1sttLeiebMnG",
        "outputId": "6513398d-1061-4d21-9d87-90c7a6d7f0aa"
      },
      "execution_count": 9,
      "outputs": [
        {
          "output_type": "stream",
          "name": "stdout",
          "text": [
            "Enter a sentence: hello world! 123\n",
            "LETTERS 10\n",
            "DIGITS 3\n"
          ]
        }
      ]
    },
    {
      "cell_type": "code",
      "source": [],
      "metadata": {
        "id": "LQbehXWdbPi2"
      },
      "execution_count": 9,
      "outputs": []
    },
    {
      "cell_type": "markdown",
      "source": [
        "#Question 6:\n",
        "A website requires the users to input username and password to register. Write a program to\n",
        "check the validity of password input by users.\n",
        "Following are the criteria for checking the password:\n",
        "1. At least 1 letter between [a-z]\n",
        "2. At least 1 number between [0-9]\n",
        "1. At least 1 letter between [A-Z]\n",
        "3. At least 1 character from [$#@]\n",
        "4. Minimum length of transaction password: 6\n",
        "5. Maximum length of transaction password: 12\n",
        "Your program should accept a sequence of comma separated passwords and will check them\n",
        "according to the above criteria. Passwords that match the criteria are to be printed, each\n",
        "separated by a comma.\n",
        "Example\n",
        "If the following passwords are given as input to the program:\n",
        "ABd1234@1,a F1#,2w3E*,2We3345\n",
        "Then, the output of the program should be:\n",
        "ABd1234@1"
      ],
      "metadata": {
        "id": "V-2p6ksHbbEO"
      }
    },
    {
      "cell_type": "code",
      "source": [
        "import re\n",
        "\n",
        "def check_password(password):\n",
        "    if len(password) < 6 or len(password) > 12:\n",
        "        return False\n",
        "    if not re.search(r'[a-z]', password):\n",
        "        return False\n",
        "    if not re.search(r'[A-Z]', password):\n",
        "        return False\n",
        "    if not re.search(r'[0-9]', password):\n",
        "        return False\n",
        "    if not re.search(r'[$#@]', password):\n",
        "        return False\n",
        "    return True\n",
        "\n",
        "input_passwords = input(\"Enter comma-separated passwords: \")\n",
        "passwords = input_passwords.split(',')\n",
        "\n",
        "valid_passwords = []\n",
        "for password in passwords:\n",
        "    if check_password(password):\n",
        "        valid_passwords.append(password)\n",
        "\n",
        "output = ','.join(valid_passwords)\n",
        "print(\"The output of the program is:\", output)\n"
      ],
      "metadata": {
        "colab": {
          "base_uri": "https://localhost:8080/"
        },
        "id": "KJdX4DzPbb8w",
        "outputId": "17bc68ec-b3e1-46fa-af0b-34dc1f9e5104"
      },
      "execution_count": 10,
      "outputs": [
        {
          "output_type": "stream",
          "name": "stdout",
          "text": [
            "Enter comma-separated passwords: ABd1234@1,a F1#,2w3E*,2We3345\n",
            "The output of the program is: ABd1234@1\n"
          ]
        }
      ]
    },
    {
      "cell_type": "code",
      "source": [],
      "metadata": {
        "id": "PXEk-9FYbdx2"
      },
      "execution_count": null,
      "outputs": []
    }
  ]
}