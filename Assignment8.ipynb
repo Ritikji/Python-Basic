{
  "nbformat": 4,
  "nbformat_minor": 0,
  "metadata": {
    "colab": {
      "provenance": []
    },
    "kernelspec": {
      "name": "python3",
      "display_name": "Python 3"
    },
    "language_info": {
      "name": "python"
    }
  },
  "cells": [
    {
      "cell_type": "markdown",
      "source": [
        "**1. Is the Python Standard Library included with PyInputPlus?**"
      ],
      "metadata": {
        "id": "8Kv4yE5pc2SO"
      }
    },
    {
      "cell_type": "markdown",
      "source": [
        "Ans-No, the Python Standard Library is not included with PyInputPlus. PyInputPlus is a separate third-party library that provides additional functionalities for taking user input in Python. It is not a part of the Python Standard Library.\n",
        "\n",
        "The Python Standard Library, on the other hand, is a collection of modules and packages that come bundled with the Python programming language. It provides a wide range of functionalities for tasks such as file I/O, network communication, regular expressions, data serialization, and more.\n",
        "\n",
        "While PyInputPlus offers features like input validation, timeout handling, and retry prompts, it does not include or modify the Python Standard Library itself. PyInputPlus is an optional library that you can install separately and use alongside the Python Standard Library to enhance user input handling in your Python programs."
      ],
      "metadata": {
        "id": "s8B9TPdXc86N"
      }
    },
    {
      "cell_type": "markdown",
      "source": [
        "**2. Why is PyInputPlus commonly imported with import pyinputplus as pypi?**"
      ],
      "metadata": {
        "id": "YWQrDQ5-dHDA"
      }
    },
    {
      "cell_type": "markdown",
      "source": [
        "Ans-PyInputPlus is commonly imported with the alias \"pypi\" (short for PyInputPlus) for brevity and convenience. The use of an alias allows developers to refer to the library by a shorter name throughout their code, reducing the amount of typing required.\n",
        "\n",
        "By importing PyInputPlus as \"pypi,\" developers can use the shorter alias when accessing the library's functions and methods. For example, instead of writing pyinputplus.inputInt(), they can simply write pypi.inputInt(). This can make the code more readable and easier to write.\n",
        "\n",
        "Choosing a shorter and meaningful alias, such as \"pypi,\" also helps avoid potential naming conflicts with other modules or variables in the codebase. It ensures that the PyInputPlus functions and classes are clearly distinguished and can be easily identified.\n",
        "\n",
        "However, it's important to note that the choice of alias is not restricted to \"pypi.\" Developers can choose any valid name as the alias when importing a module using the import statement in Python. The choice of alias is a matter of personal preference and coding style."
      ],
      "metadata": {
        "id": "cnunVN22dLVj"
      }
    },
    {
      "cell_type": "markdown",
      "source": [
        "**3. How do you distinguish between inputInt() and inputFloat()?**"
      ],
      "metadata": {
        "id": "VkIbYl10dPpP"
      }
    },
    {
      "cell_type": "markdown",
      "source": [
        "Ans-In PyInputPlus, the inputInt() and inputFloat() functions are used to prompt the user for integer and floating-point inputs, respectively. These functions are part of the PyInputPlus library and provide different input validation and coercion behaviors for integers and floats.\n",
        "\n",
        "Here's how you can distinguish between inputInt() and inputFloat():\n",
        "\n",
        "Function Name: The function names themselves indicate the type of input they expect. inputInt() is used when you specifically want to accept integer input, while inputFloat() is used when you want to accept floating-point input.\n",
        "\n",
        "Data Type: The inputInt() function returns an integer value, while the inputFloat() function returns a float value. This means that when you call inputInt(), you can expect the returned value to be an integer, and when you call inputFloat(), you can expect the returned value to be a float.\n",
        "\n",
        "Input Validation: inputInt() validates that the user's input is a valid integer. If the input is not a valid integer, PyInputPlus will re-prompt the user until a valid integer is provided. On the other hand, inputFloat() validates that the user's input is a valid float. If the input is not a valid float, PyInputPlus will re-prompt the user until a valid float is provided."
      ],
      "metadata": {
        "id": "6Tt7lyuQdWIV"
      }
    },
    {
      "cell_type": "code",
      "source": [
        "pip install PyInputPlus"
      ],
      "metadata": {
        "colab": {
          "base_uri": "https://localhost:8080/"
        },
        "id": "g6cVt7v7d2hZ",
        "outputId": "bba8aef4-5747-474f-e1a7-5f2a3044fd96"
      },
      "execution_count": 2,
      "outputs": [
        {
          "output_type": "stream",
          "name": "stdout",
          "text": [
            "Looking in indexes: https://pypi.org/simple, https://us-python.pkg.dev/colab-wheels/public/simple/\n",
            "Collecting PyInputPlus\n",
            "  Downloading PyInputPlus-0.2.12.tar.gz (20 kB)\n",
            "  Installing build dependencies ... \u001b[?25l\u001b[?25hdone\n",
            "  Getting requirements to build wheel ... \u001b[?25l\u001b[?25hdone\n",
            "  Preparing metadata (pyproject.toml) ... \u001b[?25l\u001b[?25hdone\n",
            "Collecting pysimplevalidate>=0.2.7 (from PyInputPlus)\n",
            "  Downloading PySimpleValidate-0.2.12.tar.gz (22 kB)\n",
            "  Installing build dependencies ... \u001b[?25l\u001b[?25hdone\n",
            "  Getting requirements to build wheel ... \u001b[?25l\u001b[?25hdone\n",
            "  Preparing metadata (pyproject.toml) ... \u001b[?25l\u001b[?25hdone\n",
            "Collecting stdiomask>=0.0.3 (from PyInputPlus)\n",
            "  Downloading stdiomask-0.0.6.tar.gz (3.6 kB)\n",
            "  Installing build dependencies ... \u001b[?25l\u001b[?25hdone\n",
            "  Getting requirements to build wheel ... \u001b[?25l\u001b[?25hdone\n",
            "  Preparing metadata (pyproject.toml) ... \u001b[?25l\u001b[?25hdone\n",
            "Building wheels for collected packages: PyInputPlus, pysimplevalidate, stdiomask\n",
            "  Building wheel for PyInputPlus (pyproject.toml) ... \u001b[?25l\u001b[?25hdone\n",
            "  Created wheel for PyInputPlus: filename=PyInputPlus-0.2.12-py3-none-any.whl size=11297 sha256=3b7699b2dc6dc23ad87cfcafc34d7ff59c93e7b5dfcf0b43f9e718e70bd12ad1\n",
            "  Stored in directory: /root/.cache/pip/wheels/13/ec/a5/f780c8008b74e885aada43369ebf4d350edfd12bb5909ccb23\n",
            "  Building wheel for pysimplevalidate (pyproject.toml) ... \u001b[?25l\u001b[?25hdone\n",
            "  Created wheel for pysimplevalidate: filename=PySimpleValidate-0.2.12-py3-none-any.whl size=16176 sha256=e3a4b7e1ddd1f37e2beececf1f022985fc1401a0577cf6c4610e1de813207159\n",
            "  Stored in directory: /root/.cache/pip/wheels/64/29/c9/2ee861e5b0775e289013b7c7157e0bdcea3a1b844f835b2eb8\n",
            "  Building wheel for stdiomask (pyproject.toml) ... \u001b[?25l\u001b[?25hdone\n",
            "  Created wheel for stdiomask: filename=stdiomask-0.0.6-py3-none-any.whl size=3306 sha256=5adca91c3db7ceef1e563c7ac12401354e64fd1c6a680d4e9c901df9be615277\n",
            "  Stored in directory: /root/.cache/pip/wheels/6c/00/4b/0715696f101d7376f67a83cf3d545feb8c241eeee75b80bb6f\n",
            "Successfully built PyInputPlus pysimplevalidate stdiomask\n",
            "Installing collected packages: stdiomask, pysimplevalidate, PyInputPlus\n",
            "Successfully installed PyInputPlus-0.2.12 pysimplevalidate-0.2.12 stdiomask-0.0.6\n"
          ]
        }
      ]
    },
    {
      "cell_type": "code",
      "execution_count": 4,
      "metadata": {
        "colab": {
          "base_uri": "https://localhost:8080/"
        },
        "id": "CN1Ox5e_ZyEI",
        "outputId": "5e05b149-48ee-4bcc-8480-078b96e5c7a3"
      },
      "outputs": [
        {
          "output_type": "stream",
          "name": "stdout",
          "text": [
            "Enter an integer: 5\n",
            "Enter a float: 5.2\n",
            "Integer: 5\n",
            "Float: 5.2\n"
          ]
        }
      ],
      "source": [
        "#Here's an example that demonstrates the usage and distinction between inputInt() and inputFloat():\n",
        "import pyinputplus as pypi\n",
        "\n",
        "num1 = pypi.inputInt(\"Enter an integer: \")\n",
        "num2 = pypi.inputFloat(\"Enter a float: \")\n",
        "\n",
        "print(\"Integer:\", num1)\n",
        "print(\"Float:\", num2)\n"
      ]
    },
    {
      "cell_type": "markdown",
      "source": [
        "**4. Using PyInputPlus, how do you ensure that the user enters a whole number between 0 and 99?**"
      ],
      "metadata": {
        "id": "7TxPjld8dlPR"
      }
    },
    {
      "cell_type": "markdown",
      "source": [
        "Ans-To ensure that the user enters a whole number between 0 and 99 using PyInputPlus, you can use the inputInt() function along with the min and max parameters"
      ],
      "metadata": {
        "id": "fynLemZEd_WV"
      }
    },
    {
      "cell_type": "code",
      "source": [
        "#example\n",
        "import pyinputplus as pypi\n",
        "\n",
        "num = pypi.inputInt(\"Enter a number between 0 and 99: \", min=0, max=99)\n",
        "\n",
        "print(\"Number:\", num)\n"
      ],
      "metadata": {
        "colab": {
          "base_uri": "https://localhost:8080/"
        },
        "id": "_wX-IOccdi0g",
        "outputId": "02a1194c-ed17-43b2-be6c-50c3426d4c87"
      },
      "execution_count": 3,
      "outputs": [
        {
          "output_type": "stream",
          "name": "stdout",
          "text": [
            "Enter a number between 0 and 99: 50\n",
            "Number: 50\n"
          ]
        }
      ]
    },
    {
      "cell_type": "markdown",
      "source": [
        "In the above example, inputInt() is used to prompt the user for an integer input. The min parameter is set to 0 and the max parameter is set to 99, which ensures that the user can only enter a whole number within the specified range.\n",
        "\n",
        "If the user enters a number outside the range or a non-integer value, PyInputPlus will reprompt them until a valid input is provided. The resulting num variable will contain the validated and coerced integer value within the specified range.\n",
        "\n",
        "By setting the min and max parameters in inputInt(), you can restrict the input to a specific range and ensure that the user enters a whole number within that range."
      ],
      "metadata": {
        "id": "MYXiDYQIeVqS"
      }
    },
    {
      "cell_type": "markdown",
      "source": [
        "**5. What is transferred to the keyword arguments allowRegexes and blockRegexes?**"
      ],
      "metadata": {
        "id": "_d3W4RDLeawS"
      }
    },
    {
      "cell_type": "markdown",
      "source": [
        "Ans-In PyInputPlus, the keyword arguments allowRegexes and blockRegexes are used to specify regular expressions that define patterns to either allow or block certain input values.\n",
        "\n",
        "Here's an explanation of each keyword argument:\n",
        "\n",
        "allowRegexes: This keyword argument accepts a list of regular expressions as its value. These regular expressions define the patterns that the user's input must match in order to be considered valid. If the user's input matches any of the regular expressions in the allowRegexes list, it is considered valid and accepted.\n",
        "\n",
        "blockRegexes: This keyword argument also accepts a list of regular expressions as its value. These regular expressions define the patterns that the user's input must not match in order to be considered valid. If the user's input matches any of the regular expressions in the blockRegexes list, it is considered invalid and rejected.\n",
        "\n",
        "By using allowRegexes and blockRegexes, you can define custom validation rules for user input based on regular expressions. You can allow or block certain patterns or formats of input values according to your specific requirements."
      ],
      "metadata": {
        "id": "jpK1Dc22efca"
      }
    },
    {
      "cell_type": "code",
      "source": [
        "#Here's an example that demonstrates the usage of allowRegexes and blockRegexes:\n",
        "import pyinputplus as pypi\n",
        "\n",
        "# Only allow even numbers between 10 and 30\n",
        "num = pypi.inputInt(\"Enter an even number between 10 and 30: \", allowRegexes=[r'^[2,4,6,8,10,12,14,16,18,20,22,24,26,28,30]$'])\n",
        "\n",
        "# Block any input that contains the word \"invalid\"\n",
        "text = pypi.inputStr(\"Enter some text (without the word 'invalid'): \", blockRegexes=[r'invalid'])\n",
        "\n",
        "print(\"Number:\", num)\n",
        "print(\"Text:\", text)\n"
      ],
      "metadata": {
        "colab": {
          "base_uri": "https://localhost:8080/"
        },
        "id": "yKW539N5eDm-",
        "outputId": "d977ce03-71d0-4267-c79d-c6c74dee994f"
      },
      "execution_count": 5,
      "outputs": [
        {
          "output_type": "stream",
          "name": "stdout",
          "text": [
            "Enter an even number between 10 and 30: 20\n",
            "Enter some text (without the word 'invalid'): 10\n",
            "Number: 20\n",
            "Text: 10\n"
          ]
        }
      ]
    },
    {
      "cell_type": "markdown",
      "source": [
        "In the above example, the first inputInt() call uses the allowRegexes argument with a regular expression that only allows even numbers between 10 and 30. If the user enters an even number within that range, it will be considered valid.\n",
        "\n",
        "The second inputStr() call uses the blockRegexes argument with a regular expression that blocks any input containing the word \"invalid\". If the user enters a string containing that word, it will be considered invalid.\n",
        "\n",
        "By customizing the regular expressions provided to allowRegexes and blockRegexes, you can define specific patterns or formats of input that are either allowed or blocked."
      ],
      "metadata": {
        "id": "6NzNA9v5evU4"
      }
    },
    {
      "cell_type": "markdown",
      "source": [
        "**6. If a blank input is entered three times, what does inputStr(limit=3) do?**"
      ],
      "metadata": {
        "id": "2ML5Y4Rxe3YB"
      }
    },
    {
      "cell_type": "markdown",
      "source": [
        "Ans-\n",
        "If a blank input is entered three times while using inputStr(limit=3) in PyInputPlus, the behavior depends on the configuration of the limit parameter.\n",
        "\n",
        "By default, if a blank input is entered, PyInputPlus raises a pyinputplus.RetryLimitException after three consecutive blank inputs. This exception indicates that the maximum number of retries has been reached.\n",
        "\n",
        "However, the behavior can be modified by passing different values for the limit parameter. Here are the possible scenarios:\n",
        "\n",
        "limit=None (default): With the default value of limit, PyInputPlus will raise a RetryLimitException after three consecutive blank inputs.\n",
        "\n",
        "limit=0: If limit is set to 0, PyInputPlus will not allow any retries and immediately raise a RetryLimitException if a blank input is entered.\n",
        "\n",
        "limit=n (where n is a positive integer): If limit is set to a positive integer, PyInputPlus will allow a maximum of n retries for blank inputs. After n consecutive blank inputs, it will raise a RetryLimitException.\n",
        "\n",
        "In summary, with inputStr(limit=3), the default behavior is to allow three retries for blank inputs before raising a RetryLimitException"
      ],
      "metadata": {
        "id": "nA0uJkNYe9zh"
      }
    },
    {
      "cell_type": "markdown",
      "source": [
        "**7. If blank input is entered three times, what does inputStr(limit=3, default=&#39;hello&#39;) do?**"
      ],
      "metadata": {
        "id": "eaaYqd1BfBGt"
      }
    },
    {
      "cell_type": "markdown",
      "source": [
        "Ans-If a blank input is entered three times while using inputStr(limit=3, default='hello') in PyInputPlus, the behavior is different from the default behavior without a default value.\n",
        "\n",
        "With inputStr(limit=3, default='hello'), if a blank input is entered three times consecutively, PyInputPlus will return the specified default value instead of raising a RetryLimitException. In this case, the returned value will be the string 'hello'.\n",
        "\n",
        "The default parameter allows you to specify a default value to be used when the user enters a blank input. Instead of raising an exception, PyInputPlus will return the default value after the maximum number of retries is reached."
      ],
      "metadata": {
        "id": "QSv4gCI9fKCJ"
      }
    },
    {
      "cell_type": "code",
      "source": [
        "#Here's an example to illustrate the behavior:\n",
        "import pyinputplus as pypi\n",
        "\n",
        "result = pypi.inputStr(\"Enter a value: \", limit=3, default='hello')\n",
        "\n",
        "print(\"Result:\", result)\n"
      ],
      "metadata": {
        "colab": {
          "base_uri": "https://localhost:8080/"
        },
        "id": "p7d_AsEaelE3",
        "outputId": "fbe3abcc-6e01-47cc-b76d-945843ac585f"
      },
      "execution_count": 10,
      "outputs": [
        {
          "output_type": "stream",
          "name": "stdout",
          "text": [
            "Enter a value: hello\n",
            "Result: hello\n"
          ]
        }
      ]
    },
    {
      "cell_type": "markdown",
      "source": [
        "In the above example, if the user enters a blank input three times consecutively, PyInputPlus will return the default value 'hello'. If the user provides a non-blank input, that input will be returned instead.\n",
        "\n",
        "Using the default parameter can be helpful when you want to provide a fallback value in case the user doesn't provide any input or skips the prompt multiple times."
      ],
      "metadata": {
        "id": "DO3W94rZfXfa"
      }
    },
    {
      "cell_type": "code",
      "source": [],
      "metadata": {
        "id": "VEVoe44gfWC4"
      },
      "execution_count": null,
      "outputs": []
    }
  ]
}