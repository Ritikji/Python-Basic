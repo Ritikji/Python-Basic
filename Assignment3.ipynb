{
  "nbformat": 4,
  "nbformat_minor": 0,
  "metadata": {
    "colab": {
      "provenance": []
    },
    "kernelspec": {
      "name": "python3",
      "display_name": "Python 3"
    },
    "language_info": {
      "name": "python"
    }
  },
  "cells": [
    {
      "cell_type": "markdown",
      "source": [
        "**1. Why are functions advantageous to have in your programs?**"
      ],
      "metadata": {
        "id": "F61KLxREd0C3"
      }
    },
    {
      "cell_type": "markdown",
      "source": [
        "Ans-Modularity: Functions enable you to break down complex tasks into smaller, more manageable pieces of code. By dividing your program into modular functions, each responsible for a specific task, you can enhance readability, understandability, and organization of your code. Modularity also facilitates collaboration among multiple developers working on different parts of the program.\n",
        "\n",
        "Abstraction: Functions allow you to abstract away the implementation details of a particular functionality. By defining a function with a descriptive name, you create a high-level interface that hides the underlying complexity. This makes your code more readable and helps other programmers understand the purpose and usage of the function without delving into its internal workings.\n",
        "\n",
        "Code organization: Functions provide a structured way to organize your code. By grouping related code into functions, you can achieve better code organization and separation of concerns. This makes it easier to navigate, debug, and maintain your codebase.\n",
        "\n",
        "Code reusability and maintenance: Functions promote code reusability, as mentioned earlier, by allowing you to call the same block of code from multiple places. This makes it easier to make changes or fix bugs since you only need to modify the function's implementation instead of every place where the code is duplicated. Functions also enhance code maintenance by isolating changes within a specific function, reducing the impact on other parts of the program.\n",
        "\n",
        "Encapsulation: Functions allow you to encapsulate data and behavior within a self-contained unit. By defining function parameters and return values, you can control the input and output of a function, limiting the scope of variables and preventing unintended side effects. This helps in creating more robust and predictable code."
      ],
      "metadata": {
        "id": "XfiXDKyrd2qX"
      }
    },
    {
      "cell_type": "markdown",
      "source": [
        "**2. When does the code in a function run: when it&#39;s specified or when it&#39;s called?**"
      ],
      "metadata": {
        "id": "caZDz_lLewj5"
      }
    },
    {
      "cell_type": "markdown",
      "source": [
        "Ans-When you define a function in Python, you are essentially creating a reusable block of code with a specific name and set of instructions. The code inside the function's block is not executed at the time of function definition; it only runs when the function is called later in the program.\n",
        "\n",
        "To execute the code inside a function, you need to call the function by using its name followed by parentheses. When the function is called, the program flow jumps to the function's block, executes the code inside it, and then returns to the point where the function was called to continue with the rest of the program"
      ],
      "metadata": {
        "id": "tiGSnv6Ne9p7"
      }
    },
    {
      "cell_type": "code",
      "source": [
        "#Here's an example to illustrate this:\n",
        "def greet():\n",
        "    print(\"Hello, World!\")\n",
        "\n",
        "print(\"Before function call\")\n",
        "greet()  # Calling the function\n",
        "print(\"After function call\")\n"
      ],
      "metadata": {
        "colab": {
          "base_uri": "https://localhost:8080/"
        },
        "id": "QrYEKDIp0mR6",
        "outputId": "76f7ff40-71ce-4680-d938-af725b589792"
      },
      "execution_count": 9,
      "outputs": [
        {
          "output_type": "stream",
          "name": "stdout",
          "text": [
            "Before function call\n",
            "Hello, World!\n",
            "After function call\n"
          ]
        }
      ]
    },
    {
      "cell_type": "markdown",
      "source": [
        "**3. What statement creates a function?**"
      ],
      "metadata": {
        "id": "XXI3jO7kfCZ3"
      }
    },
    {
      "cell_type": "markdown",
      "source": [
        "Ans-In Python, the def statement is used to create a function. The def statement is followed by the name of the function, parentheses (), and a colon :. The body of the function, where the code that defines the function's behavior is written, is indented beneath the def statement."
      ],
      "metadata": {
        "id": "7ZYTt1REvMJt"
      }
    },
    {
      "cell_type": "code",
      "source": [
        "def greet():\n",
        "    print(\"Hello, welcome!\")\n",
        "\n",
        "# Calling the greet() function\n",
        "greet()\n"
      ],
      "metadata": {
        "colab": {
          "base_uri": "https://localhost:8080/"
        },
        "id": "LIxnSerh08Dq",
        "outputId": "3a615bf9-5d37-4979-f661-79591cdcc8c3"
      },
      "execution_count": 13,
      "outputs": [
        {
          "output_type": "stream",
          "name": "stdout",
          "text": [
            "Hello, welcome!\n"
          ]
        }
      ]
    },
    {
      "cell_type": "code",
      "source": [],
      "metadata": {
        "id": "EpH5dm1L07sx"
      },
      "execution_count": null,
      "outputs": []
    },
    {
      "cell_type": "markdown",
      "source": [
        "**4. What is the difference between a function and a function call?**"
      ],
      "metadata": {
        "id": "kv0n2NjSvWag"
      }
    },
    {
      "cell_type": "markdown",
      "source": [
        "Ans-The difference between a function and a function call lies in their respective roles and actions within a program:\n",
        "\n",
        "Function: A function is a block of reusable code that performs a specific task or set of operations. It encapsulates a series of instructions that can be executed whenever the function is called. Functions are defined using the def statement and can have parameters, a return value, and a function body containing the code to be executed.\n",
        "\n",
        "Function Call: A function call is an instruction that tells the program to execute a specific function at a particular point in the program's flow. It invokes the function and passes any required arguments or parameters. When a function call is encountered, the program jumps to the corresponding function's code block, executes the instructions inside, and then returns to the point where the function was called."
      ],
      "metadata": {
        "id": "SLouXLP5vcGV"
      }
    },
    {
      "cell_type": "markdown",
      "source": [
        "**5. How many global scopes are there in a Python program? How many local scopes?**"
      ],
      "metadata": {
        "id": "DYLNQcNSvhZb"
      }
    },
    {
      "cell_type": "markdown",
      "source": [
        "Ans- a Python program, there is typically one global scope and multiple local scopes.\n",
        "\n",
        "Global Scope: The global scope is the outermost scope of a Python program. It is the scope in which variables and functions are defined at the top level of the program, outside of any functions or classes. The global scope is accessible from anywhere within the program, including from within functions and classes. In a Python program, there is only one global scope.\n",
        "\n",
        "Local Scopes: Local scopes are created when functions or other code blocks, such as loops or conditional statements, are executed. Each time a function is called or a code block is entered, a new local scope is created. Local scopes are confined to their respective functions or code blocks and are destroyed once the function or code block completes execution. This means that local variables defined within a function or code block are only accessible within that specific scope. Each function or code block has its own local scope, and multiple local scopes can exist simultaneously within a Python program."
      ],
      "metadata": {
        "id": "FB3wG6lsvhAk"
      }
    },
    {
      "cell_type": "markdown",
      "source": [
        "**6. What happens to variables in a local scope when the function call returns?**"
      ],
      "metadata": {
        "id": "lq1jlFYMvv25"
      }
    },
    {
      "cell_type": "markdown",
      "source": [
        "Ans-When a function call returns and the local scope of the function is no longer needed, the variables defined within that local scope are destroyed. This means that the variables no longer exist and cannot be accessed or referenced outside of the function.\n",
        "\n",
        "Here's a step-by-step explanation of what happens to variables in a local scope when a function call returns:\n",
        "\n",
        "When a function is called, a local scope is created specifically for that function. Any variables defined within the function are stored in this local scope.\n",
        "\n",
        "While the function is executing, the variables in the local scope are accessible and can be manipulated.\n",
        "\n",
        "Once the function call returns, the local scope is no longer needed. At this point, the local variables are destroyed, and their values are no longer available.\n",
        "\n",
        "Any attempt to access or reference the variables that were defined in the local scope after the function call has returned will result in an error, typically a NameError indicating that the variable is not defined.\n",
        "\n",
        "It's important to note that local variables are separate from global variables, which exist in the global scope. Local variables defined within a function do not affect or modify global variables, and global variables remain accessible both before and after the function call.\n",
        "\n",
        "Understanding the lifecycle of variables in local scopes is crucial for managing variable scope and ensuring proper variable usage within a program."
      ],
      "metadata": {
        "id": "j5o403kqv2VK"
      }
    },
    {
      "cell_type": "markdown",
      "source": [
        "**7. What is the concept of a return value? Is it possible to have a return value in an expression?**"
      ],
      "metadata": {
        "id": "ae0Ax8BTv7RY"
      }
    },
    {
      "cell_type": "markdown",
      "source": [
        "Ans-The concept of a return value refers to the value that a function can send back to the caller once it completes its execution. When a function reaches a return statement, it evaluates the expression associated with it and returns that value to the caller. The return value can be used for further computation, assignment to a variable, or any other desired operation.\n",
        "\n",
        "Regarding the possibility of having a return value in an expression, it is indeed possible. An expression can include a function call that returns a value, and that return value becomes part of the larger expression"
      ],
      "metadata": {
        "id": "8M7roJ0wwUys"
      }
    },
    {
      "cell_type": "code",
      "source": [
        "#Here's an example of a function that calculates the square of a number and returns the result:\n",
        "def square(number):\n",
        "    return number ** 2\n",
        "\n",
        "result = square(5)\n",
        "print(result)  # Output: 25\n"
      ],
      "metadata": {
        "colab": {
          "base_uri": "https://localhost:8080/"
        },
        "id": "4df4XYRA1BzS",
        "outputId": "35d51e8b-d8d1-450b-bd6f-74fe77720f8b"
      },
      "execution_count": 14,
      "outputs": [
        {
          "output_type": "stream",
          "name": "stdout",
          "text": [
            "25\n"
          ]
        }
      ]
    },
    {
      "cell_type": "markdown",
      "source": [
        "**8. If a function does not have a return statement, what is the return value of a call to that function?**"
      ],
      "metadata": {
        "id": "zRK3qPrbw4NY"
      }
    },
    {
      "cell_type": "markdown",
      "source": [
        "Ans-If a function does not have a return statement, the return value of a call to that function is None.\n",
        "\n",
        "In Python, None is a special constant that represents the absence of a value or the lack of a specific return value. When a function does not explicitly specify a return value using a return statement, Python automatically returns None by default.\n",
        "\n"
      ],
      "metadata": {
        "id": "UWpIlXe7xNIb"
      }
    },
    {
      "cell_type": "code",
      "source": [
        "#exapmle\n",
        "def greet():\n",
        "    print(\"Hello, world!\")\n",
        "\n",
        "result = greet()\n",
        "print(result)  # Output: None\n"
      ],
      "metadata": {
        "colab": {
          "base_uri": "https://localhost:8080/"
        },
        "id": "ywZgxPSDyGGJ",
        "outputId": "63ec3e9c-c6b9-4f87-cadb-3d1aa89c6070"
      },
      "execution_count": 2,
      "outputs": [
        {
          "output_type": "stream",
          "name": "stdout",
          "text": [
            "Hello, world!\n",
            "None\n"
          ]
        }
      ]
    },
    {
      "cell_type": "markdown",
      "source": [
        "**9. How do you make a function variable refer to the global variable?**"
      ],
      "metadata": {
        "id": "-QIbTVo7xask"
      }
    },
    {
      "cell_type": "markdown",
      "source": [
        "Ans-To make a function variable refer to the global variable, you can use the global keyword within the function. The global keyword allows you to indicate that a variable should be treated as a global variable, even if there is a local variable with the same name.\n",
        "\n",
        "In this example, we have a global variable count with an initial value of 0. The increment() function is defined, and within the function, we use the global keyword to indicate that count should be treated as a global variable. This allows us to modify the global variable directly within the function.\n",
        "\n",
        "When the increment() function is called, it increments the value of the global variable count by 1. After the function call, we print the value of count, which is now 1.\n",
        "\n",
        "Using the global keyword is necessary when you want to modify a global variable within a function. Without the global keyword, a new local variable with the same name as the global variable would be created, and any modifications would be confined to the local scope, not affecting the global variable.\n",
        "\n",
        "It's worth noting that relying heavily on global variables is generally not considered a good practice, as it can make code harder to understand and maintain. It is generally recommended to use function parameters and return values to manage data flow between functions, rather than relying on global variables."
      ],
      "metadata": {
        "id": "zAYQGVggx0Ck"
      }
    },
    {
      "cell_type": "code",
      "execution_count": 1,
      "metadata": {
        "colab": {
          "base_uri": "https://localhost:8080/"
        },
        "id": "H8wxsUgNdtUu",
        "outputId": "08346a4a-4327-475a-f4ab-4659bf1878ce"
      },
      "outputs": [
        {
          "output_type": "stream",
          "name": "stdout",
          "text": [
            "0\n",
            "1\n"
          ]
        }
      ],
      "source": [
        "#example\n",
        "count = 0  # Global variable\n",
        "\n",
        "def increment():\n",
        "    global count  # Declare 'count' as a global variable within the function\n",
        "    count += 1  # Modifying the global variable\n",
        "\n",
        "print(count)  # Output: 0\n",
        "increment()\n",
        "print(count)  # Output: 1\n"
      ]
    },
    {
      "cell_type": "markdown",
      "source": [
        "**10. What is the data type of None?**"
      ],
      "metadata": {
        "id": "26MIqxDuyR_y"
      }
    },
    {
      "cell_type": "markdown",
      "source": [
        "Ans-The data type of None in Python is NoneType. None is a special constant that represents the absence of a value or the lack of a specific return value. It is often used to indicate the absence of a meaningful result or as a default value.\n",
        "\n",
        "It's important to note that None is a singleton object in Python, meaning that there is only one instance of None throughout the program. When comparing values to None, you should use the is operator instead of the equality operator (==)."
      ],
      "metadata": {
        "id": "aCkjsK55ybQn"
      }
    },
    {
      "cell_type": "code",
      "source": [
        "#You can check the data type of None using the type() function:\n",
        "result = None\n",
        "print(type(result))  # Output: <class 'NoneType'>\n"
      ],
      "metadata": {
        "colab": {
          "base_uri": "https://localhost:8080/"
        },
        "id": "ZzD5fXEQx-aZ",
        "outputId": "af73479c-a7ef-4569-a599-7edd5aba3af5"
      },
      "execution_count": 3,
      "outputs": [
        {
          "output_type": "stream",
          "name": "stdout",
          "text": [
            "<class 'NoneType'>\n"
          ]
        }
      ]
    },
    {
      "cell_type": "markdown",
      "source": [
        "**11. What does the sentence import areallyourpetsnamederic do?**"
      ],
      "metadata": {
        "id": "L0THzNkyyszN"
      }
    },
    {
      "cell_type": "markdown",
      "source": [
        "Ans-he sentence \"import areallyourpetsnamederic\" does not have any inherent meaning in the Python programming language. In Python, the import statement is used to import modules, which are files containing Python code that can be used in other programs.\n",
        "\n",
        "If you try to execute the sentence \"import areallyourpetsnamederic\" as a Python statement, it would result in a ModuleNotFoundError because there is no module named \"areallyourpetsnamederic\" available in the Python environment.\n",
        "\n",
        "In general, when using the import statement, you would specify the name of a valid Python module that you want to import, such as import math, import random, or import pandas. These are examples of commonly used modules in Python."
      ],
      "metadata": {
        "id": "98Ep06UjywRe"
      }
    },
    {
      "cell_type": "markdown",
      "source": [
        "**12. If you had a bacon() feature in a spam module, what would you call it after importing spam?**"
      ],
      "metadata": {
        "id": "0ZDYX2bCy0-2"
      }
    },
    {
      "cell_type": "markdown",
      "source": [
        "After importing the spam module, you can call the bacon() feature by using the following syntax:\n",
        "\n",
        "import spam\n",
        "\n",
        "spam.bacon()\n",
        "\n",
        "\n",
        "In this example, we assume that the spam module contains a function or feature named bacon(). By importing the spam module, you make all the functions, classes, or variables defined in the module accessible using the module name followed by a dot notation.\n",
        "\n",
        "So, to call the bacon() feature, you use spam.bacon(), where spam is the name of the imported module, and bacon() is the function or feature within the module that you want to call.\n",
        "\n",
        "\n",
        "\n",
        "\n",
        "\n",
        "\n"
      ],
      "metadata": {
        "id": "WBzpkCjuy9SN"
      }
    },
    {
      "cell_type": "markdown",
      "source": [
        "**13. What can you do to save a programme from crashing if it encounters an error?**"
      ],
      "metadata": {
        "id": "HJM7AmwMzOcP"
      }
    },
    {
      "cell_type": "markdown",
      "source": [
        "Ans-To prevent a program from crashing when it encounters an error, you can implement error handling using exception handling techniques. In Python, you can use the try-except block to catch and handle exceptions gracefully.\n",
        "\n",
        "In the try block, you place the code that might raise an error. If an error occurs during the execution of the code inside the try block, Python will immediately exit the try block and look for a matching except block.\n",
        "\n",
        "The except block specifies the type of exception that you want to catch and handle. You can replace ExceptionType with the specific type of exception you want to handle. For example, you can use except ValueError to handle ValueError exceptions, or except FileNotFoundError to handle FileNotFoundError exceptions.\n",
        "\n",
        "Within the except block, you write the code that should be executed when the specified exception occurs. This code can include error handling logic, alternative actions, or logging to provide useful feedback or recover from the error gracefully.\n",
        "\n",
        "By using the try-except block, your program can continue running even if it encounters an error. Instead of crashing, the program will execute the code in the appropriate except block, allowing you to handle the error condition and take appropriate actions.\n",
        "\n",
        "It's important to note that when catching exceptions, it's generally recommended to be as specific as possible in the except block to handle only the expected exceptions and avoid catching and suppressing unexpected errors."
      ],
      "metadata": {
        "id": "kUIyVJ3tzTzC"
      }
    },
    {
      "cell_type": "markdown",
      "source": [
        "**14. What is the purpose of the try clause? What is the purpose of the except clause?**"
      ],
      "metadata": {
        "id": "WgfN9Uaaze0k"
      }
    },
    {
      "cell_type": "markdown",
      "source": [
        "The purpose of the try clause in Python is to enclose the code that might raise an exception. It allows you to specify a block of code that may potentially cause an error or raise an exception. The try clause provides a way to handle potential exceptions and prevent them from crashing the program.\n",
        "\n",
        "Within the try block, you place the code that you want to execute, which might include operations that could raise exceptions, such as file operations, network requests, or mathematical calculations. If an exception occurs during the execution of the code inside the try block, Python immediately exits the try block and looks for a matching except block.\n",
        "\n",
        "The purpose of the except clause is to define the code that should be executed when a specific exception occurs. It allows you to catch and handle specific exceptions that might be raised within the try block. By specifying the type of exception after the except keyword, you can define how your program should respond to different types of errors.\n",
        "\n",
        "Within the except block, you can include error handling logic, alternative actions, or any code that needs to be executed when the specified exception occurs. The except clause provides an opportunity to gracefully handle exceptions, provide appropriate feedback to the user, or recover from errors in a controlled manner."
      ],
      "metadata": {
        "id": "cQ76VtmJzlAJ"
      }
    },
    {
      "cell_type": "code",
      "source": [],
      "metadata": {
        "id": "Gcts8dI60AET"
      },
      "execution_count": null,
      "outputs": []
    }
  ]
}