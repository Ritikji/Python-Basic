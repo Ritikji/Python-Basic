{
  "nbformat": 4,
  "nbformat_minor": 0,
  "metadata": {
    "colab": {
      "provenance": []
    },
    "kernelspec": {
      "name": "python3",
      "display_name": "Python 3"
    },
    "language_info": {
      "name": "python"
    }
  },
  "cells": [
    {
      "cell_type": "markdown",
      "source": [
        "**1.How many seconds are in an hour? Use the interactive interpreter as a calculator and multiply the\n",
        "number of seconds in a minute (60) by the number of minutes in an hour (also 60).**"
      ],
      "metadata": {
        "id": "oKKeW_m1jH5m"
      }
    },
    {
      "cell_type": "markdown",
      "source": [
        "Ans-To calculate the number of seconds in an hour using the interactive interpreter as a calculator, you can multiply the number of seconds in a minute (60) by the number of minutes in an hour (also 60). Here's how you can perform the calculation:"
      ],
      "metadata": {
        "id": "PRwpfE2HjMLd"
      }
    },
    {
      "cell_type": "code",
      "execution_count": 1,
      "metadata": {
        "colab": {
          "base_uri": "https://localhost:8080/"
        },
        "id": "vpMqx9cKjFM7",
        "outputId": "a7fe586c-cf55-4d32-a0e0-1c38e739b742"
      },
      "outputs": [
        {
          "output_type": "stream",
          "name": "stdout",
          "text": [
            "3600\n"
          ]
        }
      ],
      "source": [
        "seconds_in_minute = 60\n",
        "minutes_in_hour = 60\n",
        "\n",
        "seconds_in_hour = seconds_in_minute * minutes_in_hour\n",
        "\n",
        "print(seconds_in_hour)\n"
      ]
    },
    {
      "cell_type": "markdown",
      "source": [
        "**2. Assign the result from the previous task (seconds in an hour) to a variable called\n",
        "seconds_per_hour.**"
      ],
      "metadata": {
        "id": "BzO5RFMXjbU1"
      }
    },
    {
      "cell_type": "code",
      "source": [
        "seconds_in_minute = 60\n",
        "minutes_in_hour = 60\n",
        "\n",
        "seconds_per_hour = seconds_in_minute * minutes_in_hour\n",
        "\n",
        "print(seconds_per_hour)\n"
      ],
      "metadata": {
        "colab": {
          "base_uri": "https://localhost:8080/"
        },
        "id": "S4hn3rQ6jPJu",
        "outputId": "3ffebddd-6373-4201-c884-35910ca4e92d"
      },
      "execution_count": 2,
      "outputs": [
        {
          "output_type": "stream",
          "name": "stdout",
          "text": [
            "3600\n"
          ]
        }
      ]
    },
    {
      "cell_type": "markdown",
      "source": [
        "**3. How many seconds do you think there are in a day? Make use of the variables seconds per hour\n",
        "and minutes per hour.**"
      ],
      "metadata": {
        "id": "0ZH2XD1qjrNV"
      }
    },
    {
      "cell_type": "code",
      "source": [
        "seconds_per_hour = 3600\n",
        "hours_per_day = 24\n",
        "\n",
        "seconds_per_day = seconds_per_hour * hours_per_day\n",
        "\n",
        "print(seconds_per_day)\n"
      ],
      "metadata": {
        "colab": {
          "base_uri": "https://localhost:8080/"
        },
        "id": "4RJ9A3AOjjMu",
        "outputId": "4ebfb3de-0f3c-44e1-ef1e-592fd516a4ca"
      },
      "execution_count": 3,
      "outputs": [
        {
          "output_type": "stream",
          "name": "stdout",
          "text": [
            "86400\n"
          ]
        }
      ]
    },
    {
      "cell_type": "markdown",
      "source": [
        "**4. Calculate seconds per day again, but this time save the result in a variable called seconds_per_day**\n"
      ],
      "metadata": {
        "id": "XKazp6HnoW82"
      }
    },
    {
      "cell_type": "code",
      "source": [
        "seconds_per_hour = 3600\n",
        "hours_per_day = 24\n",
        "\n",
        "seconds_per_day = seconds_per_hour * hours_per_day\n",
        "\n",
        "print(seconds_per_day)\n"
      ],
      "metadata": {
        "colab": {
          "base_uri": "https://localhost:8080/"
        },
        "id": "ncxQ7TGljvi2",
        "outputId": "b08d8e80-0b6c-4cee-80c8-5e6262461f1f"
      },
      "execution_count": 4,
      "outputs": [
        {
          "output_type": "stream",
          "name": "stdout",
          "text": [
            "86400\n"
          ]
        }
      ]
    },
    {
      "cell_type": "markdown",
      "source": [
        "**5. Divide seconds_per_day by seconds_per_hour. Use floating-point (/) division.**"
      ],
      "metadata": {
        "id": "tO3cceTlojTP"
      }
    },
    {
      "cell_type": "code",
      "source": [
        "seconds_per_hour = 3600\n",
        "seconds_per_day = 86400\n",
        "\n",
        "result = seconds_per_day / seconds_per_hour\n",
        "\n",
        "print(result)\n"
      ],
      "metadata": {
        "colab": {
          "base_uri": "https://localhost:8080/"
        },
        "id": "1hIGKEluofd3",
        "outputId": "0180e670-0676-4919-c386-3c54178fcfef"
      },
      "execution_count": 5,
      "outputs": [
        {
          "output_type": "stream",
          "name": "stdout",
          "text": [
            "24.0\n"
          ]
        }
      ]
    },
    {
      "cell_type": "markdown",
      "source": [
        "**6. Divide seconds_per_day by seconds_per_hour, using integer (//) division. Did this number agree\n",
        "with the floating-point value from the previous question, aside from the final .0?**"
      ],
      "metadata": {
        "id": "b_BCMwDXotE_"
      }
    },
    {
      "cell_type": "code",
      "source": [
        "seconds_per_hour = 3600\n",
        "seconds_per_day = 86400\n",
        "\n",
        "result = seconds_per_day // seconds_per_hour\n",
        "\n",
        "print(result)\n"
      ],
      "metadata": {
        "colab": {
          "base_uri": "https://localhost:8080/"
        },
        "id": "3PzHX9EGookP",
        "outputId": "a2a83178-a4a9-4b4f-ef45-06ff51069e74"
      },
      "execution_count": 6,
      "outputs": [
        {
          "output_type": "stream",
          "name": "stdout",
          "text": [
            "24\n"
          ]
        }
      ]
    },
    {
      "cell_type": "markdown",
      "source": [
        "**7. Write a generator, genPrimes, that returns the sequence of prime numbers on successive calls to\n",
        "its next() method: 2, 3, 5, 7, 11, ...**"
      ],
      "metadata": {
        "id": "AonjsO_Kozro"
      }
    },
    {
      "cell_type": "code",
      "source": [
        "def genPrimes():\n",
        "    primes = []  # List to store prime numbers\n",
        "    num = 2     # Starting number\n",
        "\n",
        "    while True:\n",
        "        if all(num % prime != 0 for prime in primes):\n",
        "            primes.append(num)\n",
        "            yield num\n",
        "        num += 1\n"
      ],
      "metadata": {
        "id": "edHvapHaowXn"
      },
      "execution_count": 7,
      "outputs": []
    },
    {
      "cell_type": "code",
      "source": [],
      "metadata": {
        "id": "GmSV68wao3hv"
      },
      "execution_count": null,
      "outputs": []
    }
  ]
}