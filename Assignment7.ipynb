{
  "nbformat": 4,
  "nbformat_minor": 0,
  "metadata": {
    "colab": {
      "provenance": []
    },
    "kernelspec": {
      "name": "python3",
      "display_name": "Python 3"
    },
    "language_info": {
      "name": "python"
    }
  },
  "cells": [
    {
      "cell_type": "markdown",
      "source": [
        "**1. What is the name of the feature responsible for generating Regex objects?**"
      ],
      "metadata": {
        "id": "T5xis7QejQgt"
      }
    },
    {
      "cell_type": "markdown",
      "source": [
        "Ans-In most programming languages, the feature responsible for generating regular expression objects is commonly referred to as a \"regular expression engine\" or \"regex engine.\" This engine is built into the programming language or provided through a library or module. The specific name of the feature or function may vary depending on the programming language you are using. For example, in Python, the module for regular expressions is called re, and you can create a regex object using the re.compile() function."
      ],
      "metadata": {
        "id": "9B6TkNi_jV_K"
      }
    },
    {
      "cell_type": "markdown",
      "source": [
        "**2. Why do raw strings often appear in Regex objects?**"
      ],
      "metadata": {
        "id": "7_yisQyQjbwD"
      }
    },
    {
      "cell_type": "markdown",
      "source": [
        "Ans-Raw strings are often used in regular expressions to avoid issues with escape characters. In many programming languages, backslashes () are used as escape characters to represent special characters or sequences within strings. However, regular expressions also frequently use backslashes to define their own special characters or sequences. This can lead to conflicts and confusion when using regular expressions within string literals.\n",
        "\n",
        "To address this, raw strings are used in regular expressions. In a raw string, backslashes are treated as literal characters rather than escape characters. This means that you can write regular expressions without having to double-escape special characters or sequences.\n",
        "\n",
        "For example, consider the regular expression pattern \\d+ which matches one or more digits. If you write this pattern as a regular string, you need to escape the backslash: \\\\d+. However, if you use a raw string, the backslash is treated as a literal character, simplifying the pattern to r'\\d+'.\n",
        "\n",
        "Using raw strings in regular expressions helps improve readability and reduces the likelihood of introducing errors due to incorrect or missing escape characters."
      ],
      "metadata": {
        "id": "yN7CTLgLjglt"
      }
    },
    {
      "cell_type": "markdown",
      "source": [
        "**3. What is the return value of the search() method?**"
      ],
      "metadata": {
        "id": "RtBi992Ijlhj"
      }
    },
    {
      "cell_type": "markdown",
      "source": [
        "Ans-The search() method in regular expressions is used to search for a pattern within a string. It returns a match object if a match is found, or None if no match is found.\n",
        "\n",
        "The match object contains information about the match, such as the matched string, the position where the match was found, and other details depending on the programming language or library being used."
      ],
      "metadata": {
        "id": "uC8FO-_3jrgk"
      }
    },
    {
      "cell_type": "code",
      "execution_count": 1,
      "metadata": {
        "colab": {
          "base_uri": "https://localhost:8080/"
        },
        "id": "Cq13Db4_i2yL",
        "outputId": "8a66cb70-2bad-4513-dc9a-67b0ee84c7e7"
      },
      "outputs": [
        {
          "output_type": "stream",
          "name": "stdout",
          "text": [
            "Match found: apple\n"
          ]
        }
      ],
      "source": [
        "#Here's an example in Python to illustrate the usage of the search() method and the potential return values:\n",
        "import re\n",
        "\n",
        "pattern = r'apple'\n",
        "text = 'I have an apple and a banana.'\n",
        "\n",
        "match = re.search(pattern, text)\n",
        "\n",
        "if match:\n",
        "    print('Match found:', match.group())\n",
        "else:\n",
        "    print('No match found.')\n"
      ]
    },
    {
      "cell_type": "markdown",
      "source": [
        "In this example, the search() method is used to search for the pattern 'apple' within the text string. If a match is found, the if condition is satisfied, and the matched string is printed using the group() method of the match object. If no match is found, the else block is executed, and the message \"No match found.\" is printed.\n",
        "\n",
        "\n",
        "\n",
        "\n",
        "\n"
      ],
      "metadata": {
        "id": "5qFjg39Cj1Cb"
      }
    },
    {
      "cell_type": "markdown",
      "source": [
        "**4. From a Match item, how do you get the actual strings that match the pattern?**"
      ],
      "metadata": {
        "id": "t-JKWPuLj5lj"
      }
    },
    {
      "cell_type": "markdown",
      "source": [
        "Ans-To retrieve the actual strings that match the pattern from a match object, you can use the group() method. The group() method, without any arguments, returns the entire matched string.\n",
        "\n",
        "In addition to group(), you can also use group(0) to achieve the same result. The argument 0 refers to the entire match."
      ],
      "metadata": {
        "id": "lzlZtfCvkB1y"
      }
    },
    {
      "cell_type": "code",
      "source": [
        "#Here's an example to illustrate how to retrieve the matched string using the group() method:\n",
        "import re\n",
        "\n",
        "pattern = r'apple'\n",
        "text = 'I have an apple and a banana.'\n",
        "\n",
        "match = re.search(pattern, text)\n",
        "\n",
        "if match:\n",
        "    print('Match found:', match.group())\n",
        "else:\n",
        "    print('No match found.')\n"
      ],
      "metadata": {
        "colab": {
          "base_uri": "https://localhost:8080/"
        },
        "id": "yFvlPzCjjxzf",
        "outputId": "f5a3f8dc-057c-4efc-da9f-a7dfd791fe57"
      },
      "execution_count": 2,
      "outputs": [
        {
          "output_type": "stream",
          "name": "stdout",
          "text": [
            "Match found: apple\n"
          ]
        }
      ]
    },
    {
      "cell_type": "markdown",
      "source": [
        "**5. In the regex which created from the r&#39;(\\d\\d\\d)-(\\d\\d\\d-\\d\\d\\d\\d)&#39;, what does group zero cover?\n",
        "Group 2? Group 1?**"
      ],
      "metadata": {
        "id": "44fsm3CpkmFn"
      }
    },
    {
      "cell_type": "markdown",
      "source": [
        "Ans-In the regular expression r'(\\d\\d\\d)-(\\d\\d\\d-\\d\\d\\d\\d)', the grouping parentheses ( ) are used to define capturing groups. Capturing groups allow you to extract specific portions of a matched string.\n",
        "\n",
        "In this particular regular expression:\n",
        "\n",
        "Group 0 (or group(0)): It represents the entire match. In this case, it covers the entire string matched by the pattern. So, group(0) would return the full phone number, including the hyphen: 123-456-7890.\n",
        "\n",
        "Group 1 (or group(1)): It represents the content matched by the first set of parentheses (\\d\\d\\d). In this case, it corresponds to the three-digit area code. So, group(1) would return the area code: 123.\n",
        "\n",
        "Group 2 (or group(2)): It represents the content matched by the second set of parentheses (\\d\\d\\d-\\d\\d\\d\\d). It captures the seven-digit phone number portion, including the hyphen. So, group(2) would return the phone number without the area code: 456-7890."
      ],
      "metadata": {
        "id": "SYR0OxdUkpyq"
      }
    },
    {
      "cell_type": "code",
      "source": [
        "#Here's an example in Python to demonstrate how to access the different groups:\n",
        "import re\n",
        "\n",
        "pattern = r'(\\d\\d\\d)-(\\d\\d\\d-\\d\\d\\d\\d)'\n",
        "text = 'Phone number: 123-456-7890'\n",
        "\n",
        "match = re.search(pattern, text)\n",
        "\n",
        "if match:\n",
        "    print('Group 0 (entire match):', match.group(0))\n",
        "    print('Group 1 (area code):', match.group(1))\n",
        "    print('Group 2 (phone number):', match.group(2))\n",
        "else:\n",
        "    print('No match found.')\n"
      ],
      "metadata": {
        "colab": {
          "base_uri": "https://localhost:8080/"
        },
        "id": "4uOw9ym6kKmR",
        "outputId": "67eb1bf3-f9e3-4db2-82f8-a0e96614e7e1"
      },
      "execution_count": 3,
      "outputs": [
        {
          "output_type": "stream",
          "name": "stdout",
          "text": [
            "Group 0 (entire match): 123-456-7890\n",
            "Group 1 (area code): 123\n",
            "Group 2 (phone number): 456-7890\n"
          ]
        }
      ]
    },
    {
      "cell_type": "markdown",
      "source": [
        "**6. In standard expression syntax, parentheses and intervals have distinct meanings. How can you tell\n",
        "a regex that you want it to fit real parentheses and periods?**"
      ],
      "metadata": {
        "id": "ZcDaw8H9k23Z"
      }
    },
    {
      "cell_type": "markdown",
      "source": [
        "Ans-To specify that you want a regular expression to match literal parentheses and periods instead of interpreting them as special characters with distinct meanings, you can use the backslash () character to escape them. Escaping a character in a regular expression means that it will be treated as a literal character and not as a special metacharacter.\n",
        "\n",
        "Here's how you can represent literal parentheses and periods in a regular expression:\n",
        "\n",
        "To match a literal opening parenthesis \"(\" or closing parenthesis \")\", you can use the escaped form \"\n",
        "\"\n",
        "�\n",
        "�\n",
        "\"\n",
        "\"or\"\" respectively.\n",
        "For example, the pattern r\"\\(example\\)\" will match the exact string \"(example)\".\n",
        "\n",
        "\n",
        "By escaping the parentheses and period with a backslash, you are telling the regular expression engine to treat them as regular characters rather than special symbols.\n",
        "\n",
        "Note that this escaping mechanism applies to other special metacharacters in regular expressions as well. If you want to match a literal backslash, you would escape it with another backslash, like \"\\\"."
      ],
      "metadata": {
        "id": "sd-5N6btk7X6"
      }
    },
    {
      "cell_type": "markdown",
      "source": [
        "**7. The findall() method returns a string list or a list of string tuples. What causes it to return one of\n",
        "the two options?**"
      ],
      "metadata": {
        "id": "l-vg8U7glKXr"
      }
    },
    {
      "cell_type": "markdown",
      "source": [
        "Ans-The findall() method in regular expressions returns different data structures depending on the presence or absence of capturing groups in the regular expression pattern.\n",
        "\n",
        "When there are no capturing groups in the pattern:\n",
        "If the regular expression pattern does not contain any capturing groups (defined by parentheses), findall() will return a list of strings. Each string in the list represents a separate match found in the input string."
      ],
      "metadata": {
        "id": "WnUmYcBVlM9X"
      }
    },
    {
      "cell_type": "code",
      "source": [
        "#example\n",
        "import re\n",
        "\n",
        "pattern = r'\\d+'\n",
        "text = 'There are 10 apples and 5 bananas.'\n",
        "\n",
        "matches = re.findall(pattern, text)\n",
        "print(matches)\n"
      ],
      "metadata": {
        "colab": {
          "base_uri": "https://localhost:8080/"
        },
        "id": "Vz0lRV-Skyt6",
        "outputId": "c344db13-256d-4de8-e970-f7e06b19d741"
      },
      "execution_count": 4,
      "outputs": [
        {
          "output_type": "stream",
          "name": "stdout",
          "text": [
            "['10', '5']\n"
          ]
        }
      ]
    },
    {
      "cell_type": "markdown",
      "source": [
        "When there are capturing groups in the pattern:\n",
        "If the regular expression pattern contains one or more capturing groups, findall() will return a list of tuples. Each tuple represents a match, and each element of the tuple corresponds to a capturing group."
      ],
      "metadata": {
        "id": "QtiIRiKIlXc0"
      }
    },
    {
      "cell_type": "code",
      "source": [
        "#example\n",
        "import re\n",
        "\n",
        "pattern = r'(\\d+)-(\\d+)'\n",
        "text = 'The phone numbers are 123-456 and 789-012.'\n",
        "\n",
        "matches = re.findall(pattern, text)\n",
        "print(matches)\n"
      ],
      "metadata": {
        "colab": {
          "base_uri": "https://localhost:8080/"
        },
        "id": "VA3sBU8ilTnn",
        "outputId": "0700207b-0062-48c2-9e24-f98069b2f3c7"
      },
      "execution_count": 5,
      "outputs": [
        {
          "output_type": "stream",
          "name": "stdout",
          "text": [
            "[('123', '456'), ('789', '012')]\n"
          ]
        }
      ]
    },
    {
      "cell_type": "markdown",
      "source": [
        "**8. In standard expressions, what does the | character mean?**"
      ],
      "metadata": {
        "id": "FSSQbfRmlfX-"
      }
    },
    {
      "cell_type": "markdown",
      "source": [
        "Ans-In standard regular expressions, the vertical bar (|) character is used as the logical OR operator. It allows you to specify multiple alternative patterns and matches any of the patterns separated by the | symbol.\n",
        "\n",
        "Here's how the | character works in regular expressions:\n",
        "\n",
        "Pattern matching: The | character separates alternative patterns, and it matches either the pattern on the left or the pattern on the right.\n",
        "For example, the pattern apple|banana matches either the word \"apple\" or the word \"banana\". If either \"apple\" or \"banana\" is found in the input string, it will be considered a match.\n",
        "\n",
        "Grouping: The | character can be used to group multiple characters or patterns together for alternation.\n",
        "For example, (apple|banana)pie matches either \"applepie\" or \"bananapie\". It specifies that \"apple\" or \"banana\" can appear before the word \"pie\".\n",
        "\n",
        "Precedence: The | character has low precedence, so it is often necessary to use parentheses to specify the scope of the alternation.\n",
        "For example, apple|banana|orange juice matches either \"apple\", \"banana\", or \"orange juice\". Without parentheses, it would be interpreted as (apple)|(banana)|(orange juice), which is equivalent in this case but can make a difference in more complex patterns.\n",
        "\n",
        "The vertical bar (|) is a powerful tool in regular expressions to provide choices and flexibility in matching patterns. It allows you to define multiple options and select the one that matches in the input string."
      ],
      "metadata": {
        "id": "AHtCYvYwll4-"
      }
    },
    {
      "cell_type": "markdown",
      "source": [
        "**9. In regular expressions, what does the character stand for?**"
      ],
      "metadata": {
        "id": "OL3AW0otlrbt"
      }
    },
    {
      "cell_type": "markdown",
      "source": [
        "Ans-\".\" (dot/period): The dot matches any single character except a newline. For example, the pattern \"a.b\" would match \"aab\", \"axb\", \"a3b\", etc.\n",
        "\n",
        "\"^\" (caret): The caret asserts the start of a line or string. It matches the position before the first character. For example, the pattern \"^abc\" would match \"abc\" if it appears at the start of a line or string.\n",
        "\n",
        "(\"$\") (dollar sign): The dollar sign asserts the end of a line or string. It matches the position after the last character. For example, the pattern \"xyz$\" would match \"xyz\" if it appears at the end of a line or string.\n",
        "\n",
        "\"[\" (opening bracket): Opening bracket starts a character class, allowing you to specify a set or range of characters. For example, the pattern \"[abc]\" would match any single occurrence of \"a\", \"b\", or \"c\".\n",
        "\n",
        "\"]\" (closing bracket): The closing bracket is used to mark the end of a character class.\n",
        "\n",
        "\"\" (backslash): The backslash is an escape character. It is used to escape metacharacters and give them their literal meaning. For example, to match a literal dot, you would use \""
      ],
      "metadata": {
        "id": "S9PSA5jJl8rz"
      }
    },
    {
      "cell_type": "markdown",
      "source": [
        "**10.In regular expressions, what is the difference between the + and * characters?**"
      ],
      "metadata": {
        "id": "E_iACBN3m0JM"
      }
    },
    {
      "cell_type": "markdown",
      "source": [
        "Ans-\n",
        "In regular expressions, the \"+\" and \"*\" characters are quantifiers that modify the behavior of the preceding element in the pattern. Here's the difference between the two:\n",
        "\n",
        "\"+\" (Plus):\n",
        "The \"+\" quantifier specifies that the preceding element should occur one or more times. It matches one or more occurrences of the preceding element.\n",
        "For example:\n",
        "\n",
        "Pattern: a+ will match one or more consecutive occurrences of the letter \"a\" in a string. It would match \"a\", \"aa\", \"aaa\", and so on.\n",
        "\"\" (Asterisk):\n",
        "The \"\" quantifier specifies that the preceding element should occur zero or more times. It matches zero or more occurrences of the preceding element.\n",
        "For example:\n",
        "\n",
        "Pattern: a* will match zero or more occurrences of the letter \"a\" in a string. It would match \"\", \"a\", \"aa\", \"aaa\", and so on."
      ],
      "metadata": {
        "id": "gsWtgQYBm3r9"
      }
    },
    {
      "cell_type": "markdown",
      "source": [
        "**11. What is the difference between {4} and {4,5} in regular expression?**"
      ],
      "metadata": {
        "id": "PgYTIx-GHwu3"
      }
    },
    {
      "cell_type": "markdown",
      "source": [
        "Ans-In regular expressions, the curly braces {} are used as quantifiers to specify the number of occurrences of the preceding element. The difference between {4} and {4,5} is as follows:\n",
        "\n",
        "{4}:\n",
        "The {4} quantifier specifies that the preceding element should occur exactly four times. It matches only if the preceding element repeats exactly four times consecutively.\n",
        "\n",
        "For example:\n",
        "\n",
        "Pattern: a{4} will match \"aaaa\" but not \"aa\" or \"aaaaa\".\n",
        "{4,5}:\n",
        "The {4,5} quantifier specifies a range where the preceding element should occur a minimum of four times and a maximum of five times. It matches if the preceding element repeats four or five times consecutively.\n",
        "\n",
        "For example:\n",
        "\n",
        "Pattern: a{4,5} will match \"aaaa\" and \"aaaaa\" but not \"aa\" or \"aaaaaaaa\"."
      ],
      "metadata": {
        "id": "ELYpsBNvH2Q-"
      }
    },
    {
      "cell_type": "markdown",
      "source": [
        "**12. What do you mean by the \\d, \\w, and \\s shorthand character classes signify in regular\n",
        "expressions?**"
      ],
      "metadata": {
        "id": "iR5qVmnHIEWW"
      }
    },
    {
      "cell_type": "markdown",
      "source": [
        "Ans-In regular expressions, the shorthand character classes \\d, \\w, and \\s represent predefined sets of characters with specific meanings. Here's what each of these shorthand character classes signifies:\n",
        "\n",
        "\\d:\n",
        "The \\d shorthand character class represents any digit from 0 to 9. It is equivalent to the character range [0-9]. It matches a single digit.\n",
        "\n",
        "For example:\n",
        "\n",
        "Pattern: \\d will match any single digit, such as \"0\", \"1\", \"9\", etc.\n",
        "\\w:\n",
        "The \\w shorthand character class represents any word character. It includes all alphanumeric characters (letters and digits) and underscores. It is equivalent to the character range [a-zA-Z0-9_].\n",
        "\n",
        "For example:\n",
        "\n",
        "Pattern: \\w will match any single word character, such as \"a\", \"A\", \"0\", \"_\", etc.\n",
        "\\s:\n",
        "The \\s shorthand character class represents any whitespace character. It matches spaces, tabs, newlines, and other whitespace characters.\n",
        "\n"
      ],
      "metadata": {
        "id": "Fa1mlwFoIV4H"
      }
    },
    {
      "cell_type": "markdown",
      "source": [
        "**13. What do means by \\D, \\W, and \\S shorthand character classes signify in regular expressions?**"
      ],
      "metadata": {
        "id": "a_xQ7hPQIb5n"
      }
    },
    {
      "cell_type": "markdown",
      "source": [
        "Ans-\n",
        "In regular expressions, the shorthand character classes \\D, \\W, and \\S are the negations or opposites of the \\d, \\w, and \\s shorthand character classes, respectively. Here's what each of these shorthand character classes signifies:\n",
        "\n",
        "\\D:\n",
        "The \\D shorthand character class represents any character that is not a digit. It matches any character that is not within the range of 0 to 9.\n",
        "\n",
        "For example:\n",
        "\n",
        "Pattern: \\D will match any non-digit character, such as letters, symbols, whitespace, etc.\n",
        "\\W:\n",
        "The \\W shorthand character class represents any character that is not a word character. It matches any character that is not an alphanumeric character (letter or digit) or an underscore.\n",
        "\n",
        "For example:\n",
        "\n",
        "Pattern: \\W will match any non-word character, such as symbols, whitespace, etc.\n",
        "\\S:\n",
        "The \\S shorthand character class represents any character that is not a whitespace character. It matches any character that is not a space, tab, newline, or other whitespace character."
      ],
      "metadata": {
        "id": "yPr_sUcPIfJv"
      }
    },
    {
      "cell_type": "markdown",
      "source": [
        "**14. What is the difference between .*? and .*?**"
      ],
      "metadata": {
        "id": "OtQnoCjkJSt3"
      }
    },
    {
      "cell_type": "markdown",
      "source": [
        "Ans-n regular expressions, the .*? and .* constructs are used for pattern matching, but they have slightly different behaviors. Here's the difference between them:\n",
        "\n",
        ".*? (Non-greedy/Lazy quantifier):\n",
        "The .*? construct is a non-greedy or lazy quantifier. It matches zero or more occurrences of any character (except a newline) but in a non-greedy manner. It will match as few characters as possible to satisfy the overall pattern.\n",
        "\n",
        "For example:\n",
        "\n",
        "Pattern: a.*?b will match the shortest substring that starts with \"a\" and ends with \"b\". In the input string \"aabab\", it would match \"aab\" instead of the entire string \"aabab\".\n",
        ".* (Greedy quantifier):\n",
        "The .* construct is a greedy quantifier. It matches zero or more occurrences of any character (except a newline) in a greedy manner. It will match as many characters as possible to satisfy the overall pattern."
      ],
      "metadata": {
        "id": "JmnfNracJ2pX"
      }
    },
    {
      "cell_type": "markdown",
      "source": [
        "**15. What is the syntax for matching both numbers and lowercase letters with a character class?**"
      ],
      "metadata": {
        "id": "T-IdCiZ8K3KR"
      }
    },
    {
      "cell_type": "markdown",
      "source": [
        "Ans-To match both numbers and lowercase letters using a character class in regular expressions, you can combine the ranges for numbers and lowercase letters within square brackets."
      ],
      "metadata": {
        "id": "JaJgSDNCK_SL"
      }
    },
    {
      "cell_type": "markdown",
      "source": [
        "**16. What is the procedure for making a normal expression in regax case insensitive?**"
      ],
      "metadata": {
        "id": "clPgpNZIOw-v"
      }
    },
    {
      "cell_type": "markdown",
      "source": [
        "Ans-To make a regular expression case insensitive in most programming languages, you can use a flag or modifier. The specific flag or modifier may vary depending on the programming language or regex engine you are using. Here are two common approaches:\n",
        "\n",
        "Using the \"i\" flag or modifier:\n",
        "\n",
        "Syntax: /pattern/i or Regexp.new(\"pattern\", Regexp::IGNORECASE)\n",
        "Description: Appending the \"i\" flag or using the appropriate modifier makes the regular expression case insensitive. It allows the pattern to match characters regardless of their case."
      ],
      "metadata": {
        "id": "WUnbQeJ_UOjq"
      }
    },
    {
      "cell_type": "code",
      "source": [
        "#example\n",
        "import re\n",
        "\n",
        "pattern = r\"apple\"\n",
        "text = \"I have an Apple\"\n",
        "\n",
        "matches = re.findall(pattern, text, re.IGNORECASE)\n",
        "print(matches)\n"
      ],
      "metadata": {
        "colab": {
          "base_uri": "https://localhost:8080/"
        },
        "id": "aXnmGigmlbUq",
        "outputId": "93d9bd77-7f63-4393-9aee-4f564e643cda"
      },
      "execution_count": 1,
      "outputs": [
        {
          "output_type": "stream",
          "name": "stdout",
          "text": [
            "['Apple']\n"
          ]
        }
      ]
    },
    {
      "cell_type": "markdown",
      "source": [
        "**17. What does the . character normally match? What does it match if re.DOTALL is passed as 2nd\n",
        "argument in re.compile()?**"
      ],
      "metadata": {
        "id": "0tUgbG7jVTn8"
      }
    },
    {
      "cell_type": "markdown",
      "source": [
        "Ans-n regular expressions, the . (dot) character normally matches any character except a newline character (\\n). It matches a single character of any kind, including letters, digits, symbols, and whitespace, except for newline characters.\n",
        "\n",
        "However, if the re.DOTALL flag is passed as the second argument in the re.compile() function, the . character will match any character, including newline characters (\\n). This flag modifies the behavior of the dot metacharacter to match any character, including newlines, allowing it to match across multiple lines."
      ],
      "metadata": {
        "id": "SYHy9oZmWP4c"
      }
    },
    {
      "cell_type": "code",
      "source": [
        "#example\n",
        "import re\n",
        "\n",
        "pattern = re.compile(r'abc.')  # Normal behavior, dot does not match newline\n",
        "text = 'abc\\nxyz'\n",
        "\n",
        "matches = pattern.findall(text)\n",
        "print(matches)\n",
        "\n"
      ],
      "metadata": {
        "colab": {
          "base_uri": "https://localhost:8080/"
        },
        "id": "3QkaxJSOUpnE",
        "outputId": "4ac1c5a3-3706-41ea-b65f-b5d6211cb39a"
      },
      "execution_count": 2,
      "outputs": [
        {
          "output_type": "stream",
          "name": "stdout",
          "text": [
            "[]\n"
          ]
        }
      ]
    },
    {
      "cell_type": "markdown",
      "source": [
        "n the above example, without the re.DOTALL flag, the dot (.) matches any character except the newline character. Therefore, in the input string \"abc\\nxyz\", the dot only matches the \"c\" character, and the newline character is not matched."
      ],
      "metadata": {
        "id": "tmj2kHVEXF-h"
      }
    },
    {
      "cell_type": "code",
      "source": [
        "#Now, let's see an example using the re.DOTALL flag:\n",
        "import re\n",
        "\n",
        "pattern = re.compile(r'abc.', re.DOTALL)  # Dot matches newline\n",
        "text = 'abc\\nxyz'\n",
        "\n",
        "matches = pattern.findall(text)\n",
        "print(matches)\n"
      ],
      "metadata": {
        "colab": {
          "base_uri": "https://localhost:8080/"
        },
        "id": "1k5KLxnwXFIy",
        "outputId": "0cab8475-36dd-44c6-e2d1-e54b9f2ec2a5"
      },
      "execution_count": 3,
      "outputs": [
        {
          "output_type": "stream",
          "name": "stdout",
          "text": [
            "['abc\\n']\n"
          ]
        }
      ]
    },
    {
      "cell_type": "markdown",
      "source": [
        "With the re.DOTALL flag, the dot (.) matches any character, including the newline character. Therefore, in the input string \"abc\\nxyz\", the dot matches the \"c\" character and the newline character, resulting in a match of \"abc\\n\".\n",
        "\n",
        "The re.DOTALL flag is useful when you want the dot to match across multiple lines, such as when dealing with multiline text or when you want to include newline characters in your pattern matching."
      ],
      "metadata": {
        "id": "2-fm8MsFXP3c"
      }
    },
    {
      "cell_type": "markdown",
      "source": [
        "**18. If numReg = re.compile(r&#39;\\d+&#39;), what will numRegex.sub(&#39;X&#39;, &#39;11 drummers, 10 pipers, five rings, 4\n",
        "hen&#39;) return?**"
      ],
      "metadata": {
        "id": "NwH7eKi7XTWe"
      }
    },
    {
      "cell_type": "markdown",
      "source": [
        "Ans-If numReg = re.compile(r'\\d+'), and we call numRegex.sub('X', '11 drummers, 10 pipers, five rings, 4 hen'), the sub() method will replace all occurrences of one or more digits with the string 'X'. Here's the expected return value:"
      ],
      "metadata": {
        "id": "fDfLLuUCXZ20"
      }
    },
    {
      "cell_type": "code",
      "source": [
        "#example\n",
        "import re\n",
        "\n",
        "numRegex = re.compile(r'\\d+')\n",
        "result = numRegex.sub('X', '11 drummers, 10 pipers, five rings, 4 hen')\n",
        "print(result)"
      ],
      "metadata": {
        "colab": {
          "base_uri": "https://localhost:8080/"
        },
        "id": "3fnzd8-AXN_F",
        "outputId": "9ea71968-7e6e-4cc8-8e13-af1ba7f91f46"
      },
      "execution_count": 4,
      "outputs": [
        {
          "output_type": "stream",
          "name": "stdout",
          "text": [
            "X drummers, X pipers, five rings, X hen\n"
          ]
        }
      ]
    },
    {
      "cell_type": "markdown",
      "source": [
        "**19. What does passing re.VERBOSE as the 2nd argument to re.compile() allow to do?**"
      ],
      "metadata": {
        "id": "9PzpgKkQXobD"
      }
    },
    {
      "cell_type": "markdown",
      "source": [
        "Ans-When you pass re.VERBOSE as the second argument to re.compile() in Python, it allows you to create more readable and organized regular expressions by enabling verbose mode. Here's what passing re.VERBOSE enables you to do:\n",
        "\n",
        "Ignoring Whitespace and Comments:\n",
        "In verbose mode, whitespace characters within the regular expression pattern are ignored, except when they are escaped or within character classes ([ ]). This allows you to add spaces, line breaks, and indentation to your regular expression pattern for better readability. Additionally, you can include comments in the pattern using the # symbol. This helps in documenting and explaining complex patterns.\n",
        "\n",
        "Improving Readability:\n",
        "By breaking down your regular expression into multiple lines and adding comments, you can make it easier to understand and maintain. This is especially useful for long and complex regular expressions."
      ],
      "metadata": {
        "id": "4iUgmQhhXw5Z"
      }
    },
    {
      "cell_type": "code",
      "source": [
        "#Here's an example to illustrate the usage of re.VERBOSE:\n",
        "import re\n",
        "\n",
        "pattern = re.compile(r'''\n",
        "    \\d{4}      # Match four digits\n",
        "    -          # Match a hyphen\n",
        "    \\d{2}      # Match two digits\n",
        "    -          # Match a hyphen\n",
        "    \\d{2}      # Match two digits\n",
        "''', re.VERBOSE)\n",
        "\n",
        "text = 'Date: 2022-12-31'\n",
        "\n",
        "match = pattern.search(text)\n",
        "if match:\n",
        "    print(match.group())\n"
      ],
      "metadata": {
        "colab": {
          "base_uri": "https://localhost:8080/"
        },
        "id": "dDkwwM0SXmED",
        "outputId": "8823c59f-d18b-4184-d275-b6462060fd95"
      },
      "execution_count": 5,
      "outputs": [
        {
          "output_type": "stream",
          "name": "stdout",
          "text": [
            "2022-12-31\n"
          ]
        }
      ]
    },
    {
      "cell_type": "markdown",
      "source": [
        "**20. How would you write a regex that match a number with comma for every three digits? It must\n",
        "match the given following:\n",
        "&#39;42&#39;\n",
        "&#39;1,234&#39;\n",
        "&#39;6,368,745&#39;\n",
        "\n",
        "but not the following:\n",
        "&#39;12,34,567&#39; (which has only two digits between the commas)\n",
        "&#39;1234&#39; (which lacks commas)**"
      ],
      "metadata": {
        "id": "yoRlRbOrX6K8"
      }
    },
    {
      "cell_type": "code",
      "source": [
        "import re\n",
        "\n",
        "pattern = re.compile(r'^\\d{1,3}(?:,\\d{3})*$')\n",
        "text1 = '42'\n",
        "text2 = '1,234'\n",
        "text3 = '6,368,745'\n",
        "text4 = '12,34,567'\n",
        "text5 = '1234'\n",
        "\n",
        "print(pattern.match(text1))  # Output: <re.Match object; span=(0, 2), match='42'>\n",
        "print(pattern.match(text2))  # Output: <re.Match object; span=(0, 6), match='1,234'>\n",
        "print(pattern.match(text3))  # Output: <re.Match object; span=(0, 10), match='6,368,745'>\n",
        "print(pattern.match(text4))  # Output: None\n",
        "print(pattern.match(text5))  # Output: None\n"
      ],
      "metadata": {
        "colab": {
          "base_uri": "https://localhost:8080/"
        },
        "id": "IL0jypkxX2OO",
        "outputId": "6cbaac2f-d82a-441c-8345-6e99cb9577dd"
      },
      "execution_count": 6,
      "outputs": [
        {
          "output_type": "stream",
          "name": "stdout",
          "text": [
            "<re.Match object; span=(0, 2), match='42'>\n",
            "<re.Match object; span=(0, 5), match='1,234'>\n",
            "<re.Match object; span=(0, 9), match='6,368,745'>\n",
            "None\n",
            "None\n"
          ]
        }
      ]
    },
    {
      "cell_type": "markdown",
      "source": [
        "**21. How would you write a regex that matches the full name of someone whose last name is\n",
        "Watanabe? You can assume that the first name that comes before it will always be one word that\n",
        "begins with a capital letter. The regex must match the following:\n",
        "&#39;Haruto Watanabe&#39;\n",
        "&#39;Alice Watanabe&#39;\n",
        "&#39;RoboCop Watanabe&#39;\n",
        "but not the following:\n",
        "&#39;haruto Watanabe&#39; (where the first name is not capitalized)\n",
        "&#39;Mr. Watanabe&#39; (where the preceding word has a nonletter character)\n",
        "&#39;Watanabe&#39; (which has no first name)\n",
        "&#39;Haruto watanabe&#39; (where Watanabe is not capitalized)**"
      ],
      "metadata": {
        "id": "CJAG2SNyYLEO"
      }
    },
    {
      "cell_type": "code",
      "source": [
        "import re\n",
        "\n",
        "pattern = re.compile(r'^[A-Z][a-zA-Z]* Watanabe$')\n",
        "text1 = 'Haruto Watanabe'\n",
        "text2 = 'Alice Watanabe'\n",
        "text3 = 'RoboCop Watanabe'\n",
        "text4 = 'haruto Watanabe'\n",
        "text5 = 'Mr. Watanabe'\n",
        "text6 = 'Watanabe'\n",
        "text7 = 'Haruto watanabe'\n",
        "\n",
        "print(pattern.match(text1))  # Output: <re.Match object; span=(0, 15), match='Haruto Watanabe'>\n",
        "print(pattern.match(text2))  # Output: <re.Match object; span=(0, 13), match='Alice Watanabe'>\n",
        "print(pattern.match(text3))  # Output: <re.Match object; span=(0, 14), match='RoboCop Watanabe'>\n",
        "print(pattern.match(text4))  # Output: None\n",
        "print(pattern.match(text5))  # Output: None\n",
        "print(pattern.match(text6))  # Output: None\n",
        "print(pattern.match(text7))  # Output: None\n"
      ],
      "metadata": {
        "colab": {
          "base_uri": "https://localhost:8080/"
        },
        "id": "fV9hrTIjYGdR",
        "outputId": "0af24b8e-0172-4d8e-a431-ac196bdd0f93"
      },
      "execution_count": 7,
      "outputs": [
        {
          "output_type": "stream",
          "name": "stdout",
          "text": [
            "<re.Match object; span=(0, 15), match='Haruto Watanabe'>\n",
            "<re.Match object; span=(0, 14), match='Alice Watanabe'>\n",
            "<re.Match object; span=(0, 16), match='RoboCop Watanabe'>\n",
            "None\n",
            "None\n",
            "None\n",
            "None\n"
          ]
        }
      ]
    },
    {
      "cell_type": "markdown",
      "source": [
        "**22. How would you write a regex that matches a sentence where the first word is either Alice, Bob,\n",
        "or Carol; the second word is either eats, pets, or throws; the third word is apples, cats, or baseballs;\n",
        "and the sentence ends with a period? This regex should be case-insensitive. It must match the\n",
        "following:\n",
        "&#39;Alice eats apples.&#39;\n",
        "&#39;Bob pets cats.&#39;\n",
        "&#39;Carol throws baseballs.&#39;\n",
        "&#39;Alice throws Apples.&#39;\n",
        "&#39;BOB EATS CATS.&#39;\n",
        "but not the following:\n",
        "&#39;RoboCop eats apples.&#39;\n",
        "&#39;ALICE THROWS FOOTBALLS.&#39;\n",
        "&#39;Carol eats 7 cats.&#39;**"
      ],
      "metadata": {
        "id": "9-CRVihgYXD3"
      }
    },
    {
      "cell_type": "code",
      "source": [
        "import re\n",
        "\n",
        "pattern = re.compile(r'^(Alice|Bob|Carol) (eats|pets|throws) (apples|cats|baseballs)\\.$', re.IGNORECASE)\n",
        "text1 = 'Alice eats apples.'\n",
        "text2 = 'Bob pets cats.'\n",
        "text3 = 'Carol throws baseballs.'\n",
        "text4 = 'Alice throws Apples.'\n",
        "text5 = 'BOB EATS CATS.'\n",
        "text6 = 'RoboCop eats apples.'\n",
        "text7 = 'ALICE THROWS FOOTBALLS.'\n",
        "text8 = 'Carol eats 7 cats.'\n",
        "\n",
        "print(pattern.match(text1))  # Output: <re.Match object; span=(0, 18), match='Alice eats apples.'>\n",
        "print(pattern.match(text2))  # Output: <re.Match object; span=(0, 15), match='Bob pets cats.'>\n",
        "print(pattern.match(text3))  # Output: <re.Match object; span=(0, 21), match='Carol throws baseballs.'>\n",
        "print(pattern.match(text4))  # Output: <re.Match object; span=(0, 18), match='Alice throws Apples.'>\n",
        "print(pattern.match(text5))  # Output: <re.Match object; span=(0, 15), match='BOB EATS CATS.'>\n",
        "print(pattern.match(text6))  # Output: None\n",
        "print(pattern.match(text7))  # Output: None\n",
        "print(pattern.match(text8))  # Output: None\n"
      ],
      "metadata": {
        "colab": {
          "base_uri": "https://localhost:8080/"
        },
        "id": "lWE4KsiEYSo0",
        "outputId": "61024441-9ae6-4abb-fe67-f2b972b70e75"
      },
      "execution_count": 8,
      "outputs": [
        {
          "output_type": "stream",
          "name": "stdout",
          "text": [
            "<re.Match object; span=(0, 18), match='Alice eats apples.'>\n",
            "<re.Match object; span=(0, 14), match='Bob pets cats.'>\n",
            "<re.Match object; span=(0, 23), match='Carol throws baseballs.'>\n",
            "<re.Match object; span=(0, 20), match='Alice throws Apples.'>\n",
            "<re.Match object; span=(0, 14), match='BOB EATS CATS.'>\n",
            "None\n",
            "None\n",
            "None\n"
          ]
        }
      ]
    },
    {
      "cell_type": "code",
      "source": [],
      "metadata": {
        "id": "agYuk2blYcAc"
      },
      "execution_count": null,
      "outputs": []
    }
  ]
}