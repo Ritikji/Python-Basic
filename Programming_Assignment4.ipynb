{
  "nbformat": 4,
  "nbformat_minor": 0,
  "metadata": {
    "colab": {
      "provenance": []
    },
    "kernelspec": {
      "name": "python3",
      "display_name": "Python 3"
    },
    "language_info": {
      "name": "python"
    }
  },
  "cells": [
    {
      "cell_type": "markdown",
      "source": [
        "**1. Write a Python Program to Find the Factorial of a Number?**"
      ],
      "metadata": {
        "id": "f5wFxbXiTpbw"
      }
    },
    {
      "cell_type": "code",
      "execution_count": 1,
      "metadata": {
        "colab": {
          "base_uri": "https://localhost:8080/"
        },
        "id": "m6VqFIgrMRuv",
        "outputId": "9a82e02f-90cc-404d-ad88-d6af681e4ac7"
      },
      "outputs": [
        {
          "output_type": "stream",
          "name": "stdout",
          "text": [
            "The factorial of 5 is 120\n"
          ]
        }
      ],
      "source": [
        "def factorial(n):\n",
        "    if n == 0:\n",
        "        return 1\n",
        "    else:\n",
        "        return n * factorial(n - 1)\n",
        "\n",
        "# Example usage\n",
        "number = 5\n",
        "\n",
        "result = factorial(number)\n",
        "print(\"The factorial of\", number, \"is\", result)\n"
      ]
    },
    {
      "cell_type": "markdown",
      "source": [
        "**2. Write a Python Program to Display the multiplication Table?**"
      ],
      "metadata": {
        "id": "ER2ATVbKTy_-"
      }
    },
    {
      "cell_type": "code",
      "source": [
        "def multiplication_table(n):\n",
        "    for i in range(1, 11):\n",
        "        print(f\"{n} x {i} = {n * i}\")\n",
        "\n",
        "# Take input from the user\n",
        "number = int(input(\"Enter a number: \"))\n",
        "\n",
        "# Display the multiplication table\n",
        "multiplication_table(number)\n"
      ],
      "metadata": {
        "colab": {
          "base_uri": "https://localhost:8080/"
        },
        "id": "pcmPzjrzTuNo",
        "outputId": "1fc57b04-a648-4bf4-e864-69add52c64f1"
      },
      "execution_count": 2,
      "outputs": [
        {
          "output_type": "stream",
          "name": "stdout",
          "text": [
            "Enter a number: 6\n",
            "6 x 1 = 6\n",
            "6 x 2 = 12\n",
            "6 x 3 = 18\n",
            "6 x 4 = 24\n",
            "6 x 5 = 30\n",
            "6 x 6 = 36\n",
            "6 x 7 = 42\n",
            "6 x 8 = 48\n",
            "6 x 9 = 54\n",
            "6 x 10 = 60\n"
          ]
        }
      ]
    },
    {
      "cell_type": "markdown",
      "source": [
        "**3. Write a Python Program to Print the Fibonacci sequence?**"
      ],
      "metadata": {
        "id": "5mqFJI-iURbe"
      }
    },
    {
      "cell_type": "code",
      "source": [
        "def fibonacci_sequence(n):\n",
        "    # First two terms of the sequence\n",
        "    fib_seq = [0, 1]\n",
        "\n",
        "    # Generate Fibonacci sequence up to the nth term\n",
        "    for i in range(2, n):\n",
        "        fib_seq.append(fib_seq[i-1] + fib_seq[i-2])\n",
        "\n",
        "    return fib_seq\n",
        "\n",
        "# Take input from the user\n",
        "number = int(input(\"Enter the number of terms: \"))\n",
        "\n",
        "# Print the Fibonacci sequence\n",
        "fibonacci_seq = fibonacci_sequence(number)\n",
        "print(\"Fibonacci Sequence:\")\n",
        "for num in fibonacci_seq:\n",
        "    print(num)\n"
      ],
      "metadata": {
        "colab": {
          "base_uri": "https://localhost:8080/"
        },
        "id": "v-DzBbFZUF_P",
        "outputId": "a4e1c008-0320-4c9a-853d-c272be15ec6c"
      },
      "execution_count": 3,
      "outputs": [
        {
          "output_type": "stream",
          "name": "stdout",
          "text": [
            "Enter the number of terms: 12\n",
            "Fibonacci Sequence:\n",
            "0\n",
            "1\n",
            "1\n",
            "2\n",
            "3\n",
            "5\n",
            "8\n",
            "13\n",
            "21\n",
            "34\n",
            "55\n",
            "89\n"
          ]
        }
      ]
    },
    {
      "cell_type": "markdown",
      "source": [
        "**4. Write a Python Program to Check Armstrong Number?**"
      ],
      "metadata": {
        "id": "2ozyUEG6UZpx"
      }
    },
    {
      "cell_type": "code",
      "source": [
        "def is_armstrong_number(number):\n",
        "    # Convert the number to a string to iterate over its digits\n",
        "    str_number = str(number)\n",
        "\n",
        "    # Calculate the number of digits\n",
        "    num_digits = len(str_number)\n",
        "\n",
        "    # Calculate the sum of the cubes of the digits\n",
        "    sum_of_cubes = sum(int(digit) ** num_digits for digit in str_number)\n",
        "\n",
        "    # Check if the number is an Armstrong number\n",
        "    if sum_of_cubes == number:\n",
        "        return True\n",
        "    else:\n",
        "        return False\n",
        "\n",
        "# Take input from the user\n",
        "number = int(input(\"Enter a number: \"))\n",
        "\n",
        "# Check if the number is an Armstrong number\n",
        "if is_armstrong_number(number):\n",
        "    print(f\"{number} is an Armstrong number\")\n",
        "else:\n",
        "    print(f\"{number} is not an Armstrong number\")\n"
      ],
      "metadata": {
        "colab": {
          "base_uri": "https://localhost:8080/"
        },
        "id": "btxPKJzTUUn2",
        "outputId": "be553363-e779-4b67-8dc6-060ecbc01c71"
      },
      "execution_count": 4,
      "outputs": [
        {
          "output_type": "stream",
          "name": "stdout",
          "text": [
            "Enter a number: 12\n",
            "12 is not an Armstrong number\n"
          ]
        }
      ]
    },
    {
      "cell_type": "markdown",
      "source": [
        "**5. Write a Python Program to Find Armstrong Number in an Interval?**"
      ],
      "metadata": {
        "id": "BPMJ4K8zUolA"
      }
    },
    {
      "cell_type": "code",
      "source": [
        "def is_armstrong_number(number):\n",
        "    # Convert the number to a string to iterate over its digits\n",
        "    str_number = str(number)\n",
        "\n",
        "    # Calculate the number of digits\n",
        "    num_digits = len(str_number)\n",
        "\n",
        "    # Calculate the sum of the cubes of the digits\n",
        "    sum_of_cubes = sum(int(digit) ** num_digits for digit in str_number)\n",
        "\n",
        "    # Check if the number is an Armstrong number\n",
        "    if sum_of_cubes == number:\n",
        "        return True\n",
        "    else:\n",
        "        return False\n",
        "\n",
        "# Take input from the user\n",
        "lower = int(input(\"Enter the lower bound of the interval: \"))\n",
        "upper = int(input(\"Enter the upper bound of the interval: \"))\n",
        "\n",
        "# Find Armstrong numbers within the interval\n",
        "armstrong_numbers = []\n",
        "for number in range(lower, upper + 1):\n",
        "    if is_armstrong_number(number):\n",
        "        armstrong_numbers.append(number)\n",
        "\n",
        "# Print the Armstrong numbers\n",
        "print(\"Armstrong numbers in the interval:\")\n",
        "for armstrong_number in armstrong_numbers:\n",
        "    print(armstrong_number)\n"
      ],
      "metadata": {
        "colab": {
          "base_uri": "https://localhost:8080/"
        },
        "id": "B0tMf7wrUeRn",
        "outputId": "c472ca1c-4c77-446f-9462-22061dee032e"
      },
      "execution_count": 5,
      "outputs": [
        {
          "output_type": "stream",
          "name": "stdout",
          "text": [
            "Enter the lower bound of the interval: 12\n",
            "Enter the upper bound of the interval: 24\n",
            "Armstrong numbers in the interval:\n"
          ]
        }
      ]
    },
    {
      "cell_type": "markdown",
      "source": [
        "**6. Write a Python Program to Find the Sum of Natural Numbers?**"
      ],
      "metadata": {
        "id": "fOWvR5jIUwm1"
      }
    },
    {
      "cell_type": "code",
      "source": [
        "def sum_of_natural_numbers(limit):\n",
        "    sum = 0\n",
        "\n",
        "    # Calculate the sum of natural numbers\n",
        "    for i in range(1, limit + 1):\n",
        "        sum += i\n",
        "\n",
        "    return sum\n",
        "\n",
        "# Take input from the user\n",
        "limit = int(input(\"Enter the limit: \"))\n",
        "\n",
        "# Calculate the sum of natural numbers\n",
        "sum = sum_of_natural_numbers(limit)\n",
        "\n",
        "# Print the sum\n",
        "print(\"Sum of natural numbers up to\", limit, \"is\", sum)\n"
      ],
      "metadata": {
        "colab": {
          "base_uri": "https://localhost:8080/"
        },
        "id": "0boOvtEbUrPu",
        "outputId": "4587d8ba-0b88-4f6b-927a-ba3bf544a759"
      },
      "execution_count": 6,
      "outputs": [
        {
          "output_type": "stream",
          "name": "stdout",
          "text": [
            "Enter the limit: 6\n",
            "Sum of natural numbers up to 6 is 21\n"
          ]
        }
      ]
    },
    {
      "cell_type": "code",
      "source": [],
      "metadata": {
        "id": "1Mequ8y9U0g2"
      },
      "execution_count": null,
      "outputs": []
    }
  ]
}