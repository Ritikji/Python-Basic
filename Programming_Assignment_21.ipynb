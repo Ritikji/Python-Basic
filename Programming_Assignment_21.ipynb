{
  "nbformat": 4,
  "nbformat_minor": 0,
  "metadata": {
    "colab": {
      "provenance": []
    },
    "kernelspec": {
      "name": "python3",
      "display_name": "Python 3"
    },
    "language_info": {
      "name": "python"
    }
  },
  "cells": [
    {
      "cell_type": "markdown",
      "source": [
        "#Question1\n",
        "Write a function that takes a list and a number as arguments. Add the number to the end of\n",
        "the list, then remove the first element of the list. The function should then return the updated\n",
        "list.\n",
        "Examples\n",
        "next_in_line([5, 6, 7, 8, 9], 1) ➞ [6, 7, 8, 9, 1]\n",
        "next_in_line([7, 6, 3, 23, 17], 10) ➞ [6, 3, 23, 17, 10]\n",
        "next_in_line([1, 10, 20, 42 ], 6) ➞ [10, 20, 42, 6]\n",
        "next_in_line([], 6) ➞ &quot;No list has been selected&quot;"
      ],
      "metadata": {
        "id": "hTA9kd4v_Ht0"
      }
    },
    {
      "cell_type": "code",
      "execution_count": 1,
      "metadata": {
        "id": "Fbrhfq019ZNQ"
      },
      "outputs": [],
      "source": [
        "def next_in_line(lst, num):\n",
        "    if not lst:\n",
        "        return \"No list has been selected\"\n",
        "    lst.append(num)\n",
        "    lst.pop(0)\n",
        "    return lst\n"
      ]
    },
    {
      "cell_type": "code",
      "source": [
        "print(next_in_line([5, 6, 7, 8, 9], 1))\n",
        "print(next_in_line([7, 6, 3, 23, 17], 10))\n",
        "print(next_in_line([1, 10, 20, 42], 6))\n",
        "print(next_in_line([], 6))\n"
      ],
      "metadata": {
        "colab": {
          "base_uri": "https://localhost:8080/"
        },
        "id": "N4wMAazK_QCT",
        "outputId": "cc4c4361-fc77-42d5-d0a8-91b48d6de5c2"
      },
      "execution_count": 2,
      "outputs": [
        {
          "output_type": "stream",
          "name": "stdout",
          "text": [
            "[6, 7, 8, 9, 1]\n",
            "[6, 3, 23, 17, 10]\n",
            "[10, 20, 42, 6]\n",
            "No list has been selected\n"
          ]
        }
      ]
    },
    {
      "cell_type": "markdown",
      "source": [
        "#Question2\n",
        "Create the function that takes a list of dictionaries and returns the sum of people&#39;s budgets.\n",
        "Examples\n",
        "get_budgets([\n",
        "{ &quot;name&quot;: &quot;John&quot;, &quot;age&quot;: 21, &quot;budget&quot;: 23000 },\n",
        "{ &quot;name&quot;: &quot;Steve&quot;, &quot;age&quot;: 32, &quot;budget&quot;: 40000 },\n",
        "{ &quot;name&quot;: &quot;Martin&quot;, &quot;age&quot;: 16, &quot;budget&quot;: 2700 }\n",
        "]) ➞ 65700\n",
        "get_budgets([\n",
        "{ &quot;name&quot;: &quot;John&quot;, &quot;age&quot;: 21, &quot;budget&quot;: 29000 },\n",
        "{ &quot;name&quot;: &quot;Steve&quot;, &quot;age&quot;: 32, &quot;budget&quot;: 32000 },\n",
        "{ &quot;name&quot;: &quot;Martin&quot;, &quot;age&quot;: 16, &quot;budget&quot;: 1600 }\n",
        "]) ➞ 62600"
      ],
      "metadata": {
        "id": "M53mtdn2_mT0"
      }
    },
    {
      "cell_type": "code",
      "source": [
        "def get_budgets(lst):\n",
        "    total_budget = 0\n",
        "    for person in lst:\n",
        "        total_budget += person['budget']\n",
        "    return total_budget\n"
      ],
      "metadata": {
        "id": "AuhsrbZA_c8U"
      },
      "execution_count": 3,
      "outputs": []
    },
    {
      "cell_type": "code",
      "source": [
        "print(get_budgets([\n",
        "    {\"name\": \"John\", \"age\": 21, \"budget\": 23000},\n",
        "    {\"name\": \"Steve\", \"age\": 32, \"budget\": 40000},\n",
        "    {\"name\": \"Martin\", \"age\": 16, \"budget\": 2700}\n",
        "]))\n",
        "\n",
        "print(get_budgets([\n",
        "    {\"name\": \"John\", \"age\": 21, \"budget\": 29000},\n",
        "    {\"name\": \"Steve\", \"age\": 32, \"budget\": 32000},\n",
        "    {\"name\": \"Martin\", \"age\": 16, \"budget\": 1600}\n",
        "]))\n"
      ],
      "metadata": {
        "colab": {
          "base_uri": "https://localhost:8080/"
        },
        "id": "7NdVtzeI_qzl",
        "outputId": "aab37697-fb64-4aaa-d5f6-3f0f823a5f88"
      },
      "execution_count": 4,
      "outputs": [
        {
          "output_type": "stream",
          "name": "stdout",
          "text": [
            "65700\n",
            "62600\n"
          ]
        }
      ]
    },
    {
      "cell_type": "code",
      "source": [],
      "metadata": {
        "id": "xowhIQZR_1vS"
      },
      "execution_count": null,
      "outputs": []
    },
    {
      "cell_type": "markdown",
      "source": [
        "#Question3\n",
        "Create a function that takes a string and returns a string with its letters in alphabetical order.\n",
        "Examples\n",
        "alphabet_soup(&quot;hello&quot;) ➞ &quot;ehllo&quot;\n",
        "alphabet_soup(&quot;edabit&quot;) ➞ &quot;abdeit&quot;\n",
        "alphabet_soup(&quot;hacker&quot;) ➞ &quot;acehkr&quot;\n",
        "alphabet_soup(&quot;geek&quot;) ➞ &quot;eegk&quot;\n",
        "alphabet_soup(&quot;javascript&quot;) ➞ &quot;aacijprstv&quot;"
      ],
      "metadata": {
        "id": "qikknd3h__TB"
      }
    },
    {
      "cell_type": "code",
      "source": [
        "def alphabet_soup(string):\n",
        "    sorted_string = ''.join(sorted(string))\n",
        "    return sorted_string\n"
      ],
      "metadata": {
        "id": "SrByMsvBABKg"
      },
      "execution_count": 5,
      "outputs": []
    },
    {
      "cell_type": "code",
      "source": [
        "print(alphabet_soup(\"hello\"))\n",
        "print(alphabet_soup(\"edabit\"))\n",
        "print(alphabet_soup(\"hacker\"))\n",
        "print(alphabet_soup(\"geek\"))\n",
        "print(alphabet_soup(\"javascript\"))\n"
      ],
      "metadata": {
        "colab": {
          "base_uri": "https://localhost:8080/"
        },
        "id": "MtwOzc4aAGT_",
        "outputId": "765b1dda-8f38-4d9b-e225-b62550f079b2"
      },
      "execution_count": 6,
      "outputs": [
        {
          "output_type": "stream",
          "name": "stdout",
          "text": [
            "ehllo\n",
            "abdeit\n",
            "acehkr\n",
            "eegk\n",
            "aacijprstv\n"
          ]
        }
      ]
    },
    {
      "cell_type": "code",
      "source": [],
      "metadata": {
        "id": "WC_aG6JJAKVr"
      },
      "execution_count": null,
      "outputs": []
    },
    {
      "cell_type": "markdown",
      "source": [
        "#Question4\n",
        "Suppose that you invest $10,000 for 10 years at an interest rate of 6% compounded monthly.\n",
        "What will be the value of your investment at the end of the 10 year period?\n",
        "Create a function that accepts the principal p, the term in years t, the interest rate r, and the\n",
        "number of compounding periods per year n. The function returns the value at the end of term\n",
        "rounded to the nearest cent.\n",
        "For the example above:\n",
        "compound_interest(10000, 10, 0.06, 12) ➞ 18193.97\n",
        "Note that the interest rate is given as a decimal and n=12 because with monthly compounding\n",
        "there are 12 periods per year. Compounding can also be done annually, quarterly, weekly, or\n",
        "daily.\n",
        "Examples\n",
        "compound_interest(100, 1, 0.05, 1) ➞ 105.0\n",
        "compound_interest(3500, 15, 0.1, 4) ➞ 15399.26\n",
        "compound_interest(100000, 20, 0.15, 365) ➞ 2007316.26"
      ],
      "metadata": {
        "id": "0TCnZRRBAOlM"
      }
    },
    {
      "cell_type": "code",
      "source": [
        "def compound_interest(p, t, r, n):\n",
        "    A = p * (1 + r/n) ** (n*t)\n",
        "    return round(A, 2)\n"
      ],
      "metadata": {
        "id": "Qqy0mqPeAQTH"
      },
      "execution_count": 7,
      "outputs": []
    },
    {
      "cell_type": "code",
      "source": [
        "print(compound_interest(10000, 10, 0.06, 12))\n"
      ],
      "metadata": {
        "colab": {
          "base_uri": "https://localhost:8080/"
        },
        "id": "wTacRuwrASe8",
        "outputId": "67155d17-2ec7-4494-af0c-4434dfaf4e9d"
      },
      "execution_count": 9,
      "outputs": [
        {
          "output_type": "stream",
          "name": "stdout",
          "text": [
            "18193.97\n"
          ]
        }
      ]
    },
    {
      "cell_type": "code",
      "source": [
        "print(compound_interest(100, 1, 0.05, 1))\n",
        "print(compound_interest(3500, 15, 0.1, 4))\n",
        "print(compound_interest(100000, 20, 0.15, 365))\n"
      ],
      "metadata": {
        "colab": {
          "base_uri": "https://localhost:8080/"
        },
        "id": "K5oQwrKlAURT",
        "outputId": "12680383-3520-4be7-b145-bcf91038fc40"
      },
      "execution_count": 10,
      "outputs": [
        {
          "output_type": "stream",
          "name": "stdout",
          "text": [
            "105.0\n",
            "15399.26\n",
            "2007316.26\n"
          ]
        }
      ]
    },
    {
      "cell_type": "code",
      "source": [],
      "metadata": {
        "id": "oLz9ZRjtAYyj"
      },
      "execution_count": null,
      "outputs": []
    },
    {
      "cell_type": "markdown",
      "source": [
        "#Question5\n",
        "Write a function that takes a list of elements and returns only the integers.\n",
        "Examples\n",
        "return_only_integer([9, 2, &quot;space&quot;, &quot;car&quot;, &quot;lion&quot;, 16]) ➞ [9, 2, 16]\n",
        "return_only_integer([&quot;hello&quot;, 81, &quot;basketball&quot;, 123, &quot;fox&quot;]) ➞ [81, 123]\n",
        "return_only_integer([10, &quot;121&quot;, 56, 20, &quot;car&quot;, 3, &quot;lion&quot;]) ➞ [10, 56, 20,\n",
        "3]\n",
        "return_only_integer([&quot;String&quot;, True, 3.3, 1]) ➞ [1]"
      ],
      "metadata": {
        "id": "7yxXJLPiAi0J"
      }
    },
    {
      "cell_type": "code",
      "source": [
        "def return_only_integer(lst):\n",
        "    return [x for x in lst if isinstance(x, int)]\n"
      ],
      "metadata": {
        "id": "3eWYcdlyAkgq"
      },
      "execution_count": 11,
      "outputs": []
    },
    {
      "cell_type": "code",
      "source": [
        "print(return_only_integer([9, 2, \"space\", \"car\", \"lion\", 16]))\n",
        "print(return_only_integer([\"hello\", 81, \"basketball\", 123, \"fox\"]))\n",
        "print(return_only_integer([10, \"121\", 56, 20, \"car\", 3, \"lion\"]))\n",
        "print(return_only_integer([\"String\", True, 3.3, 1]))\n"
      ],
      "metadata": {
        "colab": {
          "base_uri": "https://localhost:8080/"
        },
        "id": "k6V34W1cAqAc",
        "outputId": "24ffad36-d61c-43b7-e999-d0254ca6659e"
      },
      "execution_count": 12,
      "outputs": [
        {
          "output_type": "stream",
          "name": "stdout",
          "text": [
            "[9, 2, 16]\n",
            "[81, 123]\n",
            "[10, 56, 20, 3]\n",
            "[True, 1]\n"
          ]
        }
      ]
    },
    {
      "cell_type": "code",
      "source": [],
      "metadata": {
        "id": "mLkcaEjYAuO8"
      },
      "execution_count": null,
      "outputs": []
    }
  ]
}