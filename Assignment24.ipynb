{
  "nbformat": 4,
  "nbformat_minor": 0,
  "metadata": {
    "colab": {
      "provenance": []
    },
    "kernelspec": {
      "name": "python3",
      "display_name": "Python 3"
    },
    "language_info": {
      "name": "python"
    }
  },
  "cells": [
    {
      "cell_type": "markdown",
      "source": [
        "**1. What is the relationship between def statements and lambda expressions ?**"
      ],
      "metadata": {
        "id": "aegP6SLfy67z"
      }
    },
    {
      "cell_type": "markdown",
      "source": [
        "ans-The relationship between def statements and lambda expressions in Python is that they both define functions, but they have some differences in terms of syntax and usage.\n",
        "\n",
        "Syntax:\n",
        "\n",
        "def statements: They use the def keyword followed by a function name, a parameter list enclosed in parentheses, and a colon. The function body is indented and can contain multiple statements."
      ],
      "metadata": {
        "id": "aoNF4YLwzCtB"
      }
    },
    {
      "cell_type": "code",
      "source": [
        "#example\n",
        "def add(a, b):\n",
        "    return a + b\n"
      ],
      "metadata": {
        "id": "FYKVt3xEzEKz"
      },
      "execution_count": 2,
      "outputs": []
    },
    {
      "cell_type": "markdown",
      "source": [
        "Lambda expressions: They use the lambda keyword followed by a parameter list (which can be optional) separated by commas, a colon, and an expression that is the result of the function."
      ],
      "metadata": {
        "id": "8a1E5O4izO_U"
      }
    },
    {
      "cell_type": "code",
      "source": [
        "#example\n",
        "add = lambda a, b: a + b\n"
      ],
      "metadata": {
        "id": "UlJNdECezHWC"
      },
      "execution_count": 3,
      "outputs": []
    },
    {
      "cell_type": "markdown",
      "source": [
        "Usage:\n",
        "\n",
        "def statements: They are used to define named functions that can be called and reused throughout the code. They are suitable for larger and more complex functions that require multiple statements and a descriptive name."
      ],
      "metadata": {
        "id": "O7tBPEoRzUya"
      }
    },
    {
      "cell_type": "code",
      "source": [
        "#example\n",
        "def multiply(a, b):\n",
        "    result = a * b\n",
        "    return result\n"
      ],
      "metadata": {
        "id": "zYIeNIQgzSqi"
      },
      "execution_count": 4,
      "outputs": []
    },
    {
      "cell_type": "markdown",
      "source": [
        "Lambda expressions: They are used to create anonymous functions, often called \"lambda functions.\" These functions are typically simple and used in situations where a small function is required as an argument to another function, such as in functional programming paradigms or when using higher-order functions like map(), filter(), or reduce()."
      ],
      "metadata": {
        "id": "sbz0EB_CzaYI"
      }
    },
    {
      "cell_type": "code",
      "source": [
        "#example\n",
        "multiply = lambda a, b: a * b\n"
      ],
      "metadata": {
        "id": "8SA2qdlizYSC"
      },
      "execution_count": 5,
      "outputs": []
    },
    {
      "cell_type": "markdown",
      "source": [
        "It's important to note that lambda expressions are limited to a single expression, so they can't contain multiple statements or complex control flow."
      ],
      "metadata": {
        "id": "WP_LBEJ-zgXZ"
      }
    },
    {
      "cell_type": "markdown",
      "source": [
        "**2. What is the benefit of lambda?**"
      ],
      "metadata": {
        "id": "V4PMTf4hzjQy"
      }
    },
    {
      "cell_type": "markdown",
      "source": [
        "Ans-The lambda function in Python provides several benefits:\n",
        "\n",
        "Concise syntax: Lambda expressions allow you to define simple functions in a compact and readable manner. They eliminate the need to write a full def statement for small and simple functions.\n",
        "\n",
        "Anonymous functions: Lambda functions are anonymous, meaning they don't require a named identifier. This is useful when you need a function for a specific purpose and don't want to define a named function that won't be used elsewhere.\n",
        "\n",
        "Functional programming: Lambda functions are commonly used in functional programming paradigms, where functions are treated as first-class citizens. They can be passed as arguments to other functions, returned as results, and stored in data structures.\n",
        "\n",
        "Higher-order functions: Lambda functions are often used in conjunction with higher-order functions such as map(), filter(), reduce(), and sort(). These functions take other functions as arguments, and lambda expressions provide a convenient way to define these functions on the fly.\n",
        "\n",
        "Readability: In some cases, using a lambda function can improve code readability by keeping the function definition inline with its usage. This is particularly true when the function is short and straightforward.\n",
        "\n",
        "Reducing code complexity: Lambda functions can help simplify code by reducing the number of named functions, especially when the function is simple and used only in a limited scope. This can make the code more concise and easier to understand."
      ],
      "metadata": {
        "id": "ismz07REzoCh"
      }
    },
    {
      "cell_type": "markdown",
      "source": [
        "**3. Compare and contrast map, filter, and reduce.**"
      ],
      "metadata": {
        "id": "rJ3NRlBLzrjp"
      }
    },
    {
      "cell_type": "markdown",
      "source": [
        "Ans-The functions map(), filter(), and reduce() are built-in functions in Python that operate on iterable objects like lists, tuples, or strings. They are commonly used in functional programming to process data and perform transformations. Here's a comparison and contrast of these three functions:\n",
        "\n",
        "map():\n",
        "\n",
        "Purpose: map() applies a given function to each element of an iterable and returns an iterator with the results.\n",
        "Syntax: map(function, iterable)"
      ],
      "metadata": {
        "id": "dtU1bLCazuzR"
      }
    },
    {
      "cell_type": "code",
      "source": [
        "#example\n",
        "numbers = [1, 2, 3, 4, 5]\n",
        "squared = map(lambda x: x**2, numbers)\n",
        "# Output: [1, 4, 9, 16, 25]\n"
      ],
      "metadata": {
        "id": "UHiDK0AWzdnZ"
      },
      "execution_count": 6,
      "outputs": []
    },
    {
      "cell_type": "markdown",
      "source": [
        "Characteristics:\n",
        "map() preserves the length of the original iterable and applies the function to each element in a one-to-one correspondence.\n",
        "It returns an iterator, which means the elements are computed on-the-fly rather than creating a new list.\n",
        "map() is useful for transforming each element of an iterable based on a specific function."
      ],
      "metadata": {
        "id": "Q-p_w5zLz0Mh"
      }
    },
    {
      "cell_type": "markdown",
      "source": [
        "filter():\n",
        "\n",
        "Purpose: filter() applies a given function to each element of an iterable and returns an iterator with the elements that satisfy the given condition.\n",
        "Syntax: filter(function, iterable)"
      ],
      "metadata": {
        "id": "lYntPDFiz07x"
      }
    },
    {
      "cell_type": "code",
      "source": [
        "#example\n",
        "numbers = [1, 2, 3, 4, 5]\n",
        "even_numbers = filter(lambda x: x % 2 == 0, numbers)\n",
        "# Output: [2, 4]\n"
      ],
      "metadata": {
        "id": "bmdOEgwxzx9R"
      },
      "execution_count": 7,
      "outputs": []
    },
    {
      "cell_type": "markdown",
      "source": [
        "Characteristics:\n",
        "filter() selectively includes elements from the iterable based on whether they meet a specific condition defined by the provided function.\n",
        "It returns an iterator containing only the elements that evaluated to True for the given condition.\n",
        "filter() is useful for filtering out elements from an iterable based on a specific criterion."
      ],
      "metadata": {
        "id": "Zlna4OXmz72C"
      }
    },
    {
      "cell_type": "markdown",
      "source": [
        "reduce():\n",
        "\n",
        "Purpose: reduce() applies a given function to the elements of an iterable in a cumulative way, reducing them to a single value.\n",
        "Syntax: reduce(function, iterable[, initializer])"
      ],
      "metadata": {
        "id": "SIDh_UVwz-hi"
      }
    },
    {
      "cell_type": "code",
      "source": [
        "#example\n",
        "from functools import reduce\n",
        "\n",
        "numbers = [1, 2, 3, 4, 5]\n",
        "sum = reduce(lambda x, y: x + y, numbers)\n",
        "# Output: 15\n"
      ],
      "metadata": {
        "id": "rUVi47Tsz48a"
      },
      "execution_count": 8,
      "outputs": []
    },
    {
      "cell_type": "markdown",
      "source": [
        "Characteristics:\n",
        "reduce() performs a cumulative computation by repeatedly applying the function to the elements of the iterable, reducing them to a single value.\n",
        "It takes the first two elements, applies the function, takes the result with the next element, and so on, until it reaches the end of the iterable.\n",
        "An optional initializer can be provided as the third argument to reduce(), which serves as the initial value for the computation.\n",
        "reduce() is useful for aggregating values and combining them into a single result."
      ],
      "metadata": {
        "id": "x4cagot20EAB"
      }
    },
    {
      "cell_type": "markdown",
      "source": [
        "**4. What are function annotations, and how are they used?**"
      ],
      "metadata": {
        "id": "xgLeZkrP0HnT"
      }
    },
    {
      "cell_type": "markdown",
      "source": [
        "Ans-Function annotations in Python provide a way to associate arbitrary metadata with function parameters and return values. They allow you to add type hints or any other relevant information to clarify the intended usage or behavior of the function. Function annotations are defined using the colon (:) syntax after the parameter or return type."
      ],
      "metadata": {
        "id": "rf3k8a3a0LBK"
      }
    },
    {
      "cell_type": "code",
      "source": [
        "#Here's an example of a function with annotations:\n",
        "def greet(name: str) -> str:\n",
        "    return f\"Hello, {name}!\"\n"
      ],
      "metadata": {
        "id": "Lg-eQWZU0CC6"
      },
      "execution_count": 9,
      "outputs": []
    },
    {
      "cell_type": "markdown",
      "source": [
        "Function annotations are optional in Python, and they have no impact on the actual execution of the function. They are primarily used for documentation and can provide hints to tools and IDEs for static type checking, linting, or code analysis.\n",
        "\n",
        "Function annotations can be accessed using the __annotations__ attribute of the function, which returns a dictionary containing the annotations. Here's an example:"
      ],
      "metadata": {
        "id": "7GivcCyP0URy"
      }
    },
    {
      "cell_type": "code",
      "source": [
        "def multiply(a: int, b: int = 1) -> int:\n",
        "    return a * b\n",
        "\n",
        "add = lambda x, y: x + y  # Annotations can be used with lambda functions too\n",
        "add.__annotations__ = {'x': int, 'y': int, 'return': int}\n"
      ],
      "metadata": {
        "id": "bBhjMphq0Wz6"
      },
      "execution_count": 14,
      "outputs": []
    },
    {
      "cell_type": "markdown",
      "source": [
        "**5. What are recursive functions, and how are they used?**"
      ],
      "metadata": {
        "id": "I-OFgYl40r_s"
      }
    },
    {
      "cell_type": "markdown",
      "source": [
        "Ans-Recursive functions are functions that call themselves within their own definition. In other words, a recursive function is a function that solves a problem by breaking it down into smaller subproblems of the same type."
      ],
      "metadata": {
        "id": "yLaf4DDV0uiC"
      }
    },
    {
      "cell_type": "code",
      "source": [
        "#Here's an example of a simple recursive function that calculates the factorial of a number:\n",
        "def factorial(n):\n",
        "    if n == 0:\n",
        "        return 1\n",
        "    else:\n",
        "        return n * factorial(n - 1)\n"
      ],
      "metadata": {
        "id": "aAsRvnE50mdy"
      },
      "execution_count": 16,
      "outputs": []
    },
    {
      "cell_type": "markdown",
      "source": [
        "In this example:\n",
        "\n",
        "The base case is defined when n equals 0, where the function returns 1.\n",
        "In the recursive case, the function calls itself with a smaller value (n - 1) and multiplies the current value of n with the result of the recursive call.\n",
        "Recursive functions typically have two components:\n",
        "\n",
        "Base case: It defines the condition where the function does not call itself and provides a specific result. It serves as the stopping criterion for the recursion and prevents infinite recursion.\n",
        "Recursive case: It defines the condition where the function calls itself, passing a modified argument. The function works towards the base case by solving smaller subproblems until it reaches the base case.\n",
        "When using recursive functions, it's important to ensure that the base case is reachable and that the recursive calls eventually reach the base case. Otherwise, the function may result in infinite recursion, consuming excessive memory and leading to a stack overflow error.\n",
        "\n",
        "Recursive functions are often used to solve problems that exhibit a recursive structure, such as tree traversals, mathematical calculations (factorials, Fibonacci sequence), and certain algorithms like quicksort or recursive backtracking.\n",
        "\n",
        "The benefits of using recursive functions include:\n",
        "\n",
        "Concise and elegant code: Recursive functions can express solutions to complex problems in a compact and intuitive manner, leveraging the power of self-reference.\n",
        "Solving problems with a recursive nature: Recursive functions are particularly suitable for problems that can be broken down into smaller subproblems of the same type.\n",
        "Code reuse: Recursive functions can call themselves, allowing the reuse of the same algorithm for different levels or stages of the problem.\n",
        "However, recursive functions may have some drawbacks:\n",
        "\n",
        "Potentially higher memory usage: Recursive functions can consume more memory compared to iterative solutions due to the overhead of function calls and maintaining multiple call stack frames.\n",
        "Performance considerations: Recursive functions can sometimes be less efficient than iterative solutions due to repeated function calls and potential redundant calculations"
      ],
      "metadata": {
        "id": "0aQ-fU6Q04YS"
      }
    },
    {
      "cell_type": "markdown",
      "source": [
        "**6. What are some general design guidelines for coding functions?**"
      ],
      "metadata": {
        "id": "QHnsX3hi08ZC"
      }
    },
    {
      "cell_type": "markdown",
      "source": [
        "Ans-When coding functions, it's important to follow good design guidelines to make your code more readable, maintainable, and efficient. Here are some general guidelines for coding functions:\n",
        "\n",
        "Function Purpose and Cohesion:\n",
        "\n",
        "Functions should have a clear and well-defined purpose, performing a single task or responsibility.\n",
        "Aim for high cohesion, meaning that a function should have a focused and specific purpose, avoiding doing too many unrelated tasks.\n",
        "Function Naming:\n",
        "\n",
        "Use descriptive and meaningful names for functions that accurately convey their purpose.\n",
        "Follow naming conventions, such as using lowercase with words separated by underscores (snake_case) in Python.\n",
        "Function Length and Complexity:\n",
        "\n",
        "Keep functions concise and focused, avoiding excessively long functions.\n",
        "Strive for low complexity by breaking down complex tasks into smaller, manageable functions.\n",
        "Aim for functions that can fit comfortably within a single screen view, typically around 10-20 lines of code.\n",
        "Function Parameters:\n",
        "\n",
        "Minimize the number of function parameters to reduce complexity and improve readability.\n",
        "Use meaningful and self-explanatory parameter names that convey their purpose.\n",
        "Consider using default parameter values when appropriate to provide flexibility and simplify function calls.\n",
        "Function Return Values:\n",
        "\n",
        "Clearly define and document the expected return values of functions.\n",
        "Aim for functions that have a single return point to improve code readability and avoid confusion.\n",
        "Function Documentation:\n",
        "\n",
        "Provide clear and concise docstrings that describe the purpose, parameters, and return values of the function.\n",
        "Document any assumptions, limitations, or potential side effects of the function.\n",
        "Use inline comments sparingly, focusing on explaining why rather than how.\n",
        "Error Handling:\n",
        "\n",
        "Handle exceptions and errors gracefully within functions.\n",
        "Consider using appropriate exception handling techniques, such as try-except blocks, to handle exceptional cases.\n",
        "Code Reusability:\n",
        "\n",
        "Promote code reuse by extracting reusable code into separate functions.\n",
        "Avoid duplicating code by refactoring common functionality into reusable functions.\n",
        "Modularity and Dependency:\n",
        "\n",
        "Aim for modular design, with functions that are self-contained and independent as much as possible.\n",
        "Minimize dependencies between functions to improve flexibility and maintainability.\n",
        "Testing and Validation:\n",
        "\n",
        "Include unit tests for functions to ensure they produce the expected results.\n",
        "Validate function inputs and handle edge cases appropriately.\n",
        "Consider using automated testing frameworks to streamline the testing process.\n",
        "Performance Considerations:\n",
        "\n",
        "Optimize function performance if necessary, considering algorithmic efficiency and minimizing unnecessary computations.\n",
        "Use appropriate data structures and algorithms to achieve the desired performance characteristics."
      ],
      "metadata": {
        "id": "b79A3P7X1CCi"
      }
    },
    {
      "cell_type": "markdown",
      "source": [
        "**7. Name three or more ways that functions can communicate results to a caller.**"
      ],
      "metadata": {
        "id": "EFYsZVyP1GRq"
      }
    },
    {
      "cell_type": "markdown",
      "source": [
        "Ans-Functions can communicate results to a caller in various ways. Here are three common ways functions can provide results:\n",
        "\n",
        "Return Values:\n",
        "\n",
        "The most common way for functions to communicate results is through return values. Functions can use the return statement to send a value back to the caller.\n",
        "The caller can capture the return value of a function and use it in further computations or assign it to a variable."
      ],
      "metadata": {
        "id": "n2SPPTj61MLK"
      }
    },
    {
      "cell_type": "code",
      "source": [
        "#example\n",
        "def add(a, b):\n",
        "    return a + b\n",
        "\n",
        "result = add(3, 4)  # The function returns the sum of 3 and 4\n",
        "print(result)  # Output: 7\n"
      ],
      "metadata": {
        "colab": {
          "base_uri": "https://localhost:8080/"
        },
        "id": "rV99xQTs00CU",
        "outputId": "81205e71-236f-4a32-f148-74fecaa7009b"
      },
      "execution_count": 17,
      "outputs": [
        {
          "output_type": "stream",
          "name": "stdout",
          "text": [
            "7\n"
          ]
        }
      ]
    },
    {
      "cell_type": "markdown",
      "source": [
        "Side Effects:\n",
        "\n",
        "Functions can communicate results indirectly through side effects, where they modify the state of variables or objects outside the function's scope.\n",
        "Side effects can include changing the value of a global variable, modifying mutable objects passed as arguments, or performing input/output operations."
      ],
      "metadata": {
        "id": "zpMSFQwN1SaD"
      }
    },
    {
      "cell_type": "code",
      "source": [
        "#example\n",
        "def increment_counter():\n",
        "    global counter  # Using a global variable\n",
        "    counter += 1\n",
        "\n",
        "counter = 0\n",
        "increment_counter()  # The function increments the counter by 1\n",
        "print(counter)  # Output: 1\n"
      ],
      "metadata": {
        "colab": {
          "base_uri": "https://localhost:8080/"
        },
        "id": "RP4ikEc41QQ7",
        "outputId": "d4e855f8-f232-45c0-9f0c-bcbb958a5b4f"
      },
      "execution_count": 18,
      "outputs": [
        {
          "output_type": "stream",
          "name": "stdout",
          "text": [
            "1\n"
          ]
        }
      ]
    },
    {
      "cell_type": "markdown",
      "source": [
        "Modifying Mutable Objects:\n",
        "\n",
        "Functions can modify mutable objects, such as lists or dictionaries, passed as arguments. This allows functions to update data structures and share modified results with the caller.\n",
        "The modifications made to the mutable object within the function will be visible outside the function as well."
      ],
      "metadata": {
        "id": "uuZfosTI1XqD"
      }
    },
    {
      "cell_type": "code",
      "source": [
        "#example\n",
        "def append_item(lst, item):\n",
        "    lst.append(item)  # Modifying the list\n",
        "\n",
        "my_list = [1, 2, 3]\n",
        "append_item(my_list, 4)  # The function appends 4 to the list\n",
        "print(my_list)  # Output: [1, 2, 3, 4]\n"
      ],
      "metadata": {
        "colab": {
          "base_uri": "https://localhost:8080/"
        },
        "id": "xLyTDlJ31VZ7",
        "outputId": "460fc784-6b23-4579-8105-3c8ca3dd786d"
      },
      "execution_count": 19,
      "outputs": [
        {
          "output_type": "stream",
          "name": "stdout",
          "text": [
            "[1, 2, 3, 4]\n"
          ]
        }
      ]
    },
    {
      "cell_type": "markdown",
      "source": [
        "Callback Functions:\n",
        "\n",
        "Functions can accept callback functions as arguments, allowing the caller to specify a custom function to be executed within the called function.\n",
        "The caller can define the callback function and pass it as an argument to the function, which then calls it at the appropriate time, passing relevant results as arguments.\n",
        "Callback functions provide a way for functions to communicate results or invoke specific behavior in the caller's context."
      ],
      "metadata": {
        "id": "_I_8HkDx1dWi"
      }
    },
    {
      "cell_type": "code",
      "source": [],
      "metadata": {
        "id": "ttf1YAjB1xhq"
      },
      "execution_count": null,
      "outputs": []
    }
  ]
}