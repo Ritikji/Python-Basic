{
  "nbformat": 4,
  "nbformat_minor": 0,
  "metadata": {
    "colab": {
      "provenance": []
    },
    "kernelspec": {
      "name": "python3",
      "display_name": "Python 3"
    },
    "language_info": {
      "name": "python"
    }
  },
  "cells": [
    {
      "cell_type": "markdown",
      "source": [
        "**1. What does an empty dictionary&#39;s code look like?**"
      ],
      "metadata": {
        "id": "s31k5k85v6sq"
      }
    },
    {
      "cell_type": "markdown",
      "source": [
        "Ans-In Python, an empty dictionary is represented by a pair of curly braces with no key-value pairs inside. Here's an example of what the code for an empty dictionary looks like:\n",
        "\n",
        "This creates an empty dictionary named my_dict with no key-value pairs. You can later add key-value pairs to this dictionary using the appropriate syntax."
      ],
      "metadata": {
        "id": "kGZbKFtswAOo"
      }
    },
    {
      "cell_type": "code",
      "execution_count": 1,
      "metadata": {
        "id": "teI_7WEJvqQY"
      },
      "outputs": [],
      "source": [
        "#example\n",
        "my_dict = {}\n"
      ]
    },
    {
      "cell_type": "markdown",
      "source": [
        "**2. What is the value of a dictionary value with the key &#39;foo&#39; and the value 42?**"
      ],
      "metadata": {
        "id": "o4a_nU2lwLlY"
      }
    },
    {
      "cell_type": "markdown",
      "source": [
        "Ans-If you have a dictionary with the key 'foo' and the value 42, the value of that dictionary value can be accessed using the key 'foo'\n"
      ],
      "metadata": {
        "id": "D4NveMnVwQWu"
      }
    },
    {
      "cell_type": "code",
      "source": [
        "#example\n",
        "my_dict = {'foo': 42}\n",
        "value = my_dict['foo']\n",
        "print(value)"
      ],
      "metadata": {
        "colab": {
          "base_uri": "https://localhost:8080/"
        },
        "id": "ZrOuzwgKwHGz",
        "outputId": "e0441c78-bae6-48ad-a7ef-4aa7e473788f"
      },
      "execution_count": 2,
      "outputs": [
        {
          "output_type": "stream",
          "name": "stdout",
          "text": [
            "42\n"
          ]
        }
      ]
    },
    {
      "cell_type": "markdown",
      "source": [
        "**3. What is the most significant distinction between a dictionary and a list?**"
      ],
      "metadata": {
        "id": "C3SmD4-wwci3"
      }
    },
    {
      "cell_type": "markdown",
      "source": [
        "Ans-The most significant distinction between a dictionary and a list is the way they store and access data.\n",
        "\n",
        "Structure:\n",
        "\n",
        "Dictionary: A dictionary is an unordered collection of key-value pairs. Each key in a dictionary is unique and associated with a value. The keys are used to access and retrieve the corresponding values.\n",
        "List: A list is an ordered collection of elements. The elements in a list are stored in a specific order, and each element can be accessed by its index, which represents its position in the list.\n",
        "Data Storage:\n",
        "\n",
        "Dictionary: A dictionary stores data as key-value pairs, where each key is associated with a value. The keys are typically strings or numbers, and the values can be of any data type. Dictionaries use hash tables internally to efficiently store and retrieve data based on the keys.\n",
        "List: A list stores data as a sequence of elements, where each element can be of any data type. The elements in a list are stored in a contiguous block of memory, allowing for efficient access by index.\n",
        "Accessing Data:\n",
        "\n",
        "Dictionary: In a dictionary, data is accessed by using the associated keys. You can retrieve the value corresponding to a key by specifying the key in square brackets ([]) or by using the get() method.\n",
        "List: In a list, data is accessed by using the index of the element. You can retrieve the value of an element by specifying its index in square brackets ([]).\n",
        "Order:\n",
        "\n",
        "Dictionary: Dictionaries do not preserve the order of elements. The key-value pairs are stored in an unordered manner, and the order in which elements are retrieved may not be the same as the order in which they were added.\n",
        "List: Lists preserve the order of elements. The elements are stored in a specific order, and when you access them by index, you will get the elements in the same order as they were added."
      ],
      "metadata": {
        "id": "AQMdCBFuwza_"
      }
    },
    {
      "cell_type": "markdown",
      "source": [
        "**4. What happens if you try to access spam[&#39;foo&#39;] if spam is {&#39;bar&#39;: 100}?**"
      ],
      "metadata": {
        "id": "VWOhv6RpxHCC"
      }
    },
    {
      "cell_type": "markdown",
      "source": [
        "Ans-If you try to access spam['foo'] and spam is { 'bar': 100 }, you will encounter a KeyError.\n",
        "\n",
        "In Python, a KeyError is raised when you attempt to access a key in a dictionary that does not exist. In this case, the dictionary spam only contains the key 'bar', so trying to access the key 'foo' will result in a KeyError."
      ],
      "metadata": {
        "id": "zfOxVHdixLwZ"
      }
    },
    {
      "cell_type": "code",
      "source": [
        "#Here's an example of what happens when you try to access spam['foo']:\n",
        "spam = { 'bar': 100 }\n",
        "value = spam['foo']\n"
      ],
      "metadata": {
        "colab": {
          "base_uri": "https://localhost:8080/",
          "height": 200
        },
        "id": "DJhtcgnIwYUL",
        "outputId": "680d665e-004f-4a3c-ce25-440dfae94e2c"
      },
      "execution_count": 3,
      "outputs": [
        {
          "output_type": "error",
          "ename": "KeyError",
          "evalue": "ignored",
          "traceback": [
            "\u001b[0;31m---------------------------------------------------------------------------\u001b[0m",
            "\u001b[0;31mKeyError\u001b[0m                                  Traceback (most recent call last)",
            "\u001b[0;32m<ipython-input-3-9b3d194aeccf>\u001b[0m in \u001b[0;36m<cell line: 3>\u001b[0;34m()\u001b[0m\n\u001b[1;32m      1\u001b[0m \u001b[0;31m#Here's an example of what happens when you try to access spam['foo']:\u001b[0m\u001b[0;34m\u001b[0m\u001b[0;34m\u001b[0m\u001b[0m\n\u001b[1;32m      2\u001b[0m \u001b[0mspam\u001b[0m \u001b[0;34m=\u001b[0m \u001b[0;34m{\u001b[0m \u001b[0;34m'bar'\u001b[0m\u001b[0;34m:\u001b[0m \u001b[0;36m100\u001b[0m \u001b[0;34m}\u001b[0m\u001b[0;34m\u001b[0m\u001b[0;34m\u001b[0m\u001b[0m\n\u001b[0;32m----> 3\u001b[0;31m \u001b[0mvalue\u001b[0m \u001b[0;34m=\u001b[0m \u001b[0mspam\u001b[0m\u001b[0;34m[\u001b[0m\u001b[0;34m'foo'\u001b[0m\u001b[0;34m]\u001b[0m\u001b[0;34m\u001b[0m\u001b[0;34m\u001b[0m\u001b[0m\n\u001b[0m",
            "\u001b[0;31mKeyError\u001b[0m: 'foo'"
          ]
        }
      ]
    },
    {
      "cell_type": "markdown",
      "source": [
        "To avoid this error, you can either ensure that the key 'foo' exists in the dictionary before accessing it, or use the get() method, which allows you to provide a default value to be returned if the key is not found:"
      ],
      "metadata": {
        "id": "2zmKov2wxZ-I"
      }
    },
    {
      "cell_type": "code",
      "source": [
        "\n",
        "spam = { 'bar': 100 }\n",
        "value = spam.get('foo', 0)\n",
        "print(value)\n"
      ],
      "metadata": {
        "colab": {
          "base_uri": "https://localhost:8080/"
        },
        "id": "XKPP1E4axSTC",
        "outputId": "7ae02206-c17a-4532-abcd-e47537617859"
      },
      "execution_count": 4,
      "outputs": [
        {
          "output_type": "stream",
          "name": "stdout",
          "text": [
            "0\n"
          ]
        }
      ]
    },
    {
      "cell_type": "markdown",
      "source": [
        "**5. If a dictionary is stored in spam, what is the difference between the expressions &#39;cat&#39; in spam and\n",
        "&#39;cat&#39; in spam.keys()?**"
      ],
      "metadata": {
        "id": "Yz826rbWxl4T"
      }
    },
    {
      "cell_type": "markdown",
      "source": [
        "Ans-The expressions 'cat' in spam and 'cat' in spam.keys() check for the presence of the key 'cat' in the dictionary spam, but they differ in their behavior slightly.\n",
        "\n",
        "'cat' in spam:\n",
        "\n",
        "This expression checks if the key 'cat' exists directly in the dictionary spam. It returns True if the key is present as a direct key in the dictionary, and False otherwise."
      ],
      "metadata": {
        "id": "mVNCMWxvxqeT"
      }
    },
    {
      "cell_type": "code",
      "source": [
        "#example\n",
        "spam = {'cat': 'meow', 'dog': 'woof'}\n",
        "print('cat' in spam)  # True\n",
        "print('bird' in spam)  # False\n"
      ],
      "metadata": {
        "colab": {
          "base_uri": "https://localhost:8080/"
        },
        "id": "nSfmaWfWxhvn",
        "outputId": "87ceff0f-01f8-46f0-dbc0-e50530139d93"
      },
      "execution_count": 6,
      "outputs": [
        {
          "output_type": "stream",
          "name": "stdout",
          "text": [
            "True\n",
            "False\n"
          ]
        }
      ]
    },
    {
      "cell_type": "markdown",
      "source": [
        "'cat' in spam.keys():\n",
        "\n",
        "This expression checks if the key 'cat' exists in the list of keys of the dictionary spam. It returns True if the key is found among the keys of the dictionary, and False otherwise.\n",
        "The keys() method returns a view object that provides access to the keys of the dictionary."
      ],
      "metadata": {
        "id": "v04Nx4LgyRIY"
      }
    },
    {
      "cell_type": "code",
      "source": [
        "#example\n",
        "spam = {'cat': 'meow', 'dog': 'woof'}\n",
        "print('cat' in spam.keys())  # True\n",
        "print('bird' in spam.keys())  # False\n"
      ],
      "metadata": {
        "colab": {
          "base_uri": "https://localhost:8080/"
        },
        "id": "8NtSBdA_xv6a",
        "outputId": "5c504dcd-669a-400a-833e-ebed70870a83"
      },
      "execution_count": 7,
      "outputs": [
        {
          "output_type": "stream",
          "name": "stdout",
          "text": [
            "True\n",
            "False\n"
          ]
        }
      ]
    },
    {
      "cell_type": "markdown",
      "source": [
        "**6. If a dictionary is stored in spam, what is the difference between the expressions &#39;cat&#39; in spam and\n",
        "&#39;cat&#39; in spam.values()?**"
      ],
      "metadata": {
        "id": "d-JFfoHiyb89"
      }
    },
    {
      "cell_type": "markdown",
      "source": [
        "Ans-The expressions 'cat' in spam and 'cat' in spam.values() have different meanings and results:\n",
        "\n",
        "'cat' in spam:\n",
        "\n",
        "This expression checks if the key 'cat' exists directly in the dictionary spam. It returns True if the key is present as a direct key in the dictionary, and False otherwise."
      ],
      "metadata": {
        "id": "JfmWSsD_yhn6"
      }
    },
    {
      "cell_type": "code",
      "source": [
        "#example\n",
        "spam = {'cat': 'meow', 'dog': 'woof'}\n",
        "print('cat' in spam)  # True\n",
        "print('bird' in spam)  # False\n"
      ],
      "metadata": {
        "colab": {
          "base_uri": "https://localhost:8080/"
        },
        "id": "REvkkrohyXU0",
        "outputId": "d03d7bfd-0aae-47a7-e761-5304b06ddc9a"
      },
      "execution_count": 8,
      "outputs": [
        {
          "output_type": "stream",
          "name": "stdout",
          "text": [
            "True\n",
            "False\n"
          ]
        }
      ]
    },
    {
      "cell_type": "markdown",
      "source": [
        "cat' in spam.values():\n",
        "\n",
        "This expression checks if the value 'cat' exists among the values of the dictionary spam. It returns True if the value is found among the values of the dictionary, and False otherwise."
      ],
      "metadata": {
        "id": "c5S5JLAuypNV"
      }
    },
    {
      "cell_type": "code",
      "source": [
        "#example\n",
        "spam = {'animal1': 'cat', 'animal2': 'dog'}\n",
        "print('cat' in spam.values())  # True\n",
        "print('bird' in spam.values())  # False\n"
      ],
      "metadata": {
        "colab": {
          "base_uri": "https://localhost:8080/"
        },
        "id": "8IRufthyymnD",
        "outputId": "301ecc60-e95c-4046-ce3e-4634cabc4618"
      },
      "execution_count": 9,
      "outputs": [
        {
          "output_type": "stream",
          "name": "stdout",
          "text": [
            "True\n",
            "False\n"
          ]
        }
      ]
    },
    {
      "cell_type": "markdown",
      "source": [
        "In the first case ('cat' in spam), you are checking for the presence of the key 'cat' in the dictionary spam. It will return True if 'cat' is a key in spam.\n",
        "\n",
        "In the second case ('cat' in spam.values()), you are checking for the presence of the value 'cat' among the values in the dictionary spam. It will return True if any of the values in spam is equal to 'cat'.\n",
        "\n",
        "It's important to note that the second expression ('cat' in spam.values()) performs a linear search through all the values in the dictionary, which can be less efficient compared to the first expression ('cat' in spam) that directly checks for the key existence."
      ],
      "metadata": {
        "id": "f83zu_Yrywdi"
      }
    },
    {
      "cell_type": "markdown",
      "source": [
        "**7. What is a shortcut for the following code?\n",
        "if &#39;color&#39; not in spam:\n",
        "spam[&#39;color&#39;] = &#39;black&#39;**"
      ],
      "metadata": {
        "id": "S-L3BamPy5ad"
      }
    },
    {
      "cell_type": "markdown",
      "source": [
        "Ans-A shortcut for the given code can be achieved using the dict.setdefault() method. The setdefault() method allows you to specify a default value for a key in a dictionary if the key is not already present. Here's the shortcut:\n",
        "\n",
        "spam.setdefault('color', 'black')\n",
        "\n",
        "\n",
        "This line of code checks if the key 'color' exists in the dictionary spam. If the key is not present, it sets the value of 'color' to 'black'. If the key already exists, it does nothing.\n",
        "\n",
        "The setdefault() method checks if the specified key is present in the dictionary. If it is, the method returns the value associated with that key. If the key is not present, the method adds the key-value pair to the dictionary with the specified default value and returns that default value. In this case, if 'color' is not present, it will add the key-value pair 'color': 'black' to spam.\n",
        "\n",
        "Using setdefault() provides a concise way to set a default value for a key only if the key is missing from the dictionary."
      ],
      "metadata": {
        "id": "DZQaHGwky93i"
      }
    },
    {
      "cell_type": "markdown",
      "source": [
        "**8. How do you &quot;pretty print&quot; dictionary values using which module and function?**"
      ],
      "metadata": {
        "id": "v0qjD0ivzT3i"
      }
    },
    {
      "cell_type": "markdown",
      "source": [
        "Ans-To \"pretty print\" dictionary values in a more readable and formatted way, you can make use of the pprint module in Python. The pprint module provides a function called pprint() that allows you to pretty print various data structures, including dictionaries."
      ],
      "metadata": {
        "id": "7nXrrQVbzbJV"
      }
    },
    {
      "cell_type": "code",
      "source": [
        "#Here's an example of how to use pprint.pprint() to pretty print dictionary values:\n",
        "import pprint\n",
        "\n",
        "my_dict = {'key1': 'value1', 'key2': 'value2', 'key3': 'value3'}\n",
        "\n",
        "pprint.pprint(my_dict)\n"
      ],
      "metadata": {
        "colab": {
          "base_uri": "https://localhost:8080/"
        },
        "id": "Vfr4t15VytwV",
        "outputId": "4de87da3-0a6f-4c41-acb4-5fb7f323017e"
      },
      "execution_count": 10,
      "outputs": [
        {
          "output_type": "stream",
          "name": "stdout",
          "text": [
            "{'key1': 'value1', 'key2': 'value2', 'key3': 'value3'}\n"
          ]
        }
      ]
    },
    {
      "cell_type": "markdown",
      "source": [
        "In the above example, we import the pprint module and then call the pprint() function, passing the dictionary my_dict as an argument. The pprint.pprint() function prints the dictionary in a well-formatted and readable way, with each key-value pair on a separate line and appropriate indentation.\n",
        "\n",
        "By using the pprint module, you can easily format and display complex dictionaries or other data structures in a more visually appealing manner."
      ],
      "metadata": {
        "id": "DRA52ZnUzm30"
      }
    },
    {
      "cell_type": "code",
      "source": [],
      "metadata": {
        "id": "TF7M9-Jzzkhj"
      },
      "execution_count": null,
      "outputs": []
    }
  ]
}