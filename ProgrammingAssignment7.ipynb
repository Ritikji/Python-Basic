{
  "nbformat": 4,
  "nbformat_minor": 0,
  "metadata": {
    "colab": {
      "provenance": []
    },
    "kernelspec": {
      "name": "python3",
      "display_name": "Python 3"
    },
    "language_info": {
      "name": "python"
    }
  },
  "cells": [
    {
      "cell_type": "markdown",
      "source": [
        "#1. Write a Python Program to find sum of array?"
      ],
      "metadata": {
        "id": "bBikMZTuxc4I"
      }
    },
    {
      "cell_type": "code",
      "execution_count": 1,
      "metadata": {
        "colab": {
          "base_uri": "https://localhost:8080/"
        },
        "id": "GZsVzSS7xQ5n",
        "outputId": "fc2ea71f-a79b-4c58-d231-34da2019f673"
      },
      "outputs": [
        {
          "output_type": "stream",
          "name": "stdout",
          "text": [
            "Sum of the array: 15\n"
          ]
        }
      ],
      "source": [
        "def sum_of_array(arr):\n",
        "    sum = 0\n",
        "    for num in arr:\n",
        "        sum += num\n",
        "    return sum\n",
        "\n",
        "# Example usage\n",
        "array = [1, 2, 3, 4, 5]\n",
        "array_sum = sum_of_array(array)\n",
        "print(\"Sum of the array:\", array_sum)\n"
      ]
    },
    {
      "cell_type": "code",
      "source": [],
      "metadata": {
        "id": "Cquk7L8AxrNQ"
      },
      "execution_count": null,
      "outputs": []
    },
    {
      "cell_type": "markdown",
      "source": [
        "#2. Write a Python Program to find largest element in an array?"
      ],
      "metadata": {
        "id": "WiK-I383xuYk"
      }
    },
    {
      "cell_type": "code",
      "source": [
        "def find_largest_element(arr):\n",
        "    largest = arr[0]  # Assume the first element is the largest\n",
        "    for num in arr:\n",
        "        if num > largest:\n",
        "            largest = num\n",
        "    return largest\n",
        "\n",
        "# Example usage\n",
        "array = [5, 8, 2, 10, 3]\n",
        "largest_element = find_largest_element(array)\n",
        "print(\"Largest element in the array:\", largest_element)\n"
      ],
      "metadata": {
        "colab": {
          "base_uri": "https://localhost:8080/"
        },
        "id": "nJu4920QxvLs",
        "outputId": "6732ed80-3ebd-4175-ff4d-6929b5e273da"
      },
      "execution_count": 2,
      "outputs": [
        {
          "output_type": "stream",
          "name": "stdout",
          "text": [
            "Largest element in the array: 10\n"
          ]
        }
      ]
    },
    {
      "cell_type": "code",
      "source": [],
      "metadata": {
        "id": "OfjBEylexxvE"
      },
      "execution_count": null,
      "outputs": []
    },
    {
      "cell_type": "markdown",
      "source": [
        "#3. Write a Python Program for array rotation?"
      ],
      "metadata": {
        "id": "fBpZAiIFx5H1"
      }
    },
    {
      "cell_type": "code",
      "source": [
        "def rotate_array(arr, k):\n",
        "    n = len(arr)\n",
        "    # Normalize the rotation value to handle cases where k > n\n",
        "    k = k % n\n",
        "    rotated_arr = arr[k:] + arr[:k]\n",
        "    return rotated_arr\n",
        "\n",
        "# Example usage\n",
        "array = [1, 2, 3, 4, 5]\n",
        "rotation = 2\n",
        "rotated_array = rotate_array(array, rotation)\n",
        "print(\"Rotated array:\", rotated_array)\n"
      ],
      "metadata": {
        "colab": {
          "base_uri": "https://localhost:8080/"
        },
        "id": "3VUP32Wqx6Ld",
        "outputId": "0acc9903-e89f-454d-c665-d59279fdb99b"
      },
      "execution_count": 3,
      "outputs": [
        {
          "output_type": "stream",
          "name": "stdout",
          "text": [
            "Rotated array: [3, 4, 5, 1, 2]\n"
          ]
        }
      ]
    },
    {
      "cell_type": "code",
      "source": [],
      "metadata": {
        "id": "HAD5oeVtx8v9"
      },
      "execution_count": null,
      "outputs": []
    },
    {
      "cell_type": "markdown",
      "source": [
        "#4. Write a Python Program to Split the array and add the first part to the end?"
      ],
      "metadata": {
        "id": "JYbGexJRyA30"
      }
    },
    {
      "cell_type": "code",
      "source": [
        "def split_and_add(arr, n):\n",
        "    if n <= 0:\n",
        "        return arr\n",
        "\n",
        "    length = len(arr)\n",
        "    split_index = n % length\n",
        "\n",
        "    if split_index == 0:\n",
        "        return arr\n",
        "\n",
        "    return arr[split_index:] + arr[:split_index]\n",
        "\n",
        "# Test the function\n",
        "arr = [1, 2, 3, 4, 5]\n",
        "n = 2\n",
        "result = split_and_add(arr, n)\n",
        "print(\"Result:\", result)\n"
      ],
      "metadata": {
        "colab": {
          "base_uri": "https://localhost:8080/"
        },
        "id": "mp0kvKWyyB90",
        "outputId": "48e546b0-8ea7-4a12-c8ca-6f18c0bee36e"
      },
      "execution_count": 4,
      "outputs": [
        {
          "output_type": "stream",
          "name": "stdout",
          "text": [
            "Result: [3, 4, 5, 1, 2]\n"
          ]
        }
      ]
    },
    {
      "cell_type": "code",
      "source": [],
      "metadata": {
        "id": "arjuz5JTyQbV"
      },
      "execution_count": null,
      "outputs": []
    },
    {
      "cell_type": "markdown",
      "source": [
        "#5. Write a Python Program to check if given array is Monotonic?"
      ],
      "metadata": {
        "id": "n7cJtdKoyTNV"
      }
    },
    {
      "cell_type": "code",
      "source": [
        "def is_monotonic(arr):\n",
        "    increasing = decreasing = True\n",
        "\n",
        "    for i in range(len(arr) - 1):\n",
        "        if arr[i] > arr[i+1]:\n",
        "            increasing = False\n",
        "        if arr[i] < arr[i+1]:\n",
        "            decreasing = False\n",
        "\n",
        "    return increasing or decreasing\n",
        "\n",
        "# Example usage:\n",
        "array1 = [1, 2, 3, 4, 5]\n",
        "array2 = [5, 4, 3, 2, 1]\n",
        "array3 = [1, 2, 3, 2, 1]\n",
        "\n",
        "print(is_monotonic(array1))  # True (increasing)\n",
        "print(is_monotonic(array2))  # True (decreasing)\n",
        "print(is_monotonic(array3))  # False (not monotonic)\n"
      ],
      "metadata": {
        "colab": {
          "base_uri": "https://localhost:8080/"
        },
        "id": "6KiVBQMGyUCc",
        "outputId": "acac9ba7-7af9-4dcd-9b66-326705d02b3c"
      },
      "execution_count": 5,
      "outputs": [
        {
          "output_type": "stream",
          "name": "stdout",
          "text": [
            "True\n",
            "True\n",
            "False\n"
          ]
        }
      ]
    },
    {
      "cell_type": "code",
      "source": [],
      "metadata": {
        "id": "Ocv0fX9DygpF"
      },
      "execution_count": null,
      "outputs": []
    }
  ]
}