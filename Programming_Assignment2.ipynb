{
  "nbformat": 4,
  "nbformat_minor": 0,
  "metadata": {
    "colab": {
      "provenance": []
    },
    "kernelspec": {
      "name": "python3",
      "display_name": "Python 3"
    },
    "language_info": {
      "name": "python"
    }
  },
  "cells": [
    {
      "cell_type": "markdown",
      "source": [
        "**1. Write a Python program to convert kilometers to miles?**"
      ],
      "metadata": {
        "id": "uwmBuqNEFIue"
      }
    },
    {
      "cell_type": "code",
      "execution_count": 7,
      "metadata": {
        "id": "wePLIn37E3p2"
      },
      "outputs": [],
      "source": [
        "def convert_km_to_miles(kilometer):\n",
        "  miles=kilometer * 0.621371\n",
        "  return miles"
      ]
    },
    {
      "cell_type": "code",
      "source": [
        "kilometer=15\n",
        "miles= convert_km_to_miles(kilometer)\n",
        "print(kilometer, \"kilometer is eqal to\",miles,\"miles\")\n"
      ],
      "metadata": {
        "colab": {
          "base_uri": "https://localhost:8080/"
        },
        "id": "bx157RPKGAHP",
        "outputId": "088b76f2-b7e4-4ba2-b14d-f3cac9135cde"
      },
      "execution_count": 8,
      "outputs": [
        {
          "output_type": "stream",
          "name": "stdout",
          "text": [
            "15 kilometer is eqal to 9.320565 miles\n"
          ]
        }
      ]
    },
    {
      "cell_type": "markdown",
      "source": [
        "**2. Write a Python program to convert Celsius to Fahrenheit?**"
      ],
      "metadata": {
        "id": "_PXPK4GiHkxE"
      }
    },
    {
      "cell_type": "code",
      "source": [
        "def convert_celsius_to_fahrenheit(celsius):\n",
        "    fahrenheit = (celsius * 9/5) + 32\n",
        "    return fahrenheit\n",
        "\n",
        "\n",
        "celsius = 30\n",
        "\n",
        "fahrenheit = convert_celsius_to_fahrenheit(celsius)\n",
        "print(celsius, \"degrees Celsius is equal to\", fahrenheit, \"degrees Fahrenheit.\")\n"
      ],
      "metadata": {
        "colab": {
          "base_uri": "https://localhost:8080/"
        },
        "id": "HjXdKqOfHVVl",
        "outputId": "0071b425-a7bf-4895-d0ee-e80a97e1527d"
      },
      "execution_count": 9,
      "outputs": [
        {
          "output_type": "stream",
          "name": "stdout",
          "text": [
            "30 degrees Celsius is equal to 86.0 degrees Fahrenheit.\n"
          ]
        }
      ]
    },
    {
      "cell_type": "markdown",
      "source": [
        "**3. Write a Python program to display calendar?**"
      ],
      "metadata": {
        "id": "fhkImSN2HwP1"
      }
    },
    {
      "cell_type": "code",
      "source": [
        "import calendar\n",
        "\n",
        "# Input the year and month\n",
        "year = 2023\n",
        "month = 6\n",
        "\n",
        "# Generate the calendar\n",
        "cal = calendar.monthcalendar(year, month)\n",
        "\n",
        "# Print the calendar\n",
        "print(calendar.month_name[month], year)\n",
        "print(calendar.weekheader(3))\n",
        "for week in cal:\n",
        "    print(week)\n"
      ],
      "metadata": {
        "colab": {
          "base_uri": "https://localhost:8080/"
        },
        "id": "IR9-WZ_eHtnl",
        "outputId": "0195c46b-7438-45ba-b813-08823a4bd4a3"
      },
      "execution_count": 10,
      "outputs": [
        {
          "output_type": "stream",
          "name": "stdout",
          "text": [
            "June 2023\n",
            "Mon Tue Wed Thu Fri Sat Sun\n",
            "[0, 0, 0, 1, 2, 3, 4]\n",
            "[5, 6, 7, 8, 9, 10, 11]\n",
            "[12, 13, 14, 15, 16, 17, 18]\n",
            "[19, 20, 21, 22, 23, 24, 25]\n",
            "[26, 27, 28, 29, 30, 0, 0]\n"
          ]
        }
      ]
    },
    {
      "cell_type": "markdown",
      "source": [
        "**4. Write a Python program to solve quadratic equation?**"
      ],
      "metadata": {
        "id": "-hQqRB3eKTWA"
      }
    },
    {
      "cell_type": "code",
      "source": [
        "import cmath\n",
        "\n",
        "def solve_quadratic(a, b, c):\n",
        "    # Calculate the discriminant\n",
        "    discriminant = (b ** 2) - (4 * a * c)\n",
        "\n",
        "    # Calculate the two solutions\n",
        "    root1 = (-b + cmath.sqrt(discriminant)) / (2 * a)\n",
        "    root2 = (-b - cmath.sqrt(discriminant)) / (2 * a)\n",
        "\n",
        "    return root1, root2\n",
        "\n",
        "# Example usage\n",
        "a = 1\n",
        "b = -5\n",
        "c = 6\n",
        "\n",
        "roots = solve_quadratic(a, b, c)\n",
        "print(\"The solutions are:\", roots)\n"
      ],
      "metadata": {
        "colab": {
          "base_uri": "https://localhost:8080/"
        },
        "id": "LOvr0IIsKPmc",
        "outputId": "33d99088-6325-4ba1-ec39-2d3a36e3f38f"
      },
      "execution_count": 11,
      "outputs": [
        {
          "output_type": "stream",
          "name": "stdout",
          "text": [
            "The solutions are: ((3+0j), (2+0j))\n"
          ]
        }
      ]
    },
    {
      "cell_type": "markdown",
      "source": [
        "**5. Write a Python program to swap two variables without temp variable?**"
      ],
      "metadata": {
        "id": "0rdUvGDBKhVj"
      }
    },
    {
      "cell_type": "code",
      "source": [
        "def swap_variables(a, b):\n",
        "    a, b = b, a\n",
        "    return a, b\n",
        "\n",
        "# Example usage\n",
        "var1 = 10\n",
        "var2 = 5\n",
        "\n",
        "print(\"Before swapping: var1 =\", var1, \"and var2 =\", var2)\n",
        "\n",
        "var1, var2 = swap_variables(var1, var2)\n",
        "\n",
        "print(\"After swapping: var1 =\", var1, \"and var2 =\", var2)\n"
      ],
      "metadata": {
        "colab": {
          "base_uri": "https://localhost:8080/"
        },
        "id": "x8UtkwM8KcRU",
        "outputId": "1f4bf0b1-3de6-4286-c7f8-1fa0769b2695"
      },
      "execution_count": 12,
      "outputs": [
        {
          "output_type": "stream",
          "name": "stdout",
          "text": [
            "Before swapping: var1 = 10 and var2 = 5\n",
            "After swapping: var1 = 5 and var2 = 10\n"
          ]
        }
      ]
    },
    {
      "cell_type": "code",
      "source": [],
      "metadata": {
        "id": "yuV7HK2FKlSs"
      },
      "execution_count": null,
      "outputs": []
    }
  ]
}