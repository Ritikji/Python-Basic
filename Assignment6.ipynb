{
  "nbformat": 4,
  "nbformat_minor": 0,
  "metadata": {
    "colab": {
      "provenance": []
    },
    "kernelspec": {
      "name": "python3",
      "display_name": "Python 3"
    },
    "language_info": {
      "name": "python"
    }
  },
  "cells": [
    {
      "cell_type": "markdown",
      "source": [
        "**1. What are escape characters, and how do you use them?**"
      ],
      "metadata": {
        "id": "pZsf9TKP1PtZ"
      }
    },
    {
      "cell_type": "markdown",
      "source": [
        "Ans-\n",
        "Escape characters are special characters in a string that are used to represent certain formatting or non-printable characters. They are denoted by a backslash \\ followed by a specific character or sequence of characters.\n",
        "\n",
        "Here are some commonly used escape characters and their meanings:\n",
        "\n",
        "\\n: Represents a newline character. When encountered in a string, it moves the cursor to the beginning of the next line.\n",
        "\n",
        "\n",
        "\\t: Represents a tab character. When encountered in a string, it inserts a horizontal tab.\n",
        "\n",
        "\n",
        "\\\": Represents a double quotation mark character. It allows you to include double quotation marks within a string that is enclosed in double quotation marks.\n",
        "\n",
        "\n",
        "\\': Represents a single quotation mark character. It allows you to include single quotation marks within a string that is enclosed in single quotation marks.\n",
        "\n",
        "\n",
        "\\\\: Represents a backslash character. It allows you to include a literal backslash in a string.\n",
        "\n"
      ],
      "metadata": {
        "id": "lI3QzWgL1bWH"
      }
    },
    {
      "cell_type": "code",
      "execution_count": 1,
      "metadata": {
        "colab": {
          "base_uri": "https://localhost:8080/"
        },
        "id": "IzY4EEpk1CvX",
        "outputId": "ff8748ec-d98a-4da4-9b3c-c0cc66c335d0"
      },
      "outputs": [
        {
          "output_type": "stream",
          "name": "stdout",
          "text": [
            "This is a sentence.\n",
            "It is on two lines.\n",
            "I want to display \"quotes\" within this string.\n",
            "This string contains a single quote (').\n",
            "This string contains a backslash (\\).\n"
          ]
        }
      ],
      "source": [
        "#Here's an example that demonstrates the use of escape characters:\n",
        "print(\"This is a sentence.\\nIt is on two lines.\")\n",
        "print(\"I want to display \\\"quotes\\\" within this string.\")\n",
        "print('This string contains a single quote (\\').')\n",
        "print(\"This string contains a backslash (\\\\).\")\n"
      ]
    },
    {
      "cell_type": "markdown",
      "source": [
        "In the above example, escape characters are used to insert newlines (\\n), display quotation marks (\\\" and \\'), and include a literal backslash (\\\\) in the printed strings.\n",
        "\n",
        "Escape characters provide a way to include special characters or represent certain formatting requirements within strings in a convenient manner."
      ],
      "metadata": {
        "id": "5ij83GMa1uV_"
      }
    },
    {
      "cell_type": "markdown",
      "source": [
        "**2. What do the escape characters n and t stand for?**"
      ],
      "metadata": {
        "id": "qotwjBNT11r1"
      }
    },
    {
      "cell_type": "markdown",
      "source": [
        "Ans-n Python and many other programming languages, the escape characters \\n and \\t have specific meanings:\n",
        "\n",
        "\\n is the newline escape character. It represents a newline or line break. When encountered in a string, it moves the cursor to the beginning of the next line. This is used to create line breaks or start a new line of text.\n",
        "\n",
        "\\t is the tab escape character. It represents a horizontal tab. When encountered in a string, it inserts a tab character, which typically results in an indentation of the text. This is used to create consistent spacing or indentation within the text."
      ],
      "metadata": {
        "id": "Stpq20V916Ir"
      }
    },
    {
      "cell_type": "code",
      "source": [
        "#Here's an example that demonstrates the use of \\n and \\t:\n",
        "print(\"First line\\nSecond line\")  # Prints two lines\n",
        "print(\"Name:\\tJohn\")  # Prints the name with a tab indentation\n"
      ],
      "metadata": {
        "colab": {
          "base_uri": "https://localhost:8080/"
        },
        "id": "0TQ39uXE1ngQ",
        "outputId": "6d92860a-c040-4959-ba94-358872f86aef"
      },
      "execution_count": 2,
      "outputs": [
        {
          "output_type": "stream",
          "name": "stdout",
          "text": [
            "First line\n",
            "Second line\n",
            "Name:\tJohn\n"
          ]
        }
      ]
    },
    {
      "cell_type": "markdown",
      "source": [
        "In the first print() statement, \\n is used to create a line break between \"First line\" and \"Second line\", resulting in two lines of output.\n",
        "\n",
        "In the second print() statement, \\t is used to insert a tab character after \"Name:\". This aligns the text that follows (in this case, \"John\") in a visually pleasing way by creating consistent indentation.\n",
        "\n",
        "These escape characters provide a way to control the formatting and layout of text within strings, allowing for more organized and visually appealing output."
      ],
      "metadata": {
        "id": "7gsiH80N2Bd9"
      }
    },
    {
      "cell_type": "markdown",
      "source": [
        "**3. What is the way to include backslash characters in a string?**"
      ],
      "metadata": {
        "id": "9N5r1Xzl2Q6S"
      }
    },
    {
      "cell_type": "markdown",
      "source": [
        "Ans-To include a backslash character (\\) in a string, you need to use the escape character \\\\. The double backslash \\\\ represents a literal backslash in a string."
      ],
      "metadata": {
        "id": "c327ai5d2VnZ"
      }
    },
    {
      "cell_type": "code",
      "source": [
        "#Here's an example that demonstrates how to include a backslash in a string:\n",
        "my_string = \"This is a backslash: \\\\\"\n",
        "print(my_string)\n"
      ],
      "metadata": {
        "colab": {
          "base_uri": "https://localhost:8080/"
        },
        "id": "56UF-ffW1_b4",
        "outputId": "df8bfa51-7152-4f77-a7fe-7ea4d12c2eef"
      },
      "execution_count": 3,
      "outputs": [
        {
          "output_type": "stream",
          "name": "stdout",
          "text": [
            "This is a backslash: \\\n"
          ]
        }
      ]
    },
    {
      "cell_type": "markdown",
      "source": [
        "In the above example, the string \"This is a backslash: \\\\\" contains the escape sequence \\\\, which represents a single backslash character. When the string is printed, the output includes a backslash.\n",
        "\n",
        "By using \\\\, you can include a literal backslash within a string without it being interpreted as an escape character."
      ],
      "metadata": {
        "id": "1SHJDRW-2fZE"
      }
    },
    {
      "cell_type": "markdown",
      "source": [
        "**4. The string &quot;Howl&#39;s Moving Castle&quot; is a correct value. Why isn&#39;t the single quote character in the\n",
        "word Howl&#39;s not escaped a problem?**"
      ],
      "metadata": {
        "id": "ltj18dXK2jXx"
      }
    },
    {
      "cell_type": "markdown",
      "source": [
        "Ans-In Python, the presence of a single quote character (') within a string does not necessarily cause a problem that requires escaping. The string \"Howl's Moving Castle\" is a correct value, and the single quote character within the word \"Howl's\" does not require escaping.\n",
        "\n",
        "In Python, you can use either single quotes (') or double quotes (\") to define a string. This allows flexibility when dealing with strings that contain single or double quote characters.\n",
        "\n",
        "When a string is enclosed in single quotes, like 'Howl's Moving Castle', the single quote within the string does not need to be escaped. This is because the string is defined using single quotes, so Python knows that the single quote within the string is part of the actual string value and not the end of the string itself.\n",
        "\n",
        "Similarly, if you were to define the string using double quotes, like \"Howl's Moving Castle\", the single quote within the string would still not require escaping. The double quotes indicate the boundaries of the string, and any single quotes within the string are treated as part of the string content.\n",
        "\n",
        "In both cases, Python recognizes that the single quote within the string is not intended to mark the end of the string, but rather it is a valid character within the string itself.\n",
        "\n",
        "Therefore, you do not need to escape the single quote character within the string \"Howl's Moving Castle\", and it is considered a correct and valid string value in Python."
      ],
      "metadata": {
        "id": "xxWQSQjI2poh"
      }
    },
    {
      "cell_type": "markdown",
      "source": [
        "**5. How do you write a string of newlines if you don&#39;t want to use the n character?**"
      ],
      "metadata": {
        "id": "kquBt6nq2uRd"
      }
    },
    {
      "cell_type": "markdown",
      "source": [
        "Ans-f you want to write a string of newlines without using the \\n escape sequence, you can achieve it using multi-line string literals or by concatenating multiple string literals.\n",
        "\n",
        "Here are a couple of approaches:\n",
        "\n",
        "Multi-line string literal:\n",
        "You can use triple quotes (''' or \"\"\") to define a multi-line string literal. By pressing the Enter key, you can include newlines directly in the string."
      ],
      "metadata": {
        "id": "_pt8nbEQ203l"
      }
    },
    {
      "cell_type": "code",
      "source": [
        "#example\n",
        "my_string = '''This is a string\n",
        "with multiple\n",
        "lines.'''\n",
        "print(my_string)\n"
      ],
      "metadata": {
        "colab": {
          "base_uri": "https://localhost:8080/"
        },
        "id": "mYm2GWE-2big",
        "outputId": "71d7b64e-47a7-4724-b3c4-38e0fbdfb02d"
      },
      "execution_count": 4,
      "outputs": [
        {
          "output_type": "stream",
          "name": "stdout",
          "text": [
            "This is a string\n",
            "with multiple\n",
            "lines.\n"
          ]
        }
      ]
    },
    {
      "cell_type": "markdown",
      "source": [
        "my_string = '''This is a string\n",
        "with multiple\n",
        "lines.'''\n",
        "print(my_string)\n"
      ],
      "metadata": {
        "id": "kikX0e4l2765"
      }
    },
    {
      "cell_type": "code",
      "source": [
        "#example\n",
        "my_string = \"This is a string\\n\" + \"with multiple\\n\" + \"lines.\"\n",
        "print(my_string)"
      ],
      "metadata": {
        "colab": {
          "base_uri": "https://localhost:8080/"
        },
        "id": "kMAgAGvE25LF",
        "outputId": "4cf39555-50dc-4624-c9dd-081884ccc4bc"
      },
      "execution_count": 5,
      "outputs": [
        {
          "output_type": "stream",
          "name": "stdout",
          "text": [
            "This is a string\n",
            "with multiple\n",
            "lines.\n"
          ]
        }
      ]
    },
    {
      "cell_type": "markdown",
      "source": [
        "These approaches allow you to create strings with multiple lines without relying on the \\n escape sequence explicitly. However, keep in mind that the \\n escape sequence is the standard and commonly used way to represent newlines in strings."
      ],
      "metadata": {
        "id": "Le6p29wK3C9-"
      }
    },
    {
      "cell_type": "markdown",
      "source": [
        "**6. What are the values of the given expressions?\n",
        "&#39;Hello, world!&#39;[1]\n",
        "&#39;Hello, world!&#39;[0:5]\n",
        "&#39;Hello, world!&#39;[:5]\n",
        "&#39;Hello, world!&#39;[3:]**"
      ],
      "metadata": {
        "id": "29ci10TE3UWB"
      }
    },
    {
      "cell_type": "markdown",
      "source": [
        "Ans-et's go through each expression and determine their respective values:\n",
        "\n",
        "'Hello, world!'[1]: This expression accesses the character at index 1 in the string 'Hello, world!'. In Python, indexing starts at 0, so the character at index 1 is 'e'. Therefore, the value of this expression is 'e'.\n",
        "\n",
        "'Hello, world!'[0:5]: This expression uses slicing to extract a substring from index 0 up to, but not including, index 5 from the string 'Hello, world!'. The substring includes characters at indices 0, 1, 2, 3, and 4. Therefore, the value of this expression is 'Hello'.\n",
        "\n",
        "'Hello, world!'[:5]: This expression uses slicing to extract a substring from the beginning of the string up to, but not including, index 5. The substring includes characters at indices 0, 1, 2, 3, and 4, the same as the previous expression. Therefore, the value of this expression is also 'Hello'.\n",
        "\n",
        "'Hello, world!'[3:]: This expression uses slicing to extract a substring from index 3 until the end of the string. It includes characters starting from index 3 to the last character in the string. Therefore, the value of this expression is 'lo, world!'.\n",
        "\n",
        "To summarize:\n",
        "\n",
        "'Hello, world!'[1] evaluates to 'e'.\n",
        "\n",
        "'Hello, world!'[0:5] evaluates to 'Hello'.\n",
        "\n",
        "'Hello, world!'[:5] evaluates to 'Hello'.\n",
        "\n",
        "'Hello, world!'[3:] evaluates to 'lo, world!'."
      ],
      "metadata": {
        "id": "h1REp54n3aS7"
      }
    },
    {
      "cell_type": "markdown",
      "source": [
        "**7. What are the values of the following expressions?\n",
        "&#39;Hello&#39;.upper()\n",
        "&#39;Hello&#39;.upper().isupper()\n",
        "&#39;Hello&#39;.upper().lower()**"
      ],
      "metadata": {
        "id": "88KEae5p3lHb"
      }
    },
    {
      "cell_type": "markdown",
      "source": [
        "Ans-'Hello'.upper():\n",
        "This expression calls the upper() method on the string 'Hello'. The upper() method converts all characters in the string to uppercase. Therefore, the value of this expression is 'HELLO'.\n",
        "\n",
        "'Hello'.upper().isupper():\n",
        "This expression calls the upper() method on the string 'Hello' and then immediately calls the isupper() method on the resulting uppercase string 'HELLO'. The isupper() method checks if all characters in the string are uppercase. Since all characters in 'HELLO' are indeed uppercase, the isupper() method returns True. Therefore, the value of this expression is True.\n",
        "\n",
        "'Hello'.upper().lower():\n",
        "This expression calls the upper() method on the string 'Hello' to convert it to uppercase and then immediately calls the lower() method on the resulting uppercase string 'HELLO'. The lower() method converts all characters in the string to lowercase. Therefore, the value of this expression is 'hello'.\n",
        "\n",
        "In summary:\n",
        "\n",
        "'Hello'.upper() returns 'HELLO'.\n",
        "\n",
        "'Hello'.upper().isupper() returns True.\n",
        "\n",
        "'Hello'.upper().lower() returns 'hello'.\n",
        "\n",
        "By using string methods in Python, you can perform various operations such as converting the case of characters, checking properties of the string, or manipulating the string content."
      ],
      "metadata": {
        "id": "FQr2v3tm3u7s"
      }
    },
    {
      "cell_type": "markdown",
      "source": [
        "**8. What are the values of the following expressions?\n",
        "&#39;Remember, remember, the fifth of July.&#39;.split()\n",
        "&#39;-&#39;.join(&#39;There can only one.&#39;.split())**"
      ],
      "metadata": {
        "id": "bYAQRzDV32i7"
      }
    },
    {
      "cell_type": "markdown",
      "source": [
        "Ans-'Remember, remember, the fifth of July.'.split():\n",
        "This expression uses the split() method on the string 'Remember, remember, the fifth of July.'. The split() method splits the string into a list of substrings based on whitespace (by default). Since no specific separator is provided, it uses whitespace as the separator. Therefore, the resulting list contains the individual words from the original string as separate elements. The value of this expression is ['Remember,', 'remember,', 'the', 'fifth', 'of', 'July.'].\n",
        "\n",
        "'-'.join('There can only one.'.split()):\n",
        "This expression first uses the split() method on the string 'There can only one.' to split it into a list of words. The resulting list is ['There', 'can', 'only', 'one.']. Then, the join() method is called on the separator '-', and the list of words is passed as an argument. The join() method concatenates the elements of the list, separated by the specified separator. In this case, the resulting string will join the words with a hyphen ('-') between them. The value of this expression is 'There-can-only-one.'.\n",
        "\n",
        "In summary:\n",
        "\n",
        "'Remember, remember, the fifth of July.'.split() returns ['Remember,', 'remember,', 'the', 'fifth', 'of', 'July.'].\n",
        "\n",
        "'-'.join('There can only one.'.split()) returns 'There-can-only-one.'.\n",
        "These expressions demonstrate the usage of split() and join() methods in Python to split strings into lists and join lists into strings, respectively."
      ],
      "metadata": {
        "id": "QidIqbHR3649"
      }
    },
    {
      "cell_type": "markdown",
      "source": [
        "**9. What are the methods for right-justifying, left-justifying, and centering a string?**"
      ],
      "metadata": {
        "id": "W6zOtwfm4O9S"
      }
    },
    {
      "cell_type": "markdown",
      "source": [
        "Ans-Right-justifying a string: rjust(width, fillchar)\n",
        "The rjust() method returns a right-justified version of the string by padding it with a specified fillchar (default is space) on the left side to make it a specified width. The original string is shifted to the right, and any extra space is filled with the fillchar.\n"
      ],
      "metadata": {
        "id": "-KQlEiyR4bJI"
      }
    },
    {
      "cell_type": "code",
      "source": [
        "#example\n",
        "text = 'Hello'\n",
        "justified_text = text.rjust(10)\n",
        "print(justified_text)\n"
      ],
      "metadata": {
        "colab": {
          "base_uri": "https://localhost:8080/"
        },
        "id": "bxb0hYPq3AcF",
        "outputId": "1acb2c10-5625-4525-cc70-7e101cbfc95b"
      },
      "execution_count": 6,
      "outputs": [
        {
          "output_type": "stream",
          "name": "stdout",
          "text": [
            "     Hello\n"
          ]
        }
      ]
    },
    {
      "cell_type": "markdown",
      "source": [
        "Left-justifying a string: ljust(width, fillchar)\n",
        "The ljust() method returns a left-justified version of the string by padding it with a specified fillchar (default is space) on the right side to make it a specified width. The original string remains on the left, and any extra space is filled with the fillchar."
      ],
      "metadata": {
        "id": "mVhI0WuU4jgj"
      }
    },
    {
      "cell_type": "code",
      "source": [
        "#example\n",
        "text = 'Hello'\n",
        "justified_text = text.ljust(10)\n",
        "print(justified_text)\n"
      ],
      "metadata": {
        "colab": {
          "base_uri": "https://localhost:8080/"
        },
        "id": "HmoHe6gR4gjS",
        "outputId": "deb54667-462c-4337-80f9-793eeb1aa69c"
      },
      "execution_count": 7,
      "outputs": [
        {
          "output_type": "stream",
          "name": "stdout",
          "text": [
            "Hello     \n"
          ]
        }
      ]
    },
    {
      "cell_type": "markdown",
      "source": [
        "Centering a string: center(width, fillchar)\n",
        "The center() method returns a centered version of the string by padding it with a specified fillchar (default is space) on both sides to make it a specified width. The original string is placed in the middle, and any extra space is filled with the fillchar."
      ],
      "metadata": {
        "id": "qFOgjbKG4qmZ"
      }
    },
    {
      "cell_type": "code",
      "source": [
        "#example\n",
        "text = 'Hello'\n",
        "centered_text = text.center(10)\n",
        "print(centered_text)\n",
        "\n"
      ],
      "metadata": {
        "colab": {
          "base_uri": "https://localhost:8080/"
        },
        "id": "IEidCz-G4nSZ",
        "outputId": "e85c8091-b830-487c-deb9-b236c8a41b4c"
      },
      "execution_count": 8,
      "outputs": [
        {
          "output_type": "stream",
          "name": "stdout",
          "text": [
            "  Hello   \n"
          ]
        }
      ]
    },
    {
      "cell_type": "markdown",
      "source": [
        "**10. What is the best way to remove whitespace characters from the start or end?**"
      ],
      "metadata": {
        "id": "EnR4CWFB40E2"
      }
    },
    {
      "cell_type": "markdown",
      "source": [
        "Ans-In Python, you can use the strip() method to remove whitespace characters from both the start and end of a string. The strip() method removes leading and trailing whitespace characters, including spaces, tabs, and newline characters."
      ],
      "metadata": {
        "id": "_8iLCs8C45Ck"
      }
    },
    {
      "cell_type": "code",
      "source": [
        "#example\n",
        "text = \"  Hello, world!   \"\n",
        "stripped_text = text.strip()\n",
        "print(stripped_text)\n"
      ],
      "metadata": {
        "colab": {
          "base_uri": "https://localhost:8080/"
        },
        "id": "66nt05oe4vuK",
        "outputId": "9e6bea49-1301-46c2-97a9-d4cb1602f782"
      },
      "execution_count": 9,
      "outputs": [
        {
          "output_type": "stream",
          "name": "stdout",
          "text": [
            "Hello, world!\n"
          ]
        }
      ]
    },
    {
      "cell_type": "markdown",
      "source": [
        "In the above example, the strip() method is called on the string text, which contains leading and trailing whitespace. The strip() method removes the whitespace characters, resulting in the string \"Hello, world!\".\n",
        "\n",
        "If you only want to remove whitespace characters from the start or end of a string, you can use the lstrip() method to remove leading whitespace or the rstrip() method to remove trailing whitespace, respectively."
      ],
      "metadata": {
        "id": "tRTGa59P5APi"
      }
    },
    {
      "cell_type": "code",
      "source": [
        "#example\n",
        "text = \"  Hello, world!   \"\n",
        "left_stripped_text = text.lstrip()\n",
        "right_stripped_text = text.rstrip()\n",
        "\n",
        "print(left_stripped_text)\n",
        "print(right_stripped_text)"
      ],
      "metadata": {
        "colab": {
          "base_uri": "https://localhost:8080/"
        },
        "id": "ZH_LR6cj48_S",
        "outputId": "3e4825f5-488d-4d36-d275-4e7299050565"
      },
      "execution_count": 10,
      "outputs": [
        {
          "output_type": "stream",
          "name": "stdout",
          "text": [
            "Hello, world!   \n",
            "  Hello, world!\n"
          ]
        }
      ]
    },
    {
      "cell_type": "markdown",
      "source": [
        "In the above example, lstrip() removes the leading whitespace from the string, resulting in \"Hello, world! \", while rstrip() removes the trailing whitespace, resulting in \" Hello, world!\".\n",
        "\n",
        "By using strip(), lstrip(), or rstrip(), you can easily remove whitespace characters from the start, end, or both ends of a string, depending on your specific requirements."
      ],
      "metadata": {
        "id": "q4d_U1Br5IKE"
      }
    },
    {
      "cell_type": "code",
      "source": [],
      "metadata": {
        "id": "zwJBKd2n5Ffg"
      },
      "execution_count": null,
      "outputs": []
    }
  ]
}