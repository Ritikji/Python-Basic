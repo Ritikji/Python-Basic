{
  "nbformat": 4,
  "nbformat_minor": 0,
  "metadata": {
    "colab": {
      "provenance": []
    },
    "kernelspec": {
      "name": "python3",
      "display_name": "Python 3"
    },
    "language_info": {
      "name": "python"
    }
  },
  "cells": [
    {
      "cell_type": "markdown",
      "source": [
        "**1. Create a zoo.py file first. Define the hours() function, which prints the string &#39;Open 9-5 daily&#39;.\n",
        "Then, use the interactive interpreter to import the zoo module and call its hours() function.**"
      ],
      "metadata": {
        "id": "IiBO3gwfu7ci"
      }
    },
    {
      "cell_type": "code",
      "source": [
        "import zoo\n",
        "from importlib import reload\n",
        "reload(zoo)\n",
        "\n",
        "zoo.hours()\n",
        "     \n"
      ],
      "metadata": {
        "colab": {
          "base_uri": "https://localhost:8080/"
        },
        "id": "kccn0X6-u_Ka",
        "outputId": "53b36697-92ed-46cc-d78f-3634da5242f9"
      },
      "execution_count": 9,
      "outputs": [
        {
          "output_type": "stream",
          "name": "stdout",
          "text": [
            "Open 9-5 daily\n"
          ]
        }
      ]
    },
    {
      "cell_type": "markdown",
      "source": [
        "**2. In the interactive interpreter, import the zoo module as menagerie and call its hours() function.**"
      ],
      "metadata": {
        "id": "_hB3wxhT0TZz"
      }
    },
    {
      "cell_type": "code",
      "source": [
        "import zoo as menagerie"
      ],
      "metadata": {
        "id": "wdTINSVe05TM"
      },
      "execution_count": 10,
      "outputs": []
    },
    {
      "cell_type": "code",
      "source": [
        " menagerie.hours()\n"
      ],
      "metadata": {
        "colab": {
          "base_uri": "https://localhost:8080/"
        },
        "id": "Hj0LNZ6c2Uuc",
        "outputId": "2d8ff8ba-6747-4ca1-9da3-297353430374"
      },
      "execution_count": 12,
      "outputs": [
        {
          "output_type": "stream",
          "name": "stdout",
          "text": [
            "Open 9-5 daily\n"
          ]
        }
      ]
    },
    {
      "cell_type": "markdown",
      "source": [
        "**3. Using the interpreter, explicitly import and call the hours() function from zoo.**"
      ],
      "metadata": {
        "id": "Oa_7yxB52ahT"
      }
    },
    {
      "cell_type": "code",
      "source": [
        "from zoo import hours\n"
      ],
      "metadata": {
        "id": "___vm5oM2Wak"
      },
      "execution_count": 13,
      "outputs": []
    },
    {
      "cell_type": "code",
      "source": [
        "hours"
      ],
      "metadata": {
        "colab": {
          "base_uri": "https://localhost:8080/"
        },
        "id": "i7Tpzb7X2fHc",
        "outputId": "65d487f4-e8e7-4a04-e0f7-fa447f4cc3cd"
      },
      "execution_count": 14,
      "outputs": [
        {
          "output_type": "execute_result",
          "data": {
            "text/plain": [
              "<function zoo.hours()>"
            ]
          },
          "metadata": {},
          "execution_count": 14
        }
      ]
    },
    {
      "cell_type": "markdown",
      "source": [
        "**4. Import the hours() function as info and call it.**"
      ],
      "metadata": {
        "id": "WHG-nI4M2rxk"
      }
    },
    {
      "cell_type": "code",
      "source": [
        "from zoo import hours as info"
      ],
      "metadata": {
        "id": "kCa9yvBC2hVF"
      },
      "execution_count": 15,
      "outputs": []
    },
    {
      "cell_type": "code",
      "source": [
        "info()"
      ],
      "metadata": {
        "colab": {
          "base_uri": "https://localhost:8080/"
        },
        "id": "r99e4JCN2vFs",
        "outputId": "c0112131-b82d-40f5-8139-6c4f4edde8b0"
      },
      "execution_count": 16,
      "outputs": [
        {
          "output_type": "stream",
          "name": "stdout",
          "text": [
            "Open 9-5 daily\n"
          ]
        }
      ]
    },
    {
      "cell_type": "markdown",
      "source": [
        "**5. Create a plain dictionary with the key-value pairs &#39;a&#39;: 1, &#39;b&#39;: 2, and &#39;c&#39;: 3, and print it out.**"
      ],
      "metadata": {
        "id": "h5HG1BXz2zls"
      }
    },
    {
      "cell_type": "code",
      "source": [
        "# Create the dictionary\n",
        "plain_dict = {'a': 1, 'b': 2, 'c': 3}\n",
        "\n",
        "# Print the dictionary\n",
        "print(plain_dict)\n"
      ],
      "metadata": {
        "colab": {
          "base_uri": "https://localhost:8080/"
        },
        "id": "Jwd5kPPO2wuU",
        "outputId": "248a219a-c885-4ed5-fc99-abd9f64d1b76"
      },
      "execution_count": 17,
      "outputs": [
        {
          "output_type": "stream",
          "name": "stdout",
          "text": [
            "{'a': 1, 'b': 2, 'c': 3}\n"
          ]
        }
      ]
    },
    {
      "cell_type": "markdown",
      "source": [
        "**6.Make an OrderedDict called fancy from the same pairs listed in 5 and print it. Did it print in the\n",
        "same order as plain?**"
      ],
      "metadata": {
        "id": "kFMSR5bG25Ic"
      }
    },
    {
      "cell_type": "code",
      "source": [
        "from collections import OrderedDict\n",
        "\n",
        "# Create the OrderedDict\n",
        "fancy = OrderedDict([('a', 1), ('b', 2), ('c', 3)])\n",
        "\n",
        "# Print the OrderedDict\n",
        "print(fancy)\n"
      ],
      "metadata": {
        "colab": {
          "base_uri": "https://localhost:8080/"
        },
        "id": "ksvt11Sb22Ht",
        "outputId": "07b7c03a-6406-4cba-d2ec-64799928a8f2"
      },
      "execution_count": 18,
      "outputs": [
        {
          "output_type": "stream",
          "name": "stdout",
          "text": [
            "OrderedDict([('a', 1), ('b', 2), ('c', 3)])\n"
          ]
        }
      ]
    },
    {
      "cell_type": "markdown",
      "source": [
        "**7. Make a default dictionary called dict_of_lists and pass it the argument list. Make the list\n",
        "dict_of_lists[&#39;a&#39;] and append the value &#39;something for a&#39; to it in one assignment. Print\n",
        "dict_of_lists[&#39;a&#39;].**"
      ],
      "metadata": {
        "id": "GIPFupFb3APt"
      }
    },
    {
      "cell_type": "code",
      "source": [
        "from collections import defaultdict\n",
        "\n",
        "# Create the defaultdict\n",
        "dict_of_lists = defaultdict(list)\n",
        "\n",
        "# Append the value 'something for a' to dict_of_lists['a']\n",
        "dict_of_lists['a'].append('something for a')\n",
        "\n",
        "# Print dict_of_lists['a']\n",
        "print(dict_of_lists['a'])\n",
        "\n"
      ],
      "metadata": {
        "colab": {
          "base_uri": "https://localhost:8080/"
        },
        "id": "-vGNTE-a28CV",
        "outputId": "3075066d-597b-4c94-ca98-a51d15aaa20c"
      },
      "execution_count": 19,
      "outputs": [
        {
          "output_type": "stream",
          "name": "stdout",
          "text": [
            "['something for a']\n"
          ]
        }
      ]
    },
    {
      "cell_type": "code",
      "source": [],
      "metadata": {
        "id": "c0nQ_bVD3C-t"
      },
      "execution_count": null,
      "outputs": []
    }
  ]
}