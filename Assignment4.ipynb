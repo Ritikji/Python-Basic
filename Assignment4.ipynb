{
  "nbformat": 4,
  "nbformat_minor": 0,
  "metadata": {
    "colab": {
      "provenance": []
    },
    "kernelspec": {
      "name": "python3",
      "display_name": "Python 3"
    },
    "language_info": {
      "name": "python"
    }
  },
  "cells": [
    {
      "cell_type": "markdown",
      "source": [
        "**1. What exactly is []?**"
      ],
      "metadata": {
        "id": "jRcgpSwR3GGd"
      }
    },
    {
      "cell_type": "markdown",
      "source": [
        "Ans-The symbol \"[]\" typically represents an empty list or an empty array in various programming languages, including Python, JavaScript, and others."
      ],
      "metadata": {
        "id": "MldrSlnt3JVE"
      }
    },
    {
      "cell_type": "markdown",
      "source": [
        "**2. In a list of values stored in a variable called spam, how would you assign the value &#39;hello&#39; as the\n",
        "third value? (Assume [2, 4, 6, 8, 10] are in spam.)\n",
        "Let&#39;s pretend the spam includes the list [&#39;a&#39;, &#39;b&#39;, &#39;c&#39;, &#39;d&#39;] for the next three queries.**"
      ],
      "metadata": {
        "id": "4N3Yvlr03TtM"
      }
    },
    {
      "cell_type": "markdown",
      "source": [
        "Ans-To assign the value 'hello' as the third value in the list stored in the variable spam, you can use the index notation to access and modify the list element. In Python, list indices start from 0, so the third value corresponds to index 2.\n",
        "\n",
        "After executing this code, the list spam will be updated to [2, 4, 'hello', 8, 10], where 'hello' is now the third value in the list.\n",
        "\n",
        "For the subsequent queries, let's assume that the variable spam contains the list ['a', 'b', 'c', 'd']."
      ],
      "metadata": {
        "id": "hSrcmG_O3ak0"
      }
    },
    {
      "cell_type": "code",
      "execution_count": 1,
      "metadata": {
        "id": "oG2X2mN12-1S"
      },
      "outputs": [],
      "source": [
        "spam = [2, 4, 6, 8, 10]\n",
        "spam[2] = 'hello'\n"
      ]
    },
    {
      "cell_type": "markdown",
      "source": [
        "**3. What is the value of spam[int(int(&#39;3&#39; * 2) / 11)]?**"
      ],
      "metadata": {
        "id": "Hw_IIuAg4wOd"
      }
    },
    {
      "cell_type": "markdown",
      "source": [
        "Ans-To evaluate the expression spam[int(int('3' * 2) / 11)] in Python, let's break it down step by step:\n",
        "\n",
        "'3' * 2 multiplies the string '3' by 2, resulting in the string '33'.\n",
        "int('33') converts the string '33' into the integer 33.\n",
        "33 / 11 performs integer division, resulting in the float 3.0.\n",
        "int(3.0) converts the float 3.0 into the integer 3.\n",
        "\n",
        "The value of spam[int(int('3' * 2) / 11)] would be the element at index 3 in the list spam. Assuming spam is ['a', 'b', 'c', 'd'], the value would be 'd'."
      ],
      "metadata": {
        "id": "TRKr1v857Njd"
      }
    },
    {
      "cell_type": "code",
      "source": [
        "#Now, we can substitute the expression with its evaluated value:\n",
        "spam[int(int('3' * 2) / 11)]\n",
        "spam[int(3.0)]\n",
        "spam[3]\n"
      ],
      "metadata": {
        "colab": {
          "base_uri": "https://localhost:8080/"
        },
        "id": "bkxUpKgy3gym",
        "outputId": "50a30cf4-825c-4db2-9d2c-52a4cc880729"
      },
      "execution_count": 5,
      "outputs": [
        {
          "output_type": "execute_result",
          "data": {
            "text/plain": [
              "8"
            ]
          },
          "metadata": {},
          "execution_count": 5
        }
      ]
    },
    {
      "cell_type": "markdown",
      "source": [
        "**4. What is the value of spam[-1]?**"
      ],
      "metadata": {
        "id": "pY6StPOH7rX8"
      }
    },
    {
      "cell_type": "markdown",
      "source": [
        "Ans-In Python, when using negative indices with lists, it refers to elements counting from the end of the list. Therefore, spam[-1] represents the last element in the list spam.\n",
        "\n",
        "If we assume that spam is ['a', 'b', 'c', 'd'], then spam[-1] would evaluate to 'd', as it corresponds to the last element in the list."
      ],
      "metadata": {
        "id": "OnxJ56RW73kf"
      }
    },
    {
      "cell_type": "markdown",
      "source": [
        "**5. What is the value of spam[:2]?\n",
        "Let&#39;s pretend bacon has the list [3.14, &#39;cat,&#39; 11, &#39;cat,&#39; True] for the next three questions.**"
      ],
      "metadata": {
        "id": "F-7mKMp98LOW"
      }
    },
    {
      "cell_type": "markdown",
      "source": [
        "Ans-The expression spam[:2] in Python is called slicing and it selects a portion of a list starting from the beginning up to, but not including, the index specified. In this case, spam[:2] will select the elements from index 0 up to index 2 (exclusive).\n",
        "\n",
        "If we assume that spam is ['a', 'b', 'c', 'd'], then spam[:2] will evaluate to ['a', 'b']. It includes the elements at index 0 and index 1, but excludes the element at index 2.\n",
        "\n",
        "For the subsequent questions, let's assume that the variable bacon contains the list [3.14, 'cat', 11, 'cat', True]."
      ],
      "metadata": {
        "id": "ab9H4hZ_9H59"
      }
    },
    {
      "cell_type": "markdown",
      "source": [
        "**6. What is the value of bacon.index(&#39;cat&#39;)?**"
      ],
      "metadata": {
        "id": "AJ1LG7gw9Yst"
      }
    },
    {
      "cell_type": "markdown",
      "source": [
        "Ans-The index() method in Python returns the index of the first occurrence of a specified value in a list. So, to find the value of bacon.index('cat'), we can use the index() method on the list bacon to locate the first occurrence of the string 'cat'.\n",
        "\n",
        "If we assume that bacon is [3.14, 'cat', 11, 'cat', True], then the value of bacon.index('cat') would be 1. This means that the string 'cat' is first found at index 1 in the list bacon."
      ],
      "metadata": {
        "id": "_V9W2QW99cW9"
      }
    },
    {
      "cell_type": "markdown",
      "source": [
        "**7. How does bacon.append(99) change the look of the list value in bacon?**"
      ],
      "metadata": {
        "id": "1-l7f7Fu9gxf"
      }
    },
    {
      "cell_type": "markdown",
      "source": [
        "Ans-The append() method in Python is used to add an element to the end of a list. When bacon.append(99) is called, it will modify the list bacon by adding the value 99 as a new element at the end of the list.\n",
        "\n",
        "If we assume that bacon is [3.14, 'cat', 11, 'cat', True], after executing bacon.append(99), the updated list bacon will be [3.14, 'cat', 11, 'cat', True, 99]. The value 99 is appended to the end of the list, expanding the list with the additional element."
      ],
      "metadata": {
        "id": "NXoK49ak9j0_"
      }
    },
    {
      "cell_type": "markdown",
      "source": [
        "**8. How does bacon.remove(&#39;cat&#39;) change the look of the list in bacon?**"
      ],
      "metadata": {
        "id": "gY_lH1xGBnd3"
      }
    },
    {
      "cell_type": "markdown",
      "source": [
        "Ans-The remove() method in Python is used to remove the first occurrence of a specified value from a list. When bacon.remove('cat') is called, it will modify the list bacon by removing the first occurrence of the string 'cat' from the list.\n",
        "\n",
        "If we assume that bacon is [3.14, 'cat', 11, 'cat', True], after executing bacon.remove('cat'), the updated list bacon will be [3.14, 11, 'cat', True]. The first occurrence of the string 'cat' is removed from the list, resulting in a modified list with the element removed."
      ],
      "metadata": {
        "id": "4N54qudVBpeX"
      }
    },
    {
      "cell_type": "markdown",
      "source": [
        "**9. What are the list concatenation and list replication operators?**"
      ],
      "metadata": {
        "id": "-fkWesJ3But3"
      }
    },
    {
      "cell_type": "markdown",
      "source": [
        "Ans-In Python, the list concatenation operator is the plus sign (+), and the list replication operator is the asterisk (*).\n",
        "\n",
        "List Concatenation Operator (+): The + operator is used to concatenate or combine two lists into a single list. It creates a new list that contains all the elements from both lists"
      ],
      "metadata": {
        "id": "DuYGO8pOB3D4"
      }
    },
    {
      "cell_type": "code",
      "source": [
        "#example\n",
        "list1 = [1, 2, 3]\n",
        "list2 = [4, 5, 6]\n",
        "concatenated = list1 + list2\n",
        "print(concatenated)"
      ],
      "metadata": {
        "colab": {
          "base_uri": "https://localhost:8080/"
        },
        "id": "KJIMSOEgB-6n",
        "outputId": "738e17d2-4d45-43ea-f375-349f7dc56d39"
      },
      "execution_count": 6,
      "outputs": [
        {
          "output_type": "stream",
          "name": "stdout",
          "text": [
            "[1, 2, 3, 4, 5, 6]\n"
          ]
        }
      ]
    },
    {
      "cell_type": "markdown",
      "source": [
        "List Replication Operator (*): The * operator is used to replicate a list by a specified number of times. It creates a new list by repeating the elements of the original list the specified number of times."
      ],
      "metadata": {
        "id": "7zqBZenEB9CX"
      }
    },
    {
      "cell_type": "code",
      "source": [
        "#example\n",
        "list1 = [1, 2, 3]\n",
        "replicated = list1 * 3\n",
        "print(replicated)"
      ],
      "metadata": {
        "colab": {
          "base_uri": "https://localhost:8080/"
        },
        "id": "jWVJuTP73ln_",
        "outputId": "d3e87dbf-1598-4e72-e77b-0716055210e0"
      },
      "execution_count": 7,
      "outputs": [
        {
          "output_type": "stream",
          "name": "stdout",
          "text": [
            "[1, 2, 3, 1, 2, 3, 1, 2, 3]\n"
          ]
        }
      ]
    },
    {
      "cell_type": "markdown",
      "source": [
        "**10. What is difference between the list methods append() and insert()?**"
      ],
      "metadata": {
        "id": "toSyXkc5CJUu"
      }
    },
    {
      "cell_type": "markdown",
      "source": [
        "Ans-\n",
        "The append() and insert() methods in Python are both used to add elements to a list, but they differ in how and where the elements are added:\n",
        "\n",
        "append(element): The append() method is used to add an element to the end of a list. It modifies the original list by adding the element as the last element."
      ],
      "metadata": {
        "id": "W_MGSGrDCOGP"
      }
    },
    {
      "cell_type": "code",
      "source": [
        "#example\n",
        "my_list = [1, 2, 3]\n",
        "my_list.append(4)\n",
        "print(my_list)"
      ],
      "metadata": {
        "colab": {
          "base_uri": "https://localhost:8080/"
        },
        "id": "6uvJ-bclD-BP",
        "outputId": "4287245a-b846-4f38-9604-02badaaf27d5"
      },
      "execution_count": 8,
      "outputs": [
        {
          "output_type": "stream",
          "name": "stdout",
          "text": [
            "[1, 2, 3, 4]\n"
          ]
        }
      ]
    },
    {
      "cell_type": "markdown",
      "source": [
        "insert(index, element): The insert() method is used to add an element at a specific index in a list. It modifies the original list by inserting the element at the specified position, shifting the existing elements to the right."
      ],
      "metadata": {
        "id": "CiWojeZuCV4Y"
      }
    },
    {
      "cell_type": "code",
      "source": [
        "#example\n",
        "my_list = [1, 2, 3]\n",
        "my_list.insert(1, 4)\n",
        "print(my_list)\n"
      ],
      "metadata": {
        "colab": {
          "base_uri": "https://localhost:8080/"
        },
        "id": "MpqFom7GECOx",
        "outputId": "6bad5953-1068-4862-bcce-2d6ab9d5c0b4"
      },
      "execution_count": 9,
      "outputs": [
        {
          "output_type": "stream",
          "name": "stdout",
          "text": [
            "[1, 4, 2, 3]\n"
          ]
        }
      ]
    },
    {
      "cell_type": "markdown",
      "source": [
        "**11. What are the two methods for removing items from a list?**"
      ],
      "metadata": {
        "id": "YmSpRSvlEJlw"
      }
    },
    {
      "cell_type": "markdown",
      "source": [
        "Ans-In Python, there are two commonly used methods for removing items from a list:\n",
        "\n",
        "remove(element): The remove() method is used to remove the first occurrence of a specified element from the list. It modifies the original list by removing the element."
      ],
      "metadata": {
        "id": "pdWx82XVENyy"
      }
    },
    {
      "cell_type": "code",
      "source": [
        "#example\n",
        "my_list = [1, 2, 3, 4, 3]\n",
        "my_list.remove(3)\n",
        "print(my_list)\n"
      ],
      "metadata": {
        "colab": {
          "base_uri": "https://localhost:8080/"
        },
        "id": "-JkncKlLEXgX",
        "outputId": "27fc7839-004d-42e1-92cc-7a465ad58e45"
      },
      "execution_count": 10,
      "outputs": [
        {
          "output_type": "stream",
          "name": "stdout",
          "text": [
            "[1, 2, 4, 3]\n"
          ]
        }
      ]
    },
    {
      "cell_type": "markdown",
      "source": [
        "pop(index): The pop() method is used to remove and return an element from a specific index in the list. It modifies the original list by removing the element at the specified index."
      ],
      "metadata": {
        "id": "w79JFdQSET4f"
      }
    },
    {
      "cell_type": "code",
      "source": [
        "#example\n",
        "my_list = [1, 2, 3, 4]\n",
        "removed_element = my_list.pop(2)\n",
        "print(my_list)\n",
        "print(removed_element)\n"
      ],
      "metadata": {
        "colab": {
          "base_uri": "https://localhost:8080/"
        },
        "id": "GZsyeD2CEbef",
        "outputId": "51e3fc53-a485-4510-a189-7328008fe95b"
      },
      "execution_count": 12,
      "outputs": [
        {
          "output_type": "stream",
          "name": "stdout",
          "text": [
            "[1, 2, 4]\n",
            "3\n"
          ]
        }
      ]
    },
    {
      "cell_type": "markdown",
      "source": [
        "**12. Describe how list values and string values are identical.**"
      ],
      "metadata": {
        "id": "XTFQ7dCcETw_"
      }
    },
    {
      "cell_type": "markdown",
      "source": [
        "Ans-List values and string values share some similarities and characteristics, but they are fundamentally different data types. However, there are a few ways in which they can be considered similar:\n",
        "\n",
        "Sequences: Both lists and strings are considered sequences in Python. They are ordered collections of elements, and the elements can be accessed by their indices.\n",
        "\n",
        "Indexing: Elements in both lists and strings can be accessed using indexing. Indexing starts from 0, where the first element is at index 0, the second element is at index 1, and so on.\n",
        "\n",
        "Slicing: Both lists and strings support slicing, which allows you to extract a portion of the sequence by specifying a range of indices.\n",
        "\n",
        "Iteration: You can iterate over both lists and strings using loops or other iterable operations. This allows you to access each element one by one.\n",
        "\n",
        "Mutable vs. Immutable: Lists are mutable, meaning their elements can be modified, added, or removed. On the other hand, strings are immutable, meaning their elements cannot be modified once the string is created. Instead, string operations usually result in the creation of a new string."
      ],
      "metadata": {
        "id": "MIckX6FKFZ-4"
      }
    },
    {
      "cell_type": "markdown",
      "source": [
        "**13. What&#39;s the difference between tuples and lists?**"
      ],
      "metadata": {
        "id": "yckBXuD_FZ1_"
      }
    },
    {
      "cell_type": "markdown",
      "source": [
        "Ans-Tuples and lists are both data structures in Python used to store multiple items, but they have some fundamental differences:\n",
        "\n",
        "Mutability: Lists are mutable, meaning their elements can be modified after creation. You can add, remove, or change elements within a list. On the other hand, tuples are immutable, meaning once a tuple is created, its elements cannot be modified. Tuples are fixed in size and cannot be changed.\n",
        "\n",
        "Syntax: Lists are defined using square brackets [], while tuples are defined using parentheses ().\n",
        "\n",
        "Usage: Lists are commonly used for storing and manipulating collections of related items where the order matters and where modifications are needed. Tuples, on the other hand, are often used for grouping related elements together, especially when those elements have a specific relationship or represent different aspects of a single entity. Tuples are often used to represent immutable sequences, such as coordinates, database records, or function arguments.\n",
        "\n",
        "Performance: Tuples are generally more lightweight and faster to access compared to lists. Since tuples are immutable, Python can optimize memory usage and perform certain operations more efficiently. Lists, being mutable, require additional memory allocation and may have slower performance for certain operations.\n",
        "\n",
        "Methods: Lists have a wide range of built-in methods for modification, such as append(), insert(), remove(), and more. Tuples, being immutable, have a limited set of methods mainly focused on accessing and manipulating the data, such as count() and index()."
      ],
      "metadata": {
        "id": "RrYnQenCFsaY"
      }
    },
    {
      "cell_type": "markdown",
      "source": [
        "**14. How do you type a tuple value that only contains the integer 42?**"
      ],
      "metadata": {
        "id": "jemjpnAoFwip"
      }
    },
    {
      "cell_type": "markdown",
      "source": [
        "Ans-To create a tuple value that only contains the integer 42, you can use parentheses () and separate the elements with commas. In this case, since there is only one element, you would still need to include a comma after the element to indicate that it's a tuple.\n",
        "\n",
        "he trailing comma after 42 distinguishes it as a tuple rather than just a value in parentheses. Now, my_tuple is a tuple that contains the integer value 42."
      ],
      "metadata": {
        "id": "ffvRWssUF6mI"
      }
    },
    {
      "cell_type": "code",
      "source": [
        "#Here's the code to create the tuple:\n",
        "my_tuple = (42,)\n"
      ],
      "metadata": {
        "id": "Gz5Zza7NCGBr"
      },
      "execution_count": 13,
      "outputs": []
    },
    {
      "cell_type": "markdown",
      "source": [
        "**15. How do you get a list value&#39;s tuple form? How do you get a tuple value&#39;s list form?**"
      ],
      "metadata": {
        "id": "0D37fnRJGJuo"
      }
    },
    {
      "cell_type": "markdown",
      "source": [
        "Ans-To convert a list to a tuple in Python, you can use the tuple() function. It takes an iterable (such as a list) as an argument and returns a tuple containing the elements of the iterable."
      ],
      "metadata": {
        "id": "ibaMvg5SGNzg"
      }
    },
    {
      "cell_type": "code",
      "source": [
        "#example\n",
        "my_list = [1, 2, 3, 4, 5]\n",
        "my_tuple = tuple(my_list)\n",
        "print(my_tuple)\n"
      ],
      "metadata": {
        "colab": {
          "base_uri": "https://localhost:8080/"
        },
        "id": "A768ZPT4GVNK",
        "outputId": "90894fef-b590-4c00-fb80-d3ac8dbcc5ec"
      },
      "execution_count": 15,
      "outputs": [
        {
          "output_type": "stream",
          "name": "stdout",
          "text": [
            "(1, 2, 3, 4, 5)\n"
          ]
        }
      ]
    },
    {
      "cell_type": "markdown",
      "source": [
        "To convert a tuple to a list, you can use the list() function. It takes an iterable (such as a tuple) as an argument and returns a list containing the elements of the iterable."
      ],
      "metadata": {
        "id": "5x9AfW7JGRcq"
      }
    },
    {
      "cell_type": "code",
      "source": [
        "#example\n",
        "my_tuple = (1, 2, 3, 4, 5)\n",
        "my_list = list(my_tuple)\n",
        "print(my_list)\n"
      ],
      "metadata": {
        "colab": {
          "base_uri": "https://localhost:8080/"
        },
        "id": "fILrdc6zGcrR",
        "outputId": "5cda5766-db8b-4e04-bcdb-6207a398d6bd"
      },
      "execution_count": 16,
      "outputs": [
        {
          "output_type": "stream",
          "name": "stdout",
          "text": [
            "[1, 2, 3, 4, 5]\n"
          ]
        }
      ]
    },
    {
      "cell_type": "markdown",
      "source": [
        "**16. Variables that &quot;contain&quot; list values are not necessarily lists themselves. Instead, what do they\n",
        "contain?**"
      ],
      "metadata": {
        "id": "IqvhiivLGn4A"
      }
    },
    {
      "cell_type": "markdown",
      "source": [
        "Ans-Variables that \"contain\" list values in Python do not actually contain the list itself, but rather a reference to the list object. In Python, variables are used as references or pointers to objects rather than containers of objects.\n",
        "\n",
        "When a variable is assigned a list value, it holds a reference to the memory location where the list is stored. This means that the variable refers to the list object but does not directly contain the list's elements.\n",
        "\n",
        "In this case, the variable my_list does not contain the actual list elements. Instead, it holds a reference to the memory location where the list [1, 2, 3, 4, 5] is stored. Modifying the list through the variable will affect the original list object.\n",
        "\n",
        "This behavior in Python allows multiple variables to reference the same list object. For instance:\n",
        "\n",
        "list1 = [1, 2, 3]\n",
        "\n",
        "list2 = list1\n",
        "\n",
        "In this case, both list1 and list2 reference the same list object. Any modifications made to the list through one variable will be reflected when accessed through the other variable.\n",
        "\n",
        "Understanding this reference-based behavior is important for working with mutable objects like lists in Python. It helps in grasping concepts such as aliasing, passing by reference, and avoiding unintended side effects when manipulating shared objects."
      ],
      "metadata": {
        "id": "dKoKiKNaGr2Q"
      }
    },
    {
      "cell_type": "markdown",
      "source": [
        "**17. How do you distinguish between copy.copy() and copy.deepcopy()?**"
      ],
      "metadata": {
        "id": "n_Myc-KaG9O_"
      }
    },
    {
      "cell_type": "markdown",
      "source": [
        "Ans-In Python's copy module, the functions copy() and deepcopy() are used to create copies of objects. The key difference between them lies in how they handle object references and nested objects:\n",
        "\n",
        "copy.copy(): This function creates a shallow copy of an object. A shallow copy creates a new object but keeps the references to the nested objects the same. In other words, it creates a new top-level object, but the inner objects are still shared between the original and the copy."
      ],
      "metadata": {
        "id": "58gFFZpQHBAf"
      }
    },
    {
      "cell_type": "code",
      "source": [
        "#example\n",
        "import copy\n",
        "\n",
        "original = [1, [2, 3]]\n",
        "shallow_copy = copy.copy(original)\n",
        "\n",
        "original[0] = 10\n",
        "original[1][0] = 20\n",
        "\n",
        "print(original)      # [10, [20, 3]]\n",
        "print(shallow_copy)  # [1, [20, 3]]\n"
      ],
      "metadata": {
        "colab": {
          "base_uri": "https://localhost:8080/"
        },
        "id": "uRusngyJHHW4",
        "outputId": "93c750ae-dfec-4ebb-8d2b-b6f07700d3f6"
      },
      "execution_count": 18,
      "outputs": [
        {
          "output_type": "stream",
          "name": "stdout",
          "text": [
            "[10, [20, 3]]\n",
            "[1, [20, 3]]\n"
          ]
        }
      ]
    },
    {
      "cell_type": "markdown",
      "source": [
        "copy.deepcopy(): This function creates a deep copy of an object. A deep copy creates a completely independent copy of an object and all of its nested objects. It recursively copies all the objects, so changes made to the original or the deep copy do not affect each other."
      ],
      "metadata": {
        "id": "tPgdWm8fHGe4"
      }
    },
    {
      "cell_type": "code",
      "source": [
        "#example\n",
        "import copy\n",
        "\n",
        "original = [1, [2, 3]]\n",
        "deep_copy = copy.deepcopy(original)\n",
        "\n",
        "original[0] = 10\n",
        "original[1][0] = 20\n",
        "\n",
        "print(original)     # [10, [20, 3]]\n",
        "print(deep_copy)    # [1, [2, 3]]\n"
      ],
      "metadata": {
        "colab": {
          "base_uri": "https://localhost:8080/"
        },
        "id": "-Th_EksJHOAw",
        "outputId": "4f6180ed-b34c-4714-af15-ecf70266f5ab"
      },
      "execution_count": 19,
      "outputs": [
        {
          "output_type": "stream",
          "name": "stdout",
          "text": [
            "[10, [20, 3]]\n",
            "[1, [2, 3]]\n"
          ]
        }
      ]
    },
    {
      "cell_type": "code",
      "source": [],
      "metadata": {
        "id": "ZCRQsgcgGDyi"
      },
      "execution_count": null,
      "outputs": []
    }
  ]
}