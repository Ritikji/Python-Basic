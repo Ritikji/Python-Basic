{
  "nbformat": 4,
  "nbformat_minor": 0,
  "metadata": {
    "colab": {
      "provenance": []
    },
    "kernelspec": {
      "name": "python3",
      "display_name": "Python 3"
    },
    "language_info": {
      "name": "python"
    }
  },
  "cells": [
    {
      "cell_type": "markdown",
      "source": [
        "**1. Set the variable test1 to the string &#39;This is a test of the emergency text system,&#39; and save test1 to a\n",
        "file named test.txt.**"
      ],
      "metadata": {
        "id": "cOtQsUWl8fgI"
      }
    },
    {
      "cell_type": "code",
      "execution_count": 1,
      "metadata": {
        "id": "k-MEEH3I8YTU"
      },
      "outputs": [],
      "source": [
        "test1 = 'This is a test of the emergency text system,'\n",
        "\n",
        "with open('test.txt', 'w') as file:\n",
        "    file.write(test1)\n"
      ]
    },
    {
      "cell_type": "markdown",
      "source": [
        "**2. Read the contents of the file test.txt into the variable test2. Is there a difference between test 1\n",
        "and test 2?**"
      ],
      "metadata": {
        "id": "YX6F8jxj8mmO"
      }
    },
    {
      "cell_type": "code",
      "source": [
        "with open('test.txt', 'r') as file:\n",
        "    test2 = file.read()\n",
        "if test1 == test2:\n",
        "    print(\"test1 and test2 are the same.\")\n",
        "else:\n",
        "    print(\"test1 and test2 are different.\")\n"
      ],
      "metadata": {
        "colab": {
          "base_uri": "https://localhost:8080/"
        },
        "id": "BWmcjRpO8i9f",
        "outputId": "e27a8ca0-7dbe-483d-e1af-62f5b437504a"
      },
      "execution_count": 2,
      "outputs": [
        {
          "output_type": "stream",
          "name": "stdout",
          "text": [
            "test1 and test2 are the same.\n"
          ]
        }
      ]
    },
    {
      "cell_type": "markdown",
      "source": [
        "**3. Create a CSV file called books.csv by using these lines:\n",
        "title,author,year\n",
        "The Weirdstone of Brisingamen,Alan Garner,1960\n",
        "Perdido Street Station,China Miéville,2000\n",
        "Thud!,Terry Pratchett,2005\n",
        "The Spellman Files,Lisa Lutz,2007\n",
        "Small Gods,Terry Pratchett,1992**"
      ],
      "metadata": {
        "id": "OQEwUrh_8ybm"
      }
    },
    {
      "cell_type": "code",
      "source": [
        "import csv\n",
        "\n",
        "lines = [\n",
        "    ['title', 'author', 'year'],\n",
        "    ['The Weirdstone of Brisingamen', 'Alan Garner', '1960'],\n",
        "    ['Perdido Street Station', 'China Miéville', '2000'],\n",
        "    ['Thud!', 'Terry Pratchett', '2005'],\n",
        "    ['The Spellman Files', 'Lisa Lutz', '2007'],\n",
        "    ['Small Gods', 'Terry Pratchett', '1992']\n",
        "]\n",
        "\n",
        "with open('books.csv', 'w', newline='') as file:\n",
        "    writer = csv.writer(file)\n",
        "    writer.writerows(lines)\n"
      ],
      "metadata": {
        "id": "RMZ8En1M8sDW"
      },
      "execution_count": 3,
      "outputs": []
    },
    {
      "cell_type": "markdown",
      "source": [
        "**4. Use the sqlite3 module to create a SQLite database called books.db, and a table called books with\n",
        "these fields: title (text), author (text), and year (integer).**"
      ],
      "metadata": {
        "id": "4EhwiYay86RH"
      }
    },
    {
      "cell_type": "code",
      "source": [
        "import sqlite3\n",
        "\n",
        "# Create a connection to the database\n",
        "conn = sqlite3.connect('books.db')\n",
        "\n",
        "# Create a cursor object to execute SQL commands\n",
        "cursor = conn.cursor()\n",
        "\n",
        "# Create the 'books' table\n",
        "cursor.execute('''CREATE TABLE IF NOT EXISTS books (\n",
        "                    title TEXT,\n",
        "                    author TEXT,\n",
        "                    year INTEGER\n",
        "                )''')\n",
        "\n",
        "# Commit the changes and close the connection\n",
        "conn.commit()\n",
        "conn.close()\n"
      ],
      "metadata": {
        "id": "-QXkqsFS81cP"
      },
      "execution_count": 4,
      "outputs": []
    },
    {
      "cell_type": "markdown",
      "source": [
        "**5. Read books.csv and insert its data into the book table.**"
      ],
      "metadata": {
        "id": "RWLOXh7o-upO"
      }
    },
    {
      "cell_type": "code",
      "source": [
        "import csv\n",
        "import sqlite3\n",
        "\n",
        "# Open the CSV file\n",
        "with open('books.csv', 'r') as file:\n",
        "    csv_data = csv.reader(file)\n",
        "    next(csv_data)  # Skip the header row\n",
        "\n",
        "    # Create a connection to the database\n",
        "    conn = sqlite3.connect('books.db')\n",
        "    cursor = conn.cursor()\n",
        "\n",
        "    # Insert data into the 'books' table\n",
        "    for row in csv_data:\n",
        "        cursor.execute('INSERT INTO books (title, author, year) VALUES (?, ?, ?)', row)\n",
        "\n",
        "    # Commit the changes and close the connection\n",
        "    conn.commit()\n",
        "    conn.close()\n"
      ],
      "metadata": {
        "id": "s5nQTvY-8_aX"
      },
      "execution_count": 5,
      "outputs": []
    },
    {
      "cell_type": "markdown",
      "source": [
        "**6. Select and print the title column from the book table in alphabetical order.**"
      ],
      "metadata": {
        "id": "02P3cPXu-1l2"
      }
    },
    {
      "cell_type": "code",
      "source": [
        "import sqlite3\n",
        "\n",
        "# Create a connection to the database\n",
        "conn = sqlite3.connect('books.db')\n",
        "cursor = conn.cursor()\n",
        "\n",
        "# Select and print the titles in alphabetical order\n",
        "cursor.execute(\"SELECT title FROM books ORDER BY title\")\n",
        "rows = cursor.fetchall()\n",
        "\n",
        "for row in rows:\n",
        "    print(row[0])\n",
        "\n",
        "# Close the connection\n",
        "conn.close()\n"
      ],
      "metadata": {
        "colab": {
          "base_uri": "https://localhost:8080/"
        },
        "id": "DED1qb6h-yZl",
        "outputId": "e590eb01-6350-40c2-b64e-9b4c20e31d17"
      },
      "execution_count": 6,
      "outputs": [
        {
          "output_type": "stream",
          "name": "stdout",
          "text": [
            "Perdido Street Station\n",
            "Small Gods\n",
            "The Spellman Files\n",
            "The Weirdstone of Brisingamen\n",
            "Thud!\n"
          ]
        }
      ]
    },
    {
      "cell_type": "markdown",
      "source": [
        "**7. From the book table, select and print all columns in the order of publication.**"
      ],
      "metadata": {
        "id": "18yWO8Md-8jY"
      }
    },
    {
      "cell_type": "code",
      "source": [
        "import sqlite3\n",
        "\n",
        "# Create a connection to the database\n",
        "conn = sqlite3.connect('books.db')\n",
        "cursor = conn.cursor()\n",
        "\n",
        "# Select and print all columns in the order of publication\n",
        "cursor.execute(\"SELECT * FROM books ORDER BY year\")\n",
        "rows = cursor.fetchall()\n",
        "\n",
        "for row in rows:\n",
        "    print(row)\n",
        "\n",
        "# Close the connection\n",
        "conn.close()\n"
      ],
      "metadata": {
        "colab": {
          "base_uri": "https://localhost:8080/"
        },
        "id": "rbkh_fBJ-4kO",
        "outputId": "55cb05cd-bfc3-4f8e-d488-7cd6b562cf3a"
      },
      "execution_count": 7,
      "outputs": [
        {
          "output_type": "stream",
          "name": "stdout",
          "text": [
            "('The Weirdstone of Brisingamen', 'Alan Garner', 1960)\n",
            "('Small Gods', 'Terry Pratchett', 1992)\n",
            "('Perdido Street Station', 'China Miéville', 2000)\n",
            "('Thud!', 'Terry Pratchett', 2005)\n",
            "('The Spellman Files', 'Lisa Lutz', 2007)\n"
          ]
        }
      ]
    },
    {
      "cell_type": "markdown",
      "source": [
        "**8. Use the sqlalchemy module to connect to the sqlite3 database books.db that you just made in\n",
        "exercise 6.**"
      ],
      "metadata": {
        "id": "Py7UE1J5_Ehn"
      }
    },
    {
      "cell_type": "code",
      "source": [
        "from sqlalchemy import create_engine\n",
        "\n",
        "# Connect to the database\n",
        "engine = create_engine('sqlite:///books.db')\n",
        "\n",
        "# Test the connection\n",
        "try:\n",
        "    connection = engine.connect()\n",
        "    print(\"Connection successful!\")\n",
        "    connection.close()\n",
        "except Exception as e:\n",
        "    print(f\"Connection failed: {e}\")\n"
      ],
      "metadata": {
        "colab": {
          "base_uri": "https://localhost:8080/"
        },
        "id": "BRDNhRVI-_BX",
        "outputId": "bdbf60bf-919e-4600-c44f-1a60c3c2924f"
      },
      "execution_count": 8,
      "outputs": [
        {
          "output_type": "stream",
          "name": "stdout",
          "text": [
            "Connection successful!\n"
          ]
        }
      ]
    },
    {
      "cell_type": "code",
      "source": [],
      "metadata": {
        "id": "3yJYQJSsAT0X"
      },
      "execution_count": null,
      "outputs": []
    }
  ]
}