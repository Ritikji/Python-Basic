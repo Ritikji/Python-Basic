{
  "nbformat": 4,
  "nbformat_minor": 0,
  "metadata": {
    "colab": {
      "provenance": []
    },
    "kernelspec": {
      "name": "python3",
      "display_name": "Python 3"
    },
    "language_info": {
      "name": "python"
    }
  },
  "cells": [
    {
      "cell_type": "markdown",
      "source": [
        "**1.What are the two values of the Boolean data type? How do you write them?**"
      ],
      "metadata": {
        "id": "UijJr3pKWxY4"
      }
    },
    {
      "cell_type": "markdown",
      "source": [
        "Ans-The Boolean data type represents two values: True and False. In Python, these values are written exactly as shown, with the capitalization of the first letter.\n",
        "\n",
        "Here's a breakdown of the two Boolean values:\n",
        "\n",
        "True: It represents the logical value of true. It is used to indicate that a condition or statement is true. It is written as True.\n",
        "\n",
        "False: It represents the logical value of false. It is used to indicate that a condition or statement is false. It is written as False.\n",
        "\n",
        "Boolean values are fundamental in programming as they are used to control program flow, make logical decisions, and perform comparisons."
      ],
      "metadata": {
        "id": "J9-VDQn9W5TM"
      }
    },
    {
      "cell_type": "markdown",
      "source": [
        "**2. What are the three different types of Boolean operators?**"
      ],
      "metadata": {
        "id": "WrDDr0atW_YN"
      }
    },
    {
      "cell_type": "markdown",
      "source": [
        "Ans-The three different types of Boolean operators are:\n",
        "\n",
        "**AND Operator (and):**\n",
        "The AND operator takes two Boolean operands and returns True if both operands are True, and False otherwise. It is denoted by the keyword and. Here's the truth table for the AND operator:\n",
        "\n",
        "**OR Operator (or):**\n",
        "The OR operator takes two Boolean operands and returns True if at least one of the operands is True, and False if both operands are False. It is denoted by the keyword or. Here's the truth table for the OR operator:\n",
        "\n",
        "**NOT Operator (not):**\n",
        "The NOT operator takes a single Boolean operand and returns the opposite Boolean value. If the operand is True, it returns False, and if the operand is False, it returns True. It is denoted by the keyword not. Here's the truth table for the NOT operator:"
      ],
      "metadata": {
        "id": "rxDJrE9zXApW"
      }
    },
    {
      "cell_type": "markdown",
      "source": [
        "**3. Make a list of each Boolean operator&#39;s truth tables (i.e. every possible combination of Boolean\n",
        "values for the operator and what it evaluate ).**"
      ],
      "metadata": {
        "id": "oKwD8UXiXbVh"
      }
    },
    {
      "cell_type": "code",
      "execution_count": 2,
      "metadata": {
        "colab": {
          "base_uri": "https://localhost:8080/"
        },
        "id": "4sNKlC3BWO6j",
        "outputId": "16756cfe-f0af-44b9-a942-e31ce1826d14"
      },
      "outputs": [
        {
          "output_type": "stream",
          "name": "stdout",
          "text": [
            "True\n",
            "False\n",
            "False\n",
            "False\n"
          ]
        }
      ],
      "source": [
        "#AND Operator (and):\n",
        "print(True and True)   # True\n",
        "print(True and False)  # False\n",
        "print(False and True)  # False\n",
        "print(False and False) # False\n"
      ]
    },
    {
      "cell_type": "code",
      "source": [
        "#OR Operator (or):\n",
        "print(True or True)    # True\n",
        "print(True or False)   # True\n",
        "print(False or True)   # True\n",
        "print(False or False)  # False\n"
      ],
      "metadata": {
        "colab": {
          "base_uri": "https://localhost:8080/"
        },
        "id": "uY5RlQzjX1HI",
        "outputId": "e2353f79-cf42-4192-d21c-f81ba1a0954a"
      },
      "execution_count": 3,
      "outputs": [
        {
          "output_type": "stream",
          "name": "stdout",
          "text": [
            "True\n",
            "True\n",
            "True\n",
            "False\n"
          ]
        }
      ]
    },
    {
      "cell_type": "code",
      "source": [
        "#NOT Operator (not):\n",
        "print(not True)   # False\n",
        "print(not False)  # True\n"
      ],
      "metadata": {
        "colab": {
          "base_uri": "https://localhost:8080/"
        },
        "id": "zMVy_-GzYVKg",
        "outputId": "05bfa346-3362-4ce4-a79e-d9d4ba2a8d98"
      },
      "execution_count": 4,
      "outputs": [
        {
          "output_type": "stream",
          "name": "stdout",
          "text": [
            "False\n",
            "True\n"
          ]
        }
      ]
    },
    {
      "cell_type": "markdown",
      "source": [
        "**4. What are the values of the following expressions?\n",
        "(5 &gt; 4) and (3 == 5)\n",
        "not (5 &gt; 4)\n",
        "(5 &gt; 4) or (3 == 5)\n",
        "not ((5 &gt; 4) or (3 == 5))\n",
        "(True and True) and (True == False)\n",
        "(not False) or (not True)**"
      ],
      "metadata": {
        "id": "iQ4Eb-itYiHc"
      }
    },
    {
      "cell_type": "code",
      "source": [
        "print((5 > 4) and (3 == 5))                 # False\n",
        "print(not (5 > 4))                          # False\n",
        "print((5 > 4) or (3 == 5))                  # True\n",
        "print(not ((5 > 4) or (3 == 5)))            # False\n",
        "print((True and True) and (True == False))  # False\n",
        "print((not False) or (not True))            # True\n"
      ],
      "metadata": {
        "colab": {
          "base_uri": "https://localhost:8080/"
        },
        "id": "R1X7gsMqYawr",
        "outputId": "a3e5a9f9-7da7-445c-812b-fb105362d515"
      },
      "execution_count": 5,
      "outputs": [
        {
          "output_type": "stream",
          "name": "stdout",
          "text": [
            "False\n",
            "False\n",
            "True\n",
            "False\n",
            "False\n",
            "True\n"
          ]
        }
      ]
    },
    {
      "cell_type": "markdown",
      "source": [
        "**5. What are the six comparison operators?**"
      ],
      "metadata": {
        "id": "6-EXt2RFZJcR"
      }
    },
    {
      "cell_type": "markdown",
      "source": [
        "The six comparison operators in Python are:\n",
        "\n",
        "Equal to (==):\n",
        "Checks if the values of two operands are equal.\n",
        "\n",
        "Not equal to (!=):\n",
        "Checks if the values of two operands are not equal.\n",
        "\n",
        "Greater than (>):\n",
        "Checks if the value of the left operand is greater than the value of the right operand.\n",
        "\n",
        "Less than (<):\n",
        "Checks if the value of the left operand is less than the value of the right operand.\n",
        "\n",
        "Greater than or equal to (>=):\n",
        "Checks if the value of the left operand is greater than or equal to the value of the right operand.\n",
        "\n",
        "Less than or equal to (<=):\n",
        "Checks if the value of the left operand is less than or equal to the value of the right operand."
      ],
      "metadata": {
        "id": "9wCF36roZOGg"
      }
    },
    {
      "cell_type": "markdown",
      "source": [
        "**6. How do you tell the difference between the equal to and assignment operators?Describe a\n",
        "condition and when you would use one.**"
      ],
      "metadata": {
        "id": "K2Srm6NWZTGn"
      }
    },
    {
      "cell_type": "markdown",
      "source": [
        "Ans-n Python, the equal to operator (==) and the assignment operator (=) serve different purposes and can be distinguished based on their usage and context.\n",
        "\n",
        "Equal To Operator (==):\n",
        "The equal to operator (==) is a comparison operator used to check if the values on the left and right sides are equal. It returns True if the values are equal and False otherwise. The equal to operator is typically used in conditional statements or expressions to evaluate a condition. \n",
        "\n",
        "Assignment Operator (=):\n",
        "The assignment operator (=) is used to assign a value to a variable. It takes the value on the right side and assigns it to the variable on the left side. \n",
        "\n",
        "\n",
        "To differentiate between the equal to operator and the assignment operator, consider the context in which they are used. If you are comparing two values for equality, you should use the equal to operator (==). On the other hand, if you are assigning a value to a variable, you should use the assignment operator (=).\n"
      ],
      "metadata": {
        "id": "ikMoHsmKZb3q"
      }
    },
    {
      "cell_type": "markdown",
      "source": [
        "**7. Identify the three blocks in this code:\n",
        "spam = 0\n",
        "if spam == 10:\n",
        "print(&#39;eggs&#39;)\n",
        "if spam &gt; 5:\n",
        "print(&#39;bacon&#39;)\n",
        "else:\n",
        "print(&#39;ham&#39;)\n",
        "print(&#39;spam&#39;)\n",
        "print(&#39;spam&#39;)**"
      ],
      "metadata": {
        "id": "w2utI2QHZvxG"
      }
    },
    {
      "cell_type": "code",
      "source": [
        "spam = 0\n",
        "if spam == 10:\n",
        "    print('eggs')\n",
        "\n",
        "if spam > 5:\n",
        "    print('bacon')\n",
        "else:\n",
        "    print('ham')\n",
        "\n",
        "print('spam')\n",
        "print('spam')\n",
        "\n",
        "\n"
      ],
      "metadata": {
        "colab": {
          "base_uri": "https://localhost:8080/"
        },
        "id": "Hf3VB6w8ZDUA",
        "outputId": "08c59107-0893-4675-e388-bb69567e8792"
      },
      "execution_count": 7,
      "outputs": [
        {
          "output_type": "stream",
          "name": "stdout",
          "text": [
            "ham\n",
            "spam\n",
            "spam\n"
          ]
        }
      ]
    },
    {
      "cell_type": "markdown",
      "source": [
        "**8. Write code that prints Hello if 1 is stored in spam, prints Howdy if 2 is stored in spam, and prints\n",
        "Greetings! if anything else is stored in spam.**"
      ],
      "metadata": {
        "id": "0xo65bqCaWCc"
      }
    },
    {
      "cell_type": "code",
      "source": [
        "spam =  1\n",
        "if spam == 1:\n",
        "    print(\"Hello\")\n",
        "elif spam == 2:\n",
        "    print(\"Howdy\")\n",
        "else:\n",
        "    print(\"Greetings!\")\n"
      ],
      "metadata": {
        "colab": {
          "base_uri": "https://localhost:8080/"
        },
        "id": "UqYP64DDaF1G",
        "outputId": "f7760b03-bf49-42b2-a522-c980730038b3"
      },
      "execution_count": 12,
      "outputs": [
        {
          "output_type": "stream",
          "name": "stdout",
          "text": [
            "Hello\n"
          ]
        }
      ]
    },
    {
      "cell_type": "code",
      "source": [
        "spam =  2\n",
        "if spam == 1:\n",
        "    print(\"Hello\")\n",
        "elif spam == 2:\n",
        "    print(\"Howdy\")\n",
        "else:\n",
        "    print(\"Greetings!\")"
      ],
      "metadata": {
        "colab": {
          "base_uri": "https://localhost:8080/"
        },
        "id": "b7YGmYFEadOY",
        "outputId": "b588f5a2-0b55-48b1-c2a9-fecd81db7624"
      },
      "execution_count": 13,
      "outputs": [
        {
          "output_type": "stream",
          "name": "stdout",
          "text": [
            "Howdy\n"
          ]
        }
      ]
    },
    {
      "cell_type": "markdown",
      "source": [
        "**9.If your programme is stuck in an endless loop, what keys you’ll press?**"
      ],
      "metadata": {
        "id": "QHclgmqubBb8"
      }
    },
    {
      "cell_type": "markdown",
      "source": [
        "Ans-If your program is stuck in an endless loop and you want to interrupt its execution, you can typically press the following key combination based on your operating system:\n",
        "\n",
        "Windows/Linux: Press Ctrl + C.\n",
        "macOS: Press Command + . (Command key and period key together).\n",
        "These key combinations are commonly used to send an interrupt signal to the running program, forcing it to terminate and exit the loop. By pressing these keys, you can regain control and stop the program from running indefinitely.\n",
        "\n",
        "It's worth noting that in some cases, particularly with certain types of loops or program behavior, the interrupt signal may not work immediately. In such cases, you may need to forcefully terminate the program through other means, such as closing the terminal or using task manager/force quit options available in your operating system"
      ],
      "metadata": {
        "id": "oKTQw5LNbK0i"
      }
    },
    {
      "cell_type": "markdown",
      "source": [
        "**10. How can you tell the difference between break and continue?**"
      ],
      "metadata": {
        "id": "GzROcGrmbQiP"
      }
    },
    {
      "cell_type": "markdown",
      "source": [
        "Ans-In Python, break and continue are two keywords used in loop control flow. Here's how you can tell the difference between them:\n",
        "\n",
        "**break statement:**\n",
        "\n",
        "When the break statement is encountered within a loop (such as a for or while loop), it immediately terminates the loop and continues execution at the next statement after the loop.\n",
        "It is used to exit the loop prematurely based on a certain condition, without completing the remaining iterations.\n",
        "Once the break statement is executed, the control flow moves outside the loop, and the loop is effectively terminated.\n",
        "Typically, break is used to exit a loop when a specific condition is met.\n",
        "\n",
        "\n",
        "**continue statement:**\n",
        "\n",
        "When the continue statement is encountered within a loop, it immediately skips the rest of the code inside the loop for the current iteration and moves to the next iteration.\n",
        "It is used to skip certain iterations based on a certain condition but does not terminate the loop entirely.\n",
        "Once the continue statement is executed, the control flow moves to the beginning of the loop for the next iteration, skipping any remaining code in the current iteration.\n",
        "Typically, continue is used to skip specific iterations that do not meet certain conditions, while allowing the loop to continue executing."
      ],
      "metadata": {
        "id": "0Oe9y7q5bWZr"
      }
    },
    {
      "cell_type": "markdown",
      "source": [
        "**11. In a for loop, what is the difference between range(10), range(0, 10), and range(0, 10, 1)?**"
      ],
      "metadata": {
        "id": "GJyglThsbzsH"
      }
    },
    {
      "cell_type": "markdown",
      "source": [
        "Ans-n a for loop, the range() function is commonly used to generate a sequence of numbers that the loop will iterate over. The range() function can be used in different ways to specify the start, end, and step size of the sequence. Here's the difference between range(10), range(0, 10), and range(0, 10, 1):\n",
        "\n",
        "range(10):\n",
        "\n",
        "This form of the range() function generates a sequence of numbers starting from 0 (default start value) and ending at 10 (exclusive) with a step size of 1 (default step size).\n",
        "The sequence generated will be: 0, 1, 2, 3, 4, 5, 6, 7, 8, 9.\n",
        "The start value is not explicitly specified, so it defaults to 0, while the step size is also not explicitly specified and defaults to 1.\n",
        "range(0, 10):\n",
        "\n",
        "This form of the range() function specifies the start value as 0 and the end value as 10 (exclusive) with a step size of 1 (default step size).\n",
        "The sequence generated will be the same as range(10): 0, 1, 2, 3, 4, 5, 6, 7, 8, 9.\n",
        "By explicitly specifying the start value as 0, it provides clarity and can be useful in cases where a non-zero start value is desired.\n",
        "range(0, 10, 1):\n",
        "\n",
        "This form of the range() function specifies the start value as 0, the end value as 10 (exclusive), and the step size as 1.\n",
        "The sequence generated will be the same as range(10) and range(0, 10): 0, 1, 2, 3, 4, 5, 6, 7, 8, 9.\n",
        "By explicitly specifying the step size as 1, it provides clarity and can be useful in cases where a different step size is desired, such as range(0, 10, 2) to generate even numbers."
      ],
      "metadata": {
        "id": "KJEseWEzb5uq"
      }
    },
    {
      "cell_type": "markdown",
      "source": [
        "**12. Write a short program that prints the numbers 1 to 10 using a for loop. Then write an equivalent\n",
        "program that prints the numbers 1 to 10 using a while loop.**"
      ],
      "metadata": {
        "id": "fn9NETx-b_yk"
      }
    },
    {
      "cell_type": "code",
      "source": [
        "for i in range(1, 11):\n",
        "    print(i)\n",
        "    "
      ],
      "metadata": {
        "colab": {
          "base_uri": "https://localhost:8080/"
        },
        "id": "NahbX2mLa8bg",
        "outputId": "6a906930-d44c-479a-b498-251b3bc2eabe"
      },
      "execution_count": 15,
      "outputs": [
        {
          "output_type": "stream",
          "name": "stdout",
          "text": [
            "1\n",
            "2\n",
            "3\n",
            "4\n",
            "5\n",
            "6\n",
            "7\n",
            "8\n",
            "9\n",
            "10\n"
          ]
        }
      ]
    },
    {
      "cell_type": "code",
      "source": [
        "i = 1\n",
        "while i <= 10:\n",
        "    print(i)\n",
        "    i += 1"
      ],
      "metadata": {
        "colab": {
          "base_uri": "https://localhost:8080/"
        },
        "id": "MTQyN5m0cMkr",
        "outputId": "79b77480-a843-48e7-b3b1-300b4f93cae0"
      },
      "execution_count": 16,
      "outputs": [
        {
          "output_type": "stream",
          "name": "stdout",
          "text": [
            "1\n",
            "2\n",
            "3\n",
            "4\n",
            "5\n",
            "6\n",
            "7\n",
            "8\n",
            "9\n",
            "10\n"
          ]
        }
      ]
    },
    {
      "cell_type": "markdown",
      "source": [
        "**13. If you had a function named bacon() inside a module named spam, how would you call it after\n",
        "importing spam?**"
      ],
      "metadata": {
        "id": "nVxzvC66cbOq"
      }
    },
    {
      "cell_type": "markdown",
      "source": [
        "Ans-import spam\n",
        "\n",
        "spam.bacon()"
      ],
      "metadata": {
        "id": "gYfyRLoQcpWC"
      }
    },
    {
      "cell_type": "code",
      "source": [],
      "metadata": {
        "id": "-kVJTjiyclCD"
      },
      "execution_count": null,
      "outputs": []
    }
  ]
}