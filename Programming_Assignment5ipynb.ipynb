{
  "nbformat": 4,
  "nbformat_minor": 0,
  "metadata": {
    "colab": {
      "provenance": []
    },
    "kernelspec": {
      "name": "python3",
      "display_name": "Python 3"
    },
    "language_info": {
      "name": "python"
    }
  },
  "cells": [
    {
      "cell_type": "markdown",
      "source": [
        "**1. Write a Python Program to Find LCM?**"
      ],
      "metadata": {
        "id": "VOuPx9QFVdk3"
      }
    },
    {
      "cell_type": "code",
      "execution_count": 1,
      "metadata": {
        "colab": {
          "base_uri": "https://localhost:8080/"
        },
        "id": "LC_wI9OBVZbR",
        "outputId": "8bb1e9c1-0e46-4e8f-b1f2-560a71680265"
      },
      "outputs": [
        {
          "output_type": "stream",
          "name": "stdout",
          "text": [
            "Enter first number: 12\n",
            "Enter second number: 24\n",
            "The LCM of 12 and 24 is 24\n"
          ]
        }
      ],
      "source": [
        "def find_lcm(a, b):\n",
        "    # Find the greater number\n",
        "    if a > b:\n",
        "        greater = a\n",
        "    else:\n",
        "        greater = b\n",
        "\n",
        "    while True:\n",
        "        if greater % a == 0 and greater % b == 0:\n",
        "            lcm = greater\n",
        "            break\n",
        "        greater += 1\n",
        "\n",
        "    return lcm\n",
        "\n",
        "# Take input from the user\n",
        "num1 = int(input(\"Enter first number: \"))\n",
        "num2 = int(input(\"Enter second number: \"))\n",
        "\n",
        "# Find the LCM\n",
        "lcm = find_lcm(num1, num2)\n",
        "\n",
        "# Print the LCM\n",
        "print(\"The LCM of\", num1, \"and\", num2, \"is\", lcm)\n"
      ]
    },
    {
      "cell_type": "markdown",
      "source": [
        "**2. Write a Python Program to Find HCF?**"
      ],
      "metadata": {
        "id": "c-vMZQX0Vo7v"
      }
    },
    {
      "cell_type": "code",
      "source": [
        "def find_hcf(a, b):\n",
        "    while b != 0:\n",
        "        a, b = b, a % b\n",
        "\n",
        "    return a\n",
        "\n",
        "# Take input from the user\n",
        "num1 = int(input(\"Enter first number: \"))\n",
        "num2 = int(input(\"Enter second number: \"))\n",
        "\n",
        "# Find the HCF\n",
        "hcf = find_hcf(num1, num2)\n",
        "\n",
        "# Print the HCF\n",
        "print(\"The HCF of\", num1, \"and\", num2, \"is\", hcf)\n"
      ],
      "metadata": {
        "colab": {
          "base_uri": "https://localhost:8080/"
        },
        "id": "a1LWln7UVhvf",
        "outputId": "f5b50b4d-30c4-4936-faac-0fd306e00658"
      },
      "execution_count": 2,
      "outputs": [
        {
          "output_type": "stream",
          "name": "stdout",
          "text": [
            "Enter first number: 24\n",
            "Enter second number: 32\n",
            "The HCF of 24 and 32 is 8\n"
          ]
        }
      ]
    },
    {
      "cell_type": "markdown",
      "source": [
        "**3. Write a Python Program to Convert Decimal to Binary, Octal and Hexadecimal?**"
      ],
      "metadata": {
        "id": "2k_WeL5_VyzN"
      }
    },
    {
      "cell_type": "code",
      "source": [
        "def decimal_to_binary(decimal):\n",
        "    return bin(decimal).replace(\"0b\", \"\")\n",
        "\n",
        "def decimal_to_octal(decimal):\n",
        "    return oct(decimal).replace(\"0o\", \"\")\n",
        "\n",
        "def decimal_to_hexadecimal(decimal):\n",
        "    return hex(decimal).replace(\"0x\", \"\")\n",
        "\n",
        "# Take input from the user\n",
        "decimal = int(input(\"Enter a decimal number: \"))\n",
        "\n",
        "# Convert to binary, octal, and hexadecimal\n",
        "binary = decimal_to_binary(decimal)\n",
        "octal = decimal_to_octal(decimal)\n",
        "hexadecimal = decimal_to_hexadecimal(decimal)\n",
        "\n",
        "# Print the results\n",
        "print(\"Binary: \" + binary)\n",
        "print(\"Octal: \" + octal)\n",
        "print(\"Hexadecimal: \" + hexadecimal)\n"
      ],
      "metadata": {
        "colab": {
          "base_uri": "https://localhost:8080/"
        },
        "id": "1TGMR9onVtBW",
        "outputId": "02500764-687d-4773-8075-ff53733b7621"
      },
      "execution_count": 4,
      "outputs": [
        {
          "output_type": "stream",
          "name": "stdout",
          "text": [
            "Enter a decimal number: 10\n",
            "Binary: 1010\n",
            "Octal: 12\n",
            "Hexadecimal: a\n"
          ]
        }
      ]
    },
    {
      "cell_type": "markdown",
      "source": [
        "**4. Write a Python Program To Find ASCII value of a character?**"
      ],
      "metadata": {
        "id": "y0Lrao0MWSbe"
      }
    },
    {
      "cell_type": "code",
      "source": [
        "# Take input from the user\n",
        "character = input(\"Enter a character: \")\n",
        "\n",
        "# Find the ASCII value\n",
        "ascii_value = ord(character)\n",
        "\n",
        "# Print the ASCII value\n",
        "print(\"The ASCII value of\", character, \"is\", ascii_value)\n"
      ],
      "metadata": {
        "colab": {
          "base_uri": "https://localhost:8080/"
        },
        "id": "z7sk2fomV9eW",
        "outputId": "3b5fb436-43b0-4d1c-b2d4-8bf20c6ae894"
      },
      "execution_count": 10,
      "outputs": [
        {
          "output_type": "stream",
          "name": "stdout",
          "text": [
            "Enter a character: r\n",
            "The ASCII value of r is 114\n"
          ]
        }
      ]
    },
    {
      "cell_type": "markdown",
      "source": [
        "**5. Write a Python Program to Make a Simple Calculator with 4 basic mathematical operations?**"
      ],
      "metadata": {
        "id": "zGDbQaLSWmrO"
      }
    },
    {
      "cell_type": "code",
      "source": [
        "def add(a, b):\n",
        "    return a + b\n",
        "\n",
        "def subtract(a, b):\n",
        "    return a - b\n",
        "\n",
        "def multiply(a, b):\n",
        "    return a * b\n",
        "\n",
        "def divide(a, b):\n",
        "    if b != 0:\n",
        "        return a / b\n",
        "    else:\n",
        "        return \"Error: Division by zero!\"\n",
        "\n",
        "# Take input from the user\n",
        "num1 = float(input(\"Enter the first number: \"))\n",
        "operator = input(\"Enter the operator (+, -, *, /): \")\n",
        "num2 = float(input(\"Enter the second number: \"))\n",
        "\n",
        "# Perform the calculation based on the operator\n",
        "result = 0\n",
        "\n",
        "if operator == \"+\":\n",
        "    result = add(num1, num2)\n",
        "elif operator == \"-\":\n",
        "    result = subtract(num1, num2)\n",
        "elif operator == \"*\":\n",
        "    result = multiply(num1, num2)\n",
        "elif operator == \"/\":\n",
        "    result = divide(num1, num2)\n",
        "else:\n",
        "    print(\"Error: Invalid operator!\")\n",
        "\n",
        "# Print the result\n",
        "print(\"Result:\", result)\n"
      ],
      "metadata": {
        "colab": {
          "base_uri": "https://localhost:8080/"
        },
        "id": "kuMMunlOWVTW",
        "outputId": "24d154c6-4e8f-4d4a-aa28-0265f7d6a1e8"
      },
      "execution_count": 9,
      "outputs": [
        {
          "output_type": "stream",
          "name": "stdout",
          "text": [
            "Enter the first number: 23\n",
            "Enter the operator (+, -, *, /): +\n",
            "Enter the second number: 6\n",
            "Result: 29.0\n"
          ]
        }
      ]
    },
    {
      "cell_type": "code",
      "source": [],
      "metadata": {
        "id": "3dqqxo0SWrYO"
      },
      "execution_count": null,
      "outputs": []
    }
  ]
}