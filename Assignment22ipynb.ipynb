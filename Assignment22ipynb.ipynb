{
  "nbformat": 4,
  "nbformat_minor": 0,
  "metadata": {
    "colab": {
      "provenance": []
    },
    "kernelspec": {
      "name": "python3",
      "display_name": "Python 3"
    },
    "language_info": {
      "name": "python"
    }
  },
  "cells": [
    {
      "cell_type": "markdown",
      "source": [
        "**1. What is the result of the code, and explain?\n",
        "\n",
        "&gt;&gt;&gt; X = &#39;iNeuron&#39;\n",
        "&gt;&gt;&gt; def func():\n",
        "print(X)\n",
        "\n",
        "&gt;&gt;&gt; func()**"
      ],
      "metadata": {
        "id": "onT12nHndFzT"
      }
    },
    {
      "cell_type": "code",
      "source": [
        "X='iNeuron'\n",
        "def func():\n",
        "  print(X)"
      ],
      "metadata": {
        "id": "I07k4chwdNy7"
      },
      "execution_count": 1,
      "outputs": []
    },
    {
      "cell_type": "code",
      "source": [
        "func()"
      ],
      "metadata": {
        "colab": {
          "base_uri": "https://localhost:8080/"
        },
        "id": "thkFE1NDdXrp",
        "outputId": "e3368348-e36b-40f8-fb58-9edb191d151f"
      },
      "execution_count": 2,
      "outputs": [
        {
          "output_type": "stream",
          "name": "stdout",
          "text": [
            "iNeuron\n"
          ]
        }
      ]
    },
    {
      "cell_type": "markdown",
      "source": [
        "Explanation:\n",
        "\n",
        "In the code, we first assign the string \"iNeuron\" to the variable X. Then, we define a function called func(). Inside the function, we print the value of the variable X.\n",
        "\n",
        "When we call the function func() using func(), it executes the function body and prints the value of X, which is \"iNeuron\". Since X is defined outside the function, it is accessible within the function's scope.\n",
        "\n",
        "Therefore, when the function is called, it prints the value of X, resulting in the output \"iNeuron\"."
      ],
      "metadata": {
        "id": "mR2heMPdde5x"
      }
    },
    {
      "cell_type": "markdown",
      "source": [
        "**2. What is the result of the code, and explain?\n",
        "\n",
        "&gt;&gt;&gt; X = &#39;iNeuron&#39;\n",
        "&gt;&gt;&gt; def func():\n",
        "X = &#39;NI!&#39;\n",
        "\n",
        "&gt;&gt;&gt; func()\n",
        "&gt;&gt;&gt; print(X)**"
      ],
      "metadata": {
        "id": "hS71gMRpdjqZ"
      }
    },
    {
      "cell_type": "code",
      "source": [
        "X='iNeuron'\n",
        "def func():\n",
        "  X = 'NI!'  "
      ],
      "metadata": {
        "id": "6Xlsfw8qdbcp"
      },
      "execution_count": 5,
      "outputs": []
    },
    {
      "cell_type": "code",
      "source": [
        "func()\n",
        "print(X)"
      ],
      "metadata": {
        "colab": {
          "base_uri": "https://localhost:8080/"
        },
        "id": "TfyB647QeH4K",
        "outputId": "e519f78a-102f-4a65-e0bd-4b506e41cfaa"
      },
      "execution_count": 6,
      "outputs": [
        {
          "output_type": "stream",
          "name": "stdout",
          "text": [
            "iNeuron\n"
          ]
        }
      ]
    },
    {
      "cell_type": "markdown",
      "source": [
        "Explanation:\n",
        "\n",
        "In the code, we first assign the string \"iNeuron\" to the variable X. Then, we define a function called func(). Inside the function, a new local variable X is defined and assigned the string value \"NI!\".\n",
        "\n",
        "When we call the function func() using func(), it executes the function body and assigns the value \"NI!\" to the local variable X within the function's scope. However, this local variable X is separate and independent from the global variable X defined outside the function.\n",
        "\n",
        "After the function call, we then print the value of the global variable X using print(X). Since the global variable X was not modified within the function, its value remains unchanged as \"iNeuron\". Therefore, the output will be \"iNeuron\"."
      ],
      "metadata": {
        "id": "NNNveIUJeWvR"
      }
    },
    {
      "cell_type": "markdown",
      "source": [
        "**3. What does this code print, and why?\n",
        "\n",
        "&gt;&gt;&gt; X = &#39;iNeuron&#39;\n",
        "&gt;&gt;&gt; def func():\n",
        "X = &#39;NI&#39;\n",
        "print(X)\n",
        "\n",
        "&gt;&gt;&gt; func()\n",
        "&gt;&gt;&gt; print(X)**"
      ],
      "metadata": {
        "id": "pBKHcKTXeaK5"
      }
    },
    {
      "cell_type": "code",
      "source": [
        "X='iNeuron'\n",
        "def func():\n",
        "  X = 'NI!' \n",
        "  print(X)"
      ],
      "metadata": {
        "id": "dQ-JZ2_-eTfq"
      },
      "execution_count": 7,
      "outputs": []
    },
    {
      "cell_type": "code",
      "source": [
        "func()\n",
        "print(X)"
      ],
      "metadata": {
        "colab": {
          "base_uri": "https://localhost:8080/"
        },
        "id": "O802WU6Oef6R",
        "outputId": "a505ae75-1af5-4afa-ebff-031cbe4f5ae4"
      },
      "execution_count": 8,
      "outputs": [
        {
          "output_type": "stream",
          "name": "stdout",
          "text": [
            "NI!\n",
            "iNeuron\n"
          ]
        }
      ]
    },
    {
      "cell_type": "markdown",
      "source": [
        "Explanation:\n",
        "\n",
        "In the code, we first assign the string \"iNeuron\" to the variable X. Then, we define a function called func(). Inside the function, a new local variable X is defined and assigned the string value \"NI\".\n",
        "\n",
        "When we call the function func() using func(), it executes the function body. Within the function, the local variable X is accessed and its value, \"NI\", is printed using print(X).\n",
        "\n",
        "After the function call, we then print the value of the global variable X using print(X). Since the local variable X within the function func() does not affect the global variable X, the value of the global variable remains unchanged as \"iNeuron\". Therefore, the output will be \"NI\" followed by \"iNeuron\"."
      ],
      "metadata": {
        "id": "8dONiMB-eky5"
      }
    },
    {
      "cell_type": "markdown",
      "source": [
        "**4. What output does this code produce? Why?\n",
        "\n",
        "&gt;&gt;&gt; X = &#39;iNeuron&#39;\n",
        "&gt;&gt;&gt; def func():\n",
        "global X\n",
        "X = &#39;NI&#39;\n",
        "\n",
        "&gt;&gt;&gt; func()\n",
        "&gt;&gt;&gt; print(X)**"
      ],
      "metadata": {
        "id": "Nre5af4oeowp"
      }
    },
    {
      "cell_type": "code",
      "source": [
        "X='iNeuron'\n",
        "def func():\n",
        " global X\n",
        " X = 'NI'"
      ],
      "metadata": {
        "id": "DalLfrEyehy5"
      },
      "execution_count": 9,
      "outputs": []
    },
    {
      "cell_type": "code",
      "source": [
        "func()\n",
        "print(X)"
      ],
      "metadata": {
        "colab": {
          "base_uri": "https://localhost:8080/"
        },
        "id": "Uub6TpXTe0VB",
        "outputId": "d9d6af84-eb37-4894-d5aa-4ba6e41135a0"
      },
      "execution_count": 10,
      "outputs": [
        {
          "output_type": "stream",
          "name": "stdout",
          "text": [
            "NI\n"
          ]
        }
      ]
    },
    {
      "cell_type": "markdown",
      "source": [
        "Explanation:\n",
        "\n",
        "In the code, we first assign the string \"iNeuron\" to the variable X. Then, we define a function called func(). Inside the function, we use the global keyword to declare that we want to access the global variable X.\n",
        "\n",
        "When we call the function func() using func(), it executes the function body. Inside the function, the global statement allows us to modify the global variable X. So, we assign the value \"NI\" to the global variable X within the function.\n",
        "\n",
        "After the function call, we then print the value of the global variable X using print(X). Since the global variable X was modified within the function, its value has changed to \"NI\". Therefore, the output will be \"NI\"."
      ],
      "metadata": {
        "id": "H5deCKV3e43p"
      }
    },
    {
      "cell_type": "markdown",
      "source": [
        "**5. What about this code—what’s the output, and why?**\n",
        "\n",
        "&gt;&gt;&gt; X = &#39;iNeuron&#39;\n",
        "&gt;&gt;&gt; def func():\n",
        "X = &#39;NI&#39;\n",
        "def nested():\n",
        "print(X)\n",
        "nested()\n",
        "\n",
        "&gt;&gt;&gt; func()\n",
        "&gt;&gt;&gt; X"
      ],
      "metadata": {
        "id": "djL3Uf77fnai"
      }
    },
    {
      "cell_type": "code",
      "source": [
        "X='iNeuron'\n",
        "def func():\n",
        "  X = 'NI'\n",
        "  def nested(): \n",
        "    print(X)\n",
        "    nested()\n"
      ],
      "metadata": {
        "id": "IGvV9TFYe2ky"
      },
      "execution_count": 11,
      "outputs": []
    },
    {
      "cell_type": "code",
      "source": [
        "func()\n",
        "X"
      ],
      "metadata": {
        "colab": {
          "base_uri": "https://localhost:8080/",
          "height": 36
        },
        "id": "LX6l1cGXgAUa",
        "outputId": "70a9f4f5-a153-4605-f2ea-b1a87848177f"
      },
      "execution_count": 12,
      "outputs": [
        {
          "output_type": "execute_result",
          "data": {
            "text/plain": [
              "'iNeuron'"
            ],
            "application/vnd.google.colaboratory.intrinsic+json": {
              "type": "string"
            }
          },
          "metadata": {},
          "execution_count": 12
        }
      ]
    },
    {
      "cell_type": "markdown",
      "source": [
        "Explanation:\n",
        "\n",
        "In the code, we first assign the string \"iNeuron\" to the variable X. Then, we define a function called func(). Inside the func() function, we define another nested function called nested().\n",
        "\n",
        "Within the nested() function, we use the print(X) statement to print the value of X. Since X is not defined locally within the nested() function, Python will look for a variable named X in the nearest enclosing scope, which is the func() function.\n",
        "\n",
        "After defining the nested() function, we call it within the func() function using nested().\n",
        "\n",
        "When we call the func() function using func(), it executes the function body. The nested() function is invoked within func(), and the value of X is printed from the nested() function. Since X is not defined locally within the nested() function, it looks for X in the func() function and finds the value \"NI\".\n",
        "\n",
        "Finally, when we print X after calling func(), it prints the value of the global variable X, which remains unchanged as \"iNeuron\". Therefore, the output will be \"iNeuron\"."
      ],
      "metadata": {
        "id": "WKDz78bBgHni"
      }
    },
    {
      "cell_type": "markdown",
      "source": [
        "**6. How about this code: what is its output in Python 3, and explain?**\n",
        "\n",
        "&gt;&gt;&gt; def func():\n",
        "X = &#39;NI&#39;\n",
        "def nested():\n",
        "nonlocal X\n",
        "X = &#39;Spam&#39;\n",
        "nested()\n",
        "print(X)\n",
        "\n",
        "&gt;&gt;&gt; func()"
      ],
      "metadata": {
        "id": "qvkj18O0gLvN"
      }
    },
    {
      "cell_type": "code",
      "source": [
        "def func():\n",
        "  X = 'NI'\n",
        "  def nested():\n",
        "    nonlocal X\n",
        "    X = 'Spam'\n",
        "    nested()\n",
        "    print(X)"
      ],
      "metadata": {
        "id": "80Gf27vlgE86"
      },
      "execution_count": 13,
      "outputs": []
    },
    {
      "cell_type": "code",
      "source": [
        "func()"
      ],
      "metadata": {
        "id": "Ksyjf6xhgUoy"
      },
      "execution_count": 14,
      "outputs": []
    },
    {
      "cell_type": "markdown",
      "source": [
        "Explanation:\n",
        "\n",
        "In the code, we define a function called func(). Inside the func() function, we define another nested function called nested().\n",
        "\n",
        "Within the nested() function, we use the nonlocal keyword to indicate that the variable X is nonlocal, meaning it is defined in an enclosing scope. In this case, the enclosing scope is the func() function.\n",
        "\n",
        "After declaring nonlocal X, we assign the value \"Spam\" to X within the nested() function.\n",
        "\n",
        "When we call the func() function using func(), it executes the function body. The nested() function is invoked within func(), and the value of X is modified to \"Spam\" within the nested() function using the nonlocal keyword.\n",
        "\n",
        "Finally, we print the value of X within the func() function using print(X). Since X is modified in the nested() function using nonlocal, the value of X is now \"Spam\". Therefore, the output will be \"Spam\"."
      ],
      "metadata": {
        "id": "GaByS2pGgjD8"
      }
    },
    {
      "cell_type": "code",
      "source": [],
      "metadata": {
        "id": "-enGw2TGgaOa"
      },
      "execution_count": null,
      "outputs": []
    }
  ]
}